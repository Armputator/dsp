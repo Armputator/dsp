{
 "cells": [
  {
   "cell_type": "code",
   "execution_count": 18,
   "metadata": {},
   "outputs": [],
   "source": [
    "import os, sys\n",
    "\n",
    "module_path = os.path.abspath(os.path.join('..')) # append directory one level up to import path\n",
    "if module_path not in sys.path:  # ... if it hasn't been appended already\n",
    "    sys.path.append(module_path)\n",
    "\n",
    "import dsp_fpga_lib as dsp # import and set plot properties\n",
    "import dsp_fpga_fix_lib as fx\n",
    "\n",
    "import numpy as np\n",
    "import numpy.random as rnd\n",
    "from numpy import (pi, log10, exp, sqrt, sin, cos, tan, angle, arange,\n",
    "                    linspace, array, zeros, ones)\n",
    "from numpy.fft import fft, ifft, fftshift, ifftshift, fftfreq\n",
    "# %matplotlib widget gibt interaktive plots, funktioniert aber nicht immer\n",
    "%matplotlib widget\n",
    "# %matplotlib inline\n",
    "import matplotlib.pyplot as plt\n",
    "import matplotlib.gridspec as gridspec\n",
    "#print(plt.style.available)\n",
    "#plt.style.use('seaborn-poster') # sucht in stylelib Directories\n",
    "#plt.style.use('../presentation.mplstyle') # sucht im Pfad\n",
    "figsize = {\"figsize\":(12,8)}\n",
    "\n",
    "from IPython.core.display import Image\n",
    "from IPython.core.display import display_html"
   ]
  },
  {
   "cell_type": "markdown",
   "metadata": {},
   "source": [
    "<!-- example for static HTML image embedded in MarkDown\n",
    "![Menschen und Python](http://imgs.xkcd.com/comics/reassuring.png) \n",
    "MarkDown allows no alignment and scaling, but HTML/CSS does:\n",
    "\n",
    "<p style=\"text-align:center; font-weight:bold\">\n",
    "<img src=\"http://imgs.xkcd.com/comics/reassuring.png\" />\n",
    "<br />Python macht glücklich ...\n",
    "</p>\n",
    " -->\n",
    "\n",
    "\n",
    "# Spektrale Fehlerformung\n",
    "Wie in den vorigen Kapiteln gezeigt wurde, kann man den nicht-linearen Prozess der (Re-)Quantisierung beschreiben durch Addition des Quantisierungsfehlers $\\epsilon(t)$ bzw. $\\epsilon[n]$ (für zeitdiskrete Signale) zum Signal. Wenn der Quantisierungsfehler bestimmte Bedingungen erfüllt (stationärer Prozess mit unkorrelierten Werten), ist eine einfache lineare Beschreibung im Frequenzbereich möglich, da das Spektrum von $\\epsilon[n]$ dann weiß ist.\n",
    "\n",
    "<img src=\"./Linearized_Quantizer_2.png\" width=\"600\">\n",
    "\n",
    "## Zeitdiskrete Systeme\n",
    "Aufgrund der Multiplikationen mit den Koeffizienten nimmt die Wortlänge in digitalen Filtern immer zu. Bei rekursiven Filtern muss daher die Wortlänge reduziert (= requantisiert) werden bevor die Werte des rekursiven Pfads mit den Eingangswerten kombiniert werden."
   ]
  },
  {
   "cell_type": "code",
   "execution_count": 19,
   "metadata": {},
   "outputs": [
    {
     "output_type": "display_data",
     "data": {
      "text/plain": "Canvas(toolbar=Toolbar(toolitems=[('Home', 'Reset original view', 'home', 'home'), ('Back', 'Back to previous …",
      "application/vnd.jupyter.widget-view+json": {
       "version_major": 2,
       "version_minor": 0,
       "model_id": "dd437868e9104880bdda2614b0c25692"
      }
     },
     "metadata": {}
    },
    {
     "output_type": "stream",
     "name": "stdout",
     "text": [
      "Number of overflows =  0\n"
     ]
    }
   ],
   "source": [
    "NFFT = 2048; x = np.linspace(0,6*pi,NFFT);  a = 0.5*sin(2*x)\n",
    "#q_obj = (1,2,'round','sat') # try 'floor' ; 'wrap'\n",
    "q_obj = {'WI':0, 'WF': 5,                 # number of ingeger and fractional bits\n",
    "          'quant':'floor', 'ovfl': 'wrap'} # quantization and overflow behaviour\n",
    "Q = fx.Fixed(q_obj)                      # instance of fixpoint class Fixed()\n",
    "\n",
    "aq = Q.fixp(a)\n",
    "fig1=plt.figure(figsize=(FigSize[0]*2,FigSize[1])); fig1.clf()\n",
    "ax1 = fig1.add_subplot(2,2,1); ax1.plot(x,aq)\n",
    "print('Number of overflows = ', Q.N_over) \n",
    "ax1.plot(x, a, 'r', label = r'$a(x)$'); ax1.grid(True)\n",
    "ax1.step(x, aq, where = 'post', label = r'$a_Q(x)$')\n",
    "ax1.plot(x, a-aq, label = r'$a(x) - a_Q(x)$')\n",
    "ax1.legend(fontsize = 14); ax1.set_xlabel(r'$x \\rightarrow$')\n",
    "ax2 = fig1.add_subplot(2,2,2)\n",
    "A = np.fft.fft(a)/NFFT; f = np.fft.fftfreq(NFFT, 1e-3)\n",
    "AQ = np.fft.fft(aq)/NFFT\n",
    "ax2.plot(f[0:NFFT//2 - 1],20*log10(2*abs(A[0:NFFT//2-1])), label = r'$A(f)$'); ax2.grid(True)\n",
    "ax2.plot(f[0:NFFT//2 - 1],20*log10(2*abs(AQ[0:NFFT//2-1])), label = r'$A_Q(f)$')\n",
    "ax2.legend(fontsize = 14); ax2.set_xlabel(r'$f \\rightarrow$')\n",
    "ax2.set_ylim(-100,10);"
   ]
  },
  {
   "cell_type": "markdown",
   "metadata": {},
   "source": [
    "## Sigma-Delta ADCs\n",
    "$\\Sigma \\Delta$ ADCs enthalten sehr grobe Quantisierer (oft nur 1 Bit!), erzielen aber durch Noise Shaping *effective number of bits* (ENOB) von bis zu 24 Bits. In diesem Kapitel wird gezeigt, dass bei Systemen mit Überabtastung der Quantisierer verbessert werden kann, indem man Rauschen aus dem Nutzband zu höheren Frequenzen schiebt (\"*noise shaping*\" oder \"*error spectral shaping*\"). Dies wird erreicht, indem man das quantisierte Signal vom Eingangssignal subtrahiert (\"Delta\") und den Quantisierungsfehler aufsummiert (\"Sigma\"). Der Fehler wird abgetastet und grob quantisiert (im Bild mit einem Bit). Eine \"1\" dass der Fehler Das folgende Bild zeigt das Grundprinzip:\n",
    "\n",
    "<p style=\"text-align:center; font-weight:bold\">\n",
    "<img src=\"adc_sigma_delta_a.png\" align='center' width='70%'/>\n",
    "<br />CT-Sigma-Delta ADC erster Ordnung\n",
    "</p>\n",
    "\n",
    "Indem man den Integrator über der Summierer \"schiebt\", erhält man eine einfachere Struktur, allerdings muss der Addierer jetzt eine höhere Bandbreite haben. Außerdem wurden Sampler und Quantizer vertauscht, da so der Quantizer eine ganze Periode Zeit für seine \"Entscheidung\" hat:\n",
    "\n",
    "<p style=\"text-align:center; font-weight:bold\">\n",
    "<img src=\"adc_sigma_delta_b.png\" align='center' width='70%'/>\n",
    "<br />CT-Sigma-Delta ADC erster Ordnung\n",
    "</p>\n",
    "\n",
    "Modulatoren dieser Art kann man auch mit höherer Ordnung bauen wie im folgenden Bild gezeigt:\n",
    "\n",
    "<p style=\"text-align:center; font-weight:bold\">\n",
    "<img src=\"https://upload.wikimedia.org/wikipedia/commons/thumb/e/e6/DeltaSigma2.svg/500px-DeltaSigma2.svg.png\" align='center' width='70%'/>\n",
    "<br />CT-Sigma-Delta ADC erster Ordnung\n",
    "</p>\n"
   ]
  },
  {
   "cell_type": "code",
   "execution_count": null,
   "metadata": {},
   "outputs": [],
   "source": []
  },
  {
   "cell_type": "markdown",
   "metadata": {},
   "source": [
    "<p style=\"text-align:center; font-weight:bold\">\n",
    "<img src=\"http://upload.wikimedia.org/wikipedia/commons/f/f9/Fig._1b.svg\" />\n",
    "<br />Sigma-Delta Modulator erster Ordnung [wikipedia.org]\n",
    "</p>"
   ]
  }
 ],
 "metadata": {
  "anaconda-cloud": {},
  "kernelspec": {
   "name": "python3",
   "display_name": "Python 3.9.5 64-bit ('3.9.5': pyenv)"
  },
  "language_info": {
   "codemirror_mode": {
    "name": "ipython",
    "version": 3
   },
   "file_extension": ".py",
   "mimetype": "text/x-python",
   "name": "python",
   "nbconvert_exporter": "python",
   "pygments_lexer": "ipython3",
   "version": "3.9.5"
  },
  "interpreter": {
   "hash": "330492ed84b64a7b2c12c1995f02814f8d70b6c1ba6b5663211c01bb7949415b"
  }
 },
 "nbformat": 4,
 "nbformat_minor": 1
}