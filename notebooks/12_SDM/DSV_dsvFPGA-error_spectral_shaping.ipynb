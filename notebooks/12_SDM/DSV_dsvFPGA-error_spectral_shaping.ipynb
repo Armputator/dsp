{
 "cells": [
  {
   "cell_type": "code",
   "execution_count": 2,
   "metadata": {},
   "outputs": [
    {
     "name": "stdout",
     "output_type": "stream",
     "text": [
      "Populating the interactive namespace from numpy and matplotlib\n"
     ]
    },
    {
     "ename": "SyntaxError",
     "evalue": "Missing parentheses in call to 'print' (my_dsp_lib_v2.py, line 349)",
     "output_type": "error",
     "traceback": [
      "Traceback \u001b[1;36m(most recent call last)\u001b[0m:\n",
      "  File \u001b[0;32m\"D:\\Programme\\Anaconda3\\lib\\site-packages\\IPython\\core\\interactiveshell.py\"\u001b[0m, line \u001b[0;32m2961\u001b[0m, in \u001b[0;35mrun_code\u001b[0m\n    exec(code_obj, self.user_global_ns, self.user_ns)\n",
      "\u001b[1;36m  File \u001b[1;32m\"<ipython-input-2-b61fac6448d8>\"\u001b[1;36m, line \u001b[1;32m5\u001b[1;36m, in \u001b[1;35m<module>\u001b[1;36m\u001b[0m\n\u001b[1;33m    import my_dsp_lib_v2 as dsp\u001b[0m\n",
      "\u001b[1;36m  File \u001b[1;32m\"D:\\Daten\\HM\\python\\Jupyter\\IPy_Notebooks\\dsvFPGA\\my_dsp_lib_v2.py\"\u001b[1;36m, line \u001b[1;32m349\u001b[0m\n\u001b[1;33m    print 'z', i, z[i], num_z[i]\u001b[0m\n\u001b[1;37m            ^\u001b[0m\n\u001b[1;31mSyntaxError\u001b[0m\u001b[1;31m:\u001b[0m Missing parentheses in call to 'print'\n"
     ]
    }
   ],
   "source": [
    "%pylab inline\n",
    "from __future__ import print_function, division\n",
    "from IPython.core.display import Image\n",
    "from IPython.core.display import display_html\n",
    "import my_dsp_lib_v2 as dsp\n",
    "#imgpath = '/user_home/w_Chipmuenk/DSV/' # Wakari operation\n",
    "imgpath = 'D:/Daten/HM/dsvFPGA/python/IPy_Notebooks/dsvFPGA/' # local operation\n",
    "FigSize = (7,7) # size of figures in inches"
   ]
  },
  {
   "cell_type": "markdown",
   "metadata": {},
   "source": [
    "<!-- example for static HTML image embedded in MarkDown\n",
    "![Menschen und Python](http://imgs.xkcd.com/comics/reassuring.png) \n",
    "MarkDown allows no alignment and scaling, but HTML/CSS does: -->\n",
    "\n",
    "<p style=\"text-align:center; font-weight:bold\">\n",
    "<img src=\"http://imgs.xkcd.com/comics/reassuring.png\" />\n",
    "<br />Python macht glücklich ...\n",
    "</p>\n",
    "\n",
    "\n",
    "\n",
    "# Spektrale Fehlerformung\n",
    "Wie in den vorigen Kapiteln gezeigt wurde, kann man den nicht-linearen Prozess der (Re-)Quantisierung beschreiben durch Addition des Quantisierungsfehlers $\\epsilon(t)$ bzw. $\\epsilon[n]$ (für zeitdiskrete Signale) zum Signal. Wenn der Quantisierungsfehler bestimmte Bedingungen erfüllt (stationärer Prozess mit unkorrelierten Werten), ist eine einfache lineare Beschreibung im Frequenzbereich möglich, da das Spektrum von $\\epsilon[n]$ dann weiß ist.\n",
    "\n",
    "In diesem Kapitel soll gezeigt werden, dass bei Systemen mit Überabtastung der Quantisierer verbessert werden kann, indem man Rauschen aus dem Nutzband zu höheren Frequenzen schiebt (\"*noise shaping*\" oder \"*error spectral shaping*\"). Dies wird erreicht durch Rückkoppeln und Filtern des Quantisierungsfehlers.\n",
    "\n",
    "<img src=\"./Linearized_Quantizer_2.png\" width=\"600\">\n",
    "\n",
    "## Zeitdiskrete Systeme\n",
    "Aufgrund der Multiplikationen mit den Koeffizienten nimmt die Wortlänge in digitalen Filtern immer zu. Bei rekursiven Filtern muss daher die Wortlänge reduziert (= requantisiert) werden bevor die Werte des rekursiven Pfads mit den Eingangswerten kombiniert werden."
   ]
  },
  {
   "cell_type": "code",
   "execution_count": null,
   "metadata": {},
   "outputs": [],
   "source": [
    "NFFT = 1024; x = linspace(0,6*pi,NFFT);  a = 1.5*sin(2*x)\n",
    "q_obj = (1,2,'round','sat') # try 'floor' ; 'wrap'\n",
    "aq, N_over = dsp.fixed(q_obj, a)\n",
    "fig1=figure(figsize=(FigSize[0]*2,FigSize[1])); clf()\n",
    "ax1 = fig1.add_subplot(2,2,1); ax1.plot(x,aq)\n",
    "print('Number of overflows = ', N_over) \n",
    "ax1.plot(x, a, 'r', label = r'$a(x)$'); grid(True)\n",
    "ax1.step(x, aq, where = 'post', label = r'$a_Q(x)$')\n",
    "ax1.plot(x, a-aq, label = r'$a(x) - a_Q(x)$')\n",
    "ax1.legend(fontsize = 14); ax1.set_xlabel(r'$x \\rightarrow$')\n",
    "ax2 = fig1.add_subplot(2,2,2);\n",
    "A = fft.fft(a)/NFFT; f = fftfreq(NFFT, 1e-3)\n",
    "AQ = fft.fft(aq)/NFFT; \n",
    "ax2.plot(f[0:NFFT/2.0 - 1],20*log10(2*abs(A[0:NFFT/2.0-1])), label = r'$A(f)$'); grid(True)\n",
    "ax2.plot(f[0:NFFT/2.0 - 1],20*log10(2*abs(AQ[0:NFFT/2.0-1])), label = r'$A_Q(f)$')\n",
    "ax2.legend(fontsize = 14); ax2.set_xlabel(r'$f \\rightarrow$')\n",
    "ax2.set_ylim(-100,10)"
   ]
  },
  {
   "cell_type": "code",
   "execution_count": null,
   "metadata": {},
   "outputs": [],
   "source": [
    "x = linspace(0,2*pi,100)\n",
    "a = sin(2*x)\n",
    "q_obj = (0,2,'round','sat')\n",
    "aq, N_over = dsp.fixed(q_obj, a)\n",
    "plt.plot(x,aq)\n",
    "print 'Number of overflows = ', N_over \n",
    "clf()\n",
    "plot (x,aq, x, a-aq); grid(True)\n",
    "legend(('Q<a>', 'a - Q<a>'))"
   ]
  },
  {
   "cell_type": "markdown",
   "metadata": {},
   "source": [
    "## Sigma-Delta ADCs\n",
    "$\\Sigma \\Delta$ ADCs enthalten sehr grobe Quantisierer (oft nur 1 Bit!), erzielen aber durch Noise Shaping *effective number of bits* (ENOB) von bis zu 24 Bits.\n"
   ]
  },
  {
   "cell_type": "markdown",
   "metadata": {},
   "source": [
    "<p style=\"text-align:center; font-weight:bold\">\n",
    "<img src=\"http://upload.wikimedia.org/wikipedia/commons/f/f9/Fig._1b.svg\" />\n",
    "<br />Sigma-Delta Modulator erster Ordnung [wikipedia.org]\n",
    "</p>"
   ]
  }
 ],
 "metadata": {
  "anaconda-cloud": {},
  "kernelspec": {
   "display_name": "Python [default]",
   "language": "python",
   "name": "python3"
  },
  "language_info": {
   "codemirror_mode": {
    "name": "ipython",
    "version": 3
   },
   "file_extension": ".py",
   "mimetype": "text/x-python",
   "name": "python",
   "nbconvert_exporter": "python",
   "pygments_lexer": "ipython3",
   "version": "3.5.6"
  }
 },
 "nbformat": 4,
 "nbformat_minor": 1
}
