{
 "cells": [
  {
   "cell_type": "markdown",
   "metadata": {},
   "source": [
    "# Musterlösung zu FIX_FIR_quant_ML.py # \n",
    "\n",
    "- Plotte idealen Frequenzgang und Frequenzgang mit quant. Koeffizienten\n",
    "- Drucke quantisierte Koeffizienten und Quantisierungsfehler für Q(0.7) und Q(0.17)\n",
    "\n",
    " (c) 2016 Christian Münker - Files zur Vorlesung \"DSV auf FPGAs\""
   ]
  },
  {
   "cell_type": "code",
   "execution_count": 1,
   "metadata": {},
   "outputs": [],
   "source": [
    "from __future__ import print_function, division\n",
    "import os, sys\n",
    "import time\n",
    "module_path = os.path.abspath(os.path.join('..')) # append directory one level up to import path\n",
    "if module_path not in sys.path:  # ... if it hasn't been appended already\n",
    "    sys.path.append(module_path)\n",
    "import dsp_fpga_lib as dsp # import and set plot properties\n",
    "import dsp_fpga_fix_lib as fx\n",
    "\n",
    "import matplotlib.pyplot as plt\n",
    "%matplotlib inline\n",
    "import numpy as np\n",
    "import scipy.signal as sig\n",
    "\n",
    "plt.rcParams[\"figure.figsize\"] = [9, 6]"
   ]
  },
  {
   "cell_type": "code",
   "execution_count": 2,
   "metadata": {},
   "outputs": [
    {
     "name": "stdout",
     "output_type": "stream",
     "text": [
      "    b    |  bq(0.17)  | eps(0.17)|  bq(0.7)  | eps(0.7)  \n",
      " --------------------------------------------------------\n",
      " 0.01623 |  0.0162277 |  2.28E-06|  0.015625 |  6.05E-04\n",
      " 0.00000 |          0 |  0.00E+00|  0.000000 |  0.00E+00\n",
      "-0.06871 | -0.0687103 |  3.27E-07| -0.070312 |  1.60E-03\n",
      " 0.00000 |          0 |  0.00E+00|  0.000000 |  0.00E+00\n",
      " 0.30399 |   0.303986 |  4.40E-06|  0.296875 |  7.11E-03\n",
      " 0.50000 |        0.5 |  0.00E+00|  0.500000 |  0.00E+00\n",
      " 0.30399 |   0.303986 |  4.40E-06|  0.296875 |  7.11E-03\n",
      " 0.00000 |          0 |  0.00E+00|  0.000000 |  0.00E+00\n",
      "-0.06871 | -0.0687103 |  3.27E-07| -0.070312 |  1.60E-03\n",
      " 0.00000 |          0 |  0.00E+00|  0.000000 |  0.00E+00\n",
      " 0.01623 |  0.0162277 |  2.28E-06|  0.015625 |  6.05E-04\n",
      "\n",
      "LSB = 0.007812 (bq0.7) bzw. LSB = 7.629e-06 (bq0.17)\n"
     ]
    },
    {
     "data": {
      "image/png": "[encoded data removed]",
      "text/plain": [
       "<Figure size 432x288 with 1 Axes>"
      ]
     },
     "metadata": {
      "needs_background": "light"
     },
     "output_type": "display_data"
    }
   ],
   "source": [
    "# %load FIX_FIR_quant_ML.py\n",
    "b = [0.01623, 0, -0.06871, 0, 0.30399, 0.5, 0.30399, 0, -0.06871, 0, 0.01623]\n",
    "#\n",
    "q_obj7 = {'WI':0, 'WF': 7, 'quant':'floor', 'ovfl': 'none'}\n",
    "q_obj17 = {'WI':0, 'WF': 17, 'quant':'floor', 'ovfl': 'none'}\n",
    "#\n",
    "Q_7 = fx.Fixed(q_obj7)\n",
    "Q_17 = fx.Fixed(q_obj17)\n",
    "\n",
    "bq7  = Q_7.fixp(b)  # quantize b with 7 ...\n",
    "bq17 = Q_17.fixp(b) # ... and with 17 fractional bits\n",
    "title_str = \"    b    |  bq(0.17)  | eps(0.17)|  bq(0.7)  | eps(0.7) \"\n",
    "print(title_str, \"\\n\",\"-\"*len(title_str))\n",
    "for i in range(len(b)):\n",
    "    print(\"{0:8.5f} | {1:10.6g} | {2:9.2E}| {3:9.6f} | {4:9.2E}\".format(b[i], bq17[i],\n",
    "          b[i] - bq17[i], bq7[i], b[i] - bq7[i]))\n",
    "print(\"\\nLSB = {0:.4g} (bq0.7) bzw. LSB = {1:.4g} (bq0.17)\".format(Q_7.LSB, Q_17.LSB))\n",
    "w, H_id = sig.freqz(b) # complex ideal frequency response\n",
    "w, H_q7 = sig.freqz(bq7)# complex frequency response with quantized coefficients\n",
    "F = w / (2*np.pi) # normalized frequency\n",
    "fig = plt.figure(1)\n",
    "ax = fig.add_subplot(111)\n",
    "ax.plot(F, np.abs(H_id), label = \"ideal\")\n",
    "ax.plot(F, np.abs(H_q7), label = \"Q(0,7)\")\n",
    "ax.set_xlabel(r'$F\\,\\rightarrow$')\n",
    "ax.set_ylabel(r'$|H(F)|\\,\\rightarrow$')\n",
    "ax.legend()\n",
    "plt.show()"
   ]
  },
  {
   "cell_type": "markdown",
   "metadata": {},
   "source": [
    "***\n",
    "**Copyright**\n",
    "\n",
    "(c) 2016 - 2019 Prof. Dr. Christian Münker \n",
    "\n",
    "This jupyter notebook is part of a collection of notebooks on various topics of Digital Signal Processing. The latest version can be found at https://github.com/chipmuenk/dsp_fpga \"Digitale Signalverarbeitung auf FPGAs\"\n",
    "\n",
    "This notebook is provided as [Open Educational Resource](https://en.wikipedia.org/wiki/Open_educational_resources). Feel free to use the notebook for your own purposes. The text is licensed under [Creative Commons Attribution 4.0](https://creativecommons.org/licenses/by/4.0/), the code of the IPython examples under the [MIT license](https://opensource.org/licenses/MIT). Please attribute the work as follows: *Christian Münker, Digital Signal Processing auf FPGAs - Vorlesungsunterlagen mit Simulationsbeispielen, 2019*."
   ]
  },
  {
   "cell_type": "code",
   "execution_count": null,
   "metadata": {},
   "outputs": [],
   "source": []
  }
 ],
 "metadata": {
  "anaconda-cloud": {},
  "kernelspec": {
   "display_name": "Python 3",
   "language": "python",
   "name": "python3"
  },
  "language_info": {
   "codemirror_mode": {
    "name": "ipython",
    "version": 3
   },
   "file_extension": ".py",
   "mimetype": "text/x-python",
   "name": "python",
   "nbconvert_exporter": "python",
   "pygments_lexer": "ipython3",
   "version": "3.7.3"
  }
 },
 "nbformat": 4,
 "nbformat_minor": 2
}
