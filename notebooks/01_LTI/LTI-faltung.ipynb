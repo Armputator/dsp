{
 "cells": [
  {
   "cell_type": "markdown",
   "metadata": {},
   "source": [
    "## LTI_faltung\n",
    "\n",
    "Faltung und Darstellung von zeitdiskreten Signalen"
   ]
  },
  {
   "cell_type": "code",
   "execution_count": 2,
   "metadata": {},
   "outputs": [
    {
     "name": "stderr",
     "output_type": "stream",
     "text": [
      "D:\\Programme\\Anaconda3\\lib\\site-packages\\ipykernel_launcher.py:15: UserWarning: In Matplotlib 3.3 individual lines on a stem plot will be added as a LineCollection instead of individual lines. This significantly improves the performance of a stem plot. To remove this warning and switch to the new behaviour, set the \"use_line_collection\" keyword argument to True.\n",
      "  from ipykernel import kernelapp as app\n"
     ]
    },
    {
     "data": {
      "image/png": "[encoded data removed]",
      "text/plain": [
       "<Figure size 432x288 with 1 Axes>"
      ]
     },
     "metadata": {
      "needs_background": "light"
     },
     "output_type": "display_data"
    }
   ],
   "source": [
    "# -*- coding: utf-8 -*-\n",
    "import numpy as np\n",
    "from numpy import (pi, log10, sqrt, exp, sin, cos, tan, angle, arange,\n",
    "                    linspace, array, zeros, ones)\n",
    "\n",
    "import matplotlib.pyplot as plt\n",
    "from matplotlib.pyplot import (figure, plot, stem, grid, xlabel, ylabel,\n",
    "    subplot, title, clf, xlim, ylim)\n",
    "\n",
    "h = [0.25, 0.5, 0.25] # Impulsantwort h[n]\n",
    "x = [1, 1, 1, 1, 1] # Eingangssignal x[n]\n",
    "y = np.convolve(x, h) # Faltung\n",
    "n = arange(len(y)) # n = 0 ... len(y)-1\n",
    "figure(1)\n",
    "stem(n, y, 'r'); grid(True)\n",
    "xlabel(r'$n \\rightarrow$')\n",
    "ylabel(r'$y[n] \\rightarrow$')\n",
    "title(r'Faltung $y[n] = x[n] \\star \\{1; 1; 1; 1; 1\\}$')\n",
    "plt.show()"
   ]
  },
  {
   "cell_type": "markdown",
   "metadata": {},
   "source": [
    "***\n",
    "**Copyright**\n",
    "\n",
    "(c) 2016 - 2020 Prof. Dr. Christian Münker \n",
    "\n",
    "This jupyter notebook is part of a collection of notebooks on various topics of Digital Signal Processing. The latest version can be found at https://github.com/chipmuenk/dsp_fpga \"Digitale Signalverarbeitung auf FPGAs\"\n",
    "\n",
    "This notebook is provided as [Open Educational Resource](https://en.wikipedia.org/wiki/Open_educational_resources). Feel free to use the notebook for your own purposes. The text is licensed under [Creative Commons Attribution 4.0](https://creativecommons.org/licenses/by/4.0/), the code of the IPython examples under the [MIT license](https://opensource.org/licenses/MIT). Please attribute the work as follows: *Christian Münker, Digital Signal Processing auf FPGAs - Vorlesungsunterlagen mit Simulationsbeispielen, 2018*."
   ]
  },
  {
   "cell_type": "code",
   "execution_count": null,
   "metadata": {},
   "outputs": [],
   "source": []
  }
 ],
 "metadata": {
  "kernelspec": {
   "display_name": "Python 3",
   "language": "python",
   "name": "python3"
  },
  "language_info": {
   "codemirror_mode": {
    "name": "ipython",
    "version": 3
   },
   "file_extension": ".py",
   "mimetype": "text/x-python",
   "name": "python",
   "nbconvert_exporter": "python",
   "pygments_lexer": "ipython3",
   "version": "3.7.3"
  }
 },
 "nbformat": 4,
 "nbformat_minor": 4
}
