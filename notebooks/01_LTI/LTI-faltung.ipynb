{
 "cells": [
  {
   "cell_type": "markdown",
   "source": [
    "<a href=\"../01_LTI/_index.ipynb\">&larr; LTI-Index </a>&loz;\r\n",
    "<a href=\"../../README.md\"> &uarr; TOC &uarr; </a>\r\n",
    "<img src='../_img/icon.svg' align='right' width='10%'></img>\r\n",
    "\r\n",
    "# Faltung in Python\r\n",
    "                                                                                                                                                   \r\n",
    "Faltung und Darstellung von zeitdiskreten Signalen"
   ],
   "metadata": {}
  },
  {
   "cell_type": "code",
   "execution_count": 7,
   "source": [
    "import numpy as np\n",
    "%matplotlib inline\n",
    "import matplotlib.pyplot as plt\n",
    "figsize = {\"figsize\":(10,5)} # Plotgröße in Inch\n",
    "\n",
    "import os, sys\n",
    "module_path = os.path.abspath(os.path.join('..')) # append directory one level up to import path\n",
    "if module_path not in sys.path:  # ... if it hasn't been appended already\n",
    "    sys.path.append(module_path)\n",
    "\n",
    "import dsp_fpga_lib as dsp"
   ],
   "outputs": [],
   "metadata": {}
  },
  {
   "cell_type": "code",
   "execution_count": 8,
   "source": [
    "\n",
    "h = [0.25, 0.5, 0.25] # Impulsantwort h[n]\n",
    "x = [1, 1, 1, 1, 1] # Eingangssignal x[n]\n",
    "y = np.convolve(x, h) # Faltung\n",
    "n = np.arange(len(y)) # n = 0 ... len(y)-1\n",
    "fig,ax = plt.subplots(**figsize)\n",
    "ax.stem(n, y, 'r', use_line_collection=True); ax.grid(True)\n",
    "ax.set_xlabel(r'$n \\rightarrow$')\n",
    "ax.set_ylabel(r'$y[n] \\rightarrow$')\n",
    "ax.set_title(r'Faltung $y[n] = x[n] \\star ${0}'.format(list(h)));"
   ],
   "outputs": [
    {
     "output_type": "display_data",
     "data": {
      "image/png": "[encoded data removed]",
      "text/plain": [
       "<Figure size 720x360 with 1 Axes>"
      ]
     },
     "metadata": {
      "needs_background": "light"
     }
    }
   ],
   "metadata": {}
  },
  {
   "cell_type": "markdown",
   "source": [
    "**Aufgaben:**\n",
    "- Benutzen Sie andere Eingangssignale, z.B. aufbauend auf `k = np.arange(50); x = np.sin(k)`. \n",
    "- Ändern Sie auch die Impulsantwort des Filters, z.B. mit `np.ones()`.\n",
    "- Geht ein Hund in einen Konzertsaal ... und wird dann mit einem Blumentopf gefaltet. Hören Sie sich die [Audiobeispiele](https://cmtext.indiana.edu/synthesis/chapter4_convolution.php) an."
   ],
   "metadata": {}
  },
  {
   "cell_type": "markdown",
   "source": [
    "***\n",
    "**Copyright**\n",
    "\n",
    "(c) 2016 - 2021 Prof. Dr. Christian Münker \n",
    "\n",
    "This jupyter notebook is part of a collection of notebooks on various topics of Digital Signal Processing. The latest version can be found at https://github.com/chipmuenk/dsp.\n",
    "\n",
    "This notebook is provided as [Open Educational Resource](https://en.wikipedia.org/wiki/Open_educational_resources), feel free to use it for your own purposes. The text is licensed under [Creative Commons Attribution 4.0](https://creativecommons.org/licenses/by/4.0/), the code of the IPython examples under the [MIT license](https://opensource.org/licenses/MIT). Please attribute the work as follows: *Christian Münker, Digital Signal Processing - Vorlesungsunterlagen mit Simulationsbeispielen, 2018*."
   ],
   "metadata": {}
  },
  {
   "cell_type": "code",
   "execution_count": null,
   "source": [],
   "outputs": [],
   "metadata": {}
  }
 ],
 "metadata": {
  "kernelspec": {
   "name": "python3",
   "display_name": "Python 3.9.5 64-bit ('py39': venv)"
  },
  "language_info": {
   "codemirror_mode": {
    "name": "ipython",
    "version": 3
   },
   "file_extension": ".py",
   "mimetype": "text/x-python",
   "name": "python",
   "nbconvert_exporter": "python",
   "pygments_lexer": "ipython3",
   "version": "3.9.5"
  },
  "interpreter": {
   "hash": "b1b176d5116642099897aa55891f8307e93946101a8c1992e9b199d6ddfcdf89"
  }
 },
 "nbformat": 4,
 "nbformat_minor": 4
}