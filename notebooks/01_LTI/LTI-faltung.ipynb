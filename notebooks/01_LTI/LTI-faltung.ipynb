{
 "cells": [
  {
   "cell_type": "markdown",
   "metadata": {},
   "source": [
    "<a href=\"../01_LTI/_LTI-Index.ipynb\">&larr; LTI-Index </a>&loz;\n",
    "<a href=\"../../README.md\"> &uarr; TOC &uarr; </a>\n",
    "<img src='../_img/icon.svg' align='right' width='10%'></img>\n",
    "\n",
    "## LTI_faltung\n",
    "\n",
    "Faltung und Darstellung von zeitdiskreten Signalen"
   ]
  },
  {
   "cell_type": "code",
   "execution_count": 1,
   "metadata": {},
   "outputs": [
    {
     "data": {
      "image/png": "[encoded data removed]",
      "text/plain": [
       "<Figure size 432x288 with 1 Axes>"
      ]
     },
     "metadata": {
      "needs_background": "light"
     },
     "output_type": "display_data"
    }
   ],
   "source": [
    "import numpy as np\n",
    "%matplotlib inline\n",
    "import matplotlib.pyplot as plt\n",
    "\n",
    "h = [0.25, 0.5, 0.25] # Impulsantwort h[n]\n",
    "x = [1, 1, 1, 1, 1] # Eingangssignal x[n]\n",
    "y = np.convolve(x, h) # Faltung\n",
    "n = np.arange(len(y)) # n = 0 ... len(y)-1\n",
    "fig,ax = plt.subplots()\n",
    "ax.stem(n, y, 'r', use_line_collection=True); ax.grid(True)\n",
    "ax.set_xlabel(r'$n \\rightarrow$')\n",
    "ax.set_ylabel(r'$y[n] \\rightarrow$')\n",
    "ax.set_title(r'Faltung $y[n] = x[n] \\star ${0}'.format(list(h)));"
   ]
  },
  {
   "cell_type": "markdown",
   "metadata": {},
   "source": [
    "**Aufgaben:**\n",
    "- Benutzen Sie andere Eingangssignale, z.B. aufbauend auf `k = np.arange(50); x = np.sin(k)`. \n",
    "- Ändern Sie auch die Impulsantwort des Filters, z.B. mit `np.ones()`.\n",
    "- Hören Sie sich die Audiobeispiele unter https://cmtext.indiana.edu/synthesis/chapter4_convolution.php an."
   ]
  },
  {
   "cell_type": "markdown",
   "metadata": {},
   "source": [
    "***\n",
    "**Copyright**\n",
    "\n",
    "(c) 2016 - 2020 Prof. Dr. Christian Münker \n",
    "\n",
    "This jupyter notebook is part of a collection of notebooks on various topics of Digital Signal Processing. The latest version can be found at https://github.com/chipmuenk/dsp.\n",
    "\n",
    "This notebook is provided as [Open Educational Resource](https://en.wikipedia.org/wiki/Open_educational_resources), feel free to use it for your own purposes. The text is licensed under [Creative Commons Attribution 4.0](https://creativecommons.org/licenses/by/4.0/), the code of the IPython examples under the [MIT license](https://opensource.org/licenses/MIT). Please attribute the work as follows: *Christian Münker, Digital Signal Processing - Vorlesungsunterlagen mit Simulationsbeispielen, 2018*."
   ]
  },
  {
   "cell_type": "code",
   "execution_count": null,
   "metadata": {},
   "outputs": [],
   "source": []
  }
 ],
 "metadata": {
  "kernelspec": {
   "display_name": "Python 3",
   "language": "python",
   "name": "python3"
  },
  "language_info": {
   "codemirror_mode": {
    "name": "ipython",
    "version": 3
   },
   "file_extension": ".py",
   "mimetype": "text/x-python",
   "name": "python",
   "nbconvert_exporter": "python",
   "pygments_lexer": "ipython3",
   "version": "3.7.4"
  }
 },
 "nbformat": 4,
 "nbformat_minor": 4
}
