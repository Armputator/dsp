{
 "cells": [
  {
   "cell_type": "markdown",
   "source": [
    "<a href=\"../01_LTI/_index.ipynb\">&larr; LTI-Index </a>&loz;\n",
    "<a href=\"../../README.md\"> &uarr; TOC &uarr; </a>\n",
    "<img src='../_img/icon.svg' align='right' width='10%'></img>\n",
    "\n",
    "# Faltung eines Audiosignals\n",
    "\n",
    "Dieses Notebook demonstriert wie man mit Audiosignalen in Notebooks arbeitet und wie man ein Audiosignal mit der Raumimpulsantwort faltet.\n",
    "\n",
    "Es stammt ursprünglich von Allen Downey (http://think-dsp.com), Teile daraus wurden auf der Konferenz [SciPy 2015](http://conference.scipy.org/proceedings/scipy2015/) vorgeführt.\n",
    "\n",
    "***Dieses Notebook funktioniert momentan nicht!***"
   ],
   "metadata": {}
  },
  {
   "cell_type": "code",
   "execution_count": 1,
   "source": [
    "import os, sys\n",
    "module_path = os.path.abspath(os.path.join('..')) # append directory one level up to import path\n",
    "if module_path not in sys.path:  # ... if it hasn't been appended already\n",
    "    sys.path.append(module_path)\n",
    "\n",
    "import dsp_fpga_lib as dsp\n",
    "import thinkdsp\n",
    "import thinkplot\n",
    "\n",
    "import numpy\n",
    "\n",
    "%matplotlib inline"
   ],
   "outputs": [
    {
     "output_type": "error",
     "ename": "ImportError",
     "evalue": "cannot import name 'gcd' from 'fractions' (/usr/lib/python3.9/fractions.py)",
     "traceback": [
      "\u001b[0;31m---------------------------------------------------------------------------\u001b[0m",
      "\u001b[0;31mImportError\u001b[0m                               Traceback (most recent call last)",
      "\u001b[0;32m/tmp/ipykernel_38334/4260912059.py\u001b[0m in \u001b[0;36m<module>\u001b[0;34m\u001b[0m\n\u001b[1;32m      5\u001b[0m \u001b[0;34m\u001b[0m\u001b[0m\n\u001b[1;32m      6\u001b[0m \u001b[0;32mimport\u001b[0m \u001b[0mdsp_fpga_lib\u001b[0m \u001b[0;32mas\u001b[0m \u001b[0mdsp\u001b[0m\u001b[0;34m\u001b[0m\u001b[0;34m\u001b[0m\u001b[0m\n\u001b[0;32m----> 7\u001b[0;31m \u001b[0;32mimport\u001b[0m \u001b[0mthinkdsp\u001b[0m\u001b[0;34m\u001b[0m\u001b[0;34m\u001b[0m\u001b[0m\n\u001b[0m\u001b[1;32m      8\u001b[0m \u001b[0;32mimport\u001b[0m \u001b[0mthinkplot\u001b[0m\u001b[0;34m\u001b[0m\u001b[0;34m\u001b[0m\u001b[0m\n\u001b[1;32m      9\u001b[0m \u001b[0;34m\u001b[0m\u001b[0m\n",
      "\u001b[0;32m~/Daten/design/python/git/dsp_HM/dsp/notebooks/thinkdsp.py\u001b[0m in \u001b[0;36m<module>\u001b[0;34m\u001b[0m\n\u001b[1;32m     22\u001b[0m \u001b[0;32mimport\u001b[0m \u001b[0mwarnings\u001b[0m\u001b[0;34m\u001b[0m\u001b[0;34m\u001b[0m\u001b[0m\n\u001b[1;32m     23\u001b[0m \u001b[0;34m\u001b[0m\u001b[0m\n\u001b[0;32m---> 24\u001b[0;31m \u001b[0;32mfrom\u001b[0m \u001b[0mfractions\u001b[0m \u001b[0;32mimport\u001b[0m \u001b[0mgcd\u001b[0m\u001b[0;34m\u001b[0m\u001b[0;34m\u001b[0m\u001b[0m\n\u001b[0m\u001b[1;32m     25\u001b[0m \u001b[0;32mfrom\u001b[0m \u001b[0mwave\u001b[0m \u001b[0;32mimport\u001b[0m \u001b[0mopen\u001b[0m \u001b[0;32mas\u001b[0m \u001b[0mopen_wave\u001b[0m\u001b[0;34m\u001b[0m\u001b[0;34m\u001b[0m\u001b[0m\n\u001b[1;32m     26\u001b[0m \u001b[0;34m\u001b[0m\u001b[0m\n",
      "\u001b[0;31mImportError\u001b[0m: cannot import name 'gcd' from 'fractions' (/usr/lib/python3.9/fractions.py)"
     ]
    }
   ],
   "metadata": {}
  },
  {
   "cell_type": "markdown",
   "source": [
    "A Signal represents a function that can be evaluated at an point in time."
   ],
   "metadata": {}
  },
  {
   "cell_type": "code",
   "execution_count": null,
   "source": [
    "cos_sig = thinkdsp.CosSignal(freq=440)"
   ],
   "outputs": [],
   "metadata": {}
  },
  {
   "cell_type": "markdown",
   "source": [
    "A cosine signal at 440 Hz has a period of 2.3 ms."
   ],
   "metadata": {}
  },
  {
   "cell_type": "code",
   "execution_count": null,
   "source": [
    "cos_sig.plot()\n",
    "thinkplot.config(xlabel='time (s)', legend=False)"
   ],
   "outputs": [],
   "metadata": {}
  },
  {
   "cell_type": "markdown",
   "source": [
    "`make_wave` samples the signal at equally-space time steps."
   ],
   "metadata": {}
  },
  {
   "cell_type": "code",
   "execution_count": null,
   "source": [
    "wave = cos_sig.make_wave(duration=0.5, framerate=11025)"
   ],
   "outputs": [],
   "metadata": {}
  },
  {
   "cell_type": "markdown",
   "source": [
    "`make_audio` creates a widget that plays the Wave."
   ],
   "metadata": {}
  },
  {
   "cell_type": "code",
   "execution_count": null,
   "source": [
    "wave.apodize()\n",
    "wave.make_audio()"
   ],
   "outputs": [],
   "metadata": {}
  },
  {
   "cell_type": "markdown",
   "source": [
    "A SawTooth signal has a more complex harmonic structure."
   ],
   "metadata": {}
  },
  {
   "cell_type": "code",
   "execution_count": null,
   "source": [
    "saw_sig = thinkdsp.SawtoothSignal(freq=440)\n",
    "saw_sig.plot()"
   ],
   "outputs": [],
   "metadata": {}
  },
  {
   "cell_type": "markdown",
   "source": [
    "Here's what it sounds like:"
   ],
   "metadata": {}
  },
  {
   "cell_type": "code",
   "execution_count": null,
   "source": [
    "saw_wave = saw_sig.make_wave(duration=0.5)\n",
    "saw_wave.make_audio()"
   ],
   "outputs": [],
   "metadata": {}
  },
  {
   "cell_type": "markdown",
   "source": [
    "Here's a short violin performance from jcveliz on freesound.org:"
   ],
   "metadata": {}
  },
  {
   "cell_type": "code",
   "execution_count": null,
   "source": [
    "violin = thinkdsp.read_wave('../medien/92002__jcveliz__violin-origional.wav')\n",
    "violin.make_audio()"
   ],
   "outputs": [],
   "metadata": {}
  },
  {
   "cell_type": "markdown",
   "source": [
    "Up next is one of the coolest examples in Think DSP.  It uses LTI system theory to characterize the acoustics of a recording space and simulate the effect this space would have on the sound of a violin performance.\n",
    "\n",
    "I'll start with a recording of a gunshot:"
   ],
   "metadata": {}
  },
  {
   "cell_type": "code",
   "execution_count": null,
   "source": [
    "response = thinkdsp.read_wave('../medien/180960__kleeb__gunshot.wav')\n",
    "\n",
    "start = 0.12\n",
    "response = response.segment(start=start)\n",
    "response.shift(-start)\n",
    "\n",
    "response.normalize()\n",
    "response.plot()\n",
    "thinkplot.config(xlabel='time (s)', \n",
    "                 ylabel='amplitude', \n",
    "                 ylim=[-1.05, 1.05], \n",
    "                 legend=False)"
   ],
   "outputs": [],
   "metadata": {}
  },
  {
   "cell_type": "markdown",
   "source": [
    "If you play this recording, you can hear the initial shot and several seconds of echos."
   ],
   "metadata": {}
  },
  {
   "cell_type": "code",
   "execution_count": null,
   "source": [
    "response.make_audio()"
   ],
   "outputs": [],
   "metadata": {}
  },
  {
   "cell_type": "markdown",
   "source": [
    "This wave records the \"impulse response\" of the room where the gun was fired."
   ],
   "metadata": {}
  },
  {
   "cell_type": "markdown",
   "source": [
    "Now let's load a recording of a violin performance:"
   ],
   "metadata": {}
  },
  {
   "cell_type": "code",
   "execution_count": null,
   "source": [
    "wave = thinkdsp.read_wave('../medien/92002__jcveliz__violin-origional.wav')\n",
    "start = 0.11\n",
    "wave = wave.segment(start=start)\n",
    "wave.shift(-start)\n",
    "\n",
    "wave.truncate(len(response))\n",
    "wave.normalize()\n",
    "wave.plot()\n",
    "thinkplot.config(xlabel='time (s)', \n",
    "                 ylabel='amplitude', \n",
    "                 ylim=[-1.05, 1.05],\n",
    "                 legend=False)"
   ],
   "outputs": [],
   "metadata": {}
  },
  {
   "cell_type": "markdown",
   "source": [
    "And listen to it:"
   ],
   "metadata": {}
  },
  {
   "cell_type": "code",
   "execution_count": null,
   "source": [
    "wave.make_audio()"
   ],
   "outputs": [],
   "metadata": {}
  },
  {
   "cell_type": "markdown",
   "source": [
    "Now we can figure out what the violin would sound like if it was played in the room where the gun was fired.  All we have to do is convolve the two waves.\r\n",
    "\r\n",
    "**Achtung:** Die folgende Zelle kann den Kernel abwürgen (z.B. auf notebooks.gesis.org), vermutlich wenn zu wenig RAM zur Verfügung steht. Alternativ kann man sich die Audio Demonstration unter https://cmtext.indiana.edu/synthesis/chapter4_convolution.php anschauen/-hören."
   ],
   "metadata": {}
  },
  {
   "cell_type": "code",
   "execution_count": null,
   "source": [
    "output = wave.convolve(response)\n",
    "output.normalize()"
   ],
   "outputs": [],
   "metadata": {}
  },
  {
   "cell_type": "markdown",
   "source": [
    "Here's what it looks like:"
   ],
   "metadata": {}
  },
  {
   "cell_type": "code",
   "execution_count": null,
   "source": [
    "wave.plot(label='original')\n",
    "output.plot(label='convolved')\n",
    "thinkplot.config(xlabel='time (s)', ylabel='amplitude', ylim=[-1.05, 1.05])"
   ],
   "outputs": [],
   "metadata": {}
  },
  {
   "cell_type": "markdown",
   "source": [
    "And here's what it sounds like:"
   ],
   "metadata": {}
  },
  {
   "cell_type": "code",
   "execution_count": null,
   "source": [
    "output.make_audio()"
   ],
   "outputs": [],
   "metadata": {}
  },
  {
   "cell_type": "markdown",
   "source": [
    "If you think this example is black magic, you are not alone.   But there is a good reason why this works, and I do my best to explain it in Chapter 9.  So stay tuned.\n",
    "\n",
    "I'd like to thanks jcveliz and kleeb for making these recordings available from freesound.org."
   ],
   "metadata": {}
  }
 ],
 "metadata": {
  "kernelspec": {
   "name": "python3",
   "display_name": "Python 3.9.5 64-bit ('py39': venv)"
  },
  "language_info": {
   "codemirror_mode": {
    "name": "ipython",
    "version": 3
   },
   "file_extension": ".py",
   "mimetype": "text/x-python",
   "name": "python",
   "nbconvert_exporter": "python",
   "pygments_lexer": "ipython3",
   "version": "3.9.5"
  },
  "interpreter": {
   "hash": "b1b176d5116642099897aa55891f8307e93946101a8c1992e9b199d6ddfcdf89"
  }
 },
 "nbformat": 4,
 "nbformat_minor": 4
}