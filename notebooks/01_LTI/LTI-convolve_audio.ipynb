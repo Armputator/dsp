{
 "cells": [
  {
   "cell_type": "markdown",
   "source": [
    "a href=\"../01_LTI/_index.ipynb\">&larr; LTI-Index </a>&loz;\r\n",
    "<a href=\"../../README.md\"> &uarr; TOC &uarr; </a>\r\n",
    "<img src='../_img/icon.svg' align='right' width='10%'></img>\r\n",
    "\r\n",
    "# Faltung eines Audiosignals\r\n",
    "\r\n",
    "Dieses Notebook demonstriert wie man mit Audiosignalen in Notebooks arbeitet und wie man ein Audiosignal mit der Raumimpulsantwort faltet.\r\n",
    "\r\n",
    "Es stammt ursprünglich von Allen Downey (http://think-dsp.com), Teile daraus wurden auf der Konferenz SciPy 2015 präsentiert."
   ],
   "metadata": {}
  },
  {
   "cell_type": "code",
   "execution_count": 1,
   "source": [
    "import os, sys\r\n",
    "module_path = os.path.abspath(os.path.join('..')) # append directory one level up to import path\r\n",
    "if module_path not in sys.path:  # ... if it hasn't been appended already\r\n",
    "    sys.path.append(module_path)\r\n",
    "\r\n",
    "import dsp_fpga_lib as dsp\r\n",
    "import thinkdsp\r\n",
    "import thinkplot\r\n",
    "\r\n",
    "import numpy\r\n",
    "\r\n",
    "%matplotlib inline"
   ],
   "outputs": [
    {
     "output_type": "stream",
     "name": "stdout",
     "text": [
      "['D:\\\\Daten\\\\design\\\\python\\\\git\\\\dsp\\\\notebooks\\\\01_LTI', 'C:\\\\Users\\\\Chris\\\\Anaconda3\\\\python37.zip', 'C:\\\\Users\\\\Chris\\\\Anaconda3\\\\DLLs', 'C:\\\\Users\\\\Chris\\\\Anaconda3\\\\lib', 'C:\\\\Users\\\\Chris\\\\Anaconda3', '', 'C:\\\\Users\\\\Chris\\\\Anaconda3\\\\lib\\\\site-packages', 'd:\\\\daten\\\\design\\\\python\\\\git\\\\pyfda', 'C:\\\\Users\\\\Chris\\\\Anaconda3\\\\lib\\\\site-packages\\\\win32', 'C:\\\\Users\\\\Chris\\\\Anaconda3\\\\lib\\\\site-packages\\\\win32\\\\lib', 'C:\\\\Users\\\\Chris\\\\Anaconda3\\\\lib\\\\site-packages\\\\Pythonwin', 'C:\\\\Users\\\\Chris\\\\Anaconda3\\\\lib\\\\site-packages\\\\IPython\\\\extensions', 'C:\\\\Users\\\\Chris\\\\.ipython', 'D:\\\\Daten\\\\design\\\\python\\\\git\\\\dsp\\\\notebooks']\n"
     ]
    }
   ],
   "metadata": {}
  },
  {
   "cell_type": "markdown",
   "source": [
    "A Signal represents a function that can be evaluated at an point in time."
   ],
   "metadata": {}
  },
  {
   "cell_type": "code",
   "execution_count": null,
   "source": [
    "cos_sig = thinkdsp.CosSignal(freq=440)"
   ],
   "outputs": [],
   "metadata": {}
  },
  {
   "cell_type": "markdown",
   "source": [
    "A cosine signal at 440 Hz has a period of 2.3 ms."
   ],
   "metadata": {}
  },
  {
   "cell_type": "code",
   "execution_count": null,
   "source": [
    "cos_sig.plot()\r\n",
    "thinkplot.config(xlabel='time (s)', legend=False)"
   ],
   "outputs": [],
   "metadata": {}
  },
  {
   "cell_type": "markdown",
   "source": [
    "`make_wave` samples the signal at equally-space time steps."
   ],
   "metadata": {}
  },
  {
   "cell_type": "code",
   "execution_count": null,
   "source": [
    "wave = cos_sig.make_wave(duration=0.5, framerate=11025)"
   ],
   "outputs": [],
   "metadata": {}
  },
  {
   "cell_type": "markdown",
   "source": [
    "`make_audio` creates a widget that plays the Wave."
   ],
   "metadata": {}
  },
  {
   "cell_type": "code",
   "execution_count": null,
   "source": [
    "wave.apodize()\r\n",
    "wave.make_audio()"
   ],
   "outputs": [],
   "metadata": {}
  },
  {
   "cell_type": "markdown",
   "source": [
    "A SawTooth signal has a more complex harmonic structure."
   ],
   "metadata": {}
  },
  {
   "cell_type": "code",
   "execution_count": null,
   "source": [
    "saw_sig = thinkdsp.SawtoothSignal(freq=440)\r\n",
    "saw_sig.plot()"
   ],
   "outputs": [],
   "metadata": {}
  },
  {
   "cell_type": "markdown",
   "source": [
    "Here's what it sounds like:"
   ],
   "metadata": {}
  },
  {
   "cell_type": "code",
   "execution_count": null,
   "source": [
    "saw_wave = saw_sig.make_wave(duration=0.5)\r\n",
    "saw_wave.make_audio()"
   ],
   "outputs": [],
   "metadata": {}
  },
  {
   "cell_type": "markdown",
   "source": [
    "Here's a short violin performance from jcveliz on freesound.org:"
   ],
   "metadata": {}
  },
  {
   "cell_type": "code",
   "execution_count": null,
   "source": [
    "violin = thinkdsp.read_wave('../medien/92002__jcveliz__violin-origional.wav')\r\n",
    "violin.make_audio()"
   ],
   "outputs": [],
   "metadata": {}
  },
  {
   "cell_type": "markdown",
   "source": [
    "Up next is one of the coolest examples in Think DSP.  It uses LTI system theory to characterize the acoustics of a recording space and simulate the effect this space would have on the sound of a violin performance.\n",
    "\n",
    "I'll start with a recording of a gunshot:"
   ],
   "metadata": {}
  },
  {
   "cell_type": "code",
   "execution_count": null,
   "source": [
    "response = thinkdsp.read_wave('../medien/180960__kleeb__gunshot.wav')\r\n",
    "\r\n",
    "start = 0.12\r\n",
    "response = response.segment(start=start)\r\n",
    "response.shift(-start)\r\n",
    "\r\n",
    "response.normalize()\r\n",
    "response.plot()\r\n",
    "thinkplot.config(xlabel='time (s)', \r\n",
    "                 ylabel='amplitude', \r\n",
    "                 ylim=[-1.05, 1.05], \r\n",
    "                 legend=False)"
   ],
   "outputs": [],
   "metadata": {}
  },
  {
   "cell_type": "markdown",
   "source": [
    "If you play this recording, you can hear the initial shot and several seconds of echos."
   ],
   "metadata": {}
  },
  {
   "cell_type": "code",
   "execution_count": null,
   "source": [
    "response.make_audio()"
   ],
   "outputs": [],
   "metadata": {}
  },
  {
   "cell_type": "markdown",
   "source": [
    "This wave records the \"impulse response\" of the room where the gun was fired."
   ],
   "metadata": {}
  },
  {
   "cell_type": "markdown",
   "source": [
    "Now let's load a recording of a violin performance:"
   ],
   "metadata": {}
  },
  {
   "cell_type": "code",
   "execution_count": null,
   "source": [
    "wave = thinkdsp.read_wave('../medien/92002__jcveliz__violin-origional.wav')\r\n",
    "start = 0.11\r\n",
    "wave = wave.segment(start=start)\r\n",
    "wave.shift(-start)\r\n",
    "\r\n",
    "wave.truncate(len(response))\r\n",
    "wave.normalize()\r\n",
    "wave.plot()\r\n",
    "thinkplot.config(xlabel='time (s)', \r\n",
    "                 ylabel='amplitude', \r\n",
    "                 ylim=[-1.05, 1.05],\r\n",
    "                 legend=False)"
   ],
   "outputs": [],
   "metadata": {}
  },
  {
   "cell_type": "markdown",
   "source": [
    "And listen to it:"
   ],
   "metadata": {}
  },
  {
   "cell_type": "code",
   "execution_count": null,
   "source": [
    "wave.make_audio()"
   ],
   "outputs": [],
   "metadata": {}
  },
  {
   "cell_type": "markdown",
   "source": [
    "Now we can figure out what the violin would sound like if it was played in the room where the gun was fired.  All we have to do is convolve the two waves.\r\n",
    "\r\n",
    "**Achtung:** Die folgende Zelle kann den Kernel abwürgen (z.B. auf notebooks.gesis.org), vermutlich wenn zu wenig RAM zur Verfügung steht. Alternativ kann man sich die Audio Demonstration unter https://cmtext.indiana.edu/synthesis/chapter4_convolution.php anschauen/-hören."
   ],
   "metadata": {}
  },
  {
   "cell_type": "code",
   "execution_count": null,
   "source": [
    "output = wave.convolve(response)\r\n",
    "output.normalize()"
   ],
   "outputs": [],
   "metadata": {}
  },
  {
   "cell_type": "markdown",
   "source": [
    "Here's what it looks like:"
   ],
   "metadata": {}
  },
  {
   "cell_type": "code",
   "execution_count": null,
   "source": [
    "wave.plot(label='original')\r\n",
    "output.plot(label='convolved')\r\n",
    "thinkplot.config(xlabel='time (s)', ylabel='amplitude', ylim=[-1.05, 1.05])"
   ],
   "outputs": [],
   "metadata": {}
  },
  {
   "cell_type": "markdown",
   "source": [
    "And here's what it sounds like:"
   ],
   "metadata": {}
  },
  {
   "cell_type": "code",
   "execution_count": null,
   "source": [
    "output.make_audio()"
   ],
   "outputs": [],
   "metadata": {}
  },
  {
   "cell_type": "markdown",
   "source": [
    "If you think this example is black magic, you are not alone.   But there is a good reason why this works, and I do my best to explain it in Chapter 9.  So stay tuned.\n",
    "\n",
    "I'd like to thanks jcveliz and kleeb for making these recordings available from freesound.org."
   ],
   "metadata": {}
  }
 ],
 "metadata": {
  "kernelspec": {
   "display_name": "Python 3",
   "language": "python",
   "name": "python3"
  },
  "language_info": {
   "codemirror_mode": {
    "name": "ipython",
    "version": 3
   },
   "file_extension": ".py",
   "mimetype": "text/x-python",
   "name": "python",
   "nbconvert_exporter": "python",
   "pygments_lexer": "ipython3",
   "version": "3.7.6"
  }
 },
 "nbformat": 4,
 "nbformat_minor": 4
}