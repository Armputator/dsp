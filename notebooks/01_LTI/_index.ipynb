{
 "cells": [
  {
   "cell_type": "markdown",
   "source": [
    "<a href=\"../00_Intro/_index.ipynb\">&larr; Intro </a>&loz;\r\n",
    "<a href=\"../../README.md\"> &uarr; TOC &uarr; </a>&loz;\r\n",
    "<a href=\"_index.ipynb\"> LTF &rarr;</a>\r\n",
    "<img src='../_img/icon.svg' align='right' width='10%'></img>\r\n",
    "# LTI - Discrete Time Signals and Systems (Time Domain)\r\n",
    "\r\n",
    "This chapter introduces discrete time signals and systems in the *time domain* with the following notebooks:"
   ],
   "metadata": {}
  },
  {
   "cell_type": "markdown",
   "source": [
    "* [LTI-Basics:](LTI-Basics.ipynb) Impulse response and effect of simple FIR filters. \n",
    "* [LTI-Faltung:](LTI-faltung.ipynb) Simple notebook for exploring discrete convolution\n",
    "* [LTI-sensor_ML:](LTI-sensor_ML.ipynb) Solution to exercise \"Filterung abgetasteter Signale\"\n",
    "* [LTI-Animate_Convolution:](LTI-Animate_Convolution.ipynb) Demonstrate discrete convolution with an animated example\n",
    "* [LTI-convolve_audio:](LTI-convolve_audio.ipynb) Demonstrate how a room impulse response can be convolved with an audio signal\n",
    "* [LTI-IIR:](LTI-IIR.ipynb) Simulation of filters with infinite impulse response"
   ],
   "metadata": {}
  },
  {
   "cell_type": "markdown",
   "source": [
    "***\n",
    "**Copyright**\n",
    "\n",
    "(c) 2016 - 2020 Prof. Dr. Christian Münker \n",
    "\n",
    "This jupyter notebook is part of a collection of notebooks on various topics of Digital Signal Processing. The latest version can be found at https://github.com/chipmuenk/dsp.\n",
    "\n",
    "This notebook is provided as [Open Educational Resource](https://en.wikipedia.org/wiki/Open_educational_resources), feel free to use it for your own purposes. The text is licensed under [Creative Commons Attribution 4.0](https://creativecommons.org/licenses/by/4.0/), the code of the IPython examples under the [MIT license](https://opensource.org/licenses/MIT). Please attribute the work as follows: *Christian Münker, Digital Signal Processing - Vorlesungsunterlagen mit Simulationsbeispielen, 2020*."
   ],
   "metadata": {}
  },
  {
   "cell_type": "code",
   "execution_count": null,
   "source": [],
   "outputs": [],
   "metadata": {}
  }
 ],
 "metadata": {
  "anaconda-cloud": {},
  "kernelspec": {
   "display_name": "Python 3",
   "language": "python",
   "name": "python3"
  },
  "language_info": {
   "codemirror_mode": {
    "name": "ipython",
    "version": 3
   },
   "file_extension": ".py",
   "mimetype": "text/x-python",
   "name": "python",
   "nbconvert_exporter": "python",
   "pygments_lexer": "ipython3",
   "version": "3.7.4"
  }
 },
 "nbformat": 4,
 "nbformat_minor": 4
}