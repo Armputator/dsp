{
 "cells": [
  {
   "cell_type": "markdown",
   "source": [
    "<a href=\"../00_Intro/_index.ipynb\">&larr; Intro </a>&loz;\r\n",
    "<a href=\"../../README.md\"> &uarr; TOC &uarr; </a>&loz;\r\n",
    "<a href=\"../02_LTF/_index.ipynb\"> LTF &rarr;</a>\r\n",
    "<img src='../_img/icon.svg' align='right' width='10%'></img>\r\n",
    "# LTI - Zeitdiskrete Signale und LTI-Systeme im Zeitbereich\r\n",
    "\r\n",
    "In diesem Kapitel untersuchen wir zeitdiskrete Signale und Linear Time-Invariant Systems im *Zeitbereich* mit den folgenden Notebooks:"
   ],
   "metadata": {}
  },
  {
   "cell_type": "markdown",
   "source": [
    "* [LTI-Basics:](LTI-Basics.ipynb) Impulsantwort und Wirkung eines FIR Fiters. \r\n",
    "* [LTI-Faltung:](LTI-faltung.ipynb) Einfaches Notebook für Experimente mit der diskreten Faltung\r\n",
    "* [LTI-sensor_ML:](LTI-sensor_ML.ipynb) Musterlösung zu \"Filterung abgetasteter Signale\"\r\n",
    "* [LTI-Animate_Convolution:](LTI-Animate_Convolution.ipynb) Animiertes Beispiel zur diskreten Faltung \r\n",
    "* [LTI-convolve_audio:](LTI-convolve_audio.ipynb) Faltung eines Audiosignals mit einer Raumimpulsantwort\r\n",
    "* [LTI-IIR:](LTI-IIR.ipynb) Simulation eines rekursiven Filters (infinite impulse response, IIR)"
   ],
   "metadata": {}
  },
  {
   "cell_type": "markdown",
   "source": [
    "***\r\n",
    "**Copyright**\r\n",
    "\r\n",
    "(c) 2016 - 2021 Prof. Dr. Christian Münker \r\n",
    "\r\n",
    "This jupyter notebook is part of a collection of notebooks on various topics of Digital Signal Processing. The latest version can be found at https://github.com/chipmuenk/dsp.\r\n",
    "\r\n",
    "This notebook is provided as [Open Educational Resource](https://en.wikipedia.org/wiki/Open_educational_resources), feel free to use it for your own purposes. The text is licensed under [Creative Commons Attribution 4.0](https://creativecommons.org/licenses/by/4.0/), the code of the IPython examples under the [MIT license](https://opensource.org/licenses/MIT). Please attribute the work as follows: *Christian Münker, Digital Signal Processing - Vorlesungsunterlagen mit Simulationsbeispielen, 2021*."
   ],
   "metadata": {}
  },
  {
   "cell_type": "code",
   "execution_count": null,
   "source": [],
   "outputs": [],
   "metadata": {}
  }
 ],
 "metadata": {
  "anaconda-cloud": {},
  "kernelspec": {
   "display_name": "Python 3",
   "language": "python",
   "name": "python3"
  },
  "language_info": {
   "codemirror_mode": {
    "name": "ipython",
    "version": 3
   },
   "file_extension": ".py",
   "mimetype": "text/x-python",
   "name": "python",
   "nbconvert_exporter": "python",
   "pygments_lexer": "ipython3",
   "version": "3.7.4"
  }
 },
 "nbformat": 4,
 "nbformat_minor": 4
}