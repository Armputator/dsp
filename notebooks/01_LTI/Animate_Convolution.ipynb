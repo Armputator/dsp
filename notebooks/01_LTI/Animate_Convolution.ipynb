{
 "cells": [
  {
   "cell_type": "markdown",
   "metadata": {},
   "source": [
    "## Faltung ##\n",
    "\n",
    "Dieses Notebook demonstriert die Faltung interaktiv"
   ]
  },
  {
   "cell_type": "code",
   "execution_count": null,
   "metadata": {},
   "outputs": [],
   "source": [
    "%matplotlib inline\n",
    "# \"inline\" renders using inline png graphics\n",
    "from __future__ import print_function, division\n",
    "import sys\n",
    "import numpy as np\n",
    "import matplotlib.pyplot as plt\n",
    "\n",
    "import matplotlib as mpl\n",
    "from matplotlib import animation\n",
    "from IPython.display import HTML\n",
    "from IPython import __version__ as ipy_version\n",
    "\n",
    "sys.path.append('../..')\n",
    "from dsp_fpga_lib import versions\n",
    "versions()\n",
    "print(\"IPython:\", ipy_version)\n",
    "\n",
    "plt.rcParams['figure.figsize'] = (5,3)\n",
    "plt.rcParams['figure.dpi'] = 100\n",
    "plt.rcParams['savefig.dpi'] = 100\n",
    "plt.rcParams[\"animation.html\"] = \"jshtml\"  # for matplotlib 2.1 and above, uses JavaScript\n",
    "#plt.rcParams[\"animation.html\"] = \"html5\" # for matplotlib 2.0 and below, converts to x264 using ffmpeg video codec"
   ]
  },
  {
   "cell_type": "code",
   "execution_count": null,
   "metadata": {},
   "outputs": [],
   "source": [
    "# define signal and impulse response here\n",
    "h = [0.25, 0.5, 0.25] # impulse response\n",
    "len_h = len(h)\n",
    "x = [1, 1, 1, 1, 1] # input signal\n",
    "len_x = len(x)\n",
    "N = 0 # max. number of data points\n",
    "L = max(N, len_h + 2 * len_x)\n",
    "\n",
    "x = np.append(np.zeros(len_x), x)\n",
    "x = np.append(x, np.zeros(L - len_x))\n",
    "L_x0 = len(x) # length of x with zero padding\n",
    "n = np.arange(L_x0)\n",
    "h = np.append(h, np.zeros(L_x0 - len(h))) # fill up with zeros\n",
    "\n",
    "y = np.convolve(x, h)[:L_x0] "
   ]
  },
  {
   "cell_type": "code",
   "execution_count": null,
   "metadata": {},
   "outputs": [],
   "source": [
    "# First set up the figure, the axie, and the plot element(s) we want to animate. %%caption suppresses blank window\n",
    "fig, ax = plt.subplots(nrows=3, ncols=1, sharex=True)\n",
    "ml0, sl0, bl0 = ax[0].stem(n, h, '-.') # impulse response\n",
    "ml1, sl1, bl1 = ax[1].stem(n, x, '-.')  # input signal\n",
    "ml2, sl2, bl2 = ax[2].stem(n, y, '-.')  # output signal\n",
    "\n",
    "ax[0].grid(True)\n",
    "ax[0].set_ylabel(r'$h[n] \\rightarrow$')\n",
    "ax[0].set_title(r'Faltung $y[n] = x[n] \\star h[n]$')\n",
    "ax[1].set_ylabel(r'$x[n] \\rightarrow$')\n",
    "ax[2].set_ylabel(r'$y[n] \\rightarrow$');"
   ]
  },
  {
   "cell_type": "code",
   "execution_count": null,
   "metadata": {},
   "outputs": [],
   "source": [
    "def animate(i):\n",
    "    print(i, end='')\n",
    "    x_i = x[len_x + i:]\n",
    "    y_i = np.convolve(x_i, h)[:L]\n",
    "    ax[1].cla()\n",
    "    ml, sl, l = ax[1].stem(n, y)\n",
    "    ax[1].set_ylim((-1.5, 1.5))\n",
    "    ax[2].set_xlabel(r'$n \\rightarrow$');\n",
    "\n",
    "ani = animation.FuncAnimation(fig, animate, frames=L)\n",
    "ani"
   ]
  },
  {
   "cell_type": "code",
   "execution_count": null,
   "metadata": {},
   "outputs": [],
   "source": [
    "# First set up the figure, the axis, and the plot element we want to animate\n",
    "#fig = plt.figure(1) \n",
    "#ax = fig.add_subplot(111)\n",
    "fig, ax = plt.subplots()\n",
    "\n",
    "ax.set_xlim(( 0, 2))\n",
    "ax.set_ylim((-2, 2))\n",
    "\n",
    "line, = ax.plot([], [], lw=2)\n",
    "\n",
    "# initialization function: plot the background of each frame\n",
    "def init():\n",
    "    line.set_data([], [])\n",
    "    return (line,)\n",
    "\n",
    "# animation function. This is called sequentially\n",
    "def animate(i):\n",
    "    x = np.linspace(0, 2, 100)\n",
    "    y = np.sin(2 * np.pi * (x - 0.01 * i))\n",
    "    line.set_data(x, y)\n",
    "    if i%10 == 0: print('*', end='') # print a progress bar\n",
    "    return (line,)\n",
    "\n",
    "# call the animator. blit=True means only re-draw the parts that have changed.\n",
    "anim = animation.FuncAnimation(fig, animate, init_func=init,\n",
    "                               frames=100, interval=20)#, blit=True) # 100 frames with 20 ms intervals\n",
    "\n",
    "# HTML(anim.to_html5_video())\n",
    "anim"
   ]
  },
  {
   "cell_type": "code",
   "execution_count": null,
   "metadata": {
    "collapsed": true
   },
   "outputs": [],
   "source": []
  }
 ],
 "metadata": {
  "anaconda-cloud": {},
  "kernelspec": {
   "display_name": "Python [Root]",
   "language": "python",
   "name": "Python [Root]"
  },
  "language_info": {
   "codemirror_mode": {
    "name": "ipython",
    "version": 3
   },
   "file_extension": ".py",
   "mimetype": "text/x-python",
   "name": "python",
   "nbconvert_exporter": "python",
   "pygments_lexer": "ipython3",
   "version": "3.5.4"
  }
 },
 "nbformat": 4,
 "nbformat_minor": 1
}
