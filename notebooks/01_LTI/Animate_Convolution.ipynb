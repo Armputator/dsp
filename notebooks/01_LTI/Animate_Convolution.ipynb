{
 "cells": [
  {
   "cell_type": "markdown",
   "metadata": {},
   "source": [
    "## Faltung ##\n",
    "\n",
    "Dieses Notebook demonstriert die Faltung interaktiv"
   ]
  },
  {
   "cell_type": "code",
   "execution_count": null,
   "metadata": {
    "collapsed": false
   },
   "outputs": [],
   "source": [
    "%matplotlib inline\n",
    "# \"inline\" renders using inline png graphics\n",
    "from __future__ import print_function, division\n",
    "import sys\n",
    "import numpy as np\n",
    "import matplotlib.pyplot as plt\n",
    "\n",
    "import matplotlib as mpl\n",
    "from matplotlib import animation\n",
    "from IPython.display import HTML\n",
    "from IPython import __version__ as ipy_version\n",
    "\n",
    "sys.path.append('../..')\n",
    "from dsp_fpga_lib import versions\n",
    "versions()\n",
    "print(\"IPython:\", ipy_version)\n",
    "\n",
    "plt.rcParams['figure.figsize'] = (5,3)\n",
    "plt.rcParams['figure.dpi'] = 100\n",
    "plt.rcParams['savefig.dpi'] = 100\n",
    "plt.rcParams[\"animation.html\"] = \"jshtml\"  # for matplotlib 2.1 and above, uses JavaScript\n",
    "#plt.rcParams[\"animation.html\"] = \"html5\" # for matplotlib 2.0 and below, converts to x264 using ffmpeg video codec"
   ]
  },
  {
   "cell_type": "code",
   "execution_count": null,
   "metadata": {
    "collapsed": false
   },
   "outputs": [],
   "source": [
    "%%capture\n",
    "fig, ax = plt.subplots(nrows=2, ncols=1, sharex=True)\n",
    "l1, = ax[0].plot([],[])\n",
    "ml, sl, bl = ax[1].stem(n, x, '-.')\n",
    "\n",
    "ax[0].grid(True)\n",
    "ax[0].set_ylabel(r'$y[n] \\rightarrow$')\n",
    "ax[0].set_title(r'Faltung $y[n] = x[n] \\star h[n]$')\n",
    "ax[0].set_xlim(( 0, L))\n",
    "ax[0].set_ylim((-2, 2));\n",
    "ax[1].set_title(r'Faltung $bla$')\n",
    "ax[1].set_xlabel(r'$n \\rightarrow$');"
   ]
  },
  {
   "cell_type": "code",
   "execution_count": null,
   "metadata": {
    "collapsed": false
   },
   "outputs": [],
   "source": [
    "# define signal and impulse response here\n",
    "h = [0.25, 0.5, 0.25] # impulse response\n",
    "x = [1, 1, 1, 1, 1] # input signal \n",
    "N = 0 # max. number of data points\n",
    "L = max(N, len(h) + len(x))\n",
    "\n",
    "n = np.arange(L)\n",
    "h = np.append(h, np.zeros(L - len(h))) # fill up with zeros\n",
    "x = np.append(x, np.zeros(L - len(x)))\n",
    "\n",
    "y = np.convolve(x, h)[:L] \n",
    "\n"
   ]
  },
  {
   "cell_type": "code",
   "execution_count": null,
   "metadata": {
    "collapsed": false
   },
   "outputs": [],
   "source": [
    "def animate(i):\n",
    "    y = np.roll(x, i)\n",
    "    l1.set_data(n, y)\n",
    "    ax[1].cla()\n",
    "    ml, sl, l = ax[1].stem(n, y)\n",
    "    ax[1].set_ylim((-1.5, 1.5))\n",
    "\n",
    "ani = animation.FuncAnimation(fig, animate, frames=len(t))\n",
    "ani"
   ]
  },
  {
   "cell_type": "code",
   "execution_count": null,
   "metadata": {
    "collapsed": false
   },
   "outputs": [],
   "source": [
    "# First set up the figure, the axis, and the plot element we want to animate\n",
    "#fig = plt.figure(1) \n",
    "#ax = fig.add_subplot(111)\n",
    "fig, ax = plt.subplots()\n",
    "\n",
    "ax.set_xlim(( 0, 2))\n",
    "ax.set_ylim((-2, 2))\n",
    "\n",
    "line, = ax.plot([], [], lw=2)\n",
    "\n",
    "# initialization function: plot the background of each frame\n",
    "def init():\n",
    "    line.set_data([], [])\n",
    "    return (line,)\n",
    "\n",
    "# animation function. This is called sequentially\n",
    "def animate(i):\n",
    "    x = np.linspace(0, 2, 100)\n",
    "    y = np.sin(2 * np.pi * (x - 0.01 * i))\n",
    "    line.set_data(x, y)\n",
    "    if i%10 == 0: print('*', end='') # print a progress bar\n",
    "    return (line,)\n",
    "\n",
    "# call the animator. blit=True means only re-draw the parts that have changed.\n",
    "anim = animation.FuncAnimation(fig, animate, init_func=init,\n",
    "                               frames=100, interval=20)#, blit=True) # 100 frames with 20 ms intervals\n",
    "\n",
    "# HTML(anim.to_html5_video())\n",
    "anim"
   ]
  },
  {
   "cell_type": "code",
   "execution_count": null,
   "metadata": {
    "collapsed": true
   },
   "outputs": [],
   "source": []
  }
 ],
 "metadata": {
  "anaconda-cloud": {},
  "kernelspec": {
   "display_name": "Python [conda env:Py36]",
   "language": "python",
   "name": "conda-env-Py36-py"
  },
  "language_info": {
   "codemirror_mode": {
    "name": "ipython",
    "version": 3
   },
   "file_extension": ".py",
   "mimetype": "text/x-python",
   "name": "python",
   "nbconvert_exporter": "python",
   "pygments_lexer": "ipython3",
   "version": "3.6.3"
  }
 },
 "nbformat": 4,
 "nbformat_minor": 1
}
