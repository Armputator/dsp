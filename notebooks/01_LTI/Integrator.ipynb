{
 "cells": [
  {
   "cell_type": "markdown",
   "metadata": {},
   "source": [
    "\n",
    "# Zeitdiskreter Integrator # \n",
    "## P/N-Plan, Frequenzgang und Impulsantwort ##\n",
    "\n",
    "*This jupyter notebook is part of a [collection of notebooks](../) on various topics of Digital Signal Processing hosted @ [https://github.com/chipmuenk/dsp_fpga](https://github.com/chipmuenk/dsp_fpga)* \"Digitale Signalverarbeitung auf FPGAs\"\n",
    "\n",
    "(c) 2016, 2017 -Oct-07 Rebecca Janßen and Prof. Dr. Christian Münker "
   ]
  },
  {
   "cell_type": "code",
   "execution_count": 3,
   "metadata": {
    "collapsed": true,
    "scrolled": false
   },
   "outputs": [],
   "source": [
    "# Zeige Plots nicht als neue Fenster:\n",
    "%matplotlib inline \n",
    "\n",
    "from __future__ import division, print_function\n",
    "\n",
    "import numpy as np\n",
    "from numpy import (pi, log10, exp, sqrt, sin, cos, tan, angle, arange, \n",
    "                   linspace, array, zeros, ones)\n",
    "import scipy.signal as sig\n",
    "\n",
    "import matplotlib.pyplot as plt\n",
    "from matplotlib.pyplot import (figure, plot, stem, grid, xlabel, ylabel, setp,\n",
    "    subplot, tight_layout, title, clf, xlim, ylim)\n",
    "\n",
    "from ipywidgets import (interact,FloatSlider,IntSlider)\n",
    "from ipykernel.pylab.backend_inline import flush_figures\n",
    "\n",
    "from IPython.display import Image\n",
    "\n",
    "import sys, os\n",
    "module_path = os.path.abspath(os.path.join('..'))\n",
    "if module_path not in sys.path:\n",
    "    sys.path.append(module_path)\n",
    "import dsp_fpga_lib as dsp\n",
    "\n",
    "\n",
    "def filterIntegrator(alpha=0):\n",
    "    b = [1, 0] #Zaehler: z\n",
    "    a = [1, alpha] #Nenner: z+alpha\n",
    "    \n",
    "    if(alpha!=-1):\n",
    "        figure(figsize=(15,6))\n",
    "        subplot(131)\n",
    "        title('PN-Plan (zplane)')\n",
    "        dsp.zplane(b,a) #Plotte P/N Diagramm\n",
    "        xlabel('$Re$') \n",
    "        ylabel('$Im$')\n",
    "\n",
    "        #Frequenzgang H(f)\n",
    "        subplot(132)\n",
    "        title('Frequenzgang')\n",
    "        f_S=1\n",
    "        [W,H] = sig.freqz(b,a,1024, f_S)\n",
    "        plot(W/(2*pi),abs(H),linewidth = 2)\n",
    "        xlabel(r'$F$  bzw. $\\Omega / 2 \\pi$') \n",
    "        ylabel(r'$|H(F)| \\; \\rightarrow$')\n",
    "\n",
    "        #Berechne 20 Werte der Impulsantwort:\n",
    "        subplot(133)\n",
    "        title('Impulsantwort')\n",
    "        [himp,t] = dsp.impz(b,a,20,f_S)\n",
    "        (ml, sl, bl) = stem(t,himp) # Impulsantwort\n",
    "        setp(ml,'markerfacecolor','r',\t'markersize',8)\n",
    "        setp(sl,'linewidth',2)\n",
    "        xlabel('$n$'); ylabel(r'$h[n]$')\n",
    "\n",
    "        #sicherstellen, dass Plots nicht überlappen\n",
    "        tight_layout()\n",
    "        flush_figures()\n",
    "        \n",
    "        # plt.show #Plot anzeigen\n",
    "    else:\n",
    "        print('Plot kann nicht berechnet werden, da durch Null geteilt würde!')"
   ]
  },
  {
   "cell_type": "markdown",
   "metadata": {},
   "source": [
    "Das hier ist ein wenig Dummy-Text und die Latex-Formel für den Integrator:\n",
    "$$H_i(z) = \\frac{z}{z - \\alpha} $$"
   ]
  },
  {
   "cell_type": "code",
   "execution_count": 4,
   "metadata": {},
   "outputs": [
    {
     "data": {
      "application/vnd.jupyter.widget-view+json": {
       "model_id": "578d702c354a482d8c606b6531fa5b4d"
      }
     },
     "metadata": {},
     "output_type": "display_data"
    }
   ],
   "source": [
    "#Slider erzeugen, der filterIntegrator bei jeder Änderung aufruft\n",
    "interact(filterIntegrator, alpha=FloatSlider(value=0.7,min=-2,max=2,step=0.1,continuous_update=False));"
   ]
  },
  {
   "cell_type": "markdown",
   "metadata": {
    "collapsed": true
   },
   "source": [
    "**Copyright**\n",
    "\n",
    "This notebook is provided as [Open Educational Resource](https://en.wikipedia.org/wiki/Open_educational_resources). Feel free to use the notebook for your own purposes. The text is licensed under [Creative Commons Attribution 4.0](https://creativecommons.org/licenses/by/4.0/), the code of the IPython examples under the [MIT license](https://opensource.org/licenses/MIT). Please attribute the work as follows: *Christian Münker, Digital Signal Processing auf FPGAs - Vorlesungsunterlagen mit Simulationsbeispielen, 2017*.\n",
    "\n",
    "The latest version of this notebook can be found at\n",
    "\n",
    "[https://github.com/chipmuenk/dsp_fpga/blob/master/notebooks/01_LTI/Integrator.ipynb](https://github.com/chipmuenk/dsp_fpga/blob/master/notebooks/01_LTI/Integrator.ipynb)"
   ]
  },
  {
   "cell_type": "code",
   "execution_count": null,
   "metadata": {
    "collapsed": true
   },
   "outputs": [],
   "source": []
  }
 ],
 "metadata": {
  "anaconda-cloud": {},
  "kernelspec": {
   "display_name": "Python 3",
   "language": "python",
   "name": "python3"
  },
  "language_info": {
   "codemirror_mode": {
    "name": "ipython",
    "version": 3
   },
   "file_extension": ".py",
   "mimetype": "text/x-python",
   "name": "python",
   "nbconvert_exporter": "python",
   "pygments_lexer": "ipython3",
   "version": "3.6.1"
  },
  "widgets": {
   "state": {
    "73669b8f6ce8454ead5badc698572378": {
     "views": [
      {
       "cell_index": 2
      }
     ]
    }
   },
   "version": "1.2.0"
  }
 },
 "nbformat": 4,
 "nbformat_minor": 1
}
