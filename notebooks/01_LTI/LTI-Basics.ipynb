{
 "cells": [
  {
   "cell_type": "markdown",
   "metadata": {},
   "source": [
    "# Zeitdiskrete Systeme im Zeitbereich\n",
    "In diesem Kapitel betrachten wir zunächst Systeme zur Verarbeitung von zeitdiskreten Sensorsignalen im Zeitbereich."
   ]
  },
  {
   "cell_type": "code",
   "execution_count": 1,
   "metadata": {},
   "outputs": [
    {
     "name": "stdout",
     "output_type": "stream",
     "text": [
      "Python version: 3.6.4\n",
      "Numpy: 1.13.3\n",
      "Scipy: 0.19.1\n",
      "Matplotlib: 2.1.2 module://ipykernel.pylab.backend_inline\n"
     ]
    },
    {
     "ename": "KeyError",
     "evalue": "'axes.gridline is not a valid rc parameter. See rcParams.keys() for a list of valid parameters.'",
     "output_type": "error",
     "traceback": [
      "\u001b[1;31m---------------------------------------------------------------------------\u001b[0m",
      "\u001b[1;31mKeyError\u001b[0m                                  Traceback (most recent call last)",
      "\u001b[1;32mD:\\Programme\\Anaconda3\\envs\\py36_mpl21\\lib\\site-packages\\matplotlib\\__init__.py\u001b[0m in \u001b[0;36m__setitem__\u001b[1;34m(self, key, val)\u001b[0m\n\u001b[0;32m    815\u001b[0m             \u001b[1;32mtry\u001b[0m\u001b[1;33m:\u001b[0m\u001b[1;33m\u001b[0m\u001b[0m\n\u001b[1;32m--> 816\u001b[1;33m                 \u001b[0mcval\u001b[0m \u001b[1;33m=\u001b[0m \u001b[0mself\u001b[0m\u001b[1;33m.\u001b[0m\u001b[0mvalidate\u001b[0m\u001b[1;33m[\u001b[0m\u001b[0mkey\u001b[0m\u001b[1;33m]\u001b[0m\u001b[1;33m(\u001b[0m\u001b[0mval\u001b[0m\u001b[1;33m)\u001b[0m\u001b[1;33m\u001b[0m\u001b[0m\n\u001b[0m\u001b[0;32m    817\u001b[0m             \u001b[1;32mexcept\u001b[0m \u001b[0mValueError\u001b[0m \u001b[1;32mas\u001b[0m \u001b[0mve\u001b[0m\u001b[1;33m:\u001b[0m\u001b[1;33m\u001b[0m\u001b[0m\n",
      "\u001b[1;31mKeyError\u001b[0m: 'axes.gridline'",
      "\nDuring handling of the above exception, another exception occurred:\n",
      "\u001b[1;31mKeyError\u001b[0m                                  Traceback (most recent call last)",
      "\u001b[1;32m<ipython-input-1-8eb590896036>\u001b[0m in \u001b[0;36m<module>\u001b[1;34m()\u001b[0m\n\u001b[0;32m     13\u001b[0m \u001b[1;32mimport\u001b[0m \u001b[0mdsp_fpga_lib\u001b[0m \u001b[1;32mas\u001b[0m \u001b[0mdsp\u001b[0m\u001b[1;33m\u001b[0m\u001b[0m\n\u001b[0;32m     14\u001b[0m \u001b[0mdsp\u001b[0m\u001b[1;33m.\u001b[0m\u001b[0mversions\u001b[0m\u001b[1;33m(\u001b[0m\u001b[1;33m)\u001b[0m \u001b[1;31m# print versions\u001b[0m\u001b[1;33m\u001b[0m\u001b[0m\n\u001b[1;32m---> 15\u001b[1;33m \u001b[0mplt\u001b[0m\u001b[1;33m.\u001b[0m\u001b[0mrcParams\u001b[0m\u001b[1;33m.\u001b[0m\u001b[0mupdate\u001b[0m\u001b[1;33m(\u001b[0m\u001b[0mdsp\u001b[0m\u001b[1;33m.\u001b[0m\u001b[0mmpl_rc\u001b[0m\u001b[1;33m)\u001b[0m \u001b[1;31m# define plot properties\u001b[0m\u001b[1;33m\u001b[0m\u001b[0m\n\u001b[0m\u001b[0;32m     16\u001b[0m \u001b[0mplt\u001b[0m\u001b[1;33m.\u001b[0m\u001b[0mrcParams\u001b[0m\u001b[1;33m.\u001b[0m\u001b[0mupdate\u001b[0m\u001b[1;33m(\u001b[0m\u001b[1;33m{\u001b[0m\u001b[1;34m'axes.grid'\u001b[0m\u001b[1;33m:\u001b[0m\u001b[1;32mFalse\u001b[0m\u001b[1;33m}\u001b[0m\u001b[1;33m)\u001b[0m \u001b[1;31m#\u001b[0m\u001b[1;33m\u001b[0m\u001b[0m\n",
      "\u001b[1;32mD:\\Programme\\Anaconda3\\envs\\py36_mpl21\\lib\\_collections_abc.py\u001b[0m in \u001b[0;36mupdate\u001b[1;34m(*args, **kwds)\u001b[0m\n\u001b[0;32m    839\u001b[0m             \u001b[1;32mif\u001b[0m \u001b[0misinstance\u001b[0m\u001b[1;33m(\u001b[0m\u001b[0mother\u001b[0m\u001b[1;33m,\u001b[0m \u001b[0mMapping\u001b[0m\u001b[1;33m)\u001b[0m\u001b[1;33m:\u001b[0m\u001b[1;33m\u001b[0m\u001b[0m\n\u001b[0;32m    840\u001b[0m                 \u001b[1;32mfor\u001b[0m \u001b[0mkey\u001b[0m \u001b[1;32min\u001b[0m \u001b[0mother\u001b[0m\u001b[1;33m:\u001b[0m\u001b[1;33m\u001b[0m\u001b[0m\n\u001b[1;32m--> 841\u001b[1;33m                     \u001b[0mself\u001b[0m\u001b[1;33m[\u001b[0m\u001b[0mkey\u001b[0m\u001b[1;33m]\u001b[0m \u001b[1;33m=\u001b[0m \u001b[0mother\u001b[0m\u001b[1;33m[\u001b[0m\u001b[0mkey\u001b[0m\u001b[1;33m]\u001b[0m\u001b[1;33m\u001b[0m\u001b[0m\n\u001b[0m\u001b[0;32m    842\u001b[0m             \u001b[1;32melif\u001b[0m \u001b[0mhasattr\u001b[0m\u001b[1;33m(\u001b[0m\u001b[0mother\u001b[0m\u001b[1;33m,\u001b[0m \u001b[1;34m\"keys\"\u001b[0m\u001b[1;33m)\u001b[0m\u001b[1;33m:\u001b[0m\u001b[1;33m\u001b[0m\u001b[0m\n\u001b[0;32m    843\u001b[0m                 \u001b[1;32mfor\u001b[0m \u001b[0mkey\u001b[0m \u001b[1;32min\u001b[0m \u001b[0mother\u001b[0m\u001b[1;33m.\u001b[0m\u001b[0mkeys\u001b[0m\u001b[1;33m(\u001b[0m\u001b[1;33m)\u001b[0m\u001b[1;33m:\u001b[0m\u001b[1;33m\u001b[0m\u001b[0m\n",
      "\u001b[1;32mD:\\Programme\\Anaconda3\\envs\\py36_mpl21\\lib\\site-packages\\matplotlib\\__init__.py\u001b[0m in \u001b[0;36m__setitem__\u001b[1;34m(self, key, val)\u001b[0m\n\u001b[0;32m    821\u001b[0m             raise KeyError(\n\u001b[0;32m    822\u001b[0m                 \u001b[1;34m'%s is not a valid rc parameter. See rcParams.keys() for a '\u001b[0m\u001b[1;33m\u001b[0m\u001b[0m\n\u001b[1;32m--> 823\u001b[1;33m                 'list of valid parameters.' % (key,))\n\u001b[0m\u001b[0;32m    824\u001b[0m \u001b[1;33m\u001b[0m\u001b[0m\n\u001b[0;32m    825\u001b[0m     \u001b[1;32mdef\u001b[0m \u001b[0m__getitem__\u001b[0m\u001b[1;33m(\u001b[0m\u001b[0mself\u001b[0m\u001b[1;33m,\u001b[0m \u001b[0mkey\u001b[0m\u001b[1;33m)\u001b[0m\u001b[1;33m:\u001b[0m\u001b[1;33m\u001b[0m\u001b[0m\n",
      "\u001b[1;31mKeyError\u001b[0m: 'axes.gridline is not a valid rc parameter. See rcParams.keys() for a list of valid parameters.'"
     ]
    }
   ],
   "source": [
    "from __future__ import print_function, division\n",
    "import os, sys\n",
    "module_path = os.path.abspath(os.path.join('..')) # append directory one level up to import path\n",
    "if module_path not in sys.path:  # ... if it hasn't been appended already\n",
    "    sys.path.append(module_path)\n",
    "    \n",
    "import matplotlib.pyplot as plt\n",
    "%matplotlib inline\n",
    "from IPython.core.display import Image, display\n",
    "import numpy as np\n",
    "import scipy.signal as sig\n",
    "\n",
    "import dsp_fpga_lib as dsp\n",
    "dsp.versions() # print versions \n",
    "plt.rcParams.update(dsp.mpl_rc) # define plot properties \n",
    "plt.rcParams.update({'axes.grid':False}) # "
   ]
  },
  {
   "cell_type": "markdown",
   "metadata": {},
   "source": [
    "## Signale im Zeitbereich"
   ]
  },
  {
   "cell_type": "markdown",
   "metadata": {},
   "source": [
    "<!-- example for static HTML image embedded in MarkDown\n",
    "![Menschen und Python](http://imgs.xkcd.com/comics/reassuring.png) \n",
    "MarkDown allows no alignment and scaling, but HTML/CSS does: \n",
    "\n",
    "<p style=\"text-align:center; font-weight:bold\">\n",
    "<img src=\"http://imgs.xkcd.com/comics/reassuring.png\" />\n",
    "<br />Python macht glücklich ...</p>-->\n",
    "\n",
    "In diesem Kapitel betrachten wir zunächst das System zur Verarbeitung von zeitdiskreten Sensorsignalen im Frequenzbereich.\n"
   ]
  },
  {
   "cell_type": "code",
   "execution_count": null,
   "metadata": {},
   "outputs": [],
   "source": [
    "display(Image(filename = 'img/ueb-LTI-MA.png'))\n",
    "display(Image(filename = 'img/ueb-LTI-kask_MA.png'))\n"
   ]
  },
  {
   "cell_type": "markdown",
   "metadata": {},
   "source": [
    "### Definition von Signal und Filter"
   ]
  },
  {
   "cell_type": "code",
   "execution_count": null,
   "metadata": {},
   "outputs": [],
   "source": [
    "# Define Signal and Filter\n",
    "Ts = 1/200.0     # sampling period\n",
    "fsig = 50.0      # signal frequency\n",
    "phi0  = 0        # signal initial phase\n",
    "tstep = 1e-3     # time step for \"analog\" signal\n",
    "Tmax = 6.0/fsig  # timespan for 6 signal periods \n",
    "N_Ts = Tmax / Ts # number of samples in Tmax\n",
    "# -- Calculate time-vectors and input signals ---\n",
    "n = np.arange(0,round(N_Ts)) # sample n (start,stop,step)\n",
    "t = np.arange(0,Tmax,tstep)  # time t\n",
    "xn = 1.5 + 0.5*np.cos(2.0*np.pi*fsig*n*Ts + phi0) # x[n]\n",
    "xt = 1.5 + 0.5*np.cos(2.0*np.pi*fsig*t + phi0) # x(t).\n",
    "\n",
    "b = np.ones(4); a = 1 # MA-filter, N = 5\n",
    "b = np.convolve([1,1,1],[1,1,1]); a = 1 \n",
    "#b = [1, 0]; a = [1, -0.9] # lossy integrator"
   ]
  },
  {
   "cell_type": "code",
   "execution_count": null,
   "metadata": {},
   "outputs": [],
   "source": [
    "plt.figure() \n",
    "plt.xlabel(r'Time (s) $\\rightarrow$')\n",
    "plt.ylabel(r'Amplitude (V) $\\rightarrow$')\n",
    "plt.title('$x(t) = 1.5 + 0.5 \\cos(2 \\pi \\cdot 50 \\mathrm{Hz}\\, t)$\\n\\\n",
    "$y[n] = 1.5 + 0.5 \\cos[2 \\pi \\cdot 50 / %.1f n]$'%(1./Ts))\n",
    "#\n",
    "plt.plot(t, xt, 'b-') # x(t) with blue line\n",
    "plt.stem(n*Ts, xn, linefmt='r-') # x[n], red stems\n",
    "plt.ylim(-0.1, 2.2)   # set y-limits to ymin, ymax\n",
    "# horizontal line (relative x-coordinates):\n",
    "plt.axhline(1.5, xmin=0, xmax=1, linestyle='--') \n",
    "plt.subplots_adjust(top=0.88,right=0.95)\n",
    "print('  n :', end=\"\")\n",
    "for i in range(8): print('{:5d} |'.format(i), end=\"\")\n",
    "print('\\nx[n]:', end=\"\")\n",
    "for i in range(8): print('{0:5.2f} |'.format(xn[i]), end=\"\")"
   ]
  },
  {
   "cell_type": "markdown",
   "metadata": {},
   "source": [
    "## Gefiltertes Signal im Zeitbereich"
   ]
  },
  {
   "cell_type": "code",
   "execution_count": null,
   "metadata": {},
   "outputs": [],
   "source": [
    "plt.figure()\n",
    "h = b # Impulse response = coefficients for FIR filters\n",
    "plt.stem(range(len(h)), h, 'b-') # plot h[n]\n",
    "plt.xlabel(r'$n \\rightarrow$'); plt.ylabel(r'$h[n] \\rightarrow$');\n",
    "plt.title(r'Impulse Response $h[n]$');"
   ]
  },
  {
   "cell_type": "markdown",
   "metadata": {},
   "source": [
    "## Impulsantwort des Filters"
   ]
  },
  {
   "cell_type": "code",
   "execution_count": null,
   "metadata": {},
   "outputs": [],
   "source": [
    "plt.figure()\n",
    "yn = np.convolve(xn,h)/4. # convolve & scale\n",
    "print('\\ny[n]:', end=\"\")\n",
    "for i in range(8): print('{0:5.2f}'.format(yn[i]),\n",
    "               end=\"\")\n",
    "plt.stem(range(len(yn)), yn, 'b') # y[n]\n",
    "plt.xlabel('n ->'); plt.ylabel('y[n] ->')\n",
    "plt.title('Filtered Signal');"
   ]
  },
  {
   "cell_type": "markdown",
   "metadata": {},
   "source": [
    "## Pol- und Nullstellendiagramm\n",
    "Zunächst stellen wir das Pol-/Nullstellendiagramm des Filter dar:"
   ]
  },
  {
   "cell_type": "code",
   "execution_count": null,
   "metadata": {},
   "outputs": [],
   "source": [
    "# ----- P/Z-Plot -----\n",
    "plt.figure()\n",
    "plt.xlabel(r'Real Part $\\rightarrow$'); plt.ylabel(r'Imag. Part $\\rightarrow$')\n",
    "plt.title('Pole/Zero-Plan')\n",
    "dsp.zplane(b,a);"
   ]
  },
  {
   "cell_type": "markdown",
   "metadata": {},
   "source": [
    "## Betragsfrequenzgang\n",
    "Als nächstes schauen wir uns den Betragsfrequenzgang an:"
   ]
  },
  {
   "cell_type": "code",
   "execution_count": null,
   "metadata": {},
   "outputs": [],
   "source": [
    "# ----- frequency response -----\n",
    "plt.figure()\n",
    "[W, H] = sig.freqz(b, a, whole=0);\n",
    "f = W  / (Ts * 2 * np.pi)\n",
    "plt.plot(f,abs(H))\n",
    "plt.ylabel(r'$|H(e^{j \\Omega})| \\rightarrow$')\n",
    "plt.title('Frequency Response');\n"
   ]
  },
  {
   "cell_type": "markdown",
   "metadata": {},
   "source": [
    "**Copyright**\n",
    "\n",
    "(c) 2016 - 2018 Prof. Dr. Christian Münker \n",
    "\n",
    "This jupyter notebook is part of a collection of notebooks on various topics of Digital Signal Processing. The latest version can be found at https://github.com/chipmuenk/dsp_fpga \"Digitale Signalverarbeitung auf FPGAs\"\n",
    "\n",
    "This notebook is provided as [Open Educational Resource](https://en.wikipedia.org/wiki/Open_educational_resources). Feel free to use the notebook for your own purposes. The text is licensed under [Creative Commons Attribution 4.0](https://creativecommons.org/licenses/by/4.0/), the code of the IPython examples under the [MIT license](https://opensource.org/licenses/MIT). Please attribute the work as follows: *Christian Münker, Digital Signal Processing auf FPGAs - Vorlesungsunterlagen mit Simulationsbeispielen, 2018*."
   ]
  },
  {
   "cell_type": "code",
   "execution_count": null,
   "metadata": {},
   "outputs": [],
   "source": []
  }
 ],
 "metadata": {
  "anaconda-cloud": {},
  "kernelspec": {
   "display_name": "Python [conda env:py36_mpl21]",
   "language": "python",
   "name": "conda-env-py36_mpl21-py"
  },
  "language_info": {
   "codemirror_mode": {
    "name": "ipython",
    "version": 3
   },
   "file_extension": ".py",
   "mimetype": "text/x-python",
   "name": "python",
   "nbconvert_exporter": "python",
   "pygments_lexer": "ipython3",
   "version": "3.6.4"
  }
 },
 "nbformat": 4,
 "nbformat_minor": 1
}
