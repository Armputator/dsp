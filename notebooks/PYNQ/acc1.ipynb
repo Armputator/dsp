{
 "cells": [
  {
   "cell_type": "code",
   "execution_count": 1,
   "metadata": {},
   "outputs": [
    {
     "data": {
      "application/javascript": [
       "\n",
       "require(['notebook/js/codecell'], function(codecell) {\n",
       "  codecell.CodeCell.options_default.highlight_modes[\n",
       "      'magic_text/x-csrc'] = {'reg':[/^%%microblaze/]};\n",
       "  Jupyter.notebook.events.one('kernel_ready.Kernel', function(){\n",
       "      Jupyter.notebook.get_cells().map(function(cell){\n",
       "          if (cell.cell_type == 'code'){ cell.auto_highlight(); } }) ;\n",
       "  });\n",
       "});\n"
      ]
     },
     "metadata": {},
     "output_type": "display_data"
    },
    {
     "name": "stderr",
     "output_type": "stream",
     "text": [
      "/usr/local/lib/python3.6/dist-packages/pynq/overlay.py:299: UserWarning: Users will not get PARAMETERS / REGISTERS information through TCL files. HWH file is recommended.\n",
      "  warnings.warn(message, UserWarning)\n"
     ]
    }
   ],
   "source": [
    "from pynq import Overlay\n",
    "ol = Overlay('./acc1.bit')\n",
    "mm = ol.vmm1_0"
   ]
  },
  {
   "cell_type": "code",
   "execution_count": 2,
   "metadata": {},
   "outputs": [],
   "source": [
    "import time"
   ]
  },
  {
   "cell_type": "code",
   "execution_count": 4,
   "metadata": {},
   "outputs": [],
   "source": [
    "start_time = time.time()\n",
    "mm.write(0x00,1)\n",
    "mm.write(0x04,2)\n",
    "mm.write(0x08,3)\n",
    "mm.write(0x0C,4)\n",
    "o1 = mm.read(0x10)\n",
    "o2 = mm.read(0x14)\n",
    "o3 = mm.read(0x18)\n",
    "o4 = mm.read(0x1C)\n",
    "stop_time = time.time()"
   ]
  },
  {
   "cell_type": "code",
   "execution_count": 5,
   "metadata": {},
   "outputs": [
    {
     "name": "stdout",
     "output_type": "stream",
     "text": [
      "Matrix execution time:  0.0036170482635498047\n",
      "10\n",
      "10\n",
      "10\n",
      "10\n"
     ]
    }
   ],
   "source": [
    "sw_exec_time = stop_time - start_time\n",
    "print('Matrix execution time: ',sw_exec_time)\n",
    "print(o1)\n",
    "print(o2)\n",
    "print(o3)\n",
    "print(o4) "
   ]
  },
  {
   "cell_type": "code",
   "execution_count": 6,
   "metadata": {},
   "outputs": [
    {
     "name": "stdout",
     "output_type": "stream",
     "text": [
      "[3 4 5 6]\n",
      "[[ 1.  1.  1.  1.]\n",
      " [ 1.  1.  1.  1.]\n",
      " [ 1.  1.  1.  1.]\n",
      " [ 1.  1.  1.  1.]]\n",
      "[ 18.  18.  18.  18.]\n",
      "Matrix execution time:  0.02223682403564453\n"
     ]
    }
   ],
   "source": [
    "import numpy as np\n",
    "\n",
    "start_time = time.time()\n",
    " \n",
    "x = np.array([3, 4, 5, 6])\n",
    "w = np.ones((4, 4))\n",
    "o = x.dot(w)\n",
    "\n",
    "stop_time = time.time()\n",
    "\n",
    "sw_exec_time = stop_time - start_time\n",
    "\n",
    "print(x)\n",
    "print(w)\n",
    "print(o)\n",
    "\n",
    "print('Matrix execution time: ',sw_exec_time)"
   ]
  },
  {
   "cell_type": "code",
   "execution_count": null,
   "metadata": {},
   "outputs": [],
   "source": []
  }
 ],
 "metadata": {
  "kernelspec": {
   "display_name": "Python 3",
   "language": "python",
   "name": "python3"
  },
  "language_info": {
   "codemirror_mode": {
    "name": "ipython",
    "version": 3
   },
   "file_extension": ".py",
   "mimetype": "text/x-python",
   "name": "python",
   "nbconvert_exporter": "python",
   "pygments_lexer": "ipython3",
   "version": "3.7.4"
  }
 },
 "nbformat": 4,
 "nbformat_minor": 4
}
