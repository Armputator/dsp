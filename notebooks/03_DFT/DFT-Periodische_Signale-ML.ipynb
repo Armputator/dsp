{
 "cells": [
  {
   "cell_type": "markdown",
   "metadata": {},
   "source": [
    "# DFT periodischer Signale mit Python\n",
    "In diesem Notebook zur gleichnamigen Übungsaufgabe wird gezeigt, wie man das Spektrum periodischer Signale berechnet. Als Beispiel nehmen wir\n",
    "\n",
    "$$y(t) = 1 + 0,5\\sin(2 \\pi t \\cdot \\text{1 kHz}) + 0,2\\cos(2 \\pi t \\cdot \\text{1,1 kHz})$$"
   ]
  },
  {
   "cell_type": "code",
   "execution_count": 2,
   "metadata": {},
   "outputs": [],
   "source": [
    "import os, sys\n",
    "module_path = os.path.abspath(os.path.join('..')) # append directory one level up to import path\n",
    "if module_path not in sys.path:  # ... if it hasn't been appended already\n",
    "    sys.path.append(module_path)\n",
    "    \n",
    "%matplotlib inline\n",
    "import matplotlib.pyplot as plt\n",
    "import dsp_fpga_lib as dsp # import and set plot properties\n",
    "import numpy as np\n",
    "from numpy.fft import fft, ifft, fftshift, ifftshift, fftfreq\n",
    "\n",
    "np.set_printoptions(threshold=20) # for > 20 items, print with (1,2, ... , 99, 100)\n",
    "import scipy.signal as sig\n",
    "\n",
    "figsize = {\"figsize\": (12,5), \"facecolor\":\"w\"}"
   ]
  },
  {
   "cell_type": "markdown",
   "metadata": {},
   "source": [
    "Wir starten mit folgendem Python-Skript:"
   ]
  },
  {
   "cell_type": "code",
   "execution_count": null,
   "metadata": {},
   "outputs": [],
   "source": []
  },
  {
   "cell_type": "code",
   "execution_count": 1,
   "metadata": {},
   "outputs": [
    {
     "ename": "NameError",
     "evalue": "name 'np' is not defined",
     "output_type": "error",
     "traceback": [
      "\u001b[1;31m---------------------------------------------------------------------------\u001b[0m",
      "\u001b[1;31mNameError\u001b[0m                                 Traceback (most recent call last)",
      "\u001b[1;32m<ipython-input-1-742a8f2cb405>\u001b[0m in \u001b[0;36m<module>\u001b[1;34m\u001b[0m\n\u001b[0;32m      2\u001b[0m \u001b[0mN_FFT\u001b[0m \u001b[1;33m=\u001b[0m \u001b[1;36m510\u001b[0m\u001b[1;33m;\u001b[0m \u001b[0mt_max\u001b[0m \u001b[1;33m=\u001b[0m \u001b[0mN_FFT\u001b[0m \u001b[1;33m*\u001b[0m \u001b[0mT_S\u001b[0m\u001b[1;33m\u001b[0m\u001b[1;33m\u001b[0m\u001b[0m\n\u001b[0;32m      3\u001b[0m \u001b[0mf_a\u001b[0m \u001b[1;33m=\u001b[0m \u001b[1;36m1e3\u001b[0m\u001b[1;33m;\u001b[0m \u001b[0mf_b\u001b[0m \u001b[1;33m=\u001b[0m \u001b[1;36m1.1e3\u001b[0m\u001b[1;33m\u001b[0m\u001b[1;33m\u001b[0m\u001b[0m\n\u001b[1;32m----> 4\u001b[1;33m \u001b[0mt\u001b[0m \u001b[1;33m=\u001b[0m \u001b[0mnp\u001b[0m\u001b[1;33m.\u001b[0m\u001b[0marange\u001b[0m\u001b[1;33m(\u001b[0m\u001b[1;36m0\u001b[0m\u001b[1;33m,\u001b[0m \u001b[0mt_max\u001b[0m\u001b[1;33m,\u001b[0m \u001b[0mT_S\u001b[0m\u001b[1;33m)\u001b[0m\u001b[1;33m\u001b[0m\u001b[1;33m\u001b[0m\u001b[0m\n\u001b[0m\u001b[0;32m      5\u001b[0m \u001b[0my\u001b[0m \u001b[1;33m=\u001b[0m \u001b[1;36m1\u001b[0m \u001b[1;33m+\u001b[0m \u001b[1;36m0.5\u001b[0m\u001b[1;33m*\u001b[0m \u001b[0mnp\u001b[0m\u001b[1;33m.\u001b[0m\u001b[0msin\u001b[0m\u001b[1;33m(\u001b[0m\u001b[1;36m2\u001b[0m\u001b[1;33m*\u001b[0m\u001b[0mnp\u001b[0m\u001b[1;33m.\u001b[0m\u001b[0mpi\u001b[0m\u001b[1;33m*\u001b[0m\u001b[0mt\u001b[0m\u001b[1;33m*\u001b[0m\u001b[0mf_a\u001b[0m\u001b[1;33m)\u001b[0m \u001b[1;33m+\u001b[0m \u001b[1;36m0.2\u001b[0m \u001b[1;33m*\u001b[0m \u001b[0mnp\u001b[0m\u001b[1;33m.\u001b[0m\u001b[0mcos\u001b[0m\u001b[1;33m(\u001b[0m\u001b[1;36m2\u001b[0m\u001b[1;33m*\u001b[0m\u001b[0mnp\u001b[0m\u001b[1;33m.\u001b[0m\u001b[0mpi\u001b[0m\u001b[1;33m*\u001b[0m\u001b[0mt\u001b[0m\u001b[1;33m*\u001b[0m\u001b[0mf_b\u001b[0m\u001b[1;33m)\u001b[0m\u001b[1;33m\u001b[0m\u001b[1;33m\u001b[0m\u001b[0m\n\u001b[0;32m      6\u001b[0m \u001b[0mSy\u001b[0m \u001b[1;33m=\u001b[0m \u001b[0mnp\u001b[0m\u001b[1;33m.\u001b[0m\u001b[0mfft\u001b[0m\u001b[1;33m.\u001b[0m\u001b[0mfft\u001b[0m\u001b[1;33m(\u001b[0m\u001b[0my\u001b[0m\u001b[1;33m,\u001b[0m\u001b[0mN_FFT\u001b[0m\u001b[1;33m)\u001b[0m\u001b[1;33m/\u001b[0m\u001b[0mN_FFT\u001b[0m\u001b[1;33m\u001b[0m\u001b[1;33m\u001b[0m\u001b[0m\n",
      "\u001b[1;31mNameError\u001b[0m: name 'np' is not defined"
     ]
    }
   ],
   "source": [
    "f_S = 51e3; T_S = 1. / f_S\n",
    "N_FFT = 510; t_max = N_FFT * T_S\n",
    "f_a = 1e3; f_b = 1.1e3\n",
    "t = np.arange(0, t_max, T_S)\n",
    "y = 1 + 0.5* np.sin(2*np.pi*t*f_a) + 0.2 * np.cos(2*np.pi*t*f_b)\n",
    "Sy = np.fft.fft(y,N_FFT)/N_FFT\n",
    "f = np.arange(N_FFT)\n",
    "\n",
    "fig1, (ax1, ax2) = plt.subplots(nrows=2, ncols=1, **figsize)\n",
    "ax1.stem(t, y, use_line_collection=True)\n",
    "ax1.set_xlabel(r\"$t \\; \\rightarrow$\")\n",
    "ax1.set_ylabel(r\"$h(t) \\; \\rightarrow$\")\n",
    "ax2.stem(f, abs(Sy), use_line_collection=True) \n",
    "ax2.set_xlabel(r\"$k \\; \\rightarrow$\")\n",
    "ax2.set_ylabel(r\"$H[k] \\; \\rightarrow$\")\n",
    "\n",
    "fig1.set_tight_layout(True)"
   ]
  },
  {
   "cell_type": "markdown",
   "metadata": {},
   "source": [
    "### Aufgaben\n",
    "\n",
    "- Skalieren Sie die DFT so, dass die Frequenzachse stimmt und die berechneten Leistungen im Zeit- und Frequenzbereich identisch sind."
   ]
  },
  {
   "cell_type": "markdown",
   "metadata": {},
   "source": [
    "# Musterlösung"
   ]
  },
  {
   "cell_type": "code",
   "execution_count": 13,
   "metadata": {},
   "outputs": [
    {
     "name": "stdout",
     "output_type": "stream",
     "text": [
      "Zeitbereich: P =  1.1450000000000002\n",
      "Frequenzbereich: P =  (1.145+0j)\n"
     ]
    },
    {
     "data": {
      "image/png": "[encoded data removed]",
      "text/plain": [
       "<Figure size 864x360 with 2 Axes>"
      ]
     },
     "metadata": {},
     "output_type": "display_data"
    }
   ],
   "source": [
    "f_S = 1e4; T_S = 1/f_S\n",
    "N_FFT = 100; T_mess = N_FFT * T_S\n",
    "f_a = 1e3; f_b = 1.1e3; DC = 1.\n",
    "t = np.arange(0, T_mess, T_S) # start / stop / step\n",
    "y = DC + 0.5 * np.sin(2 * np.pi * t * f_a)\\\n",
    "      + 0.2 * np.cos(2 * np.pi * t * f_b)\n",
    "print ('Zeitbereich: P = ', np.sum(y**2) * T_S / T_mess)\n",
    "\n",
    "fig2, (ax21,ax22) = plt.subplots(2,1, **figsize) # two-sided spectrum\n",
    "Sy = fft(y, N_FFT) / N_FFT # calculate DFT at\n",
    "# f = [0 ... f_S[ = [0... f_S/2[, [-f_S/2 ... 0[\n",
    "f = fftfreq(N_FFT, T_S)\n",
    "# freq. points at [0... f_S/2[, [-f_S/2 ... 0[\n",
    "ax21.stem(f,abs(Sy), use_line_collection=True); ax21.grid(True)\n",
    "ax21.set_xlim(-2000, 2000); ax21.set_ylim(-0.1, 1.1)\n",
    "ax21.set_xlabel('f [Hz]->'); ax21.set_ylabel('Y(f) ->');\n",
    "ax21.set_title('Zweiseitige DFT')\n",
    "print ('Frequenzbereich: P = ', np.dot(Sy,Sy.conj().T))\n",
    "# one-sided spectrum [0 ... f_S/2[\n",
    "Sy = 2 * fft(y, N_FFT) / N_FFT # ... needs x2\n",
    "Sy[0] = Sy[0] / 2. # adjust DC scaling\n",
    "f = np.linspace(0, f_S, N_FFT) # f = 0 ... f_S[\n",
    "ax22.stem(f[0:N_FFT//2],abs(Sy[0:N_FFT//2]), use_line_collection=True) #.. f_S/2[\n",
    "ax22.set_xlabel('f [Hz]->'); ax22.set_ylabel('Y(f) ->')\n",
    "ax22.axis([-100,2000,-0.1, 1.1]); ax22.grid(True)\n",
    "ax22.set_title('Einseitige DFT')\n",
    "fig2.set_tight_layout(True); "
   ]
  },
  {
   "cell_type": "markdown",
   "metadata": {},
   "source": [
    "### Fragen und Experimente\n",
    "- Analysieren Sie den Simulationsfile xxx mit einer DFT, versuchen Sie möglichst gut die Frequenz zu treffen\n",
    "\n",
    "- Analysieren Sie den File mit Wähltönen, welche Nummer wurde gewählt?"
   ]
  },
  {
   "cell_type": "markdown",
   "metadata": {},
   "source": [
    "***\n",
    "### Copyright\n",
    "\n",
    "(c) 2016 - 2020 Prof. Dr. Christian Münker \n",
    "\n",
    "This jupyter notebook is part of a collection of notebooks on various topics of Digital Signal Processing. The latest version can be found at https://github.com/chipmuenk/dsp_fpga \"Digitale Signalverarbeitung auf FPGAs\"\n",
    "\n",
    "This notebook is provided as [Open Educational Resource](https://en.wikipedia.org/wiki/Open_educational_resources), feel free to use it for your own purposes. The text is licensed under [Creative Commons Attribution 4.0](https://creativecommons.org/licenses/by/4.0/), the code of the IPython examples under the [MIT license](https://opensource.org/licenses/MIT). Please attribute the work as follows: *Christian Münker, Digital Signal Processing auf FPGAs - Vorlesungsunterlagen mit Simulationsbeispielen, 2020*."
   ]
  },
  {
   "cell_type": "code",
   "execution_count": null,
   "metadata": {},
   "outputs": [],
   "source": []
  }
 ],
 "metadata": {
  "kernelspec": {
   "display_name": "Python 3",
   "language": "python",
   "name": "python3"
  },
  "language_info": {
   "codemirror_mode": {
    "name": "ipython",
    "version": 3
   },
   "file_extension": ".py",
   "mimetype": "text/x-python",
   "name": "python",
   "nbconvert_exporter": "python",
   "pygments_lexer": "ipython3",
   "version": "3.7.4"
  }
 },
 "nbformat": 4,
 "nbformat_minor": 4
}
