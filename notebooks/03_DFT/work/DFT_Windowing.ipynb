{
 "cells": [
  {
   "cell_type": "markdown",
   "metadata": {},
   "source": [
    "# DFT mit Fensterung \n"
   ]
  },
  {
   "cell_type": "code",
   "execution_count": 1,
   "metadata": {
    "collapsed": false
   },
   "outputs": [
    {
     "name": "stdout",
     "output_type": "stream",
     "text": [
      "Using matplotlib backend: TkAgg\n",
      "Populating the interactive namespace from numpy and matplotlib\n"
     ]
    }
   ],
   "source": [
    "%pylab \n",
    "# Importiert alle numpy and matplotlib Funktionen in den gemeinsamen Namespace\n",
    "from numpy.fft import fft, fftshift, fftfreq\n",
    "import scipy.signal as sig\n",
    "import scipy.interpolate as intp\n"
   ]
  },
  {
   "cell_type": "markdown",
   "metadata": {},
   "source": [
    "Zunächst werden Abtastfrequenz und die Zahl der FFT-Punkte festgelegt. Daraus ergibt sich automatisch die Länge des Messfensters $T_{mess} = T_S N_{FFT}$ und die Frequenzauflösung $\\Delta f = f_S / N_{FFT} = 1 / T_{mess}$:"
   ]
  },
  {
   "cell_type": "code",
   "execution_count": 2,
   "metadata": {
    "collapsed": false
   },
   "outputs": [
    {
     "ename": "SyntaxError",
     "evalue": "Missing parentheses in call to 'print' (<ipython-input-2-ec21fb519375>, line 7)",
     "output_type": "error",
     "traceback": [
      "\u001b[0;36m  File \u001b[0;32m\"<ipython-input-2-ec21fb519375>\"\u001b[0;36m, line \u001b[0;32m7\u001b[0m\n\u001b[0;31m    print 'T_mess =', T_mess, 's'\u001b[0m\n\u001b[0m                   ^\u001b[0m\n\u001b[0;31mSyntaxError\u001b[0m\u001b[0;31m:\u001b[0m Missing parentheses in call to 'print'\n"
     ]
    }
   ],
   "source": [
    "f_S = 1e4 # sample frequency \n",
    "T_S = 1./f_S \n",
    "N_FFT = 512 \n",
    "T_mess = T_S * N_FFT\n",
    "Delta_f = f_S / N_FFT\n",
    "\n",
    "print 'T_mess =', T_mess, 's'\n",
    "print 'Delta f =', Delta_f, 'Hz'"
   ]
  },
  {
   "cell_type": "markdown",
   "metadata": {},
   "source": [
    "Um die Frequenz- und Amplitudenauflösung verschiedener Szenarien zu vergleichen, erzeugen wir uns ein Testsignal mit zwei Tönen unterschiedlicher Frequenz $f_a, f_b$ und Amplitude $A_a, A_b$ und überlagertem weißem gaußschem Rauschen (AWGN) mit der Standardabweichung $\\sigma$:"
   ]
  },
  {
   "cell_type": "code",
   "execution_count": null,
   "metadata": {
    "collapsed": false
   },
   "outputs": [],
   "source": [
    "A_a = 2; f_a = Delta_f * 50 # Ton a, genau auf Auswertefrequenz\n",
    "A_b = 1; f_b = Delta_f * 52.5  # Ton b, zwischen Auswertefrequenzen\n",
    "DC = 1.\n",
    "sigma = 0.1 # standard deviation of AWGN\n",
    "fmin = 0.00  # untere Frequenz und\n",
    "fmax = 120.0 # obere Frequenz für Spektrumsplots\n",
    "t = linspace(0, T_mess*1.5, N_FFT) # Start / Stop / Anzahl\n",
    "y = DC + A_a * cos(2 * pi * t * f_a) + A_b * sin(2 * pi * t * f_b) + sigma * np.random.randn(N_FFT) # y[n]\n",
    "print 'f_a = ', f_a, 'Hz'\n",
    "print 'f_b = ', f_b, 'Hz'\n",
    "plot(t,y)"
   ]
  },
  {
   "cell_type": "markdown",
   "metadata": {},
   "source": [
    "Zur Spektralanalyse wird die DFT der Zeitfunktion berechnet. In Python (und den meisten anderen Programmiersprachen für Scientific Computing) wird die DFT über den kompletten Bereich $0 \\ldots f_S$ berechnet. Bei reellwertigen Zeitsignalen sind aber die Teilspektren zwischen $0 \\ldots f_S /2 $ und zwischen $f_S/2 \\ldots f_S$ symmetrisch zueinander, man beschränkt sich daher in der Darstellung meist auf den Bereich $0 \\ldots f_S /2 $. Damit trotzdem die Gesamtleistung auch im Frequenzbereich korrekt dargestellt wird (Parcevalsche Beziehung), wird das Spektrum (außer bei $f = 0$) mit dem Faktor 2 skaliert. "
   ]
  },
  {
   "cell_type": "code",
   "execution_count": null,
   "metadata": {
    "collapsed": false
   },
   "outputs": [],
   "source": [
    "# calculate DFT at f = [0 ... f_S[ = [0... f_S/2[, [-f_S/2 ... 0[ :\n",
    "Sy = 2 * fft(y, N_FFT) / N_FFT # skaliere für einseitiges Spektrum\n",
    "Sy[0] = Sy[0] / 2 # korrigiere DC-Wert\n",
    "f = fftfreq(N_FFT, T_S) \n",
    "# freq. points at [0... f_S/2[, [-f_S/2 ..\n",
    "figure()\n",
    "subplot(2,1,1); stem(f, abs(Sy)) \n",
    "xlim(fmin, fmax); ylim(-0.1, max(A_a, A_b))\n",
    "subplot(2,1,2); stem(f, 20*log10(abs(Sy)), bottom = -80) \n",
    "xlim(fmin, fmax); ylim(-80, max(20*log10(A_a), 20*log10(A_b)))\n",
    "xlabel('f ->'); ylabel('|S(f)| / dB ->')"
   ]
  },
  {
   "cell_type": "markdown",
   "metadata": {},
   "source": [
    "Wir berechnen die DFT aus $N_{FFT}$ Datenpunkten und erhalten $N_FFT$ Frequenzpunkte. #Wenn# wir uns ein zeitdiskretes, unendlich ausgedehntes Signal $y[n]$ vorstellen, bei dem sich diese $N_{FFT}$ Datenpunkte periodisch wiederholen, liefert die ##DTFT## exakt das gleiche Ergebnis wie die DFT. Das entspricht der Multiplikation des Zeitsignals $y(t)$ mit einem Rechteckfenster der Länge $T_{mess}$ oder der Au"
   ]
  },
  {
   "cell_type": "code",
   "execution_count": null,
   "metadata": {
    "collapsed": false
   },
   "outputs": [],
   "source": [
    "subplot(3,1,2)\n",
    "w = sig.windows.hamming(len(t))\n",
    "X = fft(y * w, N_FFT) / N_FFT\n",
    "stem(f, 2 * abs(X))\n",
    "xlim(fmin, fmax); ylim(-0.1, max(A_a, A_b))\n",
    "w = sig.windows.hann(len(t))\n",
    "X = fft(y*w,N_FFT)/N_FFT\n",
    "subplot(3,1,3)\n",
    "stem(f, 2 * abs(X))\n",
    "xlim(fmin, fmax); ylim(-0.1, max(A_a, A_b))\n"
   ]
  },
  {
   "cell_type": "code",
   "execution_count": null,
   "metadata": {
    "collapsed": false
   },
   "outputs": [],
   "source": []
  }
 ],
 "metadata": {
  "anaconda-cloud": {},
  "kernelspec": {
   "display_name": "Python [default]",
   "language": "python",
   "name": "python3"
  },
  "language_info": {
   "codemirror_mode": {
    "name": "ipython",
    "version": 3
   },
   "file_extension": ".py",
   "mimetype": "text/x-python",
   "name": "python",
   "nbconvert_exporter": "python",
   "pygments_lexer": "ipython3",
   "version": "3.5.2"
  }
 },
 "nbformat": 4,
 "nbformat_minor": 0
}
