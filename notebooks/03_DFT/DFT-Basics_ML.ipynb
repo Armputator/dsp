{
 "cells": [
  {
   "cell_type": "markdown",
   "metadata": {},
   "source": [
    "# Berechnung und Darstellung der DFT in Python\n",
    "\n",
    "Musterlösung zu \"Fourierreihe und kohärente DFT\""
   ]
  },
  {
   "cell_type": "code",
   "execution_count": 2,
   "metadata": {},
   "outputs": [],
   "source": [
    "import numpy as np\n",
    "from numpy.fft import fft, ifft, fftshift, ifftshift, fftfreq\n",
    "\n",
    "%matplotlib inline\n",
    "import matplotlib.pyplot as plt\n",
    "\n",
    "N_FFT = 3; \n",
    "f_S = 1e3; T_mess = 1. / f_S\n",
    "t = np.linspace(0,T_mess,N_FFT)\n",
    "xn = 1 + 1 * np.cos(2*np.pi*t*f_S)\n",
    "# calculate DFT and scale it with 1/N:\n",
    "Xn = fft(xn)/len(xn) \n",
    "Xn = fftshift(Xn) # center DFT around f = 0\n",
    " # create f-Vector, centered around f = 0:\n",
    "f = fftshift(fftfreq(len(xn),d=1.0/len(xn)))\n",
    "# set phase = 0 for very small magnitudes:\n",
    "for i in range(len(xn)): \n",
    "    if abs(Xn[i]/max(abs(Xn))) < 1.0e-10:\n",
    "        Xn[i] = 0"
   ]
  },
  {
   "cell_type": "code",
   "execution_count": 3,
   "metadata": {},
   "outputs": [
    {
     "data": {
      "image/png": "[encoded data removed]",
      "text/plain": [
       "<Figure size 432x288 with 2 Axes>"
      ]
     },
     "metadata": {
      "needs_background": "light"
     },
     "output_type": "display_data"
    }
   ],
   "source": [
    "fig, (ax1, ax2) = plt.subplots(2,1)\n",
    "ax1.stem(f,abs(Xn), use_line_collection=True); ax1.grid(True)\n",
    "ax1.set_ylabel(r\"$|H[k]| \\; \\rightarrow$\")\n",
    "ax2.stem(f,np.angle(Xn)/np.pi, use_line_collection=True); ax2.grid(True)\n",
    "ax2.set_xlabel(r\"$k\\; \\rightarrow$\")\n",
    "ax2.set_ylabel(r\"$\\angle H[k]/\\pi \\; \\rightarrow$\")\n",
    "fig.set_tight_layout(True);"
   ]
  },
  {
   "cell_type": "markdown",
   "metadata": {},
   "source": [
    "### Experimente und Fragen\n",
    "\n",
    "- Experimentieren Sie mit unterschiedlichen Frequenzen und DFT-Längen."
   ]
  },
  {
   "cell_type": "markdown",
   "metadata": {},
   "source": [
    "***\n",
    "### Copyright\n",
    "\n",
    "(c) 2016 - 2018 Prof. Dr. Christian Münker \n",
    "\n",
    "This jupyter notebook is part of a collection of notebooks on various topics of Digital Signal Processing. The latest version can be found at https://github.com/chipmuenk/dsp_fpga \"Digitale Signalverarbeitung auf FPGAs\"\n",
    "\n",
    "This notebook is provided as [Open Educational Resource](https://en.wikipedia.org/wiki/Open_educational_resources). Feel free to use the notebook for your own purposes. The text is licensed under [Creative Commons Attribution 4.0](https://creativecommons.org/licenses/by/4.0/), the code of the IPython examples under the [MIT license](https://opensource.org/licenses/MIT). Please attribute the work as follows: *Christian Münker, Digital Signal Processing auf FPGAs - Vorlesungsunterlagen mit Simulationsbeispielen, 2018*."
   ]
  }
 ],
 "metadata": {
  "kernelspec": {
   "display_name": "Python 3",
   "language": "python",
   "name": "python3"
  },
  "language_info": {
   "codemirror_mode": {
    "name": "ipython",
    "version": 3
   },
   "file_extension": ".py",
   "mimetype": "text/x-python",
   "name": "python",
   "nbconvert_exporter": "python",
   "pygments_lexer": "ipython3",
   "version": "3.7.4"
  }
 },
 "nbformat": 4,
 "nbformat_minor": 4
}
