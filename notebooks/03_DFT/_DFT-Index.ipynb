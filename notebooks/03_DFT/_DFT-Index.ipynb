{
 "cells": [
  {
   "cell_type": "markdown",
   "metadata": {},
   "source": [
    "<a href=\"../02_LTF/_LTF-Index.ipynb\">&larr; LTF </a>&loz;\n",
    "<a href=\"../../README.md\"> &uarr; TOC &uarr; </a>&loz;\n",
    "<a href=\"../04_WIN/_WIN-Index.ipynb\">WIN &rarr;</a>\n",
    "<img src='../_img/pyfda_icon2.svg' align='right' width='10%'></img>\n",
    "# DFT - Discrete Fourier Transform\n",
    "\n",
    "This chapter introduces discrete Fourier transform (DFT) with the following notebooks:"
   ]
  },
  {
   "cell_type": "markdown",
   "metadata": {},
   "source": [
    "* [DFT-Skalierung:](DFT-Skalierung.ipynb) Notebook and solution for the excercise \"Filterung des Sensorsignals im Frequenzbereich\"\n",
    "* [DFT-Basics_ML:](DFT-Basics_ML.ipynb)  Solution for the excercise \"Berechnung und Darstellung der DFT in Python\"\n",
    "* [DFT-Periodische_Signale:](DFT-Periodische_Signale.ipynb) Calculate the spectrum of periodic signals (exercise \"DFT periodischer Signale mit Python\")\n",
    "* [DFT-Periodische_Signale-ML:](DFT-Periodische_Signale-ML.ipynb) Solution to exercise \"DFT periodischer Signale mit Python\"\n",
    "* [DFT-MA:](DFT-MA.ipynb) Calculate the frequency response of a moving average filter (exercise \"Frequenzgang Moving Average (MA) Filters\")\n",
    "* [DFT-MA-ML:](DFT-MA-ML.ipynb) Solution for the exercise \"Frequenzgang Moving Average (MA) Filters\"\n"
   ]
  },
  {
   "cell_type": "markdown",
   "metadata": {},
   "source": [
    "***\n",
    "### Copyright\n",
    "\n",
    "(c) 2016 - 2020 Prof. Dr. Christian Münker \n",
    "\n",
    "This jupyter notebook is part of a collection of notebooks on various topics of Digital Signal Processing. The latest version can be found at https://github.com/chipmuenk/dsp.\n",
    "\n",
    "This notebook is provided as [Open Educational Resource](https://en.wikipedia.org/wiki/Open_educational_resources). Feel free to use it for your own purposes. The text is licensed under [Creative Commons Attribution 4.0](https://creativecommons.org/licenses/by/4.0/), the code of the IPython examples under the [MIT license](https://opensource.org/licenses/MIT). Please attribute the work as follows: *Christian Münker, Digital Signal Processing - Vorlesungsunterlagen mit Simulationsbeispielen, 2020*."
   ]
  },
  {
   "cell_type": "code",
   "execution_count": null,
   "metadata": {},
   "outputs": [],
   "source": []
  }
 ],
 "metadata": {
  "anaconda-cloud": {},
  "kernelspec": {
   "display_name": "Python 3",
   "language": "python",
   "name": "python3"
  },
  "language_info": {
   "codemirror_mode": {
    "name": "ipython",
    "version": 3
   },
   "file_extension": ".py",
   "mimetype": "text/x-python",
   "name": "python",
   "nbconvert_exporter": "python",
   "pygments_lexer": "ipython3",
   "version": "3.7.4"
  }
 },
 "nbformat": 4,
 "nbformat_minor": 4
}
