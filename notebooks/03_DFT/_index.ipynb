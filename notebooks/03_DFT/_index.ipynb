{
 "cells": [
  {
   "cell_type": "markdown",
   "source": [
    "<a href=\"../02_LTF/_index.ipynb\">&larr; LTF </a>&loz;\r\n",
    "<a href=\"../../README.md\"> &uarr; TOC &uarr; </a>&loz;\r\n",
    "<a href=\"../04_WIN/_index.ipynb\">WIN &rarr;</a>\r\n",
    "<img src='../_img/icon.svg' align='right' width='10%'></img>\r\n",
    "# DFT - Discrete Fourier Transform\r\n",
    "\r\n",
    "In diesem Kapitel geht es darum, mit Hilfe der DFT die Spektren von periodischen Signalen darzustellen. Außerdem soll der Frequenzgang von nicht-rekursiven Filtern geplottet werden. Dafür müssen die Signale im Frequenz- und Amplitudenbereich korrekt skaliert werden:"
   ],
   "metadata": {}
  },
  {
   "cell_type": "markdown",
   "source": [
    "* [DFT-Skalierung:](DFT-Skalierung.ipynb) Notebook und Musterlösung zur Übung \"Filterung des Sensorsignals im Frequenzbereich\"\r\n",
    "* [DFT-Basics_ML:](DFT-Basics_ML.ipynb)  Musterlösung zur Übung \"Berechnung und Darstellung der DFT in Python\"\r\n",
    "* [DFT-Periodische_Signale:](DFT-Periodische_Signale.ipynb) Notebook zur Übung \"DFT periodischer Signale mit Python\"\r\n",
    "* [DFT-Periodische_Signale-ML:](DFT-Periodische_Signale-ML.ipynb) Musterlösung zur Übung \"DFT periodischer Signale mit Python\"\r\n",
    "* [DFT-MA:](DFT-MA.ipynb) Notebook zur Übung \"Frequenzgang Moving Average (MA) Filters\"\r\n",
    "* [DFT-MA-ML:](DFT-MA-ML.ipynb) Musterlösung zur Übung \"Frequenzgang Moving Average (MA) Filters\"\r\n"
   ],
   "metadata": {}
  },
  {
   "cell_type": "markdown",
   "source": [
    "***\n",
    "### Copyright\n",
    "\n",
    "(c) 2016 - 2021 Prof. Dr. Christian Münker \n",
    "\n",
    "This jupyter notebook is part of a collection of notebooks on various topics of Digital Signal Processing. The latest version can be found at https://github.com/chipmuenk/dsp.\n",
    "\n",
    "This notebook is provided as [Open Educational Resource](https://en.wikipedia.org/wiki/Open_educational_resources). Feel free to use it for your own purposes. The text is licensed under [Creative Commons Attribution 4.0](https://creativecommons.org/licenses/by/4.0/), the code of the IPython examples under the [MIT license](https://opensource.org/licenses/MIT). Please attribute the work as follows: *Christian Münker, Digital Signal Processing - Vorlesungsunterlagen mit Simulationsbeispielen, 2020*."
   ],
   "metadata": {}
  },
  {
   "cell_type": "code",
   "execution_count": null,
   "source": [],
   "outputs": [],
   "metadata": {}
  }
 ],
 "metadata": {
  "anaconda-cloud": {},
  "kernelspec": {
   "display_name": "Python 3",
   "language": "python",
   "name": "python3"
  },
  "language_info": {
   "codemirror_mode": {
    "name": "ipython",
    "version": 3
   },
   "file_extension": ".py",
   "mimetype": "text/x-python",
   "name": "python",
   "nbconvert_exporter": "python",
   "pygments_lexer": "ipython3",
   "version": "3.7.4"
  }
 },
 "nbformat": 4,
 "nbformat_minor": 4
}