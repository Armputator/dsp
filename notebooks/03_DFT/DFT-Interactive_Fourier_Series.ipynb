{
 "cells": [
  {
   "cell_type": "markdown",
   "metadata": {},
   "source": [
    "# Fourier-Reihe einer Rechteckschwingung #\n",
    "Dieses Notebook demonstriert den grundsätzlichen Aufbau von Jupyter (IPyton) Notebooks mit interaktiven Widgets am Beispiel der Fourierreihe einer Rechteckschwingung. Das Notebook besteht aus sog. Zellen, die Text (formatiert als Markdown oder Latex) oder ausführbaren Python-Code enthalten.\n",
    "\n",
    "#### Hinweise: ####\n",
    "\n",
    "- Editieren mit Doppelklick in eine Zelle\n",
    "\n",
    "- `<RETURN>` fügt einen Zeilenumbruch ein.\n",
    "\n",
    "- `<SHIFT>-<RETURN>` in einer einzelnen Zelle beendet den Editiermodus und stellt die Zelle dar (Text-Zelle) bzw. führt sie aus (Code-Zelle) \n",
    "\n",
    "- Mit `Cell -> Run All` werden alle Zellen nacheinander initialisiert bzw. ausgeführt.\n",
    "\n",
    "Kurzeinführung in Jupyter: [Einführung Fauchereau](http://nbviewer.jupyter.org/github/nicolasfauchereau/Python_NIWA_Wellington/blob/master/notebooks/IPython_notebook.html)"
   ]
  },
  {
   "cell_type": "code",
   "execution_count": 1,
   "metadata": {},
   "outputs": [],
   "source": [
    "# Die hier importierten Module und die hier definierten Einstellungen können in den folgenden Zellen verwendet werden\n",
    "#%matplotlib inline\n",
    "import matplotlib.pyplot as plt\n",
    "from numpy import pi,sin,linspace,zeros,arange,cos\n",
    "from ipywidgets import interact\n",
    "\n",
    "#plt.style.use('seaborn-whitegrid')\n",
    "plt.style.use('classic')#('seaborn-dark')\n",
    "plt.rcParams['figure.figsize'] = (10.0, 4.0) # Plotgröße in Inch\n",
    "#print(plt.style.available) # alle Matplotlib styles\n",
    "\n",
    "from IPython.display import HTML, YouTubeVideo"
   ]
  },
  {
   "cell_type": "markdown",
   "metadata": {},
   "source": [
    "## Fourier\n",
    "\n",
    "Die Fourierreihe für eine symmetrische Rechteckschwingung mit Amplitude 1 und Periode $T$ ist\n",
    "\n",
    "$$s(t) = \\frac{4}{\\pi} \\sum^\\infty_{k=1} \\frac{\\sin \\left((2k -1)2\\pi t / T\\right)}{2k-1} $$\n",
    "\n",
    "Im Folgenden wird die Reihe mit einer endlichen Anzahl $N$ Termen dargestellt."
   ]
  },
  {
   "cell_type": "code",
   "execution_count": null,
   "metadata": {},
   "outputs": [],
   "source": [
    "def square_wave(N=3, T=5, n_points=200):\n",
    "    \"\"\"Berechne und plotte die Fourierreihe mit N Termen für eine Rechteckschwingung mit Periode T und Amplitude 1.\"\"\"\n",
    "    t = linspace(-4*pi, 4*pi, n_points)\n",
    "    s = zeros(n_points)\n",
    "    for k in arange(1, N+1, 2): # start, stop (exklusive letztes Element), step\n",
    "        s = s + (1./k * sin(2*pi*k*t/T))\n",
    "    s = s * 4.0 / pi\n",
    "    plt.plot(t, s)"
   ]
  },
  {
   "cell_type": "code",
   "execution_count": null,
   "metadata": {
    "scrolled": true
   },
   "outputs": [],
   "source": [
    "square_wave(N=5,T=10)"
   ]
  },
  {
   "cell_type": "markdown",
   "metadata": {},
   "source": [
    "### Einfache interaktive Widgets ###\n",
    "`interact()` generiert für jeden Parameter der übergebenen Funktion automatisch einen Slider. Wertebereich und Schrittweite können optional angegeben werden. Jedesmal wenn ein Slider geändert wird, wird die Funktion `square_wave()` mit dem aktualisierten Parameter berechnet. \n",
    "\n",
    "Das Semikolon am Ende der Anweisung unterdrückt (wie bei Matlab) Ausgaben der Funktion (nur in Notebooks, nicht bei Standard-Python).\n",
    "\n",
    "Mehr Informationen zu `interact()` unter\n",
    "http://ipywidgets.readthedocs.io/en/latest/examples/Using%20Interact.html\n",
    "\n",
    "Ggf. muss `jupyter nbextension enable --py widgetsnbextension` vom Terminal aus aktiviert werden (nur für Betreuen, sudo Berechtigung erforderlich, siehe [Issue 541](https://github.com/jupyter-widgets/ipywidgets/issues/541))."
   ]
  },
  {
   "cell_type": "code",
   "execution_count": null,
   "metadata": {},
   "outputs": [],
   "source": [
    "interact(square_wave, N=(1,50,2), T=(1., 50), n_points=(1, 500));\n",
    "# plt.show()"
   ]
  },
  {
   "cell_type": "markdown",
   "metadata": {},
   "source": [
    "**Copyright**\n",
    "\n",
    "This notebook is provided as [Open Educational Resource](https://en.wikipedia.org/wiki/Open_educational_resources). Feel free to use the notebook for your own purposes. The text is licensed under [Creative Commons Attribution 4.0](https://creativecommons.org/licenses/by/4.0/), the code of the IPython examples under the [MIT license](https://opensource.org/licenses/MIT). Please attribute the work as follows: *Christian Münker, Digital Signal Processing auf FPGAs - Vorlesungsunterlagen mit Simulationsbeispielen, 2017*.\n",
    "\n",
    "The latest version of this notebook can be found at\n",
    "\n",
    "[https://github.com/chipmuenk/dsp_fpga/blob/master/notebooks//03_DFT/Fourier Series.ipynb](https://github.com/chipmuenk/dsp_fpga/blob/master/notebooks//03_DFT/Fourier Series.ipynb)"
   ]
  },
  {
   "cell_type": "code",
   "execution_count": null,
   "metadata": {},
   "outputs": [],
   "source": []
  }
 ],
 "metadata": {
  "anaconda-cloud": {},
  "kernelspec": {
   "display_name": "Python 3",
   "language": "python",
   "name": "python3"
  },
  "language_info": {
   "codemirror_mode": {
    "name": "ipython",
    "version": 3
   },
   "file_extension": ".py",
   "mimetype": "text/x-python",
   "name": "python",
   "nbconvert_exporter": "python",
   "pygments_lexer": "ipython3",
   "version": "3.6.4"
  },
  "widgets": {
   "state": {
    "a61be2e38db346d7bab80774050a9894": {
     "views": [
      {
       "cell_index": 9
      }
     ]
    }
   },
   "version": "1.2.0"
  }
 },
 "nbformat": 4,
 "nbformat_minor": 1
}
