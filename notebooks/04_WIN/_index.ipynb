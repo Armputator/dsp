{
 "cells": [
  {
   "cell_type": "markdown",
   "metadata": {},
   "source": [
    "<a href=\"../03_DFT/_DFT-Index.ipynb\">&larr; DFT </a>&loz;\n",
    "<a href=\"../../README.md\"> &uarr; TOC &uarr; </a>&loz;\n",
    "<a href=\"../05_SPS/_index.ipynb\">SPS &rarr;</a>\n",
    "<img src='../_img/pyfda_icon2.svg' align='right' width='10%'></img>\n",
    "# \"WIN - Windowing\n",
    "In diesem Kapitel wird mit den folgenden Notebooks gezeigt, welchen Einfluss ein \"weicheres\" Ausblenden des Zeitsignals mit Hilfe von Fensterfunktionen auf Frequenz- und Amplitudenauflösung haben."
   ]
  },
  {
   "cell_type": "markdown",
   "metadata": {},
   "source": [
    "* [WIN-Basics:](WIN-Basics.ipynb) Einfluss von \"harter\" (rechteckförmiger) Fensterung auf das Spektrum\n",
    "* [WIN-Basics_2:](WIN-Basics_2.ipynb) Beispiele \"weicher\" Fensterung"
   ]
  },
  {
   "cell_type": "markdown",
   "metadata": {},
   "source": [
    "***\n",
    "### Copyright\n",
    "\n",
    "(c) 2016 - 2021 Prof. Dr. Christian Münker \n",
    "\n",
    "This jupyter notebook is part of a collection of notebooks on various topics of Digital Signal Processing. The latest version can be found at https://github.com/chipmuenk/dsp.\n",
    "\n",
    "This notebook is provided as [Open Educational Resource](https://en.wikipedia.org/wiki/Open_educational_resources). Feel free to use it for your own purposes. The text is licensed under [Creative Commons Attribution 4.0](https://creativecommons.org/licenses/by/4.0/), the code of the IPython examples under the [MIT license](https://opensource.org/licenses/MIT). Please attribute the work as follows: *Christian Münker, Digital Signal Processing - Vorlesungsunterlagen mit Simulationsbeispielen, 2021*."
   ]
  },
  {
   "cell_type": "code",
   "execution_count": null,
   "metadata": {},
   "outputs": [],
   "source": []
  }
 ],
 "metadata": {
  "anaconda-cloud": {},
  "kernelspec": {
   "display_name": "Python 3",
   "language": "python",
   "name": "python3"
  },
  "language_info": {
   "codemirror_mode": {
    "name": "ipython",
    "version": 3
   },
   "file_extension": ".py",
   "mimetype": "text/x-python",
   "name": "python",
   "nbconvert_exporter": "python",
   "pygments_lexer": "ipython3",
   "version": "3.8.2"
  }
 },
 "nbformat": 4,
 "nbformat_minor": 4
}
