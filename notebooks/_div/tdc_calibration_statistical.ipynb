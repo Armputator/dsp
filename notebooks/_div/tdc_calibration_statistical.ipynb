{
 "cells": [
  {
   "cell_type": "markdown",
   "metadata": {
    "nbpresent": {
     "id": "27d326b9-b46e-4a41-996d-695e31b32d77"
    },
    "slideshow": {
     "slide_type": "slide"
    }
   },
   "source": [
    "# Statistische Kalibration Time-To-Digital Converter\n",
    "\n",
    "## Verteilungen\n",
    "\n",
    "----\n",
    "\n",
    "#### Prof. Christian Münker, 14. Juni 2017"
   ]
  },
  {
   "cell_type": "code",
   "execution_count": 2,
   "metadata": {
    "collapsed": true
   },
   "outputs": [],
   "source": [
    "from __future__ import print_function, division\n",
    "#show plot in notebook instead of separate windows:\n",
    "%matplotlib inline\n",
    "import random\n",
    "import numpy as np\n",
    "import matplotlib.pyplot as plt\n",
    "from math import sqrt, pi\n",
    "import scipy\n",
    "import scipy.stats\n",
    "\n",
    "#plt.style.use('seaborn-whitegrid')\n",
    "plt.style.use('classic')#('seaborn-dark')\n",
    "plt.rcParams['figure.figsize'] = (12.0, 5.0) # Plotgröße in Inch\n",
    "#print(plt.style.available) # alle Matplotlib styles"
   ]
  },
  {
   "cell_type": "code",
   "execution_count": 3,
   "metadata": {
    "collapsed": false,
    "nbpresent": {
     "id": "f75ffd08-0e9e-4b03-a051-432ea6382068"
    },
    "slideshow": {
     "slide_type": "skip"
    }
   },
   "outputs": [],
   "source": [
    "# globale Variablen\n",
    "N = 140      # Anzahl der Verzögerungselemente (Bins)\n",
    "L = 2**14    # Anzahl der Messungen (= Versuche)\n",
    "T_max = 2e-9 # maximale Messdauer einer Verzögerungskette\n",
    "\n",
    "T_bin = T_max / N # durchschnittliche Verzögerung eines Elements\n",
    "p_i = 1./N   # mittlere Wahrscheinlichkeit das Bin i zu treffen\n"
   ]
  },
  {
   "cell_type": "markdown",
   "metadata": {},
   "source": [
    "# Statistische Kalibration\n",
    "Nicht immer ist es möglich, Testsignale mit genau bestimmten vorhersagbaren (deterministischen) Eigenschaften zu generieren. Manchmal kann man statt dessen zufällig verteilte Testsignale verwenden wenn deren statistische Momente bekannt sind und man die Zielgröße aus Häufigkeiten herauslesen kann.\n"
   ]
  },
  {
   "cell_type": "markdown",
   "metadata": {
    "nbpresent": {
     "id": "44d84a17-2f38-4737-a764-937c71dfbdf6"
    }
   },
   "source": [
    "\n",
    "\n",
    "## Stichproben aus Zufallsverteilungen (Sampling from Distributions) #\n",
    "----\n",
    "\n",
    "Mit unendlich vielen Daten würde man theoretisch eine perfekte Auflösung erzielen. So viel Zeit hat man i.A. nicht und muss sich statt dessen mit einer *Stichprobe* begnügen und daraus die Eigenschaften der Verteilung *schätzen*. Eine der wichtigsten Fragen ist daher, welches Vertrauen man in die Ergebnisse setzen kann, also mit welcher Wahrscheinlichkeit das Ergebnis dem für unendlich viele Messwerte entspricht.\n",
    "\n",
    "In `scipy.stat` kann man hierfür Zufallsvariablen mit unterschiedlicher Verteilung erzeugen und daraus Stichproben entnehmen. Für jede Verteilung gibt es eine Methode `rvs()`, die solche Ergebnisse (*random variates*) generiert. Die Stichproben sind (pseudo-)zufällig, d.h. jedes Mal werden neue Ergebnisse produziert."
   ]
  },
  {
   "cell_type": "markdown",
   "metadata": {},
   "source": [
    "## Bernoulli-Verteilung ##\n",
    "\n",
    "Kann die Zufallsvariable nur die Werte 0 oder 1 annehmen, $Y_i \\in [0,1]$ und ist die Wahrscheinlichkeit für einen \"Erfolg\" $p = P(Y_i = 1)$ konstant, dann ist $Y_i$ eine *Bernoulli-Verteilung*. Die komplementäre Wahrscheinlichkeit ist definiert als $q = P(Y_i = 0) = 1 - p$:\n",
    "\n",
    "`bern = scipy.stats.bernoulli(p=0.2)`. \n",
    "\n",
    "Der optionale Parameter `loc` definiert auch hier einen Offset, mit `loc = 2` nimmt die Zufallsvariable die Werte 2 oder 3 an."
   ]
  },
  {
   "cell_type": "code",
   "execution_count": 5,
   "metadata": {
    "collapsed": false
   },
   "outputs": [
    {
     "name": "stdout",
     "output_type": "stream",
     "text": [
      "0.2\n",
      "[0 0 0 0 0 0 0 1 0 1]\n",
      "[ 0.8  0.8  0.2]\n"
     ]
    }
   ],
   "source": [
    "bern = scipy.stats.bernoulli(p=0.2)\n",
    "print(bern.mean())\n",
    "print(bern.rvs(size=10))\n",
    "print(bern.pmf((0,0,1)))\n"
   ]
  },
  {
   "cell_type": "markdown",
   "metadata": {
    "nbpresent": {
     "id": "3513a4dd-8e90-4daa-90f9-3baba5b9c88b"
    },
    "slideshow": {
     "slide_type": "slide"
    }
   },
   "source": [
    "Der folgende Code zeigt ein Beispiel für eine Stichprobe der Größe 10 aus einer Bernoulli - Verteilung mit der Wahrscheinlichkeit $p=0.2$. Man erwartet (\"Erwartungswert\"), dass 2 von $L=10$ Versuchen erfolgreich waren. Der Erwartungswert lässt sich hier einfach berechnen mit $E<Y_i> = pL$. \n",
    "\n",
    "Das ist auch oft so, es kann allerdings auch passieren, dass alle Ergebnisse erfolgreich waren. Wie man die Wahrscheinlichkeit dieses Falls abschätzen, werden wir später sehen."
   ]
  },
  {
   "cell_type": "code",
   "execution_count": 6,
   "metadata": {
    "collapsed": false,
    "nbpresent": {
     "id": "9026032d-7f08-49f3-847d-de2378b98f7a"
    },
    "slideshow": {
     "slide_type": "subslide"
    }
   },
   "outputs": [
    {
     "name": "stdout",
     "output_type": "stream",
     "text": [
      "Bernoulli-Prozess:\t[1 0 0 0 0 0 0 0 0 0]\n",
      "Erwartungswert = 0.2 \t(aus Stichprobe: 0.1)\n"
     ]
    }
   ],
   "source": [
    "size = 10 # Stichprobengröße\n",
    "p = 0.2   # Wahrscheinlichkeit\n",
    "L = 1000  # Anzahl der Versuche (für Bernoulli nicht benötigt)\n",
    "np.set_printoptions(formatter={'float': '{: 0.3f}'.format}) # set print format: 3 Nachkommastellen\n",
    "\n",
    "bern = scipy.stats.bernoulli(p=p)\n",
    "x_bern = bern.rvs(size = size)\n",
    "m_bern = bern.mean()\n",
    "\n",
    "print(\"Bernoulli-Prozess:\\t{0}\".format(x_bern))\n",
    "print(\"Erwartungswert = {0} \\t(aus Stichprobe: {1})\".format(m_bern, np.sum(x_bern)/size))\n"
   ]
  },
  {
   "cell_type": "markdown",
   "metadata": {
    "nbpresent": {
     "id": "23035986-a00b-474e-ad91-7d39da796531"
    },
    "slideshow": {
     "slide_type": "-"
    }
   },
   "source": [
    "## Binomialverteilung ##\n",
    "Wenn ich $L$ Bernoulli-Versuche mit einer Erfolgswahrscheinlichkeit $p$ ausführe und zähle, wie oft das Experiment erfolgreich war, erhalte ich eine neue diskrete Zufallsvariable $S_i = \\sum_{k=0}^L$, mit einer Binomialverteilung.\n",
    "\n",
    "Beispiel für eine Stichprobe mit Größe 10 aus einer Binomialverteilung. Jedes Ergebnis ist das Resultat aus 1000 unabhängigen Bernoulli-Experimenten (Bernoulli-Prozess) mit der Wahrscheinlichkeit $p=0.2$.\n"
   ]
  },
  {
   "cell_type": "code",
   "execution_count": 7,
   "metadata": {
    "collapsed": false,
    "nbpresent": {
     "id": "b7e7c340-5f58-42c4-adf6-2e4b6f965414"
    },
    "slideshow": {
     "slide_type": "subslide"
    }
   },
   "outputs": [
    {
     "name": "stdout",
     "output_type": "stream",
     "text": [
      "Binomialverteilung: [206 195 188 199 192 191 209 228 197 207]\n",
      "Erwartungswert = 200.0 \t(aus Stichprobe: 201.2)\n"
     ]
    }
   ],
   "source": [
    "binom = scipy.stats.binom(n = L, p = p)\n",
    "x_binom = binom.rvs(size=size)\n",
    "m_binom = binom.mean()\n",
    "print(\"Binomialverteilung:\", x_binom)\n",
    "print(\"Erwartungswert = {0} \\t(aus Stichprobe: {1})\".format(m_binom, np.sum(x_binom)/size))\n"
   ]
  },
  {
   "cell_type": "markdown",
   "metadata": {
    "nbpresent": {
     "id": "4df0f767-4fb4-4a8b-902b-6f63929635b2"
    },
    "slideshow": {
     "slide_type": "subslide"
    }
   },
   "source": [
    "Man sieht, dass die Ergebnisse um den erwarteten Mittelwert schwanken. Interessant ist hier, *wie stark* die Ergebnisse schwanken bzw. wie groß die Wahrscheinlichkeit ist, dass ein Ergebnis in einem bestimmten Korridor liegt."
   ]
  },
  {
   "cell_type": "raw",
   "metadata": {
    "nbpresent": {
     "id": "e98d2faa-7699-4e3c-9f39-3caa80227eeb"
    },
    "slideshow": {
     "slide_type": "slide"
    }
   },
   "source": [
    "Hier genügen offensichtlich 2 Bins. Und da die Daten keine kontinuierliche Werteverteilung haben, ist die Breite der Bins unwichtig: "
   ]
  },
  {
   "cell_type": "markdown",
   "metadata": {
    "nbpresent": {
     "id": "1fd9f673-6b92-48f4-8649-72c46bf7df2f"
    },
    "slideshow": {
     "slide_type": "subslide"
    }
   },
   "source": [
    "Meist ist es interessanter, die Mitte der Bins anzugeben als die Kanten:"
   ]
  },
  {
   "cell_type": "code",
   "execution_count": 10,
   "metadata": {
    "collapsed": false,
    "nbpresent": {
     "id": "568a7d85-3091-43eb-a8e4-f673c9ccaa6e"
    },
    "slideshow": {
     "slide_type": "subslide"
    }
   },
   "outputs": [
    {
     "name": "stdout",
     "output_type": "stream",
     "text": [
      "Alle Kanten:\t[-0.500  0.500  1.500]\n",
      "Obere Kanten:\t[ 0.500  1.500]\n",
      "Untere Kanten:\t[-0.500  0.500]\n",
      "Kantenmitten:\t[ 0.000  1.000]\n"
     ]
    }
   ],
   "source": [
    "#bin_edges = np.arange(0,10,1)\n",
    "#bin_edges = np.logspace(0,1,10)\n",
    "\n",
    "print(\"Alle Kanten:\\t{0}\".format(bin_edges))\n",
    "print(\"Obere Kanten:\\t{0}\".format(bin_edges[1:]))\n",
    "print(\"Untere Kanten:\\t{0}\".format(bin_edges[:-1]))\n",
    "\n",
    "#calculate average of neighbor bins\n",
    "bin_centers = (bin_edges[1:] + bin_edges[:-1]) / 2\n",
    "print(\"Kantenmitten:\\t{0}\".format(bin_centers))"
   ]
  },
  {
   "cell_type": "code",
   "execution_count": 14,
   "metadata": {
    "collapsed": false,
    "nbpresent": {
     "id": "4f60d945-f421-4ce3-b981-920e14ea1fa5"
    },
    "scrolled": true,
    "slideshow": {
     "slide_type": "subslide"
    }
   },
   "outputs": [
    {
     "data": {
      "image/png": "[encoded data removed]",
      "text/plain": [
       "<matplotlib.figure.Figure at 0x7f0c6b38f160>"
      ]
     },
     "metadata": {},
     "output_type": "display_data"
    }
   ],
   "source": [
    "plt.hist(data, bins=np.arange(-0.5,100.5,1))\n",
    "plt.show()"
   ]
  },
  {
   "cell_type": "markdown",
   "metadata": {
    "nbpresent": {
     "id": "587be0a8-74ba-4b20-a0f0-25299852d1d2"
    }
   },
   "source": [
    "## Binomialverteilung ##\n",
    "\n",
    "\n",
    "Die Wahrscheinlichkeit, dass sich bei einer Folge von $L$ gleichartigen und unabhängigen Bernoulli-Versuchen mit der Wahrscheinlichkeit $p$ $K$ Erfolge einstellen, wird durch eine Binomialverteilung mit den Parametern $L$ und $p$ angegeben:\n",
    "\n",
    "$\n",
    "P(K, L, p) = \\binom{L}{K} p^K q^{L-K} = \\frac{L!}{K!(L-K)!} p^K q^{L-K} \\text{ mit } K \\in \\mathbb{N}_0\n",
    "$\n",
    "\n",
    "Der Erwartungs- oder Mittelwert ist gegeben durch\n",
    "\n",
    "$E(K) = \\mu = pL$\n",
    "\n",
    "und die Varianz durch\n",
    "\n",
    "$Var(K) = \\sigma^2 = pqL = p(p-1)L$ .\n",
    "\n",
    "Händisch lässt sich $P(K, L, p)$ für größere $K, L$ kaum noch berechnen. In Python wird die Wahrscheinlichkeit durch die *probability mass function* `binom.pmf(K)` bestimmt, ansonsten kann man für $\\sigma > 3$ die Binomialverteilung mit guter Genauigkeit durch die Normalverteilung annähern.\n",
    "\n",
    "\n"
   ]
  },
  {
   "cell_type": "code",
   "execution_count": 15,
   "metadata": {
    "collapsed": false,
    "nbpresent": {
     "id": "12e014fa-9d7c-45fd-9308-a9b27eeee924"
    },
    "slideshow": {
     "slide_type": "subslide"
    }
   },
   "outputs": [
    {
     "name": "stdout",
     "output_type": "stream",
     "text": [
      "Mittelwert:\t40.0\n",
      "Std.abweichung:\t5.656854249492381\n",
      "Varianz:\t32.0\n"
     ]
    },
    {
     "data": {
      "image/png": "[encoded data removed]",
      "text/plain": [
       "<matplotlib.figure.Figure at 0x7f0c6adb6748>"
      ]
     },
     "metadata": {},
     "output_type": "display_data"
    }
   ],
   "source": [
    "binom = scipy.stats.binom(n = 200, p = p)\n",
    "K = np.arange(0, 100)\n",
    "p_binom = binom.pmf(K)\n",
    "m_binom = binom.mean()\n",
    "s_binom = binom.std()\n",
    "print(\"Mittelwert:\\t{0}\".format(m_binom))\n",
    "print(\"Std.abweichung:\\t{0}\".format(binom.std()))\n",
    "print(\"Varianz:\\t{0}\".format(binom.var()))\n",
    "plt.step(K, p_binom)\n",
    "plt.axvline(x=m_binom)\n",
    "plt.xlabel(r\"K $\\rightarrow$\")\n",
    "\n",
    "norm = scipy.stats.norm(loc = m_binom, scale = s_binom) # \"frozen\" distribution mit m und sigma\n",
    "p_norm = norm.pdf(K+0.5) # continuous distribution, berechne probability density function\n",
    "plt.plot(K, p_norm, lw = 3, alpha = 0.5)\n",
    "plt.show()\n"
   ]
  },
  {
   "cell_type": "markdown",
   "metadata": {
    "nbpresent": {
     "id": "a0409494-f99e-45dc-87a0-6eb011e28541"
    }
   },
   "source": [
    "Die Wahrscheinlichkeit, dass $S_i$ z.B. maximal 50 ist, erhält man aus der Verteilungsfunktion (*cumulative distribution function*, cdf). Diese Funktion lässt sich nicht geschlossen angeben, aber gut durch eine Fehlerfunktion annähern, wenn (Faustregel) die Varianz größer als 9 bzw. die Standardabweichung > 3 ist. Das ist in dem Beispiel hier gegeben. Die Verteilungsfunktionen in Python erhält man über die Methoden\n",
    "`stats.binom.cdf()` bzw.\n",
    "`stats.norm.cdf()`."
   ]
  },
  {
   "cell_type": "code",
   "execution_count": 16,
   "metadata": {
    "collapsed": false,
    "nbpresent": {
     "id": "bc70656e-9968-4b90-b71e-8fc021465614"
    }
   },
   "outputs": [
    {
     "data": {
      "image/png": "[encoded data removed]",
      "text/plain": [
       "<matplotlib.figure.Figure at 0x7f0c6b2e1358>"
      ]
     },
     "metadata": {},
     "output_type": "display_data"
    }
   ],
   "source": [
    "c_binom = binom.cdf(K)\n",
    "plt.step(K, c_binom)\n",
    "plt.xlabel(r\"$K \\rightarrow$\")\n",
    "\n",
    "norm = scipy.stats.norm(loc = m_binom, scale = s_binom) \n",
    "c_norm = norm.cdf(K+0.5) # continuous distribution\n",
    "plt.plot(K, c_norm, lw = 3, alpha = 0.5)\n",
    "plt.show()"
   ]
  },
  {
   "cell_type": "markdown",
   "metadata": {
    "nbpresent": {
     "id": "06a49b39-7444-4ea8-a529-bbb83e31f8bd"
    }
   },
   "source": [
    "Die Frage am Anfang des Kapitels war ja: Wie groß ist die Wahrscheinlichkeit, dass 10 von 10 Experimenten einer Bernoulli - Verteilung mit $p = 0.2$ erfolgreich sind? Die mathematische Beschreibung ist \n",
    "\n",
    "$\n",
    "P(K, L, p) = \\binom{L}{K} p^K q^{L-K} = \\frac{L!}{K!(L-K)!} p^K q^{L-K}\n",
    "$\n",
    "mit $K = L = 10$. Es ist also $P(K=10, L=10, p=0.2) = 0.2^{10} = 1.024 \\cdot 10^{-7}$\n",
    "\n",
    "oder in Python: "
   ]
  },
  {
   "cell_type": "code",
   "execution_count": 42,
   "metadata": {
    "collapsed": false,
    "nbpresent": {
     "id": "385e221a-478c-43e5-ab4b-6afd1c8674ef"
    }
   },
   "outputs": [
    {
     "name": "stdout",
     "output_type": "stream",
     "text": [
      "P(p=0.2, K=10, L=10) = 0.2^10\t= 1.024e-07\n",
      "binom.pmf(p=0.2, n=10, k=10) \t= 1.024e-07\n"
     ]
    }
   ],
   "source": [
    "print(\"P(p=0.2, K=10, L=10) = 0.2^10\\t= {0:g}\".format(0.2**10))\n",
    "print(\"binom.pmf(p=0.2, n=10, k=10) \\t= {0:g}\".format(scipy.stats.binom.pmf(p=0.2, n=10, k=10)))"
   ]
  },
  {
   "cell_type": "markdown",
   "metadata": {},
   "source": [
    "Ein Generator soll zunächst gleichverteilte Zufallszahlen im Bereich 1 ... 140 erzeugen. Die Auftretenswahrscheinlichkeit $P_i$ der einzelnen Zahlen $i$ soll mit $L$ Versuchen mit einem Histogramm mit $N = 140$ Bins geschätzt werden (der Erwartungswert ist hier einfach $E<Y_i> = L/N$). Dann soll die Wahrscheinlichkeit bestimmt werden, dass\n",
    "\n",
    "a) ein Bin die Häufigkeit $\\mu \\pm 10 \\%$ enthält und\n",
    "\n",
    "b) *alle* Bins Zahlen im Bereich  $\\mu \\pm 10 \\%$ enthalten."
   ]
  },
  {
   "cell_type": "code",
   "execution_count": 18,
   "metadata": {
    "collapsed": false
   },
   "outputs": [
    {
     "name": "stdout",
     "output_type": "stream",
     "text": [
      "Erwartungswert =\t234.05714285714285 \t(aus Stichprobe: 232.97857142857143)\n",
      "Std.abweichung =\t15.244189257630232\n",
      "Minimum = 198, Maximum = 277\n",
      "Delta Min/Max =\t\t42.94285714285715\t(2.816998425899416 Sigma)\n"
     ]
    },
    {
     "data": {
      "image/png": "[encoded data removed]",
      "text/plain": [
       "<matplotlib.figure.Figure at 0x7f0c6aee1eb8>"
      ]
     },
     "metadata": {},
     "output_type": "display_data"
    }
   ],
   "source": [
    "L = 2**15\n",
    "N = 140\n",
    "k = np.arange(1, N)\n",
    "p = 1./140\n",
    "size = 1000\n",
    "T = 2.e-9\n",
    "binom = scipy.stats.binom(n = L, p = p) # Binomialverteilung mit p = 1/N und L Bernoulli-Versuche\n",
    "x_binom = binom.rvs(size=N) # N Versuche\n",
    "m_binom = binom.mean()\n",
    "s_binom = binom.std()\n",
    "\n",
    "min_binom = binom.cdf(L/N *0.7)\n",
    "max_binom = binom.cdf(L/N *1.3)\n",
    "\n",
    "cdf = binom.cdf(k)\n",
    "\n",
    "#print(\"Binomialverteilung:\", x_binom)\n",
    "print(\"Erwartungswert =\\t{0} \\t(aus Stichprobe: {1})\".format(m_binom, np.sum(x_binom)/N))\n",
    "print(\"Std.abweichung =\\t{0}\".format(s_binom))\n",
    "print(\"Minimum = {0}, Maximum = {1}\".format(min(x_binom), max(x_binom)))\n",
    "Delta_max  = max(m_binom - min(x_binom), max(x_binom) - m_binom)\n",
    "print(\"Delta Min/Max =\\t\\t{0}\\t({1} Sigma)\".format(Delta_max, Delta_max/s_binom))\n",
    "\n",
    "fig1 = plt.figure(1)\n",
    "ax1 = fig1.add_subplot(121) \n",
    "ax1.bar(range(N), x_binom)\n",
    "ax1.axhline(y=m_binom, color='r')\n",
    "ax1.axhline(y=min(x_binom), color='w')\n",
    "ax1.axhline(y=max(x_binom), color='k')\n",
    "ax2 = fig1.add_subplot(122)\n",
    "ax2.plot(cdf, k)\n",
    "plt.show()"
   ]
  },
  {
   "cell_type": "code",
   "execution_count": null,
   "metadata": {
    "collapsed": true
   },
   "outputs": [],
   "source": []
  }
 ],
 "metadata": {
  "anaconda-cloud": {},
  "celltoolbar": "Slideshow",
  "kernelspec": {
   "display_name": "Python [Root]",
   "language": "python",
   "name": "Python [Root]"
  },
  "language_info": {
   "codemirror_mode": {
    "name": "ipython",
    "version": 2
   },
   "file_extension": ".py",
   "mimetype": "text/x-python",
   "name": "python",
   "nbconvert_exporter": "python",
   "pygments_lexer": "ipython2",
   "version": "2.7.11"
  },
  "nbpresent": {
   "slides": {
    "0791bdb0-df12-4ed5-99db-ac5b36bf23ea": {
     "id": "0791bdb0-df12-4ed5-99db-ac5b36bf23ea",
     "prev": "e2d991eb-63a4-4215-aeb0-be7cbb0ef23d",
     "regions": {
      "51f67bf8-bbb2-46b4-b663-498801b7b3c5": {
       "attrs": {
        "height": 0.8,
        "width": 0.8,
        "x": 0.1,
        "y": 0.1
       },
       "content": {
        "cell": "69f758cb-5c0a-4472-97ee-64db36f23189",
        "part": "whole"
       },
       "id": "51f67bf8-bbb2-46b4-b663-498801b7b3c5"
      }
     }
    },
    "19e875dd-65ea-46a3-8a16-004dbe77535b": {
     "id": "19e875dd-65ea-46a3-8a16-004dbe77535b",
     "prev": "3bb571d9-2c9e-4551-ae42-43da02471383",
     "regions": {
      "9d864d32-fb97-464d-9b42-9c051bc294e2": {
       "attrs": {
        "height": 0.8,
        "width": 0.8,
        "x": 0.1,
        "y": 0.1
       },
       "content": {
        "cell": "2d12af1c-9c58-4d8f-a4b7-3e97a9153a3e",
        "part": "whole"
       },
       "id": "9d864d32-fb97-464d-9b42-9c051bc294e2"
      }
     }
    },
    "297cae1a-e927-4e78-b091-24ec7310f719": {
     "id": "297cae1a-e927-4e78-b091-24ec7310f719",
     "prev": "55b0a049-833d-49a3-aedd-95fb6a881787",
     "regions": {
      "ee82082f-e81b-49a9-971c-acb67a472277": {
       "attrs": {
        "height": 0.8,
        "width": 0.8,
        "x": 0.1,
        "y": 0.1
       },
       "content": {
        "cell": "06d0bb9a-2a30-47d3-89bd-269faa4f0b97",
        "part": "whole"
       },
       "id": "ee82082f-e81b-49a9-971c-acb67a472277"
      }
     }
    },
    "2d55c157-4f6b-4483-8be4-448983a5c00c": {
     "id": "2d55c157-4f6b-4483-8be4-448983a5c00c",
     "prev": "bd259593-48b4-4d06-917c-3702c1b3d5d7",
     "regions": {
      "bfd22f57-669d-4ee7-80e0-fc9723609b63": {
       "attrs": {
        "height": 0.8,
        "width": 0.8,
        "x": 0.1,
        "y": 0.1
       },
       "content": {
        "cell": "7121e90c-19f1-4908-b28e-481b6889ceec",
        "part": "whole"
       },
       "id": "bfd22f57-669d-4ee7-80e0-fc9723609b63"
      }
     }
    },
    "2d72c927-8d3a-47a0-87e0-20f914b8bf4f": {
     "id": "2d72c927-8d3a-47a0-87e0-20f914b8bf4f",
     "prev": null,
     "regions": {
      "5e8078db-c286-4ffb-827c-584f29fc3d49": {
       "attrs": {
        "height": 0.4,
        "width": 0.8,
        "x": 0.1,
        "y": 0.5
       },
       "content": {
        "cell": "44d84a17-2f38-4737-a764-937c71dfbdf6",
        "part": "whole"
       },
       "id": "5e8078db-c286-4ffb-827c-584f29fc3d49"
      },
      "de43b874-f32e-46c3-9880-47abb26ce1a0": {
       "attrs": {
        "height": 0.8,
        "width": 0.8,
        "x": 0.1,
        "y": 0.1
       },
       "content": {
        "cell": "27d326b9-b46e-4a41-996d-695e31b32d77",
        "part": "whole"
       },
       "id": "de43b874-f32e-46c3-9880-47abb26ce1a0"
      }
     }
    },
    "377cc0c7-3abe-455e-98a0-19a4b1c17cf4": {
     "id": "377cc0c7-3abe-455e-98a0-19a4b1c17cf4",
     "prev": "f96d2da4-4711-4978-a05d-2ce4ce56525a",
     "regions": {
      "4550df28-ba94-4bab-b069-4fb821ef5043": {
       "attrs": {
        "height": 0.8,
        "width": 0.8,
        "x": 0.1,
        "y": 0.1
       },
       "content": {
        "cell": "b0cd2010-59bd-4722-9ab0-ca382e14b4b8",
        "part": "whole"
       },
       "id": "4550df28-ba94-4bab-b069-4fb821ef5043"
      }
     }
    },
    "3bb571d9-2c9e-4551-ae42-43da02471383": {
     "id": "3bb571d9-2c9e-4551-ae42-43da02471383",
     "prev": "f9584a56-caa2-43ef-ac89-0b20b98bd1fd",
     "regions": {
      "aebbdfc7-9cd3-4e72-a152-144177164d31": {
       "attrs": {
        "height": 0.4,
        "width": 0.8,
        "x": 0.1,
        "y": 0.5
       },
       "content": {
        "cell": "4ea42768-a781-4fd4-b804-e08c96b3e3e5",
        "part": "whole"
       },
       "id": "aebbdfc7-9cd3-4e72-a152-144177164d31"
      },
      "bfa93154-f58c-4186-8421-d2e2a8dfd177": {
       "attrs": {
        "height": 0.8,
        "width": 0.8,
        "x": 0.1,
        "y": 0.1
       },
       "content": {
        "cell": "9f170ac6-5b9b-4365-9796-2ff84eeb3bf6",
        "part": "whole"
       },
       "id": "bfa93154-f58c-4186-8421-d2e2a8dfd177"
      }
     }
    },
    "43ed71a3-3b71-437f-8190-65ecfc585bde": {
     "id": "43ed71a3-3b71-437f-8190-65ecfc585bde",
     "prev": "66930114-973e-4c82-b6d9-203623cdb860",
     "regions": {
      "1c715dd5-1e7f-4ad4-a8fe-1d458a1600e5": {
       "attrs": {
        "height": 0.8,
        "width": 0.8,
        "x": 0.1,
        "y": 0.1
       },
       "content": {
        "cell": "83e377ee-8e87-4a2e-ade7-bbe2ba38b1d4",
        "part": "whole"
       },
       "id": "1c715dd5-1e7f-4ad4-a8fe-1d458a1600e5"
      }
     }
    },
    "464b1bb6-cf12-4e99-9b96-b00d21f99f4d": {
     "id": "464b1bb6-cf12-4e99-9b96-b00d21f99f4d",
     "prev": "51e9dd55-a066-4215-b61d-9badedf69a69",
     "regions": {
      "e40a596c-fa1f-41e8-94c1-b72e311b0c6e": {
       "attrs": {
        "height": 0.8,
        "width": 0.8,
        "x": 0.1,
        "y": 0.1
       },
       "content": {
        "cell": "e71f7561-327f-4bf2-bdbb-5f8c32d14516",
        "part": "whole"
       },
       "id": "e40a596c-fa1f-41e8-94c1-b72e311b0c6e"
      }
     }
    },
    "4a1a36b6-e7d0-4c32-ba41-69da75fcdc2b": {
     "id": "4a1a36b6-e7d0-4c32-ba41-69da75fcdc2b",
     "prev": "e6724723-f8ed-47cc-91d2-5b7688ad9e56",
     "regions": {
      "f5fbb193-a297-4f45-bbcb-8a3cb8638640": {
       "attrs": {
        "height": 0.8,
        "width": 0.8,
        "x": 0.1,
        "y": 0.1
       },
       "content": {
        "cell": "a2016abb-8ce1-4614-adc6-ad9a41b69461",
        "part": "whole"
       },
       "id": "f5fbb193-a297-4f45-bbcb-8a3cb8638640"
      }
     }
    },
    "4c64724a-0023-4d64-81c0-fa0ea70df084": {
     "id": "4c64724a-0023-4d64-81c0-fa0ea70df084",
     "prev": "5f0d12ea-9103-4a3c-9677-9f63944f6324",
     "regions": {
      "beedb496-5ef1-4f06-9f8a-05fdc269d955": {
       "attrs": {
        "height": 0.8,
        "width": 0.8,
        "x": 0.1,
        "y": 0.1
       },
       "content": {
        "cell": "9026032d-7f08-49f3-847d-de2378b98f7a",
        "part": "whole"
       },
       "id": "beedb496-5ef1-4f06-9f8a-05fdc269d955"
      },
      "d1407102-b86f-4a6a-b881-9244312e8d18": {
       "attrs": {
        "height": 0.4,
        "width": 0.8,
        "x": 0.1,
        "y": 0.5
       },
       "content": {
        "cell": "23035986-a00b-474e-ad91-7d39da796531",
        "part": "whole"
       },
       "id": "d1407102-b86f-4a6a-b881-9244312e8d18"
      }
     }
    },
    "4cceb658-1ad9-40e7-9bff-9475585efddf": {
     "id": "4cceb658-1ad9-40e7-9bff-9475585efddf",
     "prev": "679de3cb-ba6c-4a2b-b210-289e26b93251",
     "regions": {
      "43b939d1-65b9-46d7-b09e-a847fe5962d5": {
       "attrs": {
        "height": 0.8,
        "width": 0.8,
        "x": 0.1,
        "y": 0.1
       },
       "content": {
        "cell": "24b7d433-761f-4bc5-9a67-0d16f8b0b4fd",
        "part": "whole"
       },
       "id": "43b939d1-65b9-46d7-b09e-a847fe5962d5"
      },
      "dd601c5d-6d16-464e-96b7-468008ccd2f9": {
       "attrs": {
        "height": 0.4,
        "width": 0.8,
        "x": 0.1,
        "y": 0.5
       },
       "content": {
        "cell": "1f0e33f2-95e6-4a40-bd2b-ef5eaa61637d",
        "part": "whole"
       },
       "id": "dd601c5d-6d16-464e-96b7-468008ccd2f9"
      }
     }
    },
    "51e9dd55-a066-4215-b61d-9badedf69a69": {
     "id": "51e9dd55-a066-4215-b61d-9badedf69a69",
     "prev": "fd550557-2a1b-4b64-aff0-0c8885b5ce97",
     "regions": {
      "7946fd39-845c-4e52-b3ba-4079024ab00c": {
       "attrs": {
        "height": 0.4,
        "width": 0.8,
        "x": 0.1,
        "y": 0.5
       },
       "content": {
        "cell": "96fb1a0c-a74b-4e68-9d54-d74d42cef96f",
        "part": "whole"
       },
       "id": "7946fd39-845c-4e52-b3ba-4079024ab00c"
      },
      "c7495b6c-518d-46ea-a35f-3737288d8580": {
       "attrs": {
        "height": 0.8,
        "width": 0.8,
        "x": 0.1,
        "y": 0.1
       },
       "content": {
        "cell": "8c1ac536-dc9c-44e0-bccf-f4580c7f5726",
        "part": "whole"
       },
       "id": "c7495b6c-518d-46ea-a35f-3737288d8580"
      }
     }
    },
    "55b0a049-833d-49a3-aedd-95fb6a881787": {
     "id": "55b0a049-833d-49a3-aedd-95fb6a881787",
     "prev": "4a1a36b6-e7d0-4c32-ba41-69da75fcdc2b",
     "regions": {
      "f0cff619-3277-4a64-85ec-4339d699e80b": {
       "attrs": {
        "height": 0.8,
        "width": 0.8,
        "x": 0.1,
        "y": 0.1
       },
       "content": {
        "cell": "2cde945a-3958-489a-b420-79a7f995528b",
        "part": "whole"
       },
       "id": "f0cff619-3277-4a64-85ec-4339d699e80b"
      }
     }
    },
    "5684b770-ded9-476c-9285-0f4dc127176c": {
     "id": "5684b770-ded9-476c-9285-0f4dc127176c",
     "prev": "19e875dd-65ea-46a3-8a16-004dbe77535b",
     "regions": {
      "e1b8ef8f-e6ba-4738-977f-743a75709d6b": {
       "attrs": {
        "height": 0.8,
        "width": 0.8,
        "x": 0.1,
        "y": 0.1
       },
       "content": {
        "cell": "96df1095-dfc0-4484-ab7a-adb5e61b6188",
        "part": "whole"
       },
       "id": "e1b8ef8f-e6ba-4738-977f-743a75709d6b"
      }
     }
    },
    "5b76b3b0-753a-4e7d-8d42-55655304eebb": {
     "id": "5b76b3b0-753a-4e7d-8d42-55655304eebb",
     "prev": "5684b770-ded9-476c-9285-0f4dc127176c",
     "regions": {
      "9860e02c-1821-4570-a74f-729b72bbf637": {
       "attrs": {
        "height": 0.8,
        "width": 0.8,
        "x": 0.1,
        "y": 0.1
       },
       "content": {
        "cell": "b4a47fb3-226c-4c6e-93f9-781321550ce5",
        "part": "whole"
       },
       "id": "9860e02c-1821-4570-a74f-729b72bbf637"
      }
     }
    },
    "5f0d12ea-9103-4a3c-9677-9f63944f6324": {
     "id": "5f0d12ea-9103-4a3c-9677-9f63944f6324",
     "prev": "2d72c927-8d3a-47a0-87e0-20f914b8bf4f",
     "regions": {
      "6e68f019-89db-4ad5-ac8f-48b99ac24708": {
       "attrs": {
        "height": 0.8,
        "width": 0.8,
        "x": 0.1,
        "y": 0.1
       },
       "content": {
        "cell": "3513a4dd-8e90-4daa-90f9-3baba5b9c88b",
        "part": "whole"
       },
       "id": "6e68f019-89db-4ad5-ac8f-48b99ac24708"
      }
     }
    },
    "66930114-973e-4c82-b6d9-203623cdb860": {
     "id": "66930114-973e-4c82-b6d9-203623cdb860",
     "prev": "a9d953e2-3eab-4966-8d2f-430715416d18",
     "regions": {
      "18b585b4-9a07-478f-8400-e0b332961d23": {
       "attrs": {
        "height": 0.8,
        "width": 0.8,
        "x": 0.1,
        "y": 0.1
       },
       "content": {
        "cell": "c4dd9ce8-1822-4bb6-aa31-b0b3f0700fb8",
        "part": "whole"
       },
       "id": "18b585b4-9a07-478f-8400-e0b332961d23"
      }
     }
    },
    "679de3cb-ba6c-4a2b-b210-289e26b93251": {
     "id": "679de3cb-ba6c-4a2b-b210-289e26b93251",
     "prev": "ec0e357e-c5b4-4b34-a897-ccb2295faffe",
     "regions": {
      "1e115b84-ad5f-4ec0-ae0e-76431186a8a3": {
       "attrs": {
        "height": 0.8,
        "width": 0.8,
        "x": 0.1,
        "y": 0.1
       },
       "content": {
        "cell": "4cc14918-279d-421c-b8ee-0516bf2af71c",
        "part": "whole"
       },
       "id": "1e115b84-ad5f-4ec0-ae0e-76431186a8a3"
      }
     }
    },
    "7d1a4a32-e0f8-40ee-b869-4425ff057ac1": {
     "id": "7d1a4a32-e0f8-40ee-b869-4425ff057ac1",
     "prev": "9018bbb0-ef8c-488f-b4af-34527bd72bf0",
     "regions": {
      "56cd451e-7121-4b01-b3c1-a7617d7c354b": {
       "attrs": {
        "height": 0.4,
        "width": 0.8,
        "x": 0.1,
        "y": 0.5
       },
       "content": {
        "cell": "a10bdcae-ed58-45cf-b097-b6d7ef2f55b4",
        "part": "whole"
       },
       "id": "56cd451e-7121-4b01-b3c1-a7617d7c354b"
      },
      "f34d95cc-4b04-4460-b905-49ca218f6ede": {
       "attrs": {
        "height": 0.8,
        "width": 0.8,
        "x": 0.1,
        "y": 0.1
       },
       "content": {
        "cell": "701ad1db-d737-4b45-aa47-76cc60021530",
        "part": "whole"
       },
       "id": "f34d95cc-4b04-4460-b905-49ca218f6ede"
      }
     }
    },
    "7d75b05b-01dc-4aa2-9fa6-6dc9398829cb": {
     "id": "7d75b05b-01dc-4aa2-9fa6-6dc9398829cb",
     "prev": "dd6db4a4-4d9f-4aef-91a5-94b6641930d7",
     "regions": {
      "59b3cbc5-2a77-4953-8ba4-71b80f85405c": {
       "attrs": {
        "height": 0.8,
        "width": 0.8,
        "x": 0.1,
        "y": 0.1
       },
       "content": {
        "cell": "7d4d1e2c-8541-48cc-b013-e7e61b6e3cd7",
        "part": "whole"
       },
       "id": "59b3cbc5-2a77-4953-8ba4-71b80f85405c"
      }
     }
    },
    "86718b8c-45b2-4e92-a919-9c3e34f843a6": {
     "id": "86718b8c-45b2-4e92-a919-9c3e34f843a6",
     "prev": "c9607c32-5538-46ae-bc47-fa7fc2d7fec7",
     "regions": {
      "fd5c23f8-ab59-4d48-b3dc-9a76e4bc8c6f": {
       "attrs": {
        "height": 0.8,
        "width": 0.8,
        "x": 0.1,
        "y": 0.1
       },
       "content": {
        "cell": "98354c62-278d-4549-b199-cc470fc6c27b",
        "part": "whole"
       },
       "id": "fd5c23f8-ab59-4d48-b3dc-9a76e4bc8c6f"
      }
     }
    },
    "8848f650-cb7c-49a0-8dd1-93f25f8e69c9": {
     "id": "8848f650-cb7c-49a0-8dd1-93f25f8e69c9",
     "prev": "4c64724a-0023-4d64-81c0-fa0ea70df084",
     "regions": {
      "66dbb1df-e51a-4232-b798-8ad26ba2e2a0": {
       "attrs": {
        "height": 0.8,
        "width": 0.8,
        "x": 0.1,
        "y": 0.1
       },
       "content": {
        "cell": "b7e7c340-5f58-42c4-adf6-2e4b6f965414",
        "part": "whole"
       },
       "id": "66dbb1df-e51a-4232-b798-8ad26ba2e2a0"
      }
     }
    },
    "8e986a06-12b7-47a0-b0cb-0b117f00442d": {
     "id": "8e986a06-12b7-47a0-b0cb-0b117f00442d",
     "prev": "b8e6c9ee-e498-400a-ba8c-a42f44afbfd6",
     "regions": {
      "de1f32c8-3945-44ea-a7e1-6f55ddbce1f9": {
       "attrs": {
        "height": 0.8,
        "width": 0.8,
        "x": 0.1,
        "y": 0.1
       },
       "content": {
        "cell": "b55af4f8-0896-4683-8cc6-17a3cb0e9b61",
        "part": "whole"
       },
       "id": "de1f32c8-3945-44ea-a7e1-6f55ddbce1f9"
      }
     }
    },
    "9018bbb0-ef8c-488f-b4af-34527bd72bf0": {
     "id": "9018bbb0-ef8c-488f-b4af-34527bd72bf0",
     "prev": "4cceb658-1ad9-40e7-9bff-9475585efddf",
     "regions": {
      "36b46562-2358-458d-b163-2ae6cb74683a": {
       "attrs": {
        "height": 0.8,
        "width": 0.8,
        "x": 0.1,
        "y": 0.1
       },
       "content": {
        "cell": "9e9c9580-7b18-435b-905c-94c2700490e4",
        "part": "whole"
       },
       "id": "36b46562-2358-458d-b163-2ae6cb74683a"
      },
      "6131b928-5522-4501-a660-430e86e7ee2e": {
       "attrs": {
        "height": 0.4,
        "width": 0.8,
        "x": 0.1,
        "y": 0.5
       },
       "content": {
        "cell": "9656ff27-7c34-46fb-87bd-8dc21866133e",
        "part": "whole"
       },
       "id": "6131b928-5522-4501-a660-430e86e7ee2e"
      }
     }
    },
    "929c4740-19e2-408f-b10c-9f5da1152406": {
     "id": "929c4740-19e2-408f-b10c-9f5da1152406",
     "prev": "464b1bb6-cf12-4e99-9b96-b00d21f99f4d",
     "regions": {
      "87ac84c7-8b01-46b9-8d00-b2de0c6f13eb": {
       "attrs": {
        "height": 0.8,
        "width": 0.8,
        "x": 0.1,
        "y": 0.1
       },
       "content": {
        "cell": "4f60d945-f421-4ce3-b981-920e14ea1fa5",
        "part": "whole"
       },
       "id": "87ac84c7-8b01-46b9-8d00-b2de0c6f13eb"
      },
      "c18e18f1-6934-48ac-842d-add23a697c5d": {
       "attrs": {
        "height": 0.4,
        "width": 0.8,
        "x": 0.1,
        "y": 0.5
       },
       "content": {
        "cell": "587be0a8-74ba-4b20-a0f0-25299852d1d2",
        "part": "whole"
       },
       "id": "c18e18f1-6934-48ac-842d-add23a697c5d"
      }
     }
    },
    "9334c432-3e31-410f-aec5-1e3d11a4b45e": {
     "id": "9334c432-3e31-410f-aec5-1e3d11a4b45e",
     "prev": "f7511f6c-b04f-4f90-8168-1606268bda49",
     "regions": {
      "8d0047aa-d19a-4832-99ff-05432a2f8e3c": {
       "attrs": {
        "height": 0.8,
        "width": 0.8,
        "x": 0.1,
        "y": 0.1
       },
       "content": {
        "cell": "1fd9f673-6b92-48f4-8649-72c46bf7df2f",
        "part": "whole"
       },
       "id": "8d0047aa-d19a-4832-99ff-05432a2f8e3c"
      }
     }
    },
    "97a88bcd-e166-4555-9ba6-72ef3c4ca52a": {
     "id": "97a88bcd-e166-4555-9ba6-72ef3c4ca52a",
     "prev": "2d55c157-4f6b-4483-8be4-448983a5c00c",
     "regions": {
      "2e156334-b81f-4939-91b9-07b7ec665ab7": {
       "attrs": {
        "height": 0.8,
        "width": 0.8,
        "x": 0.1,
        "y": 0.1
       },
       "content": {
        "cell": "e98d2faa-7699-4e3c-9f39-3caa80227eeb",
        "part": "whole"
       },
       "id": "2e156334-b81f-4939-91b9-07b7ec665ab7"
      }
     }
    },
    "9dd936b6-f0df-479e-95f0-2726ddc247bf": {
     "id": "9dd936b6-f0df-479e-95f0-2726ddc247bf",
     "prev": "8848f650-cb7c-49a0-8dd1-93f25f8e69c9",
     "regions": {
      "79289830-f30f-4a0b-89e3-914971e48fa3": {
       "attrs": {
        "height": 0.8,
        "width": 0.8,
        "x": 0.1,
        "y": 0.1
       },
       "content": {
        "cell": "4df0f767-4fb4-4a8b-902b-6f63929635b2",
        "part": "whole"
       },
       "id": "79289830-f30f-4a0b-89e3-914971e48fa3"
      }
     }
    },
    "a2cc6401-0e1c-47a9-b755-26d3669af331": {
     "id": "a2cc6401-0e1c-47a9-b755-26d3669af331",
     "prev": "0791bdb0-df12-4ed5-99db-ac5b36bf23ea",
     "regions": {
      "65b38c06-bb63-41b3-8521-b936fbc0a4b2": {
       "attrs": {
        "height": 0.8,
        "width": 0.8,
        "x": 0.1,
        "y": 0.1
       },
       "content": {
        "cell": "46b1ebe6-64f4-4e21-9f4b-d3ba0cb98a22",
        "part": "whole"
       },
       "id": "65b38c06-bb63-41b3-8521-b936fbc0a4b2"
      }
     }
    },
    "a93fa88e-718c-43ce-aab9-d7183d482d12": {
     "id": "a93fa88e-718c-43ce-aab9-d7183d482d12",
     "prev": "5b76b3b0-753a-4e7d-8d42-55655304eebb",
     "regions": {
      "19c19699-cd99-40b3-82ce-329d716833bc": {
       "attrs": {
        "height": 0.8,
        "width": 0.8,
        "x": 0.1,
        "y": 0.1
       },
       "content": {
        "cell": "0a77fa6e-6bb8-4973-844e-2e73282d47eb",
        "part": "whole"
       },
       "id": "19c19699-cd99-40b3-82ce-329d716833bc"
      }
     }
    },
    "a9d953e2-3eab-4966-8d2f-430715416d18": {
     "id": "a9d953e2-3eab-4966-8d2f-430715416d18",
     "prev": "86718b8c-45b2-4e92-a919-9c3e34f843a6",
     "regions": {
      "9fdb29b1-38b8-4af0-8326-887aba2a9d66": {
       "attrs": {
        "height": 0.8,
        "width": 0.8,
        "x": 0.1,
        "y": 0.11
       },
       "content": {
        "cell": "211e7d3f-dbd3-4a81-88c5-8a9b5f16c913",
        "part": "whole"
       },
       "id": "9fdb29b1-38b8-4af0-8326-887aba2a9d66"
      }
     }
    },
    "b8e6c9ee-e498-400a-ba8c-a42f44afbfd6": {
     "id": "b8e6c9ee-e498-400a-ba8c-a42f44afbfd6",
     "prev": "929c4740-19e2-408f-b10c-9f5da1152406",
     "regions": {
      "108f2f6d-eb57-4276-ae08-e5ea9fea354c": {
       "attrs": {
        "height": 0.8,
        "width": 0.8,
        "x": 0.1,
        "y": 0.1
       },
       "content": {
        "cell": "12e014fa-9d7c-45fd-9308-a9b27eeee924",
        "part": "whole"
       },
       "id": "108f2f6d-eb57-4276-ae08-e5ea9fea354c"
      },
      "27e3f785-35a3-4130-9779-2dc73a760f5e": {
       "attrs": {
        "height": 0.4,
        "width": 0.8,
        "x": 0.1,
        "y": 0.5
       },
       "content": {
        "cell": "06a49b39-7444-4ea8-a529-bbb83e31f8bd",
        "part": "whole"
       },
       "id": "27e3f785-35a3-4130-9779-2dc73a760f5e"
      },
      "4c8feb1d-dd9c-481c-b253-de267475d5c7": {
       "attrs": {
        "height": 0.4,
        "width": 0.8,
        "x": 0.1,
        "y": 0.5
       },
       "content": {
        "cell": "385e221a-478c-43e5-ab4b-6afd1c8674ef",
        "part": "whole"
       },
       "id": "4c8feb1d-dd9c-481c-b253-de267475d5c7"
      },
      "a02dfece-16ea-4beb-ba68-5165bea8a7aa": {
       "attrs": {
        "height": 0.4,
        "width": 0.8,
        "x": 0.1,
        "y": 0.5
       },
       "content": {
        "cell": "bc70656e-9968-4b90-b71e-8fc021465614",
        "part": "whole"
       },
       "id": "a02dfece-16ea-4beb-ba68-5165bea8a7aa"
      },
      "b2318465-6dde-404f-82fb-0d86ef787478": {
       "attrs": {
        "height": 0.4,
        "width": 0.8,
        "x": 0.1,
        "y": 0.5
       },
       "content": {
        "cell": "a0409494-f99e-45dc-87a0-6eb011e28541",
        "part": "whole"
       },
       "id": "b2318465-6dde-404f-82fb-0d86ef787478"
      }
     }
    },
    "bd259593-48b4-4d06-917c-3702c1b3d5d7": {
     "id": "bd259593-48b4-4d06-917c-3702c1b3d5d7",
     "prev": "9dd936b6-f0df-479e-95f0-2726ddc247bf",
     "regions": {
      "2abf5e68-ff93-4564-afbe-de750dbf477a": {
       "attrs": {
        "height": 0.8,
        "width": 0.8,
        "x": 0.1,
        "y": 0.1
       },
       "content": {
        "cell": "897ffbcd-08fd-4068-8ddb-ef5c916201af",
        "part": "whole"
       },
       "id": "2abf5e68-ff93-4564-afbe-de750dbf477a"
      }
     }
    },
    "c9607c32-5538-46ae-bc47-fa7fc2d7fec7": {
     "id": "c9607c32-5538-46ae-bc47-fa7fc2d7fec7",
     "prev": "a93fa88e-718c-43ce-aab9-d7183d482d12",
     "regions": {
      "a8c02dc0-3b60-4ffd-b831-d77d3e0f81bb": {
       "attrs": {
        "height": 0.8,
        "width": 0.8,
        "x": 0.1,
        "y": 0.1
       },
       "content": {
        "cell": "d3419233-d86a-473b-b633-61d875818972",
        "part": "whole"
       },
       "id": "a8c02dc0-3b60-4ffd-b831-d77d3e0f81bb"
      }
     }
    },
    "d1664ece-d7b0-458b-9661-9ba87fc03352": {
     "id": "d1664ece-d7b0-458b-9661-9ba87fc03352",
     "prev": "297cae1a-e927-4e78-b091-24ec7310f719",
     "regions": {
      "bc7c8f12-3b85-45e3-972a-34993dae50c6": {
       "attrs": {
        "height": 0.8,
        "width": 0.8,
        "x": 0.1,
        "y": 0.1
       },
       "content": {
        "cell": "058004f8-d2e0-4af7-b63b-d43a8294fd17",
        "part": "whole"
       },
       "id": "bc7c8f12-3b85-45e3-972a-34993dae50c6"
      }
     }
    },
    "d6a5753a-daab-483c-b8a6-aecd7804fb7d": {
     "id": "d6a5753a-daab-483c-b8a6-aecd7804fb7d",
     "prev": "f26868b2-b295-48e6-afa8-e4480d88c162",
     "regions": {
      "2f6afece-056d-4a42-af8c-ab6473ce35ae": {
       "attrs": {
        "height": 0.8,
        "width": 0.8,
        "x": 0.1,
        "y": 0.1
       },
       "content": {
        "cell": "93272b07-6816-4d5f-a32d-f3f9db75d0c3",
        "part": "whole"
       },
       "id": "2f6afece-056d-4a42-af8c-ab6473ce35ae"
      }
     }
    },
    "dd6db4a4-4d9f-4aef-91a5-94b6641930d7": {
     "id": "dd6db4a4-4d9f-4aef-91a5-94b6641930d7",
     "prev": "377cc0c7-3abe-455e-98a0-19a4b1c17cf4",
     "regions": {
      "e0b4435e-1ce7-4733-a8fe-65a8955e6b72": {
       "attrs": {
        "height": 0.8,
        "width": 0.8,
        "x": 0.1,
        "y": 0.1
       },
       "content": {
        "cell": "779c83fc-1db0-49f5-ad79-acdcf9dd2198",
        "part": "whole"
       },
       "id": "e0b4435e-1ce7-4733-a8fe-65a8955e6b72"
      }
     }
    },
    "e2d991eb-63a4-4215-aeb0-be7cbb0ef23d": {
     "id": "e2d991eb-63a4-4215-aeb0-be7cbb0ef23d",
     "prev": "9334c432-3e31-410f-aec5-1e3d11a4b45e",
     "regions": {
      "6746ffff-a2a0-45c9-9fd9-88e7a45e97bb": {
       "attrs": {
        "height": 0.8,
        "width": 0.8,
        "x": 0.1,
        "y": 0.1
       },
       "content": {
        "cell": "568a7d85-3091-43eb-a8e4-f673c9ccaa6e",
        "part": "whole"
       },
       "id": "6746ffff-a2a0-45c9-9fd9-88e7a45e97bb"
      }
     }
    },
    "e6724723-f8ed-47cc-91d2-5b7688ad9e56": {
     "id": "e6724723-f8ed-47cc-91d2-5b7688ad9e56",
     "prev": "d6a5753a-daab-483c-b8a6-aecd7804fb7d",
     "regions": {
      "2f90c652-6cc6-4777-8885-aeca7016627e": {
       "attrs": {
        "height": 0.8,
        "width": 0.8,
        "x": 0.1,
        "y": 0.1
       },
       "content": {
        "cell": "ca06375e-0f8b-4c5c-8a02-6adbc73d1dc7",
        "part": "whole"
       },
       "id": "2f90c652-6cc6-4777-8885-aeca7016627e"
      }
     }
    },
    "ec0e357e-c5b4-4b34-a897-ccb2295faffe": {
     "id": "ec0e357e-c5b4-4b34-a897-ccb2295faffe",
     "prev": "43ed71a3-3b71-437f-8190-65ecfc585bde",
     "regions": {
      "dfbbb1aa-316b-4abc-9c80-80e9d6cbd4fa": {
       "attrs": {
        "height": 0.8,
        "width": 0.8,
        "x": 0.1,
        "y": 0.1
       },
       "content": {
        "cell": "326b9ee6-420a-4ee5-b3d4-58eaa766bd25",
        "part": "whole"
       },
       "id": "dfbbb1aa-316b-4abc-9c80-80e9d6cbd4fa"
      }
     }
    },
    "f26868b2-b295-48e6-afa8-e4480d88c162": {
     "id": "f26868b2-b295-48e6-afa8-e4480d88c162",
     "prev": "7d75b05b-01dc-4aa2-9fa6-6dc9398829cb",
     "regions": {
      "b623405e-a3e9-4f9b-96c2-a248236391f7": {
       "attrs": {
        "height": 0.8,
        "width": 0.8,
        "x": 0.1,
        "y": 0.1
       },
       "content": {
        "cell": "0ce21cce-baeb-4fc7-82f2-900eefc5f0ac",
        "part": "whole"
       },
       "id": "b623405e-a3e9-4f9b-96c2-a248236391f7"
      }
     }
    },
    "f7511f6c-b04f-4f90-8168-1606268bda49": {
     "id": "f7511f6c-b04f-4f90-8168-1606268bda49",
     "prev": "97a88bcd-e166-4555-9ba6-72ef3c4ca52a",
     "regions": {
      "b23c72aa-95cc-444b-934b-e2d7b9d3d63d": {
       "attrs": {
        "height": 0.8,
        "width": 0.8,
        "x": 0.1,
        "y": 0.1
       },
       "content": {
        "cell": "d8aae76a-6cf3-4cf6-a88e-eff415cc244a",
        "part": "whole"
       },
       "id": "b23c72aa-95cc-444b-934b-e2d7b9d3d63d"
      }
     }
    },
    "f9584a56-caa2-43ef-ac89-0b20b98bd1fd": {
     "id": "f9584a56-caa2-43ef-ac89-0b20b98bd1fd",
     "prev": "d1664ece-d7b0-458b-9661-9ba87fc03352",
     "regions": {
      "c875abd1-e8c1-4d5c-8f57-81928e5093f2": {
       "attrs": {
        "height": 0.8,
        "width": 0.8,
        "x": 0.1,
        "y": 0.1
       },
       "content": {
        "cell": "51f397b2-0aa2-4b0f-ae96-c52a00443557",
        "part": "whole"
       },
       "id": "c875abd1-e8c1-4d5c-8f57-81928e5093f2"
      }
     }
    },
    "f96d2da4-4711-4978-a05d-2ce4ce56525a": {
     "id": "f96d2da4-4711-4978-a05d-2ce4ce56525a",
     "prev": "8e986a06-12b7-47a0-b0cb-0b117f00442d",
     "regions": {
      "4c3b06a0-169b-45d5-a27f-ba22ba627d0a": {
       "attrs": {
        "height": 0.8,
        "width": 0.8,
        "x": 0.1,
        "y": 0.1
       },
       "content": {
        "cell": "cc86f7cc-d412-470e-82a1-5ffcc625b3a3",
        "part": "whole"
       },
       "id": "4c3b06a0-169b-45d5-a27f-ba22ba627d0a"
      }
     }
    },
    "fd550557-2a1b-4b64-aff0-0c8885b5ce97": {
     "id": "fd550557-2a1b-4b64-aff0-0c8885b5ce97",
     "prev": "a2cc6401-0e1c-47a9-b755-26d3669af331",
     "regions": {
      "db84cc88-43df-413a-9dca-ff656f7a13e6": {
       "attrs": {
        "height": 0.8,
        "width": 0.8,
        "x": 0.1,
        "y": 0.1
       },
       "content": {
        "cell": "0684f63f-40a1-4526-9c94-b123fa053072",
        "part": "whole"
       },
       "id": "db84cc88-43df-413a-9dca-ff656f7a13e6"
      }
     }
    }
   },
   "themes": {}
  }
 },
 "nbformat": 4,
 "nbformat_minor": 1
}
