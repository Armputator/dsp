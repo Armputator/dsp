{
 "cells": [
  {
   "cell_type": "code",
   "execution_count": 24,
   "metadata": {
    "tags": []
   },
   "outputs": [],
   "source": [
    "import numpy as np\n",
    "import matplotlib.pyplot as plt\n",
    "import ipywidgets as wdg\n",
    "from ipywidgets import interact\n",
    "#from IPython.display import display"
   ]
  },
  {
   "cell_type": "markdown",
   "metadata": {},
   "source": [
    "Für interaktive Widgets unter Jupyterlab muss installiert sein:\n",
    "\n",
    "`pip install jupyterlab` # offensichtlich ...\n",
    "\n",
    "`pip install ipywidgets` # für interaktive Widgets, installiert verschiedene Abhängigkeiten wie `jupyterlab_widgets`\n",
    "\n",
    "`pip install ipympl`     # für interaktive Plots mit matplotlib\n",
    " \n",
    " Decorate with %matplotlib widget\n"
   ]
  },
  {
   "cell_type": "code",
   "execution_count": 29,
   "metadata": {
    "tags": []
   },
   "outputs": [
    {
     "data": {
      "application/vnd.jupyter.widget-view+json": {
       "model_id": "d0b1c873d4324faa9c73f3d966de249d",
       "version_major": 2,
       "version_minor": 0
      },
      "text/plain": [
       "Canvas(toolbar=Toolbar(toolitems=[('Home', 'Reset original view', 'home', 'home'), ('Back', 'Back to previous …"
      ]
     },
     "metadata": {},
     "output_type": "display_data"
    }
   ],
   "source": [
    "%matplotlib widget\n",
    "x = np.arange(100)\n",
    "y = x*x-100*x\n",
    "plt.plot(x,y);\n",
    "plt.grid(True);"
   ]
  },
  {
   "cell_type": "code",
   "execution_count": 30,
   "metadata": {
    "tags": []
   },
   "outputs": [],
   "source": [
    "def f(x=0):\n",
    "    return x\n",
    "\n",
    "def ButtonPressed(mouseclick):\n",
    "    print('Button pressed')\n",
    "    \n",
    "def CheckboxChecked(checked):\n",
    "    if(checked==True):\n",
    "        print('Checkbox checked')\n",
    "    else:\n",
    "        print('Checkbox unchecked')"
   ]
  },
  {
   "cell_type": "code",
   "execution_count": 31,
   "metadata": {
    "collapsed": false,
    "jupyter": {
     "outputs_hidden": false
    }
   },
   "outputs": [
    {
     "data": {
      "text/plain": [
       "<ipywidgets.widgets.widget.WidgetRegistry at 0x241ada67520>"
      ]
     },
     "execution_count": 31,
     "metadata": {},
     "output_type": "execute_result"
    }
   ],
   "source": [
    "#Liste aller implementierten Widgets anzeigen\n",
    "wdg.Widget.widget_types"
   ]
  },
  {
   "cell_type": "code",
   "execution_count": 32,
   "metadata": {
    "collapsed": false,
    "jupyter": {
     "outputs_hidden": false
    }
   },
   "outputs": [
    {
     "data": {
      "application/vnd.jupyter.widget-view+json": {
       "model_id": "502410919e0d4a5baefea6a47df8d764",
       "version_major": 2,
       "version_minor": 0
      },
      "text/plain": [
       "Accordion(children=(Box(children=(HBox(children=(Label(value='Eingabe (Text):', layout=Layout(width='30%')), T…"
      ]
     },
     "metadata": {},
     "output_type": "display_data"
    }
   ],
   "source": [
    "txt = wdg.Text()\n",
    "txt.layout.width = '30%'\n",
    "txtLabel = wdg.Label('Eingabe (Text):')\n",
    "txtLabel.layout.width = '30%'\n",
    "text1 = wdg.HBox([txtLabel, txt])\n",
    "\n",
    "bIntText = wdg.BoundedIntText(min=0, max=99999)\n",
    "bIntText.layout.width = '30%'\n",
    "bIntTextLabel = wdg.Label('Eingabe (Integer zwischen 0 und 99999):')\n",
    "bIntTextLabel.layout.width = '30%'\n",
    "num1 = wdg.HBox([bIntTextLabel, bIntText])\n",
    "\n",
    "bFloatText = wdg.BoundedFloatText(min=0, max=99999)\n",
    "bFloatText.layout.width = '30%'\n",
    "bFloatTextLabel = wdg.Label('Eingabe (Float zwischen 0 und 99999):')\n",
    "bFloatTextLabel.layout.width = '30%'\n",
    "num2 = wdg.HBox([bFloatTextLabel,bFloatText])\n",
    "\n",
    "page1 = wdg.Box(children=[text1, num1, num2])\n",
    "\n",
    "num3 = wdg.IntText(description='Eingabe (Integer):')\n",
    "num4 = wdg.FloatText(description='Floateingabe (Float):', min=0, max=99999)\n",
    "page2 = wdg.Box(children=[num3, num4])\n",
    "\n",
    "accord = wdg.Accordion(children=[page1, page2], width=400)\n",
    "display(accord)\n",
    "\n",
    "accord.set_title(0, 'Oben')\n",
    "accord.set_title(1, 'Unten')\n",
    "\n",
    "#Keys dieses Widgets anzeigen lassen:\n",
    "#accord.keys"
   ]
  },
  {
   "cell_type": "code",
   "execution_count": 33,
   "metadata": {
    "collapsed": false,
    "jupyter": {
     "outputs_hidden": false
    }
   },
   "outputs": [
    {
     "data": {
      "application/vnd.jupyter.widget-view+json": {
       "model_id": "fb7c4041bf714e6a888e49d69079e309",
       "version_major": 2,
       "version_minor": 0
      },
      "text/plain": [
       "Button(description='I am a button - click me ;)', layout=Layout(height='50px', width='30%'), style=ButtonStyle…"
      ]
     },
     "metadata": {},
     "output_type": "display_data"
    }
   ],
   "source": [
    "s = wdg.Button(description='I am a button - click me ;)')\n",
    "s.layout.width = '30%'\n",
    "s.layout.height = '50px'\n",
    "s.continous_update=False\n",
    "s.on_click(ButtonPressed)\n",
    "s"
   ]
  },
  {
   "cell_type": "code",
   "execution_count": 23,
   "metadata": {
    "collapsed": false,
    "jupyter": {
     "outputs_hidden": false
    }
   },
   "outputs": [
    {
     "data": {
      "application/vnd.jupyter.widget-view+json": {
       "model_id": "142cfdeccc8a45969e726983bb65a828",
       "version_major": 2,
       "version_minor": 0
      },
      "text/plain": [
       "interactive(children=(Checkbox(value=False, description='Check me'), Output()), _dom_classes=('widget-interact…"
      ]
     },
     "metadata": {},
     "output_type": "display_data"
    }
   ],
   "source": [
    "cb = wdg.Checkbox(description='Check me', value=False)\n",
    "interact(CheckboxChecked, checked=cb);"
   ]
  },
  {
   "cell_type": "code",
   "execution_count": null,
   "metadata": {
    "collapsed": false,
    "jupyter": {
     "outputs_hidden": false
    }
   },
   "outputs": [],
   "source": [
    "dd = wdg.Dropdown(description='I am a Dropdown',options=['option a','option b','option c'])\n",
    "display(dd)"
   ]
  },
  {
   "cell_type": "code",
   "execution_count": 21,
   "metadata": {
    "collapsed": false,
    "jupyter": {
     "outputs_hidden": false
    }
   },
   "outputs": [
    {
     "data": {
      "application/vnd.jupyter.widget-view+json": {
       "model_id": "8499b5b2e4ed44d89aea330278df17c6",
       "version_major": 2,
       "version_minor": 0
      },
      "text/plain": [
       "interactive(children=(FloatSlider(value=0.0, continuous_update=False, description='x', max=10.0, min=-10.0), O…"
      ]
     },
     "metadata": {},
     "output_type": "display_data"
    }
   ],
   "source": [
    "interact(f, x=wdg.FloatSlider(value=0,min=-10,max=10,step=0.1,continuous_update=False));"
   ]
  },
  {
   "cell_type": "code",
   "execution_count": 22,
   "metadata": {
    "collapsed": false,
    "jupyter": {
     "outputs_hidden": false
    }
   },
   "outputs": [
    {
     "data": {
      "application/vnd.jupyter.widget-view+json": {
       "model_id": "2ee4ec816b35423fa70e931ef84a1f2e",
       "version_major": 2,
       "version_minor": 0
      },
      "text/plain": [
       "RadioButtons(description='RadioButtons', options=('a', 'b', 'c'), value='a')"
      ]
     },
     "metadata": {},
     "output_type": "display_data"
    }
   ],
   "source": [
    "rb = wdg.RadioButtons(options=['a','b','c'],description='RadioButtons')\n",
    "display(rb)"
   ]
  },
  {
   "cell_type": "code",
   "execution_count": null,
   "metadata": {},
   "outputs": [],
   "source": []
  }
 ],
 "metadata": {
  "anaconda-cloud": {},
  "kernelspec": {
   "display_name": "Python 3",
   "language": "python",
   "name": "python3"
  },
  "language_info": {
   "codemirror_mode": {
    "name": "ipython",
    "version": 3
   },
   "file_extension": ".py",
   "mimetype": "text/x-python",
   "name": "python",
   "nbconvert_exporter": "python",
   "pygments_lexer": "ipython3",
   "version": "3.8.2"
  },
  "widgets": {
   "state": {
    "200f40bfbf964e5893574453a6f36f65": {
     "views": [
      {
       "cell_index": 5
      }
     ]
    },
    "492ce21c01394ba2ac1296ff9366bbc4": {
     "views": [
      {
       "cell_index": 7
      }
     ]
    },
    "6a408a0d0f3e434189e11568b943991d": {
     "views": [
      {
       "cell_index": 4
      }
     ]
    },
    "78a8fbb32f6442548d8e70b8aa2ed967": {
     "views": [
      {
       "cell_index": 3
      }
     ]
    },
    "960f4c3b6cdd4b95ba393c8fcfb3748f": {
     "views": [
      {
       "cell_index": 2
      }
     ]
    },
    "b0a30363f05642e5b7fb73df0ae0371a": {
     "views": [
      {
       "cell_index": 6
      }
     ]
    }
   },
   "version": "1.2.0"
  }
 },
 "nbformat": 4,
 "nbformat_minor": 4
}
