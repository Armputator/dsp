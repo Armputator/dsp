{
 "cells": [
  {
   "cell_type": "code",
   "execution_count": 1,
   "metadata": {
    "collapsed": true
   },
   "outputs": [],
   "source": [
    "import numpy as np\n",
    "import scipy.signal as sig\n",
    "import matplotlib.pyplot as plt\n",
    "import ipywidgets as wdg\n",
    "from ipywidgets import interact\n",
    "from IPython.display import display\n",
    "\n",
    "def f(x=0):\n",
    "    return x\n",
    "\n",
    "def ButtonPressed(mouseclick):\n",
    "    print('Button pressed')\n",
    "    \n",
    "def CheckboxChecked(checked):\n",
    "    if(checked==True):\n",
    "        print('Checkbox checked')\n",
    "    else:\n",
    "        print('Checkbox unchecked')"
   ]
  },
  {
   "cell_type": "code",
   "execution_count": 2,
   "metadata": {
    "collapsed": false
   },
   "outputs": [
    {
     "data": {
      "text/plain": [
       "{'Jupyter.Accordion': ipywidgets.widgets.widget_selectioncontainer.Accordion,\n",
       " 'Jupyter.BoundedFloatText': ipywidgets.widgets.widget_float.BoundedFloatText,\n",
       " 'Jupyter.BoundedIntText': ipywidgets.widgets.widget_int.BoundedIntText,\n",
       " 'Jupyter.Box': ipywidgets.widgets.widget_box.Box,\n",
       " 'Jupyter.Button': ipywidgets.widgets.widget_button.Button,\n",
       " 'Jupyter.Checkbox': ipywidgets.widgets.widget_bool.Checkbox,\n",
       " 'Jupyter.ColorPicker': ipywidgets.widgets.widget_color.ColorPicker,\n",
       " 'Jupyter.Controller': ipywidgets.widgets.widget_controller.Controller,\n",
       " 'Jupyter.ControllerAxis': ipywidgets.widgets.widget_controller.Axis,\n",
       " 'Jupyter.ControllerButton': ipywidgets.widgets.widget_controller.Button,\n",
       " 'Jupyter.Dropdown': ipywidgets.widgets.widget_selection.Dropdown,\n",
       " 'Jupyter.FlexBox': ipywidgets.widgets.widget_box.FlexBox,\n",
       " 'Jupyter.FloatProgress': ipywidgets.widgets.widget_float.FloatProgress,\n",
       " 'Jupyter.FloatRangeSlider': ipywidgets.widgets.widget_float.FloatRangeSlider,\n",
       " 'Jupyter.FloatSlider': ipywidgets.widgets.widget_float.FloatSlider,\n",
       " 'Jupyter.FloatText': ipywidgets.widgets.widget_float.FloatText,\n",
       " 'Jupyter.HTML': ipywidgets.widgets.widget_string.HTML,\n",
       " 'Jupyter.Image': ipywidgets.widgets.widget_image.Image,\n",
       " 'Jupyter.IntProgress': ipywidgets.widgets.widget_int.IntProgress,\n",
       " 'Jupyter.IntRangeSlider': ipywidgets.widgets.widget_int.IntRangeSlider,\n",
       " 'Jupyter.IntSlider': ipywidgets.widgets.widget_int.IntSlider,\n",
       " 'Jupyter.IntText': ipywidgets.widgets.widget_int.IntText,\n",
       " 'Jupyter.Label': ipywidgets.widgets.widget_string.Label,\n",
       " 'Jupyter.PlaceProxy': ipywidgets.widgets.widget_box.PlaceProxy,\n",
       " 'Jupyter.Play': ipywidgets.widgets.widget_int.Play,\n",
       " 'Jupyter.Proxy': ipywidgets.widgets.widget_box.Proxy,\n",
       " 'Jupyter.RadioButtons': ipywidgets.widgets.widget_selection.RadioButtons,\n",
       " 'Jupyter.Select': ipywidgets.widgets.widget_selection.Select,\n",
       " 'Jupyter.SelectMultiple': ipywidgets.widgets.widget_selection.SelectMultiple,\n",
       " 'Jupyter.SelectionSlider': ipywidgets.widgets.widget_selection.SelectionSlider,\n",
       " 'Jupyter.Tab': ipywidgets.widgets.widget_selectioncontainer.Tab,\n",
       " 'Jupyter.Text': ipywidgets.widgets.widget_string.Text,\n",
       " 'Jupyter.Textarea': ipywidgets.widgets.widget_string.Textarea,\n",
       " 'Jupyter.ToggleButton': ipywidgets.widgets.widget_bool.ToggleButton,\n",
       " 'Jupyter.ToggleButtons': ipywidgets.widgets.widget_selection.ToggleButtons,\n",
       " 'Jupyter.Valid': ipywidgets.widgets.widget_bool.Valid,\n",
       " 'jupyter.DirectionalLink': ipywidgets.widgets.widget_link.DirectionalLink,\n",
       " 'jupyter.Link': ipywidgets.widgets.widget_link.Link}"
      ]
     },
     "execution_count": 2,
     "metadata": {},
     "output_type": "execute_result"
    }
   ],
   "source": [
    "#Liste aller implementierten Widgets anzeigen\n",
    "wdg.Widget.widget_types"
   ]
  },
  {
   "cell_type": "code",
   "execution_count": 3,
   "metadata": {
    "collapsed": false
   },
   "outputs": [],
   "source": [
    "txt = wdg.Text()\n",
    "txt.layout.width = '30%'\n",
    "txtLabel = wdg.Label('Eingabe (Text):')\n",
    "txtLabel.layout.width = '30%'\n",
    "text1 = wdg.HBox([txtLabel, txt])\n",
    "\n",
    "bIntText = wdg.BoundedIntText(min=0, max=99999)\n",
    "bIntText.layout.width = '30%'\n",
    "bIntTextLabel = wdg.Label('Eingabe (Integer zwischen 0 und 99999):')\n",
    "bIntTextLabel.layout.width = '30%'\n",
    "num1 = wdg.HBox([bIntTextLabel, bIntText])\n",
    "\n",
    "bFloatText = wdg.BoundedFloatText(min=0, max=99999)\n",
    "bFloatText.layout.width = '30%'\n",
    "bFloatTextLabel = wdg.Label('Eingabe (Float zwischen 0 und 99999):')\n",
    "bFloatTextLabel.layout.width = '30%'\n",
    "num2 = wdg.HBox([bFloatTextLabel,bFloatText])\n",
    "\n",
    "page1 = wdg.Box(children=[text1, num1, num2])\n",
    "\n",
    "num3 = wdg.IntText(description='Eingabe (Integer):')\n",
    "num4 = wdg.FloatText(description='Floateingabe (Float):', min=0, max=99999)\n",
    "page2 = wdg.Box(children=[num3, num4])\n",
    "\n",
    "accord = wdg.Accordion(children=[page1, page2], width=400)\n",
    "display(accord)\n",
    "\n",
    "accord.set_title(0, 'Oben')\n",
    "accord.set_title(1, 'Unten')\n",
    "\n",
    "#Keys dieses Widgets anzeigen lassen:\n",
    "#accord.keys"
   ]
  },
  {
   "cell_type": "code",
   "execution_count": 4,
   "metadata": {
    "collapsed": false
   },
   "outputs": [
    {
     "name": "stdout",
     "output_type": "stream",
     "text": [
      "Button pressed\n",
      "Button pressed\n",
      "Button pressed\n"
     ]
    }
   ],
   "source": [
    "s = wdg.Button(description='I am a button - click me ;)')\n",
    "s.layout.width = '30%'\n",
    "s.layout.height = '50px'\n",
    "s.continous_update=False\n",
    "s.on_click(ButtonPressed)\n",
    "s"
   ]
  },
  {
   "cell_type": "code",
   "execution_count": 5,
   "metadata": {
    "collapsed": false
   },
   "outputs": [
    {
     "name": "stdout",
     "output_type": "stream",
     "text": [
      "Checkbox unchecked\n"
     ]
    }
   ],
   "source": [
    "cb = wdg.Checkbox(description='Check me', value=False)\n",
    "interact(CheckboxChecked, checked=cb);"
   ]
  },
  {
   "cell_type": "code",
   "execution_count": 6,
   "metadata": {
    "collapsed": false
   },
   "outputs": [],
   "source": [
    "dd = wdg.Dropdown(description='I am a Dropdown',options=['option a','option b','option c'])\n",
    "display(dd)"
   ]
  },
  {
   "cell_type": "code",
   "execution_count": 7,
   "metadata": {
    "collapsed": false
   },
   "outputs": [
    {
     "data": {
      "text/plain": [
       "5.0"
      ]
     },
     "metadata": {},
     "output_type": "display_data"
    }
   ],
   "source": [
    "interact(f, x=wdg.FloatSlider(value=0,min=-10,max=10,step=0.1,continuous_update=False));"
   ]
  },
  {
   "cell_type": "code",
   "execution_count": 8,
   "metadata": {
    "collapsed": false
   },
   "outputs": [],
   "source": [
    "rb = wdg.RadioButtons(options=['a','b','c'],description='RadioButtons')\n",
    "display(rb)"
   ]
  }
 ],
 "metadata": {
  "anaconda-cloud": {},
  "kernelspec": {
   "display_name": "Python [conda env:Anaconda3]",
   "language": "python",
   "name": "conda-env-Anaconda3-py"
  },
  "language_info": {
   "codemirror_mode": {
    "name": "ipython",
    "version": 3
   },
   "file_extension": ".py",
   "mimetype": "text/x-python",
   "name": "python",
   "nbconvert_exporter": "python",
   "pygments_lexer": "ipython3",
   "version": "3.5.2"
  },
  "widgets": {
   "state": {
    "200f40bfbf964e5893574453a6f36f65": {
     "views": [
      {
       "cell_index": 5
      }
     ]
    },
    "492ce21c01394ba2ac1296ff9366bbc4": {
     "views": [
      {
       "cell_index": 7
      }
     ]
    },
    "6a408a0d0f3e434189e11568b943991d": {
     "views": [
      {
       "cell_index": 4
      }
     ]
    },
    "78a8fbb32f6442548d8e70b8aa2ed967": {
     "views": [
      {
       "cell_index": 3
      }
     ]
    },
    "960f4c3b6cdd4b95ba393c8fcfb3748f": {
     "views": [
      {
       "cell_index": 2
      }
     ]
    },
    "b0a30363f05642e5b7fb73df0ae0371a": {
     "views": [
      {
       "cell_index": 6
      }
     ]
    }
   },
   "version": "1.2.0"
  }
 },
 "nbformat": 4,
 "nbformat_minor": 1
}
