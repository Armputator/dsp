{
 "cells": [
  {
   "cell_type": "markdown",
   "metadata": {},
   "source": [
    "Introduction\n",
    "--------------\n",
    "\n",
    "In this section, we start designing FIR filters using the windowing design method. This is the most straightforward design method and it will illustrate the concepts we  developed in the previous section.\n"
   ]
  },
  {
   "cell_type": "markdown",
   "metadata": {},
   "source": [
    "### Windowing Method\n",
    "\n",
    "The window method of FIR filter design starts by constructing the ideal filter response, $ H_d(\\omega) $. For example, consider the ideal lowpass filter,\n",
    "\n",
    "$$ |H_d(\\omega)| =1 \\forall \\omega \\in (-\\omega_c,\\omega_c) $$\n",
    "\n",
    "and zero otherwise. The  inverse Fourier transform is the sequence,\n",
    "\n",
    "$$ h_n = \\frac{\\omega_c}{\\pi}\\frac{\\sin (\\omega_c n )}{\\omega_c n} $$\n",
    "\n",
    "if $ n \\neq 0 $ and \n",
    "\n",
    "$$ h_{n=0} = \\frac{\\omega_c}{\\pi} $$\n",
    "\n",
    "This is obviously non-causal and infinitely long. We can shift the sequence by an arbitrary amount and then truncate to fix both problems, respectively.\n"
   ]
  },
  {
   "cell_type": "code",
   "execution_count": 1,
   "metadata": {
    "collapsed": false
   },
   "outputs": [
    {
     "ename": "NameError",
     "evalue": "name 'pi' is not defined",
     "output_type": "error",
     "traceback": [
      "\u001b[0;31m---------------------------------------------------------------------------\u001b[0m",
      "\u001b[0;31mNameError\u001b[0m                                 Traceback (most recent call last)",
      "\u001b[0;32m<ipython-input-1-ec19bff76f00>\u001b[0m in \u001b[0;36m<module>\u001b[0;34m()\u001b[0m\n\u001b[1;32m      4\u001b[0m \u001b[1;32mfrom\u001b[0m \u001b[0mscipy\u001b[0m \u001b[1;32mimport\u001b[0m \u001b[0msignal\u001b[0m\u001b[1;33m\u001b[0m\u001b[0m\n\u001b[1;32m      5\u001b[0m \u001b[1;33m\u001b[0m\u001b[0m\n\u001b[0;32m----> 6\u001b[0;31m \u001b[0mwc\u001b[0m \u001b[1;33m=\u001b[0m \u001b[0mpi\u001b[0m\u001b[1;33m/\u001b[0m\u001b[1;36m4\u001b[0m\u001b[1;33m\u001b[0m\u001b[0m\n\u001b[0m\u001b[1;32m      7\u001b[0m \u001b[0mM\u001b[0m\u001b[1;33m=\u001b[0m\u001b[1;36m20\u001b[0m\u001b[1;33m\u001b[0m\u001b[0m\n\u001b[1;32m      8\u001b[0m \u001b[0mN\u001b[0m \u001b[1;33m=\u001b[0m \u001b[1;36m512\u001b[0m \u001b[1;31m# DFT size\u001b[0m\u001b[1;33m\u001b[0m\u001b[0m\n",
      "\u001b[0;31mNameError\u001b[0m: name 'pi' is not defined"
     ]
    }
   ],
   "source": [
    "# omega_c = pi/4\n",
    "\n",
    "from __future__ import  division\n",
    "from scipy import signal\n",
    "\n",
    "wc = pi/4\n",
    "M=20\n",
    "N = 512 # DFT size\n",
    "n = arange(-M,M)\n",
    "h = wc/pi * sinc(wc*(n)/pi)  # see definition of np.sinc()\n",
    "\n",
    "w,Hh = signal.freqz(h,1,whole=True, worN=N) # get entire frequency domain\n",
    "wx = fft.fftfreq(len(w)) # shift to center for plotting\n",
    "\n",
    "fig,axs = subplots(3,1)\n",
    "fig.set_size_inches((8,8))\n",
    "subplots_adjust(hspace=0.3)\n",
    "\n",
    "ax=axs[0]\n",
    "ax.stem(n+M,h,basefmt='b-')\n",
    "ax.set_xlabel(\"n\",fontsize=16)\n",
    "ax.set_ylabel(\"amplitude\",fontsize=16)\n",
    "\n",
    "ax=axs[1]\n",
    "ax.plot(w-pi,abs(fft.fftshift(Hh)))\n",
    "ax.axis(xmax=pi/2,xmin=-pi/2)\n",
    "ax.vlines([-wc,wc],0,1.2,color='g',lw=2.,linestyle='--',)\n",
    "ax.hlines(1,-pi,pi,color='g',lw=2.,linestyle='--',)\n",
    "ax.set_xlabel(r\"$\\omega$\",fontsize=22)\n",
    "ax.set_ylabel(r\"$|H(\\omega)| $\",fontsize=22)\n",
    "ax.grid()\n",
    "\n",
    "ax=axs[2]\n",
    "ax.plot(w-pi,20*log10(abs(fft.fftshift(Hh))))\n",
    "ax.axis(ymin=-40,xmax=pi/2,xmin=-pi/2)\n",
    "ax.vlines([-wc,wc],10,-40,color='g',lw=2.,linestyle='--',)\n",
    "ax.hlines(0,-pi,pi,color='g',lw=2.,linestyle='--',)\n",
    "ax.grid()\n",
    "ax.set_xlabel(r\"$\\omega$\",fontsize=22)\n",
    "ax.set_ylabel(r\"$20\\log_{10}|H(\\omega)| $\",fontsize=18)\n",
    "#ax.axis( ymin=-40,xmax=pi/2)\n",
    "\n",
    "# fig.savefig('figure_00@.png', bbox_inches='tight', dpi=300)\n"
   ]
  },
  {
   "cell_type": "markdown",
   "metadata": {},
   "source": [
    "The figure above shows the filter sequence $ h_n $ in the top plot. This has been shifted over to enforce causality. The middle plot shows $ |H(\\omega)| $ as a function of frequency. The vertical green lines show $ \\pm\\omega_c $ limits and the horizontal green line shows the ideal response, $ |H_d(\\omega)| $. The bottom plot shows $ 20\\log_{10} |H(\\omega)| $ as a function of frequency. The middle plot reveals  rippling in the passband that increases towards the edge of the passband. This is known as the *Gibbs phenomenon* and we need to examine it carefully because it is a serious form of distortion. "
   ]
  },
  {
   "cell_type": "markdown",
   "metadata": {},
   "source": [
    "Truncating the filter coefficients is the same as multiplying the infinitely-long desired filter sequence ($ h_{d} $) by a rectangular window ($ w_n $); this is equivalent to a convolution in the frequency domain between  the desired reponse, $ H_d(\\omega) $, and $ W(\\omega)$, the Fourier transform of the rectangular window. Thus, the filter output is\n",
    "\n",
    "$$ Y(\\omega)  = \\frac{1}{2\\pi}\\int_{-\\pi}^{\\pi} H_d(\\xi) W(\\omega-\\xi) d\\xi = \\frac{1}{2\\pi}\\int_{-\\omega_c}^{\\omega_c}W(\\omega-\\xi) d\\xi$$\n",
    "\n",
    "where \n",
    "\n",
    "$$ W(\\omega)=\\sum_{n=0}^{N_s-1} \\exp \\left( -j\\omega n \\right) $$\n",
    "\n",
    "Because everything is finite, we can combine these   two equations to  obtain the following:\n",
    "\n",
    "$$ Y(\\omega) = \\frac{1}{2\\pi}\\sum_{n=0}^{N_s-1}\\int_{-\\omega_c}^{\\omega_c} \\exp \\left( -j(\\omega-\\xi) n \\right) d\\xi =\\frac{1}{\\pi}\\sum_{n=0}^{N_s-1}\\frac{\\sin(n\\omega_c)}{n} \\hspace{1em}\\exp(j\\omega n) $$ \n",
    "\n",
    "We can expand the summation term to obtain,\n",
    "\n",
    "$$ Y(\\omega) = \\frac{1}{\\pi}\\sum_{n=0}^{N_s-1}\\frac{\\cos(n\\omega)\\sin(n\\omega_c)+j\\sin(n\\omega)\\sin(n\\omega_c)}{n} $$ \n",
    "\n",
    "To understand the Gibbs phenomenon at the edges where $ \\omega=\\omega_c $, we recall the following two trigonometric identities:\n",
    "\n",
    "$$ 2\\cos(n\\omega)\\sin(n\\omega_c)= \\sin(n\\omega+n\\omega_c)-\\sin(n\\omega-n\\omega_c) $$\n",
    "\n",
    "and likewise,\n",
    "\n",
    "$$ 2\\sin(n\\omega)\\sin(n\\omega_c)= \\cos(n\\omega-n\\omega_c)-\\cos(n\\omega+n\\omega_c) $$\n",
    "\n",
    "These two identities show that as $ \\omega \\rightarrow \\omega_c $, the surviving terms in $ Y(\\omega) $ summation oscillate at double the cut-off frequency (i.e $ 2\\omega_c $) which accounts for the intense rippling effect as $ \\omega $ moves from $ \\omega=0 $ to $\\omega=\\omega_c$. Consider the real part of $ Y(\\omega) $ when $ \\omega \\lt \\omega_c $,\n",
    "\n",
    "$$ Y_{re}(\\omega) = \\frac{1}{\\pi}\\sum_{n=0}^{N_s-1}\\frac{\\sin(n\\omega+n\\omega_c)-\\sin(n\\omega-n\\omega_c)}{2 n} $$ \n",
    "\n",
    "\n",
    "In this case, $ \\sin(n\\omega-n\\omega_c) \\lt 0 $ so it contributes positively (i.e. constructive interference) to the summation. When $\\omega \\gt \\omega_c  $, the sign  reverses and destructive interference reduces the real part. This is the mechanism that characterizes the transition from the passband to the stopband.\n",
    "\n",
    "The following figure illustrates this effect."
   ]
  },
  {
   "cell_type": "code",
   "execution_count": null,
   "metadata": {
    "collapsed": false
   },
   "outputs": [],
   "source": [
    "fig,ax = subplots()\n",
    "fig.set_size_inches(6,3)\n",
    "\n",
    "k=arange(M)\n",
    "omega = linspace(0,pi,100)\n",
    "\n",
    "ax.plot(omega,(sin(k*omega[:,None]+k*wc)-sin(k*omega[:,None]-k*wc)).sum(axis=1))\n",
    "ax.set_ylabel(r\"$Y_{re}(\\omega)$\",fontsize=18)\n",
    "ax.grid()\n",
    "ax.set_title(r\"$\\omega_c = \\pi/4$\",fontsize=22)\n",
    "ax.set_xlabel(r\" $\\omega $\",fontsize=22)\n",
    "ax.set_xticks([0, pi/4,pi/2.,3*pi/4, pi,])\n",
    "ax.set_xticklabels(['$0$',r'$\\frac{\\pi}{4}$',r'$\\frac{\\pi}{2}$',r'$\\frac{3\\pi}{4}$', r'$\\pi$'],fontsize=18)\n",
    "ax.set_xlim(xmax=pi)\n",
    "ax.annotate(\"Gibbs phenomenon\",xy=(pi/4,10),fontsize=14,\n",
    "            xytext=(20,0),\n",
    "            textcoords='offset points',\n",
    "            arrowprops={'facecolor':'b','arrowstyle':'->'})\n",
    "\n",
    "# fig.savefig('figure_00@.png', bbox_inches='tight', dpi=300)\n"
   ]
  },
  {
   "cell_type": "markdown",
   "metadata": {},
   "source": [
    "Now that we have a grip on the the Gibbs phenomenon, we need to control this form of distortion. Fortunately, we already have all of the tools in place from our prior discussion of window functions."
   ]
  },
  {
   "cell_type": "markdown",
   "metadata": {},
   "source": [
    "## Using Windows for FIR Filter Design\n",
    "\n",
    "The root of the Gibbs phenomenon is the sudden truncation of the filter sequence by the rectangular window. We can mitigate this effect by  smoothly  guiding the filter coefficients to zero using a window function.  The following figure is the same as before but now we use a Hamming window to terminate the ideal filter sequence."
   ]
  },
  {
   "cell_type": "code",
   "execution_count": null,
   "metadata": {
    "collapsed": false
   },
   "outputs": [],
   "source": [
    "wc = pi/4\n",
    "\n",
    "M=20\n",
    "\n",
    "N = 512 # DFT size\n",
    "n = arange(-M,M)\n",
    "win = signal.hamming(len(n))\n",
    "h = wc/pi * sinc(wc*(n)/pi)*win  # see definition of np.sinc()\n",
    "\n",
    "w,Hh = signal.freqz(h,1,whole=True, worN=N) # get entire frequency domain\n",
    "wx = fft.fftfreq(len(w)) # shift to center for plotting\n",
    "\n",
    "fig,axs = subplots(3,1)\n",
    "fig.set_size_inches((8,8))\n",
    "subplots_adjust(hspace=0.3)\n",
    "\n",
    "ax=axs[0]\n",
    "ax.stem(n+M,h,basefmt='b-')\n",
    "ax.set_xlabel(\"n\",fontsize=16)\n",
    "ax.set_ylabel(\"amplitude\",fontsize=16)\n",
    "\n",
    "ax=axs[1]\n",
    "ax.plot(w-pi,abs(fft.fftshift(Hh)))\n",
    "ax.axis(xmax=pi/2,xmin=-pi/2)\n",
    "ax.vlines([-wc,wc],0,1.2,color='g',lw=2.,linestyle='--',)\n",
    "ax.hlines(1,-pi,pi,color='g',lw=2.,linestyle='--',)\n",
    "ax.set_xlabel(r\"$\\omega$\",fontsize=22)\n",
    "ax.set_ylabel(r\"$|H(\\omega)| $\",fontsize=22)\n",
    "ax.grid()\n",
    "\n",
    "ax=axs[2]\n",
    "ax.plot(w-pi,20*log10(abs(fft.fftshift(Hh))))\n",
    "ax.axis(ymin=-80,xmax=pi/2,xmin=-pi/2)\n",
    "ax.vlines([-wc,wc],10,-80,color='g',lw=2.,linestyle='--',)\n",
    "ax.hlines(0,-pi,pi,color='g',lw=2.,linestyle='--',)\n",
    "ax.grid()\n",
    "ax.set_xlabel(r\"$\\omega$\",fontsize=22)\n",
    "ax.set_ylabel(r\"$20\\log_{10}|H(\\omega)| $\",fontsize=18)\n",
    "#ax.axis( ymin=-40,xmax=pi/2)\n",
    "\n",
    "# fig.savefig('figure_00@.png', bbox_inches='tight', dpi=300)\n",
    "\n"
   ]
  },
  {
   "cell_type": "markdown",
   "metadata": {},
   "source": [
    "The figure above shows the frequency response using a Hamming window to gently terminate  the filter sequence. Note that the Gibbs effect is significantly reduced, producing a much flatter mainlobe at the cost of a wider mainlobe. The mainlobe widens because the mainlobe of the Hamming window is wider than that of the rectangular window. The much lower sidelobes of   the Hamming window flattens the Gibbs phenomenon at the edge of the passband.\n",
    "\n",
    "I invite you to download the IPython notebook corresponding to this post and try the above for different values of $ M $. Note that drop from the passband to the sidelobes steepens with increasing $ M $. As we have seen before with window functions, this is because the window's mainlobe narrows with increasing sequence length. Naturally, you can use other window functions besides Hamming and change the sidelobe level and mainlobe width. The most popular window used for this method of filter design is the Kaiser-Bessel window because it provides extra parameters for tuning the frequency response.\n",
    "\n",
    "Let's consider a design example using Kaiser-Bessel and the filter design tools in the `signal.fir_filter_design` module."
   ]
  },
  {
   "cell_type": "markdown",
   "metadata": {},
   "source": [
    "The `signal.fir_filter_design` module provides functions for filter design using the Kaiser-Bessel window ( among other windows). For example, to design a lowpass filter using the  Kaiser-Bessel window, we need the a subset of the following parameters: maximum passband ripple ($ \\delta $), width of the transition region,  Kaiser-Bessel parameter $\\beta$, and the number of filter taps. The `fir_filter_design` provides tools to solve for some of these parameters given others. For example, the `fir_filter_design.kaiserord()` function  can determine the number of taps given the maximum allowable passband ripple and the width of the transition region. \n",
    "\n",
    "Consider the following low pass filter specification."
   ]
  },
  {
   "cell_type": "code",
   "execution_count": null,
   "metadata": {
    "collapsed": false
   },
   "outputs": [],
   "source": [
    "Ns =300 # number of samples \n",
    "N = 1024 # DFT size\n",
    "\n",
    "fs = 1e3 # sample rate in Hz\n",
    "fpass = 100 # in Hz\n",
    "fstop = 150 # in Hz\n",
    "delta = 60 # in dB, desired attenuation in stopband"
   ]
  },
  {
   "cell_type": "markdown",
   "metadata": {},
   "source": [
    "Now, we need to determine the number of tabs and the  Kaiser-Bessel $ \\beta $ parameter using the `fir_filter_design.kaiserord()` function as shown below.  For the FIR window design method, the $ \\delta $ parameter is simultaneously the maximum allowable passband ripple and the desired attenuation in the stopband."
   ]
  },
  {
   "cell_type": "code",
   "execution_count": null,
   "metadata": {
    "collapsed": false
   },
   "outputs": [],
   "source": [
    "from matplotlib.patches import Rectangle\n",
    "\n",
    "M,beta= signal.fir_filter_design.kaiserord(delta, (fstop-fpass)/(fs/2.))\n",
    "\n",
    "hn = signal.firwin(M,(fstop+fpass)/2.,window=('kaiser',beta),nyq=fs/2.)\n",
    "w,H = signal.freqz(hn) # frequency response\n",
    "\n",
    "fig,ax = subplots()\n",
    "fig.set_size_inches((8,3))\n",
    "\n",
    "ax.plot(w/pi*fs/2.,20*log10(abs(H)))\n",
    "ax.set_xlabel(\"frequency( Hz )\",fontsize=16)\n",
    "ax.set_ylabel(r\"$20\\log_{10} |H(f)| $\",fontsize=22)\n",
    "ymin,ymax = -80,5\n",
    "ax.axis(ymin = ymin,ymax=ymax)\n",
    "ax.add_patch(Rectangle((0,ymin),width=fpass,height=ymax-ymin,color='g',alpha=0.3))\n",
    "ax.add_patch(Rectangle((fpass,ymin),width=fstop-fpass,height=ymax-ymin,color='r',alpha=0.3))\n",
    "ax.add_patch(Rectangle((fstop,ymin),width=fs/2-fstop,height=ymax-ymin,color='y',alpha=0.3))\n",
    "ax.set_title(\"Number of taps=%d\"%M)\n",
    "ax.text(10,-15,'passband',fontsize=14,bbox=dict(color='white'))\n",
    "ax.text(200,-15,'stopband',fontsize=16,bbox=dict(color='white'))\n",
    "ax.grid()\n",
    "\n",
    "# fig.savefig('figure_00@.png', bbox_inches='tight', dpi=300)\n"
   ]
  },
  {
   "cell_type": "markdown",
   "metadata": {},
   "source": [
    "### Example\n",
    "\n",
    "In the following, let's consider the performance of the filter with two equal-amplitude single-frequency tones, one in the passband and one in the stopband."
   ]
  },
  {
   "cell_type": "code",
   "execution_count": null,
   "metadata": {
    "collapsed": false
   },
   "outputs": [],
   "source": [
    "# two-tone example using filter\n",
    "\n",
    "t = arange(0,Ns)/fs\n",
    "x = cos(2*pi*30*t)+cos(2*pi*200*t)\n",
    "X = fft.fft(x,N)\n",
    "\n",
    "y=signal.lfilter(hn,1,x)\n",
    "Y = fft.fft(y,N)\n",
    "\n",
    "fig,ax = subplots()\n",
    "fig.set_size_inches((10,4))\n",
    "ax.plot(arange(N)/N*fs,20*log10(abs(X)),'r-',label='filter input')\n",
    "ax.plot(arange(N)/N*fs,20*log10(abs(Y)),'g-',label='filter output')\n",
    "ax.set_xlim(xmax = fs/2)\n",
    "ax.set_ylim(ymin=-20)\n",
    "ax.set_ylabel(r'dB',fontsize=22)\n",
    "ax.set_xlabel(\"frequency (Hz)\",fontsize=18)\n",
    "ax.grid()\n",
    "ax.annotate('attenuated in\\nstopband',fontsize=16,xy=(200,32),\n",
    "             xytext=(50,3),textcoords='offset points',\n",
    "             arrowprops=dict(arrowstyle='->',lw=3),\n",
    "            )\n",
    "ax.legend(loc=0);\n",
    "\n",
    "# fig.savefig('figure_00@.png', bbox_inches='tight', dpi=300)\n"
   ]
  },
  {
   "cell_type": "markdown",
   "metadata": {},
   "source": [
    "The figure above shows the frequency domain input and the corresponding filtered output. Because second tone is in the stopband, and its relative energy is approximately 40 dB, it is completely extinguished by the filter, whose attenuation in the stopband is 60 dB. I invite you to download the IPython Notebook corresponding to this section and try different amplitude values for the tone in the stopband."
   ]
  },
  {
   "cell_type": "markdown",
   "metadata": {},
   "source": [
    "## Summary"
   ]
  },
  {
   "cell_type": "markdown",
   "metadata": {},
   "source": [
    "The window design method is the easiest FIR design method to understand and it draws upon intuitions regarding window function that we have previously developed. The Kaiser-Bessel method is widely used because it provides design flexibility and easy-to-understand filter  specifications. Furthermore, there are many closed form approximations to the various derived terms (e.g. $ \\beta $, $ M $) which means that time-consuming iterative algorithms are not necessary and that engineering trade-offs appear explicitly in a formula.\n",
    "\n",
    "In the next section we consider Parks-McClellan  FIR design that solves for the desired filter sequence using a powerful iterative exchange algorithm that generally  results in filters with fewer taps for the same level of performance."
   ]
  },
  {
   "cell_type": "markdown",
   "metadata": {},
   "source": [
    "\n",
    "As usual, the corresponding IPython notebook for this post  is available for download [here](https://github.com/unpingco/Python-for-Signal-Processing/blob/master/Filtering_Part2.ipynb). \n",
    "\n",
    "Comments and corrections welcome!"
   ]
  },
  {
   "cell_type": "markdown",
   "metadata": {},
   "source": [
    "References\n",
    "---------------\n",
    "\n",
    "* Proakis, John G. ,*Digital signal processing: principles algorithms and applications*. Pearson Education India, 2001.\n",
    "\n",
    "*  Oppenheim, Schafer, \"Discrete-Time Signal Processing\", p.475-476."
   ]
  }
 ],
 "metadata": {
  "anaconda-cloud": {},
  "kernelspec": {
   "display_name": "Python [default]",
   "language": "python",
   "name": "python3"
  },
  "language_info": {
   "codemirror_mode": {
    "name": "ipython",
    "version": 3
   },
   "file_extension": ".py",
   "mimetype": "text/x-python",
   "name": "python",
   "nbconvert_exporter": "python",
   "pygments_lexer": "ipython3",
   "version": "3.5.2"
  }
 },
 "nbformat": 4,
 "nbformat_minor": 0
}
