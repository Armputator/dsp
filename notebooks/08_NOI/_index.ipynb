{
 "cells": [
  {
   "cell_type": "markdown",
   "metadata": {},
   "source": [
    "<a href=\"../07_FIX/_index.ipynb\">&larr; FIX </a>&loz;\n",
    "<a href=\"../../README.md\"> &uarr; TOC &uarr; </a>&loz;\n",
    "<a href=\"../09_SMP/index.ipynb\"> SMP &rarr;</a>\n",
    "<img src='../_img/pyfda_icon2.svg' align='right' width='10%'></img>\n",
    "# \"NOI - Fixpoint Systeme im Frequenzbereich: Rauschen\n",
    "\n",
    "In diesem Kapitel geht es um Zufallsprozesse und Quantisierung im Frequenzbereich."
   ]
  },
  {
   "cell_type": "markdown",
   "metadata": {},
   "source": [
    "* [NOI-Intro:](NOI-Intro.ipynb) Einfluss von Quantisierung und Überlauf auf den Frequenzbereich\n",
    "* [NOI-DFT-wideband:](NOI-DFT-wideband.ipynb) Notebook zur Übungsaufgabe \"DFT von Breitbandsignalen\", die sich mit der korrekten Skalierung und Interpretation der DFT von Breitbandsignalen beschäftigt. **ToDo**: Aufgabe muss noch ins Notebook übertragen werden\n",
    "* [NOI-DFT-wideband-ML:](NOI-DFT-wideband-ML.ipynb) Musterlösung dazu\n",
    "* [NOI-Quantisierungsfehler:](NOI-Quantisierungsfehler.ipynb) Quantisierungsfehler und Signal-Rauschabstand von quantisierten Signalen\n",
    "* [NOI-Zufallsprozesse:](NOI-Zufallsprozesse.ipynb) Verschiedene Zufallsprozesse und ihre Eigenschaften\n",
    "* [NOI-Wahrscheinlichkeitsdichte:](NOI-Wahrscheinlichkeitsdichte.ipynb) Einfluss verschiedener Quantisierungs- und Überlaufsoptionen auf die Wahrscheinlichkeitsdichtefunktion des Rauschens"
   ]
  },
  {
   "cell_type": "markdown",
   "metadata": {},
   "source": [
    "***\n",
    "### Copyright\n",
    "\n",
    "(c) 2016 - 2021 Prof. Dr. Christian Münker \n",
    "\n",
    "This jupyter notebook is part of a collection of notebooks on various topics of Digital Signal Processing. The latest version can be found at https://github.com/chipmuenk/dsp.\n",
    "\n",
    "This notebook is provided as [Open Educational Resource](https://en.wikipedia.org/wiki/Open_educational_resources). Feel free to use it for your own purposes. The text is licensed under [Creative Commons Attribution 4.0](https://creativecommons.org/licenses/by/4.0/), the code of the IPython examples under the [MIT license](https://opensource.org/licenses/MIT). Please attribute the work as follows: *Christian Münker, Digital Signal Processing - Vorlesungsunterlagen mit Simulationsbeispielen, 2021*."
   ]
  },
  {
   "cell_type": "code",
   "execution_count": null,
   "metadata": {},
   "outputs": [],
   "source": []
  },
  {
   "cell_type": "code",
   "execution_count": null,
   "metadata": {},
   "outputs": [],
   "source": []
  }
 ],
 "metadata": {
  "anaconda-cloud": {},
  "kernelspec": {
   "display_name": "Python 3",
   "language": "python",
   "name": "python3"
  },
  "language_info": {
   "codemirror_mode": {
    "name": "ipython",
    "version": 3
   },
   "file_extension": ".py",
   "mimetype": "text/x-python",
   "name": "python",
   "nbconvert_exporter": "python",
   "pygments_lexer": "ipython3",
   "version": "3.8.2"
  }
 },
 "nbformat": 4,
 "nbformat_minor": 4
}
