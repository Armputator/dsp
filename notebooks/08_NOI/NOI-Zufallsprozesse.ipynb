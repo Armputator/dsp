{
 "cells": [
  {
   "cell_type": "markdown",
   "metadata": {},
   "source": [
    "<a href=\"_index.ipynb\">&larr; NOI </a>&loz;\n",
    "<a href=\"../../README.md\"> &uarr; TOC &uarr; </a>\n",
    "<img src='../_img/icon.svg' align='right' width='10%'></img>\n",
    "# NOI: Zufallsprozesse\n",
    "\n",
    "Dieses Notebook demonstriert verschiedene Zufallsprozesse und ihre Eigenschaften (ungefiltert und gefiltert). Es werden betrachtet\n",
    "\n",
    "- Gaussverteilung\n",
    "- Gleichförmige Verteilung\n",
    "- Binomialverteilung\n",
    "\n",
    "Die Grafiken wurden für Folien weiterverwendet und sind daher aufwändiger formatiert."
   ]
  },
  {
   "cell_type": "code",
   "execution_count": 1,
   "metadata": {},
   "outputs": [],
   "source": [
    "import os, sys\n",
    "import time\n",
    "\n",
    "module_path = os.path.abspath(os.path.join('..')) # append directory one level up to import path\n",
    "if module_path not in sys.path:  # ... if it hasn't been appended already\n",
    "    sys.path.append(module_path)\n",
    "\n",
    "#%matplotlib widget (interactive) oder inline (statisch, aber funktioniert immer)\n",
    "%matplotlib widget\n",
    "import matplotlib.gridspec as gridspec\n",
    "import matplotlib.pyplot as plt\n",
    "\n",
    "import dsp_fpga_lib as dsp # import and set plot properties\n",
    "import dsp_fpga_fix_lib as fx\n",
    "\n",
    "import numpy as np\n",
    "from numpy import sin, cos, tan, angle, pi, array, arange, log10, zeros, \\\n",
    "  linspace, ones, sqrt\n",
    "from scipy.stats import norm\n",
    "import scipy.signal as sig\n",
    "\n",
    "plt.rcParams[\"figure.figsize\"] = [15, 10]"
   ]
  },
  {
   "cell_type": "markdown",
   "metadata": {},
   "source": [
    "## Random sequences ##\n",
    "Mit Hilfe der `numpy` und `scipy.signal` Bibliotheken können wir leicht verschiedene Zufallssequenzen erzeugen und analysieren. Die bekannteste ist vermutlich die **Gauss** Verteilung, aber **gleichförmige** (uniform) oder **Binomial** Verteilungen kommen in Natur und Technik ebenfalls oft vor."
   ]
  },
  {
   "cell_type": "code",
   "execution_count": 2,
   "metadata": {},
   "outputs": [],
   "source": [
    "N = 10000       # number of data points\n",
    "N_bins = 50     # number of bins for histograms\n",
    "n = arange(N)   # array 0 ... N\n",
    "t = n / N       # arr ay 0 ... 1\n",
    "db_bottom = -60 # display minimum for plotting in dB\n",
    "f_S = 10000       # sampling frequency; bandwidth is f_S / 2 by default\n",
    "# Gaussian distribution with variance sigma and mean mu:\n",
    "sigma = 0.5; mu_n = 0 \n",
    "x_norm = np.random.randn(N) * sigma + mu_n\n",
    "x_norm_ma = sig.lfilter(np.ones(100)/100, 1, x_norm) # Moving Average filter, L=100\n",
    "x_sigma = np.arange(-4 * sigma, 4 * sigma, 0.001)\n",
    "y_sigma = norm.pdf(x_sigma, mu_n, sigma)# Ideal Gaussian bell curve\n",
    "# Uniform distribution in the range 0 ... Delta with mean mu:\n",
    "Delta = np.sqrt(3); mu_u = -Delta/2. # range and mean\n",
    "x_uniform = np.random.rand(N) * Delta + mu_u\n",
    "# Binomial distribution for n_T trials and a success probability p for each trial:\n",
    "n_T = 1; p = 0.5\n",
    "x_binom = np.random.binomial(n_T, p, N)"
   ]
  },
  {
   "cell_type": "markdown",
   "metadata": {},
   "source": [
    "Der nächste Plot zeigt ein zufälliges Signal (jedes Mal wenn Sie die vorige Zelle ablaufen lassen, ändert sich der Plot). Man sieht dem Signal an, dass die Werte nicht unabhängig von einander sind, dies wurde erreicht durch eine Tiefpassfilterung der Daten mit einem Moving Average Filter."
   ]
  },
  {
   "cell_type": "code",
   "execution_count": 3,
   "metadata": {
    "tags": []
   },
   "outputs": [
    {
     "data": {
      "application/vnd.jupyter.widget-view+json": {
       "model_id": "7e5b68f536034167a4675966ba26da57",
       "version_major": 2,
       "version_minor": 0
      },
      "text/plain": [
       "Canvas(toolbar=Toolbar(toolitems=[('Home', 'Reset original view', 'home', 'home'), ('Back', 'Back to previous …"
      ]
     },
     "metadata": {},
     "output_type": "display_data"
    }
   ],
   "source": [
    "fig1, ax1 = plt.subplots(1, figsize=(8,3))\n",
    "ax1.plot(t, x_norm_ma)\n",
    "ax1.set_xlabel(r'$t \\,/ \\, \\mathrm{s}\\, \\rightarrow$')\n",
    "ax1.set_ylabel(r'$v_n \\,/ \\,\\mathrm{V} \\,\\rightarrow$');\n",
    "# fig1.savefig(\"random.svg\", transparent=True, pad_inches=0) # optional, save to file"
   ]
  },
  {
   "cell_type": "markdown",
   "metadata": {},
   "source": [
    "Auch mehr oder weniger zufällige Prozesse kann man sie mit Hilfe ihrer statistischen Parameter (Mittelwert, Varianz), ihrer Wahrscheinlichkeitsdichtefunktion (PDF, probability density function), ihrer Autokorrelationsfunktion (AKF) und des Spektrums der PDF charakterisieren. Zunächst schauen wir uns zwei verschiedene Verteilungsdichtefunktionen an, normal- oder gaussverteilte Folgen und gleichverteilte Folgen."
   ]
  },
  {
   "cell_type": "code",
   "execution_count": 4,
   "metadata": {},
   "outputs": [
    {
     "data": {
      "application/vnd.jupyter.widget-view+json": {
       "model_id": "57bbbc8d488d40b7b4a13fa761fe23e2",
       "version_major": 2,
       "version_minor": 0
      },
      "text/plain": [
       "Canvas(toolbar=Toolbar(toolitems=[('Home', 'Reset original view', 'home', 'home'), ('Back', 'Back to previous …"
      ]
     },
     "metadata": {},
     "output_type": "display_data"
    }
   ],
   "source": [
    "rnd_type = \"Normal\" # \"Uniform\", \"Normal\", \"Binomial\"\n",
    "fig2 = plt.figure(figsize=(13,4))\n",
    "gs = gridspec.GridSpec(1, 2, width_ratios=[3, 1]) \n",
    "ax2a = plt.subplot(gs[0])\n",
    "#ax2a.set_title(rnd_type + ' Distribution')\n",
    "if rnd_type=='Normal':\n",
    "    ax2a.plot(t, x_norm, label = r'$\\sigma = {0}, \\mu = {1}$'.format(sigma, mu_n))\n",
    "    ax2a.set_ylabel(r'$x_{norm}\\rightarrow$')\n",
    "    x_rnd = x_norm\n",
    "elif rnd_type=='Uniform':\n",
    "    ax2a.plot(t, x_uniform, label = r'$\\Delta = {0}, \\mu = {1}$'.format(Delta, mu_u))\n",
    "    ax2a.set_ylabel(r'$x_{uniform}\\rightarrow$')\n",
    "    x_rnd = x_uniform\n",
    "elif rnd_type=='Binomial':\n",
    "    ax2a.plot(t, x_binom, label = r'$p = {0}, n_T = {1}$'.format(p, n_T))\n",
    "    ax2a.set_ylabel(r'$x_{binom}\\rightarrow$')\n",
    "    x_rnd = x_binom\n",
    "ax2a.legend(fontsize = 14)\n",
    "ax2a.set_xlabel(r'$n \\rightarrow$');\n",
    "ax2b= plt.subplot(gs[1])\n",
    "ax2b.hist(x_rnd, bins=N_bins, range=None, density=True, align=u'mid', orientation=u'horizontal', label='{0} Bins'.format(N_bins))\n",
    "if rnd_type=='Normal':\n",
    "    ax2b.plot(y_sigma, x_sigma, lw=3, label=\"ideal\")\n",
    "elif rnd_type=='Uniform':\n",
    "    ax2b.plot([0, 1/Delta, 1/Delta, 0],[mu_u, mu_u, Delta+mu_u,Delta+mu_u], lw=3, label=\"ideal\")\n",
    "ax2b.legend(fontsize = 14)\n",
    "ax2b.set_xlabel(r'$p \\rightarrow$')\n",
    "ax2b.set_ylim(ax2a.get_ylim())\n",
    "fig2.set_tight_layout(True);\n",
    "#fig2.savefig(rnd_type + \".svg\")"
   ]
  },
  {
   "cell_type": "code",
   "execution_count": 5,
   "metadata": {},
   "outputs": [
    {
     "data": {
      "application/vnd.jupyter.widget-view+json": {
       "model_id": "9810efbe0c5a48f8904870aa83dd6b30",
       "version_major": 2,
       "version_minor": 0
      },
      "text/plain": [
       "Canvas(toolbar=Toolbar(toolitems=[('Home', 'Reset original view', 'home', 'home'), ('Back', 'Back to previous …"
      ]
     },
     "metadata": {},
     "output_type": "display_data"
    }
   ],
   "source": [
    "bbox_props = dict(boxstyle=\"round\", fc=\"w\", ec=\"0.5\", alpha=0.9) # properties for annotation box\n",
    "rnd_type = \"Normal\" # \"Uniform\", \"Normal\", \"Binomial\"\n",
    "fig2 = plt.figure(figsize=(13,4))\n",
    "gs = gridspec.GridSpec(1, 3, width_ratios=[2, 1, 1]) \n",
    "ax2a = plt.subplot(gs[0])\n",
    "ax2a.set_title('Random Process')\n",
    "if rnd_type=='Normal':\n",
    "    ax2a.plot(t, x_norm, label = r'$\\sigma = {0}, \\mu = {1}$'.format(sigma, mu_n))\n",
    "    ax2a.set_ylabel(r'$x_{norm}\\; \\rightarrow$')\n",
    "    x_rnd = x_norm\n",
    "elif rnd_type=='Uniform':\n",
    "    ax2a.plot(n, x_uniform, label = r'$\\Delta = {0}, \\mu = {1}$'.format(Delta, mu_u))\n",
    "    ax2a.set_ylabel(r'$x_{uniform}\\; \\rightarrow$')\n",
    "    x_rnd = x_uniform\n",
    "elif rnd_type=='Binomial':\n",
    "    ax2a.plot(x_binom, label = r'$p = {0}, n_T = {1}$'.format(p, n_T))\n",
    "    ax2a.set_ylabel(r'$x_{binom} \\;\\rightarrow$')\n",
    "    x_rnd = x_binom\n",
    "ax2a.legend(fontsize = 14)\n",
    "ax2a.set_xlabel(r'$t \\; \\rightarrow$');\n",
    "ax2b= plt.subplot(gs[1])\n",
    "ax2b.set_title('Autocorrelation Function')\n",
    "acf = sig.correlate(x_rnd, x_rnd, mode='same')/N\n",
    "ax2b.plot(t - 0.5, acf)\n",
    "ax2b.set_xlabel(r'$\\Delta \\, t \\; \\rightarrow$')\n",
    "ax2b.set_ylabel(r'$r_{xx} \\; \\rightarrow$')\n",
    "ax2b = plt.subplot(gs[2])\n",
    "ax2b.set_title('PSD in V²/Hz')\n",
    "f, Nxx = sig.periodogram(x_rnd, f_S)\n",
    "ax2b.plot(f, np.clip(10*log10(Nxx), db_bottom, np.inf))\n",
    "\n",
    "ax2b.annotate(r'$\\Delta f\\, \\overline{{N_{{XX}}}} ={0:.3g}\\mathrm{{V}}^2$'.format(np.mean(Nxx)*f_S/2), xy=(0.95, 0.1), \n",
    "              xycoords='axes fraction', ha='right', bbox=bbox_props)\n",
    "ax2b.set_xlabel(r'$f \\; \\rightarrow$')\n",
    "ax2b.set_ylabel(r'10 log $N_{XX}\\; \\rightarrow$')\n",
    "fig2.set_tight_layout(True);\n",
    "#fig2.savefig(rnd_type + \"_acf.svg\")"
   ]
  },
  {
   "cell_type": "code",
   "execution_count": 11,
   "metadata": {},
   "outputs": [
    {
     "data": {
      "application/vnd.jupyter.widget-view+json": {
       "model_id": "6634fe5631984250b817e916d13a73f2",
       "version_major": 2,
       "version_minor": 0
      },
      "text/plain": [
       "Canvas(toolbar=Toolbar(toolitems=[('Home', 'Reset original view', 'home', 'home'), ('Back', 'Back to previous …"
      ]
     },
     "metadata": {},
     "output_type": "display_data"
    }
   ],
   "source": [
    "bbox_props = dict(boxstyle=\"round\", fc=\"w\", ec=\"0.5\", alpha=0.9) # properties for annotation box\n",
    "fig3 = plt.figure(figsize=(13,10))\n",
    "gs = gridspec.GridSpec(3, 4, width_ratios=[1.5, 1, 1, 1])\n",
    "ax31a = plt.subplot(gs[0])\n",
    "ax31a.set_title('Normal Distribution')\n",
    "ax31a.plot(t, x_norm, label = r'$\\sigma = {0:.3g}, \\mu = {1}$'.format(sigma, mu_n))\n",
    "ax31a.legend(fontsize = 14)\n",
    "ax31a.set_ylabel(r'$x_{norm}\\; \\rightarrow$')\n",
    "ax31b = plt.subplot(gs[1])\n",
    "ax31b.set_title('Probability Density Function')\n",
    "ax31b.hist(x_norm, bins=N_bins, range=None, density=True, \n",
    "          align=u'mid', orientation=u'horizontal', label=None)\n",
    "ax31b.plot(y_sigma, x_sigma, lw=3)\n",
    "ax31b.set_ylim(ax31a.get_ylim())\n",
    "ax31c = plt.subplot(gs[2])\n",
    "ax31c.set_title('Autocorrelation Function')\n",
    "acf = sig.correlate(x_norm, x_norm, mode='same')/N\n",
    "ax31c.plot(t - 0.5, acf)\n",
    "ax31c.set_ylabel(r'$r_{xx,norm} \\; \\rightarrow$')\n",
    "ax31d = plt.subplot(gs[3])\n",
    "ax31d.set_title('PSD in V²/Hz')\n",
    "f, Nxx_n = sig.periodogram(x_norm, f_S)\n",
    "ax31d.plot(f, np.clip(10*log10(Nxx_n), db_bottom, np.inf))\n",
    "ax31d.annotate(r'$\\Delta f \\; \\overline{{N_{{XX,n}}}}=\\sigma^2={0:.3g}\\mathrm{{V}}^2$'.format(np.mean(Nxx_n)*f_S/2), xy=(0.95, 0.1), \n",
    "              xycoords='axes fraction', ha='right',bbox=bbox_props)\n",
    "ax31d.set_ylabel(r'$\\Delta f\\; N_{XX, norm}\\; \\rightarrow$')\n",
    "\n",
    "ax32a = plt.subplot(gs[4])\n",
    "ax32a.set_title('Uniform Distribution')\n",
    "ax32a.plot(t, x_uniform, label = r'$\\Delta = {0:.3g}, \\mu = {1:.3g}$'.format(Delta, mu_u))\n",
    "ax32a.legend(fontsize = 14)\n",
    "ax32a.set_ylabel(r'$x_{uniform} \\; \\rightarrow$')\n",
    "ax32b = plt.subplot(gs[5])\n",
    "ax32b.hist(x_uniform, bins=N_bins, range=None, density=True, \n",
    "          align=u'mid', orientation=u'horizontal', label=None)\n",
    "ax32b.plot([0, 1/Delta, 1/Delta, 0],[mu_u, mu_u, Delta+mu_u,Delta+mu_u], lw=3)\n",
    "ax32b.set_ylim(ax32a.get_ylim())\n",
    "ax32c = plt.subplot(gs[6])\n",
    "acf = sig.correlate(x_uniform, x_uniform, mode='same')/N\n",
    "ax32c.plot(t - 0.5, acf)\n",
    "ax32c.set_ylabel(r'$r_{xx,uniform} \\; \\rightarrow$')\n",
    "ax32d = plt.subplot(gs[7])\n",
    "f, Nxx_u = sig.periodogram(x_uniform, f_S)\n",
    "ax32d.plot(f, np.clip(10*log10(Nxx_u), db_bottom, np.inf))\n",
    "ax32d.annotate(r'$\\Delta f\\; \\overline{{N_{{XX,u}}}}=\\frac{{\\Delta^2}}{{12}}={0:.3g}\\mathrm{{V}}^2$'.\n",
    "              format(np.mean(Nxx_u)*f_S/2), xy=(0.95, 0.1), xycoords='axes fraction', ha='right',bbox=bbox_props)\n",
    "ax32d.set_ylabel(r'10 log $N_{XX, uniform} \\; \\rightarrow$')\n",
    "#\n",
    "ax33a = plt.subplot(gs[8])\n",
    "ax33a.set_title('Binomial Distribution')\n",
    "ax33a.plot(t, x_binom, label = r'$p = {0}, n_T = {1}$'.format(p, n_T))\n",
    "ax33a.set_xlabel(r'$t \\; \\rightarrow$')\n",
    "ax33a.set_ylabel(r'$x_{binom} \\; \\rightarrow$')\n",
    "ax33a.legend(fontsize = 14)\n",
    "ax33b = plt.subplot(gs[9])\n",
    "ax33b.hist(x_binom, bins=N_bins, range=None, density=True, \n",
    "          align=u'mid', orientation=u'horizontal', label=None)\n",
    "ax33b.set_xlabel(r'$p \\; \\rightarrow$')\n",
    "ax33b.set_ylim(ax33a.get_ylim())\n",
    "ax33c = plt.subplot(gs[10])\n",
    "acf = sig.correlate(x_binom - 0.5, x_binom -0.5, mode='same')/N # need to remove DC component\n",
    "ax33c.plot(t - 0.5, acf)\n",
    "ax33c.set_xlabel(r'$\\Delta \\, t \\;\\rightarrow$')\n",
    "ax33c.set_ylabel(r'$r_{xx,binom} \\; \\rightarrow$')\n",
    "\n",
    "ax33d = plt.subplot(gs[11])\n",
    "f, Nxx_b = sig.periodogram(x_binom, f_S)\n",
    "ax33d.plot(f, np.clip(10*log10(Nxx_b), db_bottom, np.inf))\n",
    "ax33d.annotate(r'$\\Delta f\\;\\overline{{N_{{XX,b}}}}=p(1-p)={0:.3g}\\mathrm{{V}}^2$'.format(np.mean(Nxx_b)*f_S/2), xy=(0.95, 0.1), \n",
    "              xycoords='axes fraction', ha='right',bbox=bbox_props)\n",
    "ax33d.set_xlabel(r'$f \\; \\rightarrow$')\n",
    "ax33d.set_ylabel(r'10 log $N_{XX, binom}\\; \\rightarrow$')\n",
    "\n",
    "fig3.set_tight_layout(True)\n",
    "# fig3.savefig(\"white_noise.svg\")"
   ]
  },
  {
   "cell_type": "markdown",
   "metadata": {},
   "source": [
    "Wenn man Zufallsprozesse tiefpassfiltert, konzentriert sich die Energie stärker um den Mittelwert. Die AKF verbreitert sich und deren Spektrum ist dementsprechend nicht mehr weiß:"
   ]
  },
  {
   "cell_type": "code",
   "execution_count": 7,
   "metadata": {},
   "outputs": [],
   "source": [
    "x_rnd = x_norm # x_norm, x_uniform, x_binom\n",
    "b, a = sig.iirfilter(6, [0.05], rs=60, rp=0.1, btype='lowpass', ftype='butter') # define IIR filter with f_c = 0.005 f_S\n",
    "x_rnd_filt = sig.lfilter(b, a, x_rnd)"
   ]
  },
  {
   "cell_type": "code",
   "execution_count": 10,
   "metadata": {},
   "outputs": [
    {
     "data": {
      "application/vnd.jupyter.widget-view+json": {
       "model_id": "2122b4c4fff442388d0f072f58ca5f32",
       "version_major": 2,
       "version_minor": 0
      },
      "text/plain": [
       "Canvas(toolbar=Toolbar(toolitems=[('Home', 'Reset original view', 'home', 'home'), ('Back', 'Back to previous …"
      ]
     },
     "metadata": {},
     "output_type": "display_data"
    }
   ],
   "source": [
    "fig4 = plt.figure(figsize=(13,4))\n",
    "gs = gridspec.GridSpec(1, 4, width_ratios=[1.5, 1, 1, 1])\n",
    "ax4a = plt.subplot(gs[0])\n",
    "ax4a.set_title('Filtered Normal Distribution')\n",
    "ax4a.plot(n, x_rnd_filt, label = r'$\\sigma = {0}, \\mu = {1}$'.format(sigma, mu_n))\n",
    "ax4a.legend(fontsize = 14)\n",
    "ax4a.set_ylabel(r'$x_{norm}\\rightarrow$')\n",
    "ax4b = plt.subplot(gs[1])\n",
    "ax4b.set_title('PDF')\n",
    "ax4b.hist(x_rnd_filt, bins=N_bins, range=None, density=True, \n",
    "          align=u'mid', orientation=u'horizontal', label=None)\n",
    "ax4b.set_ylim(ax4a.get_ylim())\n",
    "ax4c = plt.subplot(gs[2])\n",
    "ax4c.set_title('ACF')\n",
    "acf = sig.correlate(x_rnd_filt, x_rnd_filt, mode='same')/N\n",
    "ax4c.plot(n-N/2, acf)\n",
    "ax4c.set_ylabel(r'$r_{xx,norm} \\rightarrow$')\n",
    "ax4d = plt.subplot(gs[3])\n",
    "ax4d.set_title('PSD in V²/Hz')\n",
    "f, Nxx_n = sig.periodogram(x_rnd_filt, f_S)\n",
    "ax4d.plot(f, np.clip(10*log10(Nxx_n), db_bottom, np.inf))\n",
    "ax4d.annotate(r'$\\overline{{N_{{XX,n}}}}={0:.3g}\\mathrm{{V}}^2$'.format(np.mean(Nxx_n)*f_S/2), xy=(0.9, 0.1), \n",
    "              xycoords='axes fraction', ha='right')\n",
    "ax4d.set_ylabel(r'$N_{XX, norm}$ in dB')\n",
    "fig4.tight_layout()"
   ]
  },
  {
   "cell_type": "markdown",
   "metadata": {},
   "source": [
    "Durch lineare Tiefpassfilterung nähert sich die PDF von Zufallsprozessen einer Gaussverteilung. Das kann man interpretieren als ein Beispiel für den zentralen Grenzwertsatz der Statistik (die Überlagerung von vielen Zufallsprozessen nähert sich immer mehr einer Normalverteilung an), da ein Tiefpassfilter zeitverschobene und skalierte Kopien des Eingangssignals aufsummiert."
   ]
  },
  {
   "cell_type": "code",
   "execution_count": 9,
   "metadata": {},
   "outputs": [
    {
     "data": {
      "application/vnd.jupyter.widget-view+json": {
       "model_id": "4bde4be4003642ac8df8f3837332a0ea",
       "version_major": 2,
       "version_minor": 0
      },
      "text/plain": [
       "Canvas(toolbar=Toolbar(toolitems=[('Home', 'Reset original view', 'home', 'home'), ('Back', 'Back to previous …"
      ]
     },
     "metadata": {},
     "output_type": "display_data"
    }
   ],
   "source": [
    "# x_norm, x_uniform, x_binom\n",
    "b, a = sig.iirfilter(6, [0.1], rs=60, rp=1, btype='lowpass', ftype='ellip') # define filter\n",
    "x_uniform_filt = sig.lfilter(b, a, x_uniform)\n",
    "x_norm_filt = sig.lfilter(b, a, x_norm)\n",
    "fig5 = plt.figure(figsize=(13,8))\n",
    "gs = gridspec.GridSpec(2, 3, width_ratios=[2, 1, 1]) \n",
    "ax51a = plt.subplot(gs[0])\n",
    "ax51a.set_title('Low-Pass Filtered Uniform Distribution ($f_c = {0}\\, f_S$)'.format(0.1))\n",
    "ax51a.plot(n, x_uniform_filt, label = r'$\\Delta = {0:.3g}$, $\\mu = {1:.3g}$'.format(Delta, mu_u))\n",
    "ax51a.legend(fontsize = 14)\n",
    "ax51a.set_ylabel(r'$x_{uniform} \\rightarrow$')\n",
    "ax51a.set_ylim((Delta+mu_u)*1.03, mu_u*1.03)\n",
    "ax51b = plt.subplot(gs[1])\n",
    "ax51b.hist(x_uniform_filt, bins=N_bins, range=None, density=True, \n",
    "          align=u'mid', orientation=u'horizontal', label=\"filtered process\")\n",
    "# ax51b.plot([0, 1/Delta, 1/Delta, 0],[0,0,Delta,Delta]) # Binomial Distribution\n",
    "ax51b.plot([0, 1/Delta, 1/Delta, 0],[mu_u, mu_u, Delta+mu_u,Delta+mu_u], lw=3, label=\"original process\")\n",
    "ax51b.set_title(r'PDF')\n",
    "ax51b.set_xlabel(r'$p \\rightarrow$')\n",
    "ax51b.set_ylim(ax51a.get_ylim())\n",
    "ax51b.legend()\n",
    "ax51c = plt.subplot(gs[2])\n",
    "ax51c.plot(20*np.log10(np.abs(np.fft.fft(x_uniform_filt)[:N//2])))\n",
    "ax51c.set_title('PSD')\n",
    "ax51c.set_xlabel(r'$f \\rightarrow$')\n",
    "ax51c.set_ylabel(r'$|N_{xx,uniform}|\\rightarrow$')\n",
    "#\n",
    "ax54 = plt.subplot(gs[3])\n",
    "ax54.set_title('Low-Pass Filtered Normal Distribution')\n",
    "ax54.plot(n, x_norm_filt, label = r'$\\sigma = {0:.3g}, \\mu = {1:.3g}$'.format(sigma, mu_n))\n",
    "ax54.legend(fontsize = 14)\n",
    "ax54.set_xlabel(r'$n \\rightarrow$');\n",
    "ax54.set_ylabel(r'$x_{norm}\\rightarrow$')\n",
    "ax54.set_ylim([-2 * sigma, 2 * sigma])\n",
    "ax55 = plt.subplot(gs[4])\n",
    "\n",
    "ax55.hist(x_norm_filt, bins=N_bins, range=None, density=True, \n",
    "          align=u'mid', orientation=u'horizontal', label=\"filtered process\")\n",
    "ax55.plot(y_sigma, x_sigma, lw=3, label=\"original process\")\n",
    "ax55.set_xlabel(r'$p \\rightarrow$')\n",
    "ax55.set_ylim(ax54.get_ylim())\n",
    "ax55.legend()\n",
    "ax56 = plt.subplot(gs[5])\n",
    "ax56.plot(20*np.log10(np.abs(np.fft.fft(x_norm_filt)[:N//2])))\n",
    "ax56.set_xlabel(r'$f \\rightarrow$')\n",
    "ax56.set_ylabel(r'$|N_{xx,norm}|\\rightarrow$')\n",
    "#\n",
    "fig5.tight_layout()"
   ]
  },
  {
   "cell_type": "markdown",
   "metadata": {},
   "source": [
    "***\n",
    "### Copyright\n",
    "\n",
    "(c) 2016 - 2021 Prof. Dr. Christian Münker \n",
    "\n",
    "This jupyter notebook is part of a collection of notebooks on various topics of Digital Signal Processing. The latest version can be found at https://github.com/chipmuenk/dsp.\n",
    "\n",
    "This notebook is provided as [Open Educational Resource](https://en.wikipedia.org/wiki/Open_educational_resources). Feel free to use it for your own purposes. The text is licensed under [Creative Commons Attribution 4.0](https://creativecommons.org/licenses/by/4.0/), the code of the IPython examples under the [MIT license](https://opensource.org/licenses/MIT). Please attribute the work as follows: *Christian Münker, Digital Signal Processing - Vorlesungsunterlagen mit Simulationsbeispielen, 2021*."
   ]
  }
 ],
 "metadata": {
  "anaconda-cloud": {},
  "kernelspec": {
   "display_name": "Python 3",
   "language": "python",
   "name": "python3"
  },
  "language_info": {
   "codemirror_mode": {
    "name": "ipython",
    "version": 3
   },
   "file_extension": ".py",
   "mimetype": "text/x-python",
   "name": "python",
   "nbconvert_exporter": "python",
   "pygments_lexer": "ipython3",
   "version": "3.9.5"
  }
 },
 "nbformat": 4,
 "nbformat_minor": 4
}
