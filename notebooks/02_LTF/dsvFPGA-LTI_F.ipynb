{
 "cells": [
  {
   "cell_type": "markdown",
   "metadata": {},
   "source": [
    "# Zeitdiskrete Systeme im Frequenzbereich\n",
    "This jupyter notebook is part of a collection of notebooks on various topics of Digital Signal Processing hosted @ https://github.com/chipmuenk/dsp_fpga \"Digitale Signalverarbeitung auf FPGAs\"\n",
    "\n",
    "(c) 2016, 2017 Prof. Dr. Christian Münker "
   ]
  },
  {
   "cell_type": "code",
   "execution_count": 9,
   "metadata": {
    "collapsed": true
   },
   "outputs": [],
   "source": [
    "from __future__ import print_function, division\n",
    "%matplotlib inline\n",
    "from IPython.core.display import Image, display\n",
    "import scipy.signal as sig\n",
    "#import my_dsp_lib_v2 as dsp\n",
    "imgpath = 'D:/Daten/HM/dsvFPGA/python/IPy_Notebooks/dsvFPGA/' # local operation\n",
    "imgpath = '../img/'\n",
    "FigSize = (10,5) # size of figures in inches"
   ]
  },
  {
   "cell_type": "markdown",
   "metadata": {},
   "source": [
    "<!-- example for static HTML image embedded in MarkDown\n",
    "![Menschen und Python](http://imgs.xkcd.com/comics/reassuring.png) \n",
    "MarkDown allows no alignment and scaling, but HTML/CSS does: \n",
    "\n",
    "<p style=\"text-align:center; font-weight:bold\">\n",
    "<img src=\"http://imgs.xkcd.com/comics/reassuring.png\" />\n",
    "<br />Python macht glücklich ...\n",
    "</p>-->\n",
    "\n",
    "In diesem Kapitel betrachten wir zunächst das System zur Verarbeitung von zeitdiskreten Sensorsignalen im Frequenzbereich.\n"
   ]
  },
  {
   "cell_type": "code",
   "execution_count": 10,
   "metadata": {},
   "outputs": [
    {
     "ename": "FileNotFoundError",
     "evalue": "[Errno 2] No such file or directory: '../img/ueb-LTI-MA.png'",
     "output_type": "error",
     "traceback": [
      "\u001b[1;31m---------------------------------------------------------------------------\u001b[0m",
      "\u001b[1;31mFileNotFoundError\u001b[0m                         Traceback (most recent call last)",
      "\u001b[1;32m<ipython-input-10-39070520e18c>\u001b[0m in \u001b[0;36m<module>\u001b[1;34m()\u001b[0m\n\u001b[1;32m----> 1\u001b[1;33m \u001b[0mdisplay\u001b[0m\u001b[1;33m(\u001b[0m\u001b[0mImage\u001b[0m\u001b[1;33m(\u001b[0m\u001b[0mfilename\u001b[0m \u001b[1;33m=\u001b[0m \u001b[0mimgpath\u001b[0m \u001b[1;33m+\u001b[0m \u001b[1;34m'ueb-LTI-MA.png'\u001b[0m\u001b[1;33m)\u001b[0m\u001b[1;33m)\u001b[0m\u001b[1;33m\u001b[0m\u001b[0m\n\u001b[0m\u001b[0;32m      2\u001b[0m \u001b[0mdisplay\u001b[0m\u001b[1;33m(\u001b[0m\u001b[0mImage\u001b[0m\u001b[1;33m(\u001b[0m\u001b[0mfilename\u001b[0m \u001b[1;33m=\u001b[0m \u001b[0mimgpath\u001b[0m \u001b[1;33m+\u001b[0m \u001b[1;34m'ueb-LTI-kask_MA.png'\u001b[0m\u001b[1;33m)\u001b[0m\u001b[1;33m)\u001b[0m\u001b[1;33m\u001b[0m\u001b[0m\n",
      "\u001b[1;32m/home/muenker/anaconda3/lib/python3.5/site-packages/IPython/core/display.py\u001b[0m in \u001b[0;36m__init__\u001b[1;34m(self, data, url, filename, format, embed, width, height, retina, unconfined, metadata)\u001b[0m\n\u001b[0;32m    749\u001b[0m         \u001b[0mself\u001b[0m\u001b[1;33m.\u001b[0m\u001b[0munconfined\u001b[0m \u001b[1;33m=\u001b[0m \u001b[0munconfined\u001b[0m\u001b[1;33m\u001b[0m\u001b[0m\n\u001b[0;32m    750\u001b[0m         \u001b[0mself\u001b[0m\u001b[1;33m.\u001b[0m\u001b[0mmetadata\u001b[0m \u001b[1;33m=\u001b[0m \u001b[0mmetadata\u001b[0m\u001b[1;33m\u001b[0m\u001b[0m\n\u001b[1;32m--> 751\u001b[1;33m         \u001b[0msuper\u001b[0m\u001b[1;33m(\u001b[0m\u001b[0mImage\u001b[0m\u001b[1;33m,\u001b[0m \u001b[0mself\u001b[0m\u001b[1;33m)\u001b[0m\u001b[1;33m.\u001b[0m\u001b[0m__init__\u001b[0m\u001b[1;33m(\u001b[0m\u001b[0mdata\u001b[0m\u001b[1;33m=\u001b[0m\u001b[0mdata\u001b[0m\u001b[1;33m,\u001b[0m \u001b[0murl\u001b[0m\u001b[1;33m=\u001b[0m\u001b[0murl\u001b[0m\u001b[1;33m,\u001b[0m \u001b[0mfilename\u001b[0m\u001b[1;33m=\u001b[0m\u001b[0mfilename\u001b[0m\u001b[1;33m)\u001b[0m\u001b[1;33m\u001b[0m\u001b[0m\n\u001b[0m\u001b[0;32m    752\u001b[0m \u001b[1;33m\u001b[0m\u001b[0m\n\u001b[0;32m    753\u001b[0m         \u001b[1;32mif\u001b[0m \u001b[0mretina\u001b[0m\u001b[1;33m:\u001b[0m\u001b[1;33m\u001b[0m\u001b[0m\n",
      "\u001b[1;32m/home/muenker/anaconda3/lib/python3.5/site-packages/IPython/core/display.py\u001b[0m in \u001b[0;36m__init__\u001b[1;34m(self, data, url, filename)\u001b[0m\n\u001b[0;32m    386\u001b[0m         \u001b[0mself\u001b[0m\u001b[1;33m.\u001b[0m\u001b[0mfilename\u001b[0m \u001b[1;33m=\u001b[0m \u001b[1;32mNone\u001b[0m \u001b[1;32mif\u001b[0m \u001b[0mfilename\u001b[0m \u001b[1;32mis\u001b[0m \u001b[1;32mNone\u001b[0m \u001b[1;32melse\u001b[0m \u001b[0municode_type\u001b[0m\u001b[1;33m(\u001b[0m\u001b[0mfilename\u001b[0m\u001b[1;33m)\u001b[0m\u001b[1;33m\u001b[0m\u001b[0m\n\u001b[0;32m    387\u001b[0m \u001b[1;33m\u001b[0m\u001b[0m\n\u001b[1;32m--> 388\u001b[1;33m         \u001b[0mself\u001b[0m\u001b[1;33m.\u001b[0m\u001b[0mreload\u001b[0m\u001b[1;33m(\u001b[0m\u001b[1;33m)\u001b[0m\u001b[1;33m\u001b[0m\u001b[0m\n\u001b[0m\u001b[0;32m    389\u001b[0m         \u001b[0mself\u001b[0m\u001b[1;33m.\u001b[0m\u001b[0m_check_data\u001b[0m\u001b[1;33m(\u001b[0m\u001b[1;33m)\u001b[0m\u001b[1;33m\u001b[0m\u001b[0m\n\u001b[0;32m    390\u001b[0m \u001b[1;33m\u001b[0m\u001b[0m\n",
      "\u001b[1;32m/home/muenker/anaconda3/lib/python3.5/site-packages/IPython/core/display.py\u001b[0m in \u001b[0;36mreload\u001b[1;34m(self)\u001b[0m\n\u001b[0;32m    771\u001b[0m         \u001b[1;34m\"\"\"Reload the raw data from file or URL.\"\"\"\u001b[0m\u001b[1;33m\u001b[0m\u001b[0m\n\u001b[0;32m    772\u001b[0m         \u001b[1;32mif\u001b[0m \u001b[0mself\u001b[0m\u001b[1;33m.\u001b[0m\u001b[0membed\u001b[0m\u001b[1;33m:\u001b[0m\u001b[1;33m\u001b[0m\u001b[0m\n\u001b[1;32m--> 773\u001b[1;33m             \u001b[0msuper\u001b[0m\u001b[1;33m(\u001b[0m\u001b[0mImage\u001b[0m\u001b[1;33m,\u001b[0m\u001b[0mself\u001b[0m\u001b[1;33m)\u001b[0m\u001b[1;33m.\u001b[0m\u001b[0mreload\u001b[0m\u001b[1;33m(\u001b[0m\u001b[1;33m)\u001b[0m\u001b[1;33m\u001b[0m\u001b[0m\n\u001b[0m\u001b[0;32m    774\u001b[0m             \u001b[1;32mif\u001b[0m \u001b[0mself\u001b[0m\u001b[1;33m.\u001b[0m\u001b[0mretina\u001b[0m\u001b[1;33m:\u001b[0m\u001b[1;33m\u001b[0m\u001b[0m\n\u001b[0;32m    775\u001b[0m                 \u001b[0mself\u001b[0m\u001b[1;33m.\u001b[0m\u001b[0m_retina_shape\u001b[0m\u001b[1;33m(\u001b[0m\u001b[1;33m)\u001b[0m\u001b[1;33m\u001b[0m\u001b[0m\n",
      "\u001b[1;32m/home/muenker/anaconda3/lib/python3.5/site-packages/IPython/core/display.py\u001b[0m in \u001b[0;36mreload\u001b[1;34m(self)\u001b[0m\n\u001b[0;32m    404\u001b[0m         \u001b[1;34m\"\"\"Reload the raw data from file or URL.\"\"\"\u001b[0m\u001b[1;33m\u001b[0m\u001b[0m\n\u001b[0;32m    405\u001b[0m         \u001b[1;32mif\u001b[0m \u001b[0mself\u001b[0m\u001b[1;33m.\u001b[0m\u001b[0mfilename\u001b[0m \u001b[1;32mis\u001b[0m \u001b[1;32mnot\u001b[0m \u001b[1;32mNone\u001b[0m\u001b[1;33m:\u001b[0m\u001b[1;33m\u001b[0m\u001b[0m\n\u001b[1;32m--> 406\u001b[1;33m             \u001b[1;32mwith\u001b[0m \u001b[0mopen\u001b[0m\u001b[1;33m(\u001b[0m\u001b[0mself\u001b[0m\u001b[1;33m.\u001b[0m\u001b[0mfilename\u001b[0m\u001b[1;33m,\u001b[0m \u001b[0mself\u001b[0m\u001b[1;33m.\u001b[0m\u001b[0m_read_flags\u001b[0m\u001b[1;33m)\u001b[0m \u001b[1;32mas\u001b[0m \u001b[0mf\u001b[0m\u001b[1;33m:\u001b[0m\u001b[1;33m\u001b[0m\u001b[0m\n\u001b[0m\u001b[0;32m    407\u001b[0m                 \u001b[0mself\u001b[0m\u001b[1;33m.\u001b[0m\u001b[0mdata\u001b[0m \u001b[1;33m=\u001b[0m \u001b[0mf\u001b[0m\u001b[1;33m.\u001b[0m\u001b[0mread\u001b[0m\u001b[1;33m(\u001b[0m\u001b[1;33m)\u001b[0m\u001b[1;33m\u001b[0m\u001b[0m\n\u001b[0;32m    408\u001b[0m         \u001b[1;32melif\u001b[0m \u001b[0mself\u001b[0m\u001b[1;33m.\u001b[0m\u001b[0murl\u001b[0m \u001b[1;32mis\u001b[0m \u001b[1;32mnot\u001b[0m \u001b[1;32mNone\u001b[0m\u001b[1;33m:\u001b[0m\u001b[1;33m\u001b[0m\u001b[0m\n",
      "\u001b[1;31mFileNotFoundError\u001b[0m: [Errno 2] No such file or directory: '../img/ueb-LTI-MA.png'"
     ]
    }
   ],
   "source": [
    "display(Image(filename = imgpath + 'ueb-LTI-MA.png'))\n",
    "display(Image(filename = imgpath + 'ueb-LTI-kask_MA.png'))\n"
   ]
  },
  {
   "cell_type": "code",
   "execution_count": null,
   "metadata": {
    "collapsed": true
   },
   "outputs": [],
   "source": [
    "# Define Signal and Filter\n",
    "Ts = 1/200.0     # sampling period\n",
    "fsig = 50.0      # signal frequency\n",
    "phi0  = 0        # signal initial phase\n",
    "tstep = 1e-3     # time step for \"analog\" signal\n",
    "Tmax = 6.0/fsig  # timespan for 6 signal periods \n",
    "N_Ts = Tmax / Ts # number of samples in Tmax\n",
    "# -- Calculate time-vectors and input signals ---\n",
    "n = arange(0,round(N_Ts)) # sample n (start,stop,step)\n",
    "t = arange(0,Tmax,tstep)  # time t\n",
    "xn = 1.5 + 0.5*cos(2.0*pi*fsig*n*Ts + phi0) # x[n]\n",
    "xt = 1.5 + 0.5*cos(2.0*pi*fsig*t + phi0) # x(t).\n",
    "\n",
    "b = np.ones(4); a = 1 # MA-filter, N = 5\n",
    "#b = np.convolve([1,1,1],[1,1,1]); a = 1 \n",
    "#b = [1, 0]; a = [1, -0.9] # lossy integrator"
   ]
  },
  {
   "cell_type": "markdown",
   "metadata": {},
   "source": [
    "## Signal im Zeitbereich"
   ]
  },
  {
   "cell_type": "code",
   "execution_count": null,
   "metadata": {
    "collapsed": true
   },
   "outputs": [],
   "source": [
    "plt.figure() \n",
    "plt.xlabel(r'Time (s) $\\rightarrow$')\n",
    "plt.ylabel(r'Amplitude (V) $\\rightarrow$')\n",
    "plt.title('$x(t) = 1.5 + 0.5 \\cos(2 \\pi \\cdot 50 \\mathrm{Hz}\\, t)$\\n\\\n",
    "$y[n] = 1.5 + 0.5 \\cos[2 \\pi \\cdot 50 / %.1f n]$'%(1./Ts))\n",
    "#\n",
    "plt.grid(True)    # Turn on grid\n",
    "plt.plot(t, xt, 'b-') # x(t) with blue line\n",
    "plt.stem(n*Ts, xn, linefmt='r-') # x[n], red stems\n",
    "plt.ylim(-0.1, 2.2)   # set y-limits to ymin, ymax\n",
    "# horizontal line (relative x-coordinates):\n",
    "plt.axhline(1.5, xmin=0, xmax=1, linestyle='--') \n",
    "plt.subplots_adjust(top=0.88,right=0.95)\n",
    "print('  n :', end=\"\")\n",
    "for i in range(8): print('{:5d}'.format(i), end=\"\")\n",
    "print('\\nx[n]:', end=\"\")\n",
    "for i in range(8): print('{0:5.2f}'.format(xn[i]),\n",
    "               end=\"\")"
   ]
  },
  {
   "cell_type": "markdown",
   "metadata": {},
   "source": [
    "## Gefiltertes Signal im Zeitbereich"
   ]
  },
  {
   "cell_type": "code",
   "execution_count": null,
   "metadata": {
    "collapsed": true
   },
   "outputs": [],
   "source": [
    "plt.figure(); grid(True)\n",
    "h = b # Impulse response = coefficients for FIR filters\n",
    "plt.stem(range(len(h)), h, 'b-') # plot h[n]\n",
    "plt.xlabel('n ->'); plt.ylabel('h[n] ->');\n",
    "plt.title('Impulse Response h[n]');"
   ]
  },
  {
   "cell_type": "markdown",
   "metadata": {},
   "source": [
    "##Impulsantwort des Filters"
   ]
  },
  {
   "cell_type": "code",
   "execution_count": null,
   "metadata": {
    "collapsed": true
   },
   "outputs": [],
   "source": [
    "plt.figure(); grid(True)\n",
    "yn = convolve(xn,h)/4. # convolve & scale\n",
    "print('\\ny[n]:', end=\"\")\n",
    "for i in range(8): print('{0:5.2f}'.format(yn[i]),\n",
    "               end=\"\")\n",
    "plt.stem(range(len(yn)), yn, 'b') # y[n]\n",
    "plt.xlabel('n ->'); plt.ylabel('y[n] ->')\n",
    "plt.title('Filtered Signal')"
   ]
  },
  {
   "cell_type": "markdown",
   "metadata": {},
   "source": [
    "##Pol- und Nullstellendiagramm\n",
    "Zunächst stellen wir das Pol-/Nullstellendiagramm des Filter dar:"
   ]
  },
  {
   "cell_type": "code",
   "execution_count": null,
   "metadata": {
    "collapsed": true
   },
   "outputs": [],
   "source": [
    "# ----- P/Z-Plot -----\n",
    "figure(figsize=(FigSize[0],FigSize[1])); clf(); grid(True) \n",
    "xlabel(r'Real Part $\\rightarrow$'); plt.ylabel(r'Imag. Part $\\rightarrow$')\n",
    "title('Pole/Zero-Plan')\n",
    "dsp.zplane(b,a)"
   ]
  },
  {
   "cell_type": "markdown",
   "metadata": {},
   "source": [
    "##Betragsfrequenzgang\n",
    "Als nächstes schauen wir uns den Betragsfrequenzgang an:"
   ]
  },
  {
   "cell_type": "code",
   "execution_count": null,
   "metadata": {
    "collapsed": true
   },
   "outputs": [],
   "source": [
    "# ----- frequency response -----\n",
    "figure(figsize=(FigSize[0],FigSize[1])); clf(); grid(True)\n",
    "[W, H] = sig.freqz(b, a, whole=0);\n",
    "f = W  / (Ts * 2 * pi)\n",
    "plot(f,abs(H))\n",
    "ylabel(r'$|H(e^{j \\Omega})| \\rightarrow$')\n",
    "title('Frequency Response')\n"
   ]
  },
  {
   "cell_type": "markdown",
   "metadata": {},
   "source": [
    "**Copyright**\n",
    "\n",
    "This notebook is provided as [Open Educational Resource](https://en.wikipedia.org/wiki/Open_educational_resources). Feel free to use the notebook for your own purposes. The text is licensed under [Creative Commons Attribution 4.0](https://creativecommons.org/licenses/by/4.0/), the code of the IPython examples under the [MIT license](https://opensource.org/licenses/MIT). Please attribute the work as follows: *Christian Münker, Digital Signal Processing auf FPGAs - Vorlesungsunterlagen mit Simulationsbeispielen, 2017*.\n",
    "\n",
    "The latest version of this notebook can be found at\n",
    "\n",
    "[https://github.com/chipmuenk/dsp_fpga/blob/master/notebooks/02_LTI/dsvFPGA-LTI_F.ipynb](https://github.com/chipmuenk/dsp_fpga/blob/master/notebooks/02_LTI/dsvFPGA-LTI_F.ipynb)"
   ]
  },
  {
   "cell_type": "code",
   "execution_count": null,
   "metadata": {
    "collapsed": true
   },
   "outputs": [],
   "source": []
  }
 ],
 "metadata": {
  "kernelspec": {
   "display_name": "Python [Root]",
   "language": "python",
   "name": "Python [Root]"
  },
  "language_info": {
   "codemirror_mode": {
    "name": "ipython",
    "version": 3
   },
   "file_extension": ".py",
   "mimetype": "text/x-python",
   "name": "python",
   "nbconvert_exporter": "python",
   "pygments_lexer": "ipython3",
   "version": "3.5.2"
  }
 },
 "nbformat": 4,
 "nbformat_minor": 1
}
