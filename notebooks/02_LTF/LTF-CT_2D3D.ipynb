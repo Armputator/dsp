{
 "cells": [
  {
   "cell_type": "markdown",
   "id": "c2679ded-4c93-44fe-8020-94d7ab8eb150",
   "metadata": {},
   "source": [
    "# FIL-CT-2D3D.py\n",
    "\n",
    "##  2D and 3D plots of various curves of Continous-Time filters\n",
    "\n",
    " (c) 2016 Christian Münker - files for the lecture \"AACD\""
   ]
  },
  {
   "cell_type": "code",
   "execution_count": 1,
   "id": "d1556379-7695-40be-aaa6-ade1183e8e67",
   "metadata": {},
   "outputs": [],
   "source": [
    "from __future__ import division, print_function, unicode_literals\n",
    "\n",
    "import numpy as np\n",
    "import numpy.random as rnd\n",
    "from numpy import (pi, log10, exp, sqrt, sin, cos, tan, angle, arange,\n",
    "                    linspace, zeros, ones)\n",
    "from numpy.fft import fft, ifft, fftshift, ifftshift, fftfreq\n",
    "import scipy.signal as sig\n",
    "import scipy.interpolate as intp\n",
    "\n",
    "%matplotlib widget\n",
    "import matplotlib.pyplot as plt\n",
    "from matplotlib.pyplot import (figure, plot, stem, grid, xlabel, ylabel,\n",
    "    subplot, title, clf, xlim, ylim)\n",
    "\n",
    "from mpl_toolkits.mplot3d import Axes3D # needed for 'projection3d'\n",
    "from matplotlib import cm # Colormap\n",
    "from  matplotlib import patches\n",
    "import mpl_toolkits.mplot3d.art3d as art3d\n",
    "import scipy.special\n",
    "\n",
    "import os, sys\n",
    "home_dir = os.path.abspath(os.path.join('..'))\n",
    "if home_dir not in sys.path:  # append directory one level up to import path\n",
    "    sys.path.append(home_dir) # if it hasn't been appended already\n",
    "import dsp_fpga_lib as dsp\n",
    "\n",
    "EXPORT = False\n",
    "#BASE_DIR = \"/home/muenker/Daten/HM/dsvFPGA/Vorlesung/2016ss/nologo/img/\"\n",
    "BASE_DIR = \"D:/Daten/HM/AACD/1_2_Filters/Folien/img/\"\n",
    "FILENAME = \"butterworth_filter\"\n",
    "FMT = \".png\""
   ]
  },
  {
   "cell_type": "markdown",
   "id": "a261bfd9-70f2-475b-a2da-9c8f3d8d54cf",
   "metadata": {},
   "source": [
    "# Definition"
   ]
  },
  {
   "cell_type": "code",
   "execution_count": 2,
   "id": "99aca8a3-09c7-4973-ba24-c40f56f47035",
   "metadata": {
    "tags": []
   },
   "outputs": [
    {
     "name": "stdout",
     "output_type": "stream",
     "text": [
      "aa, bb = [1.         2.61312593 3.41421356 2.61312593 1.        ] [1.]\n",
      "P, N = [-0.38268343+0.92387953j -0.38268343-0.92387953j -0.92387953+0.38268343j\n",
      " -0.92387953-0.38268343j] []\n",
      "Angle(P) =  [ 112.5 -112.5  157.5 -157.5]\n"
     ]
    }
   ],
   "source": [
    "W_c = 1; A_PB_log = 1; A_SB_log = 40.; L = 4\n",
    "zeta = sqrt(3)/2 # damping factor for Bessel\n",
    "zeta = 0.25\n",
    "#[bb,aa] = sig.bessel(L, W_c, analog=True)\n",
    "[bb,aa] = sig.butter(L, W_c, analog=True)\n",
    "#[bb,aa] = sig.cheby1(L, A_PB_log, W_c, analog=True)\n",
    "#[bb,aa] = sig.cheby2(L, A_SB_log, W_c, analog=True)\n",
    "#[bb,aa] = sig.ellip(L, A_PB_log, A_SB_log, W_c, analog=True)\n",
    "\n",
    "\n",
    "# Define system function from polynomial coefficients\n",
    "# e.g. H(s) =  (b2 s^2 + b1 s + b0) / (a2 s^2 + a1 s + a0)\n",
    "## Second order systems\n",
    "#aa = [1, 2 * zeta * W_c, 1] # general 2nd order denominator\n",
    "#bb = [W_c * W_c] # lowpass\n",
    "#b =\n",
    "\n",
    "# 1st order LP: H(s) = 1 / (s RC + 1)\n",
    "#bb = [1]; aa = [1, 1]\n",
    "# 1st order HP: H(s) = s RC / (s RC + 1)\n",
    "#bb = [1, 0]; aa = [1, 1]\n",
    "#bb = [1./3, 0]; aa = [1/3, 1] # w_c = 3 / tau\n",
    "# 2nd order HP: H(s) = 0.5 (s RC)^2 / (s RC + 1)(s RC/2 + 1)\n",
    "#bb = [0.5, 0, 0]; aa = [0.5, 1.5, 1]\n",
    "#================ Biquad ====================\n",
    "#\n",
    "#[bb,aa] = np.real([bb,aa])\n",
    "aa = np.real(aa)\n",
    "bb = np.real(bb)\n",
    "\n",
    "################### Calculate roots #############################\n",
    "nulls = np.roots(bb) # zeros of H(s)\n",
    "poles = np.roots(aa) # poles of H(s)\n",
    "\n",
    "#nulls =[-1100]\n",
    "#poles =[-11000]\n",
    "#nulls = [0,0]\n",
    "#poles = [-1,-2]\n",
    "#bb = np.poly(nulls)\n",
    "#aa = np.poly(poles)\n",
    "print(\"aa, bb =\", aa,bb)\n",
    "print(\"P, N =\", np.roots(aa), np.roots(bb))\n",
    "print(\"Angle(P) = \", angle(np.roots(aa))/ pi * 180)\n",
    "\n",
    "\n",
    "W_max = 2 # normalized circular frequency; W = 2 pi f tau\n",
    "W = np.linspace(0, W_max, 201) # start, stop, step. endpoint is included\n",
    "[W,H] = sig.freqs(bb, aa, W) # Calculate H(w) at the frequency points w1\n",
    "#[w,H]=sig.freqs(bb,aa)  # calculate H(w) at 200 frequencies \"around the\n",
    "                        # interesting parts of the response curve\"\n",
    "f = W\n",
    "H_abs = abs(H)\n",
    "H_max = max(H_abs); H_max_dB = 20*log10(H_max)\n",
    "W_max = W[np.argmax(H_abs)] # frequency where |H(Omega)| is max.\n",
    "H_angle = np.unwrap(angle(H))"
   ]
  },
  {
   "cell_type": "markdown",
   "id": "d70c8197-2d96-4ac7-ad1f-8ba288d070f3",
   "metadata": {},
   "source": [
    "# P/N Diagramm"
   ]
  },
  {
   "cell_type": "code",
   "execution_count": 3,
   "id": "45dab182-7b10-463c-aec8-428caaf0ead6",
   "metadata": {},
   "outputs": [
    {
     "data": {
      "application/vnd.jupyter.widget-view+json": {
       "model_id": "132b00be02f1407da6087014978fc486",
       "version_major": 2,
       "version_minor": 0
      },
      "text/plain": [
       "Canvas(toolbar=Toolbar(toolitems=[('Home', 'Reset original view', 'home', 'home'), ('Back', 'Back to previous …"
      ]
     },
     "metadata": {},
     "output_type": "display_data"
    }
   ],
   "source": [
    "#====================================================\n",
    "fig1, axzp = plt.subplots()\n",
    "dsp.zplane(bb, aa, analog=True, plt_ax=axzp, style='square', anaCircleRad=W_c,\n",
    "           mzc=(0,0.5,0) )\n",
    "\n",
    "axzp.set_xlabel(r'$\\sigma \\, / \\,\\omega_n \\; \\rightarrow$',fontsize=18)\n",
    "axzp.set_ylabel(r'$j \\omega \\,  / \\,\\omega_n \\;  \\rightarrow$',fontsize=18)\n",
    "fig1.set_tight_layout(True)"
   ]
  },
  {
   "cell_type": "markdown",
   "id": "9c4aa90c-6599-4301-be42-812abb2d97c9",
   "metadata": {},
   "source": [
    "# Bode"
   ]
  },
  {
   "cell_type": "code",
   "execution_count": 20,
   "id": "b3873d12-9759-4b40-aaea-7ebe53dce231",
   "metadata": {},
   "outputs": [
    {
     "data": {
      "application/vnd.jupyter.widget-view+json": {
       "model_id": "d2a49ded4b5c45edb1b15235a8a66a0c",
       "version_major": 2,
       "version_minor": 0
      },
      "text/plain": [
       "Canvas(toolbar=Toolbar(toolitems=[('Home', 'Reset original view', 'home', 'home'), ('Back', 'Back to previous …"
      ]
     },
     "metadata": {},
     "output_type": "display_data"
    }
   ],
   "source": [
    "fig2, ax21 = plt.subplots()\n",
    "ax22 = ax21.twinx()\n",
    "ax22.grid(False)\n",
    "\n",
    "l1, = ax21.plot(W,abs(H))\n",
    "l2, = ax22.plot(W,H_angle/pi,'g')\n",
    "ax21.set_xlabel(r'$\\omega\\, / \\,\\omega_n \\;  \\rightarrow$')\n",
    "ax21.set_ylabel(r'$|H(j \\omega)| \\; \\rightarrow$')\n",
    "ax22.set_ylabel(r'$\\angle H(j \\omega)/\\pi \\; \\rightarrow$')\n",
    "ax21.set_title(r'$\\mathrm{Frequency\\,Response}\\; H(j \\omega) $')\n",
    "ax21.legend((l1,l2), (r'$ \\left|{H(j \\omega)}\\right|$',\n",
    "                      r'$\\angle\\{H(j \\omega)\\}$'), loc=1)\n",
    "#                        bbox_transform=ax21.transAxes)\n",
    "fig2.set_tight_layout(True)"
   ]
  },
  {
   "cell_type": "markdown",
   "id": "4d8668cf-db9a-4448-9d08-46e9696ab9b8",
   "metadata": {},
   "source": [
    "# Group Delay"
   ]
  },
  {
   "cell_type": "code",
   "execution_count": 17,
   "id": "efda40d7-9ad3-45bf-99cc-ff977f5ab475",
   "metadata": {},
   "outputs": [
    {
     "data": {
      "application/vnd.jupyter.widget-view+json": {
       "model_id": "d61dc69925254d4f8ac35d29dd1b1d19",
       "version_major": 2,
       "version_minor": 0
      },
      "text/plain": [
       "Canvas(toolbar=Toolbar(toolitems=[('Home', 'Reset original view', 'home', 'home'), ('Back', 'Back to previous …"
      ]
     },
     "metadata": {},
     "output_type": "display_data"
    }
   ],
   "source": [
    "fig3, ax31 = plt.subplots()\n",
    "ax32 = ax31.twinx()\n",
    "ax32.grid(False)\n",
    "\n",
    "tau_g, w_g = dsp.grp_delay_ana(bb, aa, W)\n",
    "l31, = ax31.plot(W,angle(H)/pi,'g')\n",
    "l32, = ax32.plot(w_g, tau_g)\n",
    "\n",
    "ax31.set_xlabel(r'$\\omega\\, / \\,\\omega_n \\; \\rightarrow$')\n",
    "ax32.set_ylabel(r'$\\tau_g  \\{H(j \\omega)\\} \\; \\rightarrow$')\n",
    "ax31.set_ylabel(r'$\\angle H(j \\omega)/\\pi \\; \\rightarrow$')\n",
    "ax31.set_title(r'$\\mathrm{Phase \\, and \\, Group \\, Delay \\, of}\\, H(j \\omega) $')\n",
    "ax31.legend((l31,l32),(r'$\\angle H(j \\omega) $', r'$\\tau_g \\{H(j \\omega)\\}$'))\n",
    "plt.tight_layout()"
   ]
  },
  {
   "cell_type": "markdown",
   "id": "92ba4ebc-7a78-4a69-91e0-b4626bdd12c4",
   "metadata": {},
   "source": [
    "# Step Response"
   ]
  },
  {
   "cell_type": "code",
   "execution_count": 6,
   "id": "d45eca60-799b-493e-a345-69d7e8105e5e",
   "metadata": {},
   "outputs": [
    {
     "data": {
      "application/vnd.jupyter.widget-view+json": {
       "model_id": "a0027aec3b4743039668eee8a0d85ce9",
       "version_major": 2,
       "version_minor": 0
      },
      "text/plain": [
       "Canvas(toolbar=Toolbar(toolitems=[('Home', 'Reset original view', 'home', 'home'), ('Back', 'Back to previous …"
      ]
     },
     "metadata": {},
     "output_type": "display_data"
    }
   ],
   "source": [
    "fig4, ax41 = plt.subplots()\n",
    "sys = sig.lti(bb,aa)\n",
    "t, y = sig.step2(sys, N=1024)\n",
    "ax41.plot(t, y)\n",
    "ax41.set_title(r'Step Response $h_{\\epsilon}(t)$')\n",
    "ax41.set_xlabel(r'$t \\; \\rightarrow$');"
   ]
  },
  {
   "cell_type": "markdown",
   "id": "1099f33c-74ef-4504-b54b-6254d73c2f6d",
   "metadata": {},
   "source": [
    "# 3D-Plots"
   ]
  },
  {
   "cell_type": "code",
   "execution_count": 15,
   "id": "fd553a07-ae55-445e-8626-54a3e6bb44bc",
   "metadata": {},
   "outputs": [
    {
     "data": {
      "application/vnd.jupyter.widget-view+json": {
       "model_id": "4a0a02967e64484088a52299e23634b1",
       "version_major": 2,
       "version_minor": 0
      },
      "text/plain": [
       "Canvas(toolbar=Toolbar(toolitems=[('Home', 'Reset original view', 'home', 'home'), ('Back', 'Back to previous …"
      ]
     },
     "metadata": {},
     "output_type": "display_data"
    }
   ],
   "source": [
    "OPT_3D_FORCE_ZMAX = False # False: use absolut value zmax for limits\n",
    "                            # True: use zmax_rel * max(H)\n",
    "OPT_3D_PLOT_TYPE = 'SURF'# MESH, SURF, CONTOUR\n",
    "OPT_3D_ALPHA = 0.9 # transparency from 0 ... 1\n",
    "ELEV = 20 # elevation\n",
    "PHI = -30 # angle in x,y - plane\n",
    "\n",
    "steps = 100              # number of steps for x, y, z\n",
    "\n",
    "zmin =  0.0; zmax = 1.0; # zmax-setting is only used when OPT_3D_FORCE_ZMAX = True\n",
    "zmin_dB = -70\n",
    "zmax_rel = 3 # Max. displayed z - value relative to max|H(f)|\n",
    "#\n",
    "plevel_rel = 1.1; # height of plotted pole position relative to zmax\n",
    "zlevel_rel = 0.05; # height of plotted zero position relative to zmax\n",
    "PN_SIZE = 10; # size of P/N symbols\n",
    "#================================\n",
    "xmin = -max(f); xmax = 1e-6;  # cartesian range definition\n",
    "ymin = 0 #-max(f);\n",
    "ymax = max(f);\n",
    "#\n",
    "if OPT_3D_FORCE_ZMAX == True:\n",
    "    thresh = zmax\n",
    "else:\n",
    "    thresh = zmax_rel * H_max # calculate display thresh. from max. of H(f)\n",
    "\n",
    "plevel = plevel_rel * thresh; # height of displayed pole position\n",
    "zlevel = zlevel_rel * thresh; # height of displayed zero position\n",
    "z_scale = 1.0\n",
    "\n",
    "# Calculate limits etc. for 3D-Plots\n",
    "x1 = np.linspace(xmin,xmax,steps,endpoint=True) # x-coordinates\n",
    "y1 = np.linspace(ymin,ymax,steps,endpoint=True) # y-coordinates\n",
    "zc = np.linspace(zmin,thresh,steps,endpoint=True) # z-coordinates\n",
    "\n",
    "xm, ym = np.meshgrid(x1,y1); # cartesian grid\n",
    "x = xm.T\n",
    "y = ym.T\n",
    "#x, y = np.mgrid[xmin:xmax:steps*1j, ymin:ymax:steps*1j]\n",
    "\n",
    "#xc = x[:,0]\n",
    "yc = y[0,:]\n",
    "\n",
    "s = x + 1j*y # complex coordinate grid\n",
    "\n",
    "fig5, ax12 = plt.subplots(1, 1, subplot_kw={'projection':'3d'})\n",
    "#colormap gray;  #hsv / gray / default / colorcube / bone / summer / autumn\n",
    "#extents=(-1,1, -1,1, -1,1)\n",
    "if OPT_3D_PLOT_TYPE == 'MESH':\n",
    "    g=ax12.plot_wireframe(x,y,dsp.H_mag(bb,aa,s,thresh),rstride=2, cstride=2,\n",
    "                          linewidth = 1, color = 'gray')\n",
    "                          #plot 3D-mesh of |H(z)| ; limit at |H(z)| = thresh\n",
    "\n",
    "elif OPT_3D_PLOT_TYPE == 'SURF': #3D-surface of |H(z)| ; limit at |H(z)| = thresh:\n",
    "    g=ax12.plot_surface(x,y,dsp.H_mag(bb,aa,s,thresh), alpha = OPT_3D_ALPHA,\n",
    "                        rstride=2, cstride=2, cmap = cm.jet, linewidth=0, \n",
    "                        antialiased=False, edgecolor = 'k')\n",
    "else:\n",
    "    ax12.contourf3D(x,y,dsp.H_mag(bb,aa,s,thresh),rstride=5, cstride=5)\n",
    "\n",
    "# Plot xyz-axes\n",
    "ax12.plot([xmin-0.1, xmax + 0.1],[0,0],[0,0], linewidth=2, color ='k')\n",
    "ax12.plot([0,0],[ymin-0.1, ymax+0.1],[0,0], linewidth=2, color ='k')\n",
    "ax12.plot([0,0],[0,0],[zmin-0.1, thresh+0.1], linewidth=2, color ='k')\n",
    "#ax12.scatter(xmax + 0.1, 0, 0, color = 'k', marker = \">\", s = 30)\n",
    "#ax12.scatter(0, 0, thresh+0.1, color = 'k', marker = \"^\", s = 40)\n",
    "\n",
    "# plot -3dB line\n",
    "ax12.plot([0,0],[1,1],[0,1],'r--', lw = 1)\n",
    "ax12.plot([0,0],[0,ymax],[1/sqrt(2), 1/sqrt(2)],'r--', lw = 1)\n",
    "\n",
    "# Plot |H(j omega)| along the j omega axis:\n",
    "ax12.plot(zeros(len(yc)), yc, dsp.H_mag(bb,aa,1j*yc,thresh),\n",
    "          linewidth=3, color = 'r');\n",
    "\n",
    "# Plot the zeros at (x,y,0) with \"stems\":\n",
    "for k in range(len(nulls)):\n",
    "    if xmax >= nulls[k].real >= xmin and ymax >= nulls[k].imag >= ymin:\n",
    "        ax12.plot([nulls[k].real, nulls[k].real],[nulls[k].imag, nulls[k].imag],\n",
    "          [0, zlevel],linewidth=1,color='b')\n",
    "        ax12.plot([nulls[k].real, nulls[k].real],[nulls[k].imag, nulls[k].imag], zlevel,\n",
    "        'o', markersize = PN_SIZE, mec='blue', mew=2.0, markerfacecolor='none'); # plot nulls\n",
    "\n",
    "# Plot the poles at |H(s_p)| = plevel with \"stems\"\n",
    "for k in range(len(poles)):\n",
    "    if xmax >= poles[k].real >= xmin and ymax >= poles[k].imag >= ymin:\n",
    "        ax12.plot([poles[k].real, poles[k].real],[poles[k].imag, poles[k].imag],\n",
    "                   [0, plevel],linewidth=1,color='r')\n",
    "        ax12.plot([poles[k].real, poles[k].real],[poles[k].imag, poles[k].imag],\n",
    "                    plevel, 'x', markersize = PN_SIZE, mew=2.0, mec='red')\n",
    "\n",
    "i = arange(steps)\n",
    "uc = exp(1j*pi*(1 - i/(2*steps))) # plot unit circle between pi / 2 and pi\n",
    "ax12.plot(uc.real, uc.imag, 0, color = 'grey')\n",
    "\n",
    "#ax12.set_title( r'3D-Darstellung von $|H(s)|$',fontsize=20);\n",
    "#ax12.xaxis._axinfo['label']['space_factor'] = 50\n",
    "ax12.xaxis.labelpad=15\n",
    "ax12.yaxis.labelpad=15\n",
    "ax12.zaxis.labelpad=-30\n",
    "ax12.set_xlabel(r'$\\sigma \\, / \\,\\omega_n \\;  \\rightarrow$',fontsize=14)\n",
    "ax12.set_ylabel(r'$j\\omega \\, / \\,\\omega_n \\; \\rightarrow$',fontsize=14)\n",
    "ax12.set_zlabel(r'    $|{A(s = \\sigma + j \\omega)|} \\; \\rightarrow$')\n",
    "#ax12.set_title(r'$|H(s = \\sigma + j \\omega)| $')\n",
    "ax12.set_xlim3d(xmin, xmax)\n",
    "ax12.set_ylim3d(ymin, ymax)\n",
    "ax12.set_zlim3d(zmin, thresh*plevel_rel)\n",
    "ax12.locator_params(axis = 'both', tight = True, nbins=4)\n",
    "ax12.locator_params(axis = 'z', tight = True, nbins=8)\n",
    "ax12.view_init(ELEV, PHI)\n",
    "\n",
    "plt.tight_layout()\n",
    "if EXPORT:\n",
    "    fig5.savefig(BASE_DIR + FILENAME + '3d' + FMT)"
   ]
  },
  {
   "cell_type": "code",
   "execution_count": null,
   "id": "2e3e782a-88f1-4084-ab0b-91e570c06695",
   "metadata": {},
   "outputs": [],
   "source": []
  }
 ],
 "metadata": {
  "kernelspec": {
   "display_name": "Python 3",
   "language": "python",
   "name": "python3"
  },
  "language_info": {
   "codemirror_mode": {
    "name": "ipython",
    "version": 3
   },
   "file_extension": ".py",
   "mimetype": "text/x-python",
   "name": "python",
   "nbconvert_exporter": "python",
   "pygments_lexer": "ipython3",
   "version": "3.9.5"
  }
 },
 "nbformat": 4,
 "nbformat_minor": 5
}
