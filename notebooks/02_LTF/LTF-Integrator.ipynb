{
 "cells": [
  {
   "cell_type": "markdown",
   "metadata": {},
   "source": [
    "# Zeitdiskreter Integrator # \n",
    "## P/N-Plan, Frequenzgang und Impulsantwort ##\n",
    "\n",
    "Dieses Notebook demonstriert interaktiv wie sich die Eigenschaften eines zeitdiskreten Integrators in Abhängigkeit von seiner Dämpfungskonstante $\\alpha$ ändern.\n",
    "\n",
    "**Achtung:** Interaktive Widgets funktionieren unter JupyterLab nicht ohne weiteres; öffnen Sie das Notebook statt dessen im \"klassischen\" Jupyter Notebook Interface (`Help -> Launch Classic Notebook`)."
   ]
  },
  {
   "cell_type": "code",
   "execution_count": 1,
   "metadata": {},
   "outputs": [
    {
     "name": "stdout",
     "output_type": "stream",
     "text": [
      "ipywidgets: 7.5.1\n"
     ]
    }
   ],
   "source": [
    "import numpy as np\n",
    "from numpy import (pi, log10, exp, sqrt, sin, cos, tan, angle, arange, \n",
    "                   linspace, array, zeros, ones)\n",
    "import scipy.signal as sig\n",
    "\n",
    "import matplotlib.pyplot as plt\n",
    "from matplotlib.pyplot import (figure, plot, stem, grid, xlabel, ylabel, setp,\n",
    "    subplot, tight_layout, title, clf, xlim, ylim)\n",
    "%matplotlib inline \n",
    "from ipywidgets import (interact,FloatSlider,IntSlider,__version__)\n",
    "\n",
    "import sys, os\n",
    "module_path = os.path.abspath(os.path.join('..'))\n",
    "if module_path not in sys.path:\n",
    "    sys.path.append(module_path)\n",
    "import dsp_fpga_lib as dsp\n",
    "plt.rcParams.update(dsp.mpl_rc) # define plot properties \n",
    "print(\"ipywidgets:\", __version__)"
   ]
  },
  {
   "cell_type": "code",
   "execution_count": 2,
   "metadata": {},
   "outputs": [],
   "source": [
    "def filterIntegrator(alpha=0):\n",
    "    b = [1, 0] #Zaehler: z\n",
    "    a = [1, -alpha] #Nenner: z+alpha\n",
    "    \n",
    "    if(alpha == -1):\n",
    "        print('Division by Zero!')\n",
    "    else:\n",
    "        fig = figure(figsize=(15,6));\n",
    "        ax1 = fig.add_subplot(131)\n",
    "        ax1.set_title('PN-Plan (zplane)')\n",
    "        dsp.zplane(b,a, plt_ax=ax1) #Plotte P/N Diagramm\n",
    "        ax1.set_xlabel('$Re$') \n",
    "        ax1.set_ylabel('$Im$')\n",
    "\n",
    "        #Frequenzgang H(f)\n",
    "        ax2 = subplot(132)\n",
    "        ax2.set_title('Frequenzgang')\n",
    "        f_S=1\n",
    "        [W,H] = sig.freqz(b,a,1024)\n",
    "        ax2.plot(W/(2*pi),abs(H),linewidth = 2)\n",
    "        ax2.set_xlabel(r'$F$  bzw. $\\Omega / 2 \\pi$') \n",
    "        ax2.set_ylabel(r'$|H(F)| \\; \\rightarrow$')\n",
    "\n",
    "        #Berechne 20 Werte der Impulsantwort:\n",
    "        ax3 = fig.add_subplot(133)\n",
    "        ax3.set_title('Impulsantwort')\n",
    "        [himp,t] = dsp.impz(b,a,20,f_S)\n",
    "        ax3.stem(t,himp) # Impulsantwort\n",
    "        ax3.set_xlabel('$n$'); ax3.set_ylabel(r'$h[n]$')\n",
    "\n",
    "        #sicherstellen, dass Plots nicht überlappen\n",
    "        fig.tight_layout()\n",
    "        #plt.close()\n",
    "        #plt.show; #Plot anzeigen"
   ]
  },
  {
   "cell_type": "markdown",
   "metadata": {},
   "source": [
    "Der Integrator hat die folgende Systemfunktion:\n",
    "$$H_i(z) = \\frac{z}{z - \\alpha} $$\n",
    "\n",
    "Ändern Sie in der folgenden Zelle den Wert für alpha und führen Sie sie aus:"
   ]
  },
  {
   "cell_type": "code",
   "execution_count": 4,
   "metadata": {},
   "outputs": [
    {
     "data": {
      "application/vnd.jupyter.widget-view+json": {
       "model_id": "8ada0c3893454f89aa75f839bbf432e5",
       "version_major": 2,
       "version_minor": 0
      },
      "text/plain": [
       "interactive(children=(FloatSlider(value=0.7, description='alpha', max=2.0, min=-2.0), Output()), _dom_classes=…"
      ]
     },
     "metadata": {},
     "output_type": "display_data"
    }
   ],
   "source": [
    "#Slider erzeugen, der filterIntegrator bei jeder Änderung aufruft\n",
    "interact(filterIntegrator, alpha=FloatSlider(value=0.7,min=-2,max=2,step=0.1,continuous_update=False));\n",
    "#filterIntegrator(alpha = 0.1)"
   ]
  },
  {
   "cell_type": "code",
   "execution_count": null,
   "metadata": {},
   "outputs": [],
   "source": []
  },
  {
   "cell_type": "markdown",
   "metadata": {},
   "source": [
    "### Aufgaben\n",
    "- xxx"
   ]
  },
  {
   "cell_type": "markdown",
   "metadata": {},
   "source": [
    "***\n",
    "### Copyright\n",
    "\n",
    "(c) 2016 - 2020 Rebecca Janßen and Prof. Dr. Christian Münker\n",
    "\n",
    "This jupyter notebook is part of a collection of notebooks on various topics of Digital Signal Processing. The latest version can be found at https://github.com/chipmuenk/dsp_fpga \"Digitale Signalverarbeitung auf FPGAs\"\n",
    "\n",
    "This notebook is provided as [Open Educational Resource](https://en.wikipedia.org/wiki/Open_educational_resources). Feel free to use the notebook for your own purposes. The text is licensed under [Creative Commons Attribution 4.0](https://creativecommons.org/licenses/by/4.0/), the code of the IPython examples under the [MIT license](https://opensource.org/licenses/MIT). Please attribute the work as follows: *Christian Münker, Digital Signal Processing auf FPGAs - Vorlesungsunterlagen mit Simulationsbeispielen, 2020*."
   ]
  },
  {
   "cell_type": "code",
   "execution_count": null,
   "metadata": {},
   "outputs": [],
   "source": []
  }
 ],
 "metadata": {
  "anaconda-cloud": {},
  "kernelspec": {
   "display_name": "Python 3",
   "language": "python",
   "name": "python3"
  },
  "language_info": {
   "codemirror_mode": {
    "name": "ipython",
    "version": 3
   },
   "file_extension": ".py",
   "mimetype": "text/x-python",
   "name": "python",
   "nbconvert_exporter": "python",
   "pygments_lexer": "ipython3",
   "version": "3.7.4"
  }
 },
 "nbformat": 4,
 "nbformat_minor": 4
}
