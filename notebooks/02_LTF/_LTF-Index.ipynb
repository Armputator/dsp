{
 "cells": [
  {
   "cell_type": "markdown",
   "metadata": {},
   "source": [
    "<a href=\"../01_LTI/_LTI-Index.ipynb\">&larr; LTI </a>&loz;\n",
    "<a href=\"../../README.md\"> &uarr; TOC &uarr; </a>&loz;\n",
    " DFT &rarr;\n",
    "<img src='../_img/pyfda_icon2.svg' align='right' width='10%'></img>\n",
    "# LTF - Discrete Time Signals and Systems (Frequency Domain)\n",
    "\n",
    "This chapter introduces discrete time signals and systems in the *frequency domain* with the following notebooks:"
   ]
  },
  {
   "cell_type": "markdown",
   "metadata": {},
   "source": [
    "* [LTF-Sensor:](LTF-sensor.ipynb) Notebook and solution for the excercise \"Filterung des Sensorsignals im Frequenzbereich\"\n",
    "* [LTF-Basics:](LTF-Basics.ipynb) The basic tools and concepts for describing LTI systems in the frequency domain\n",
    "* [LTF-Animate-PZ:](LTF-Animate_PZ.ipynb) Demonstrate connection between magnitude response and Pole-Zero Plot with an animated example\n",
    "* [LTF-IIR-allgemein:](LTF-IIR-allgemein.ipynb) General IIR filters, also for excercise \"Allgemeine IIR-Struktur\"\n",
    "* [LTF-Integrator:](LTF-Integrator.ipynb) Interactive notebook showing the influence of damping parameter alpha in the time- and frequency domain\n",
    "* [LTF-Notchfilter:](LTF-Notchfilter.ipynb) Additional material and solution for the excercise \"Notchfilter\"\n",
    "* [LTF-MA_interactive:](LTF-MA_interactive.ipynb) Try to create an interactive notebook for showing the relationship between the length and the frequency response of a moving average filter"
   ]
  },
  {
   "cell_type": "markdown",
   "metadata": {},
   "source": [
    "***\n",
    "### Copyright\n",
    "\n",
    "(c) 2016 - 2020 Prof. Dr. Christian Münker \n",
    "\n",
    "This jupyter notebook is part of a collection of notebooks on various topics of Digital Signal Processing. The latest version can be found at https://github.com/chipmuenk/dsp.\n",
    "\n",
    "This notebook is provided as [Open Educational Resource](https://en.wikipedia.org/wiki/Open_educational_resources). Feel free to use it for your own purposes. The text is licensed under [Creative Commons Attribution 4.0](https://creativecommons.org/licenses/by/4.0/), the code of the IPython examples under the [MIT license](https://opensource.org/licenses/MIT). Please attribute the work as follows: *Christian Münker, Digital Signal Processing - Vorlesungsunterlagen mit Simulationsbeispielen, 2020*."
   ]
  }
 ],
 "metadata": {
  "anaconda-cloud": {},
  "kernelspec": {
   "display_name": "Python 3",
   "language": "python",
   "name": "python3"
  },
  "language_info": {
   "codemirror_mode": {
    "name": "ipython",
    "version": 3
   },
   "file_extension": ".py",
   "mimetype": "text/x-python",
   "name": "python",
   "nbconvert_exporter": "python",
   "pygments_lexer": "ipython3",
   "version": "3.7.6"
  }
 },
 "nbformat": 4,
 "nbformat_minor": 4
}
