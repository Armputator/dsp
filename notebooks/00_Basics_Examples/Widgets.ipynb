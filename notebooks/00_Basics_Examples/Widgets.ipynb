{
 "cells": [
  {
   "cell_type": "code",
   "execution_count": 33,
   "metadata": {
    "collapsed": true
   },
   "outputs": [],
   "source": [
    "import numpy as np\n",
    "import scipy.signal as sig\n",
    "import matplotlib.pyplot as plt\n",
    "import ipywidgets as wdg\n",
    "from ipywidgets import interact\n",
    "from IPython.display import display\n",
    "\n",
    "def f(x=0):\n",
    "    return x\n",
    "\n",
    "def ButtonPressed(mouseclick):\n",
    "    print('Button pressed')\n",
    "    \n",
    "def CheckboxChecked(checked):\n",
    "    if(checked==True):\n",
    "        print('Checkbox checked')\n",
    "    else:\n",
    "        print('Checkbox unchecked')"
   ]
  },
  {
   "cell_type": "code",
   "execution_count": 34,
   "metadata": {},
   "outputs": [
    {
     "data": {
      "text/plain": [
       "{'Jupyter.Accordion': ipywidgets.widgets.widget_selectioncontainer.Accordion,\n",
       " 'Jupyter.BoundedFloatText': ipywidgets.widgets.widget_float.BoundedFloatText,\n",
       " 'Jupyter.BoundedIntText': ipywidgets.widgets.widget_int.BoundedIntText,\n",
       " 'Jupyter.Box': ipywidgets.widgets.widget_box.Box,\n",
       " 'Jupyter.Button': ipywidgets.widgets.widget_button.Button,\n",
       " 'Jupyter.ButtonStyle': ipywidgets.widgets.widget_button.ButtonStyle,\n",
       " 'Jupyter.Checkbox': ipywidgets.widgets.widget_bool.Checkbox,\n",
       " 'Jupyter.ColorPicker': ipywidgets.widgets.widget_color.ColorPicker,\n",
       " 'Jupyter.Controller': ipywidgets.widgets.widget_controller.Controller,\n",
       " 'Jupyter.ControllerAxis': ipywidgets.widgets.widget_controller.Axis,\n",
       " 'Jupyter.ControllerButton': ipywidgets.widgets.widget_controller.Button,\n",
       " 'Jupyter.DatePicker': ipywidgets.widgets.widget_date.DatePicker,\n",
       " 'Jupyter.Dropdown': ipywidgets.widgets.widget_selection.Dropdown,\n",
       " 'Jupyter.FloatProgress': ipywidgets.widgets.widget_float.FloatProgress,\n",
       " 'Jupyter.FloatRangeSlider': ipywidgets.widgets.widget_float.FloatRangeSlider,\n",
       " 'Jupyter.FloatSlider': ipywidgets.widgets.widget_float.FloatSlider,\n",
       " 'Jupyter.FloatText': ipywidgets.widgets.widget_float.FloatText,\n",
       " 'Jupyter.HBox': ipywidgets.widgets.widget_box.HBox,\n",
       " 'Jupyter.HTML': ipywidgets.widgets.widget_string.HTML,\n",
       " 'Jupyter.HTMLMath': ipywidgets.widgets.widget_string.HTMLMath,\n",
       " 'Jupyter.Image': ipywidgets.widgets.widget_image.Image,\n",
       " 'Jupyter.IntProgress': ipywidgets.widgets.widget_int.IntProgress,\n",
       " 'Jupyter.IntRangeSlider': ipywidgets.widgets.widget_int.IntRangeSlider,\n",
       " 'Jupyter.IntSlider': ipywidgets.widgets.widget_int.IntSlider,\n",
       " 'Jupyter.IntText': ipywidgets.widgets.widget_int.IntText,\n",
       " 'Jupyter.Label': ipywidgets.widgets.widget_string.Label,\n",
       " 'Jupyter.Play': ipywidgets.widgets.widget_int.Play,\n",
       " 'Jupyter.ProgressStyle': ipywidgets.widgets.widget_int.ProgressStyle,\n",
       " 'Jupyter.RadioButtons': ipywidgets.widgets.widget_selection.RadioButtons,\n",
       " 'Jupyter.Select': ipywidgets.widgets.widget_selection.Select,\n",
       " 'Jupyter.SelectMultiple': ipywidgets.widgets.widget_selection.SelectMultiple,\n",
       " 'Jupyter.SelectionSlider': ipywidgets.widgets.widget_selection.SelectionSlider,\n",
       " 'Jupyter.SliderStyle': ipywidgets.widgets.widget_int.SliderStyle,\n",
       " 'Jupyter.Tab': ipywidgets.widgets.widget_selectioncontainer.Tab,\n",
       " 'Jupyter.Text': ipywidgets.widgets.widget_string.Text,\n",
       " 'Jupyter.Textarea': ipywidgets.widgets.widget_string.Textarea,\n",
       " 'Jupyter.ToggleButton': ipywidgets.widgets.widget_bool.ToggleButton,\n",
       " 'Jupyter.ToggleButtons': ipywidgets.widgets.widget_selection.ToggleButtons,\n",
       " 'Jupyter.VBox': ipywidgets.widgets.widget_box.VBox,\n",
       " 'Jupyter.Valid': ipywidgets.widgets.widget_bool.Valid,\n",
       " 'jupyter.DirectionalLink': ipywidgets.widgets.widget_link.DirectionalLink,\n",
       " 'jupyter.Link': ipywidgets.widgets.widget_link.Link}"
      ]
     },
     "execution_count": 34,
     "metadata": {},
     "output_type": "execute_result"
    }
   ],
   "source": [
    "#Liste aller implementierten Widgets anzeigen\n",
    "wdg.Widget.widget_types"
   ]
  },
  {
   "cell_type": "code",
   "execution_count": 42,
   "metadata": {},
   "outputs": [
    {
     "data": {
      "application/vnd.jupyter.widget-view+json": {
       "model_id": "b5ed57aaa63c4af6ab6597598b47316a"
      }
     },
     "metadata": {},
     "output_type": "display_data"
    }
   ],
   "source": [
    "txt = wdg.Text()\n",
    "txt.layout.width = '30%'\n",
    "txtLabel = wdg.Label('Eingabe (Text):')\n",
    "txtLabel.layout.width = '30%'\n",
    "text1 = wdg.HBox([txtLabel, txt])\n",
    "\n",
    "bIntText = wdg.BoundedIntText(min=0, max=99999)\n",
    "bIntText.layout.width = '30%'\n",
    "bIntTextLabel = wdg.Label('Eingabe (Integer zwischen 0 und 99999):')\n",
    "bIntTextLabel.layout.width = '30%'\n",
    "num1 = wdg.HBox([bIntTextLabel, bIntText])\n",
    "\n",
    "bFloatText = wdg.BoundedFloatText(min=0, max=99999)\n",
    "bFloatText.layout.width = '30%'\n",
    "bFloatTextLabel = wdg.Label('Eingabe (Float zwischen 0 und 99999):')\n",
    "bFloatTextLabel.layout.width = '30%'\n",
    "num2 = wdg.HBox([bFloatTextLabel,bFloatText])\n",
    "\n",
    "page1 = wdg.Box(children=[text1, num1, num2])\n",
    "\n",
    "num3 = wdg.IntText(description='Eingabe (Integer):')\n",
    "num4 = wdg.FloatText(description='Floateingabe (Float):', min=0, max=99999)\n",
    "page2 = wdg.Box(children=[num3, num4])\n",
    "\n",
    "accord = wdg.Accordion(children=[page1, page2], width=400)\n",
    "display(accord)\n",
    "\n",
    "accord.set_title(0, 'Oben')\n",
    "accord.set_title(1, 'Unten')\n",
    "\n",
    "#Keys dieses Widgets anzeigen lassen:\n",
    "#accord.keys"
   ]
  },
  {
   "cell_type": "code",
   "execution_count": 43,
   "metadata": {},
   "outputs": [
    {
     "data": {
      "application/vnd.jupyter.widget-view+json": {
       "model_id": "82aa420324954b3fb44b7b2ac3d23f5c"
      }
     },
     "metadata": {},
     "output_type": "display_data"
    },
    {
     "name": "stdout",
     "output_type": "stream",
     "text": [
      "Button pressed\n",
      "Button pressed\n",
      "Button pressed\n",
      "Button pressed\n"
     ]
    }
   ],
   "source": [
    "s = wdg.Button(description='I am a button - click me ;)')\n",
    "s.layout.width = '30%'\n",
    "s.layout.height = '50px'\n",
    "s.continous_update=False\n",
    "s.on_click(ButtonPressed)\n",
    "s"
   ]
  },
  {
   "cell_type": "code",
   "execution_count": 37,
   "metadata": {},
   "outputs": [
    {
     "data": {
      "application/vnd.jupyter.widget-view+json": {
       "model_id": "a0d53c9017b34746b047b9a74114bead"
      }
     },
     "metadata": {},
     "output_type": "display_data"
    }
   ],
   "source": [
    "cb = wdg.Checkbox(description='Check me', value=False)\n",
    "interact(CheckboxChecked, checked=cb);"
   ]
  },
  {
   "cell_type": "code",
   "execution_count": 38,
   "metadata": {},
   "outputs": [
    {
     "data": {
      "application/vnd.jupyter.widget-view+json": {
       "model_id": "248d9f74ae10484bb8001008d94306b9"
      }
     },
     "metadata": {},
     "output_type": "display_data"
    }
   ],
   "source": [
    "dd = wdg.Dropdown(description='I am a Dropdown',options=['option a','option b','option c'])\n",
    "display(dd)"
   ]
  },
  {
   "cell_type": "code",
   "execution_count": 39,
   "metadata": {},
   "outputs": [
    {
     "data": {
      "application/vnd.jupyter.widget-view+json": {
       "model_id": "262bca9a18664d91a9ca5c81fb5dfd95"
      }
     },
     "metadata": {},
     "output_type": "display_data"
    }
   ],
   "source": [
    "interact(f, x=wdg.FloatSlider(value=0,min=-10,max=10,step=0.1,continuous_update=False));"
   ]
  },
  {
   "cell_type": "code",
   "execution_count": 40,
   "metadata": {},
   "outputs": [
    {
     "data": {
      "application/vnd.jupyter.widget-view+json": {
       "model_id": "2633a315d3cb463598d01c594c857f0a"
      }
     },
     "metadata": {},
     "output_type": "display_data"
    }
   ],
   "source": [
    "rb = wdg.RadioButtons(options=['a','b','c'],description='RadioButtons')\n",
    "display(rb)"
   ]
  }
 ],
 "metadata": {
  "anaconda-cloud": {},
  "kernelspec": {
   "display_name": "Python [Root]",
   "language": "python",
   "name": "Python [Root]"
  },
  "language_info": {
   "codemirror_mode": {
    "name": "ipython",
    "version": 3
   },
   "file_extension": ".py",
   "mimetype": "text/x-python",
   "name": "python",
   "nbconvert_exporter": "python",
   "pygments_lexer": "ipython3",
   "version": "3.5.2"
  },
  "widgets": {
   "state": {
    "018aee1c16fb402cb279685d9c7421dc": {
     "views": [
      {
       "cell_index": 6
      }
     ]
    },
    "68c76bcba6984731ba38df5bdd4176d5": {
     "views": [
      {
       "cell_index": 3
      }
     ]
    },
    "a953b16e05d04f4489da85b782bdd8ef": {
     "views": [
      {
       "cell_index": 2
      }
     ]
    },
    "e5959f8183784e47a677bfe2c7deddea": {
     "views": [
      {
       "cell_index": 5
      }
     ]
    },
    "f648046b08974b49b23f7f1cbccab9ce": {
     "views": [
      {
       "cell_index": 4
      }
     ]
    },
    "f726924733474f62926e402ef0da0565": {
     "views": [
      {
       "cell_index": 7
      }
     ]
    }
   },
   "version": "1.2.0"
  }
 },
 "nbformat": 4,
 "nbformat_minor": 1
}
