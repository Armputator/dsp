{
 "cells": [
  {
   "cell_type": "markdown",
   "source": [
    "<a href=\"../09_SMP/_index.ipynb\">&larr; SMP </a>&loz;\r\n",
    "<a href=\"../../README.md\"> &uarr; TOC &uarr; </a>&loz;\r\n",
    "<a href=\"../11_SRC/_index.ipynb\"> SRC &rarr;</a>\r\n",
    "<img src='../_img/icon.svg' align='right' width='10%'></img>\r\n",
    "# INP - Interpolation\r\n",
    "\r\n",
    "In diesem Kapitel geht es um die (einfache) Interpolation von Signalen, genauer, um die Erhöhung der Abtastfrequenz um ein ganzzahliges Vielfaches, also z.B. von 16 auf 48 kHz. In diesem Kapitel wird außerdem die Wandlung von digitalen in analoge Signale behandelt, da die auftretenden Effekte die gleichen sind.\r\n",
    "\r\n",
    "Von zentraler Bedeutung ist wie die zusätzlichen Abtastwerte berechnet werden und welche Auswirkungen das in der Frequenzebene hat."
   ],
   "metadata": {}
  },
  {
   "cell_type": "markdown",
   "source": [
    "* [INP-Basics:](INP-Basics.ipynb) Grundlagen der Interpolation\n",
    "* [INP-si_interpolation:](INP-si_interpolation.ipynb) si-Interpolation\n",
    "* [INP-si-plot:](INP-si-plot.ipynb) Erstellung eines Plots"
   ],
   "metadata": {}
  },
  {
   "cell_type": "markdown",
   "source": [
    "***\n",
    "### Copyright\n",
    "\n",
    "(c) 2016 - 2021 Prof. Dr. Christian Münker \n",
    "\n",
    "This jupyter notebook is part of a collection of notebooks on various topics of Digital Signal Processing. The latest version can be found at https://github.com/chipmuenk/dsp.\n",
    "\n",
    "This notebook is provided as [Open Educational Resource](https://en.wikipedia.org/wiki/Open_educational_resources). Feel free to use it for your own purposes. The text is licensed under [Creative Commons Attribution 4.0](https://creativecommons.org/licenses/by/4.0/), the code of the IPython examples under the [MIT license](https://opensource.org/licenses/MIT). Please attribute the work as follows: *Christian Münker, Digital Signal Processing - Vorlesungsunterlagen mit Simulationsbeispielen, 2021*."
   ],
   "metadata": {}
  },
  {
   "cell_type": "code",
   "execution_count": null,
   "source": [],
   "outputs": [],
   "metadata": {}
  }
 ],
 "metadata": {
  "anaconda-cloud": {},
  "kernelspec": {
   "display_name": "Python 3",
   "language": "python",
   "name": "python3"
  },
  "language_info": {
   "codemirror_mode": {
    "name": "ipython",
    "version": 3
   },
   "file_extension": ".py",
   "mimetype": "text/x-python",
   "name": "python",
   "nbconvert_exporter": "python",
   "pygments_lexer": "ipython3",
   "version": "3.9.5"
  }
 },
 "nbformat": 4,
 "nbformat_minor": 4
}