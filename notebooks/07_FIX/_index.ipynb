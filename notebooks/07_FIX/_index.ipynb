{
 "cells": [
  {
   "cell_type": "markdown",
   "metadata": {},
   "source": [
    "<a href=\"../06_FIL/_index.ipynb\">&larr; FIL </a>&loz;\n",
    "<a href=\"../../README.md\"> &uarr; TOC &uarr; </a>&loz;\n",
    "<a href=\"../08_NOI/index.ipynb\"> NOI &rarr;</a>\n",
    "<img src='../_img/pyfda_icon2.svg' align='right' width='10%'></img>\n",
    "# \"FIX - Fixpoint Systeme im Zeitbereich: Quantisierung und Wortlängeneffekte\n",
    "\n",
    "This chapter introduces discrete time filters with the following notebooks:"
   ]
  },
  {
   "cell_type": "markdown",
   "metadata": {},
   "source": [
    "* [FIX_Intro:](FIX_Intro.ipynb) Einführung in Fixpoint Systeme: Quantisierung und Überlauf\n",
    "* [FIX_FIR_quant:](FIX_FIR_quant.ipynb) <b>ToDo:</b> Aufgabe \"FIR Filter mit Koeffizienten-Quantisierung\"\n",
    "* [FIX_FIR_quant_ML:](FIX_FIR_quant_ML.ipynb) Musterlösung zur Aufgabe \"FIR Filter mit Koeffizienten-Quantisierung\"\n",
    "* [FIX_audio_quantization:](FIX_audio_quantization.ipynb) Quantisierung von Audiosignalen\n",
    "* [FIX_limit_cycles:](FIX_limit_cycles.ipynb) Grenzzyklen bei IIR-Filtern\n"
   ]
  },
  {
   "cell_type": "markdown",
   "metadata": {},
   "source": [
    "***\n",
    "### Copyright\n",
    "\n",
    "(c) 2016 - 2021 Prof. Dr. Christian Münker \n",
    "\n",
    "This jupyter notebook is part of a collection of notebooks on various topics of Digital Signal Processing. The latest version can be found at https://github.com/chipmuenk/dsp.\n",
    "\n",
    "This notebook is provided as [Open Educational Resource](https://en.wikipedia.org/wiki/Open_educational_resources). Feel free to use it for your own purposes. The text is licensed under [Creative Commons Attribution 4.0](https://creativecommons.org/licenses/by/4.0/), the code of the IPython examples under the [MIT license](https://opensource.org/licenses/MIT). Please attribute the work as follows: *Christian Münker, Digital Signal Processing - Vorlesungsunterlagen mit Simulationsbeispielen, 2020*."
   ]
  },
  {
   "cell_type": "code",
   "execution_count": null,
   "metadata": {},
   "outputs": [],
   "source": []
  }
 ],
 "metadata": {
  "anaconda-cloud": {},
  "kernelspec": {
   "display_name": "Python 3",
   "language": "python",
   "name": "python3"
  },
  "language_info": {
   "codemirror_mode": {
    "name": "ipython",
    "version": 3
   },
   "file_extension": ".py",
   "mimetype": "text/x-python",
   "name": "python",
   "nbconvert_exporter": "python",
   "pygments_lexer": "ipython3",
   "version": "3.7.4"
  }
 },
 "nbformat": 4,
 "nbformat_minor": 4
}