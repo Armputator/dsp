{
 "cells": [
  {
   "cell_type": "markdown",
   "metadata": {},
   "source": [
    "<a href=\"../05_SPS/_index.ipynb\">&larr; SPS </a>&loz;\n",
    "<a href=\"../../README.md\"> &uarr; TOC &uarr; </a>&loz;\n",
    "<a href=\"../07_FIX/_index.ipynb\"> FIX &rarr;</a>\n",
    "<img src='../_img/icon.svg' align='right' width='10%'></img>\n",
    "# \"FIL - Zeitdiskrete Filter\n",
    "\n",
    "In den Notebooks dieses Kapitels geht es um zeitdiskrete Filter und deren Entwurf."
   ]
  },
  {
   "cell_type": "markdown",
   "metadata": {},
   "source": [
    "* [FIL-Intro:](FIL-Intro.ipynb) Demonstriere verschiedene Filterentwurfsmethoden und vergleiche die Ergebnisse\n",
    "* [FIL-Linphase_Filter:](FIL-Linphase_Filter.ipynb) Einfluss von einfachen und doppelten Nullstellen im SB und DB auf den Amplitudengang (zu Übungsaufgabe \"Amplitudengang linearphasiger Filter)\n",
    "* [FIL-Fehlerrate:](FIL-Fehlerrate.ipynb) Einfluss der Filterung auf die Detektion einer binär kodierten Sequenz mit überlagertem Gauss-verteilten weißen Rauschen\n"
   ]
  },
  {
   "cell_type": "markdown",
   "metadata": {},
   "source": [
    "***\n",
    "### Copyright\n",
    "\n",
    "(c) 2016 - 2021 Prof. Dr. Christian Münker \n",
    "\n",
    "This jupyter notebook is part of a collection of notebooks on various topics of Digital Signal Processing. The latest version can be found at https://github.com/chipmuenk/dsp.\n",
    "\n",
    "This notebook is provided as [Open Educational Resource](https://en.wikipedia.org/wiki/Open_educational_resources). Feel free to use it for your own purposes. The text is licensed under [Creative Commons Attribution 4.0](https://creativecommons.org/licenses/by/4.0/), the code of the IPython examples under the [MIT license](https://opensource.org/licenses/MIT). Please attribute the work as follows: *Christian Münker, Digital Signal Processing - Vorlesungsunterlagen mit Simulationsbeispielen, 2021*."
   ]
  },
  {
   "cell_type": "code",
   "execution_count": null,
   "metadata": {},
   "outputs": [],
   "source": []
  }
 ],
 "metadata": {
  "anaconda-cloud": {},
  "kernelspec": {
   "display_name": "Python 3",
   "language": "python",
   "name": "python3"
  },
  "language_info": {
   "codemirror_mode": {
    "name": "ipython",
    "version": 3
   },
   "file_extension": ".py",
   "mimetype": "text/x-python",
   "name": "python",
   "nbconvert_exporter": "python",
   "pygments_lexer": "ipython3",
   "version": "3.8.2"
  }
 },
 "nbformat": 4,
 "nbformat_minor": 4
}
