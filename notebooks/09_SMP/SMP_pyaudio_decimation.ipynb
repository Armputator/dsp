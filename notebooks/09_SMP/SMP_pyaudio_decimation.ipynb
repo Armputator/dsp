{
 "cells": [
  {
   "cell_type": "code",
   "execution_count": 5,
   "metadata": {
    "collapsed": true
   },
   "outputs": [],
   "source": [
    "# -*- coding: utf-8 -*-\n",
    "\"\"\"\n",
    "=== SMP_pyaudio_decimation.py =============================================\n",
    "\n",
    "\n",
    " Code-Beispiel zur Dezimation (mit / ohne Filterung) von Audio-Signalen\n",
    "\n",
    " Eine Audio-Datei wird blockweise eingelesen, in numpy-Arrays umgewandelt \n",
    " dann werden Samples entnommen und die Datei wird auf\n",
    " ein Audio-Device ausgegeben.\n",
    " \n",
    "===========================================================================\n",
    "\"\"\"\n",
    "from __future__ import division, print_function, unicode_literals\n",
    "\n",
    "import numpy as np\n",
    "from numpy import (pi, log10, exp, sqrt, sin, cos, tan, angle, arange,\n",
    "                    linspace, array, zeros, ones)\n",
    "from numpy.fft import fft, ifft, fftshift, ifftshift, fftfreq\n",
    "import scipy.signal as sig\n",
    "\n",
    "%matplotlib inline\n",
    "import matplotlib.pyplot as plt\n",
    "from matplotlib.pyplot import (figure, plot, stem, grid, xlabel, ylabel,\n",
    "    subplot, title, clf, xlim, ylim)\n",
    "\n",
    "from ipywidgets import interactive\n",
    "from IPython.display import Audio, display\n",
    "\n",
    "import wave\n",
    "import os"
   ]
  },
  {
   "cell_type": "markdown",
   "metadata": {},
   "source": [
    "## Audio from wav-File and decimation ##\n",
    "Demonstrate reading a wav-File and playing it"
   ]
  },
  {
   "cell_type": "code",
   "execution_count": 7,
   "metadata": {},
   "outputs": [
    {
     "name": "stdout",
     "output_type": "stream",
     "text": [
      ".\n"
     ]
    }
   ],
   "source": [
    "np_type = np.int16\n",
    "NFFT = 128 # used for the spectrograms\n",
    "R = 8# downsampling ratio - only use R = 2^k\n",
    "FILTER = False  # if TRUE: filter samples before downsampling\n",
    "\n",
    "path = '/fpga/medien'\n",
    "\n",
    "#filename = 'ComputerBeeps2.wav'\n",
    "filename = 'SpaceRipple.wav'\n",
    "\n",
    "print(os.)\n",
    "print"
   ]
  },
  {
   "cell_type": "code",
   "execution_count": 6,
   "metadata": {
    "scrolled": true
   },
   "outputs": [
    {
     "name": "stdout",
     "output_type": "stream",
     "text": [
      ".\n"
     ]
    },
    {
     "ename": "FileNotFoundError",
     "evalue": "[Errno 2] No such file or directory: '/fpga/medien/SpaceRipple.wav'",
     "output_type": "error",
     "traceback": [
      "\u001b[0;31m---------------------------------------------------------------------------\u001b[0m",
      "\u001b[0;31mFileNotFoundError\u001b[0m                         Traceback (most recent call last)",
      "\u001b[0;32m<ipython-input-6-6a35437045cb>\u001b[0m in \u001b[0;36m<module>\u001b[0;34m()\u001b[0m\n\u001b[1;32m     10\u001b[0m \u001b[0;34m\u001b[0m\u001b[0m\n\u001b[1;32m     11\u001b[0m \u001b[0mprint\u001b[0m\u001b[0;34m(\u001b[0m\u001b[0mos\u001b[0m\u001b[0;34m.\u001b[0m\u001b[0mcurdir\u001b[0m\u001b[0;34m)\u001b[0m\u001b[0;34m\u001b[0m\u001b[0m\n\u001b[0;32m---> 12\u001b[0;31m \u001b[0mwf\u001b[0m \u001b[0;34m=\u001b[0m \u001b[0mwave\u001b[0m\u001b[0;34m.\u001b[0m\u001b[0mopen\u001b[0m\u001b[0;34m(\u001b[0m\u001b[0mos\u001b[0m\u001b[0;34m.\u001b[0m\u001b[0mpath\u001b[0m\u001b[0;34m.\u001b[0m\u001b[0mjoin\u001b[0m\u001b[0;34m(\u001b[0m\u001b[0mpath\u001b[0m\u001b[0;34m,\u001b[0m \u001b[0mfilename\u001b[0m\u001b[0;34m)\u001b[0m\u001b[0;34m)\u001b[0m\u001b[0;34m\u001b[0m\u001b[0m\n\u001b[0m\u001b[1;32m     13\u001b[0m \u001b[0mn_chan\u001b[0m \u001b[0;34m=\u001b[0m \u001b[0mwf\u001b[0m\u001b[0;34m.\u001b[0m\u001b[0mgetnchannels\u001b[0m\u001b[0;34m(\u001b[0m\u001b[0;34m)\u001b[0m \u001b[0;31m# number of channels in wav-file\u001b[0m\u001b[0;34m\u001b[0m\u001b[0m\n\u001b[1;32m     14\u001b[0m \u001b[0mw_samp\u001b[0m \u001b[0;34m=\u001b[0m \u001b[0mwf\u001b[0m\u001b[0;34m.\u001b[0m\u001b[0mgetsampwidth\u001b[0m\u001b[0;34m(\u001b[0m\u001b[0;34m)\u001b[0m \u001b[0;31m# wordlength of samples\u001b[0m\u001b[0;34m\u001b[0m\u001b[0m\n",
      "\u001b[0;32m/opt/anaconda/anaconda3/lib/python3.6/wave.py\u001b[0m in \u001b[0;36mopen\u001b[0;34m(f, mode)\u001b[0m\n\u001b[1;32m    497\u001b[0m             \u001b[0mmode\u001b[0m \u001b[0;34m=\u001b[0m \u001b[0;34m'rb'\u001b[0m\u001b[0;34m\u001b[0m\u001b[0m\n\u001b[1;32m    498\u001b[0m     \u001b[0;32mif\u001b[0m \u001b[0mmode\u001b[0m \u001b[0;32min\u001b[0m \u001b[0;34m(\u001b[0m\u001b[0;34m'r'\u001b[0m\u001b[0;34m,\u001b[0m \u001b[0;34m'rb'\u001b[0m\u001b[0;34m)\u001b[0m\u001b[0;34m:\u001b[0m\u001b[0;34m\u001b[0m\u001b[0m\n\u001b[0;32m--> 499\u001b[0;31m         \u001b[0;32mreturn\u001b[0m \u001b[0mWave_read\u001b[0m\u001b[0;34m(\u001b[0m\u001b[0mf\u001b[0m\u001b[0;34m)\u001b[0m\u001b[0;34m\u001b[0m\u001b[0m\n\u001b[0m\u001b[1;32m    500\u001b[0m     \u001b[0;32melif\u001b[0m \u001b[0mmode\u001b[0m \u001b[0;32min\u001b[0m \u001b[0;34m(\u001b[0m\u001b[0;34m'w'\u001b[0m\u001b[0;34m,\u001b[0m \u001b[0;34m'wb'\u001b[0m\u001b[0;34m)\u001b[0m\u001b[0;34m:\u001b[0m\u001b[0;34m\u001b[0m\u001b[0m\n\u001b[1;32m    501\u001b[0m         \u001b[0;32mreturn\u001b[0m \u001b[0mWave_write\u001b[0m\u001b[0;34m(\u001b[0m\u001b[0mf\u001b[0m\u001b[0;34m)\u001b[0m\u001b[0;34m\u001b[0m\u001b[0m\n",
      "\u001b[0;32m/opt/anaconda/anaconda3/lib/python3.6/wave.py\u001b[0m in \u001b[0;36m__init__\u001b[0;34m(self, f)\u001b[0m\n\u001b[1;32m    157\u001b[0m         \u001b[0mself\u001b[0m\u001b[0;34m.\u001b[0m\u001b[0m_i_opened_the_file\u001b[0m \u001b[0;34m=\u001b[0m \u001b[0;32mNone\u001b[0m\u001b[0;34m\u001b[0m\u001b[0m\n\u001b[1;32m    158\u001b[0m         \u001b[0;32mif\u001b[0m \u001b[0misinstance\u001b[0m\u001b[0;34m(\u001b[0m\u001b[0mf\u001b[0m\u001b[0;34m,\u001b[0m \u001b[0mstr\u001b[0m\u001b[0;34m)\u001b[0m\u001b[0;34m:\u001b[0m\u001b[0;34m\u001b[0m\u001b[0m\n\u001b[0;32m--> 159\u001b[0;31m             \u001b[0mf\u001b[0m \u001b[0;34m=\u001b[0m \u001b[0mbuiltins\u001b[0m\u001b[0;34m.\u001b[0m\u001b[0mopen\u001b[0m\u001b[0;34m(\u001b[0m\u001b[0mf\u001b[0m\u001b[0;34m,\u001b[0m \u001b[0;34m'rb'\u001b[0m\u001b[0;34m)\u001b[0m\u001b[0;34m\u001b[0m\u001b[0m\n\u001b[0m\u001b[1;32m    160\u001b[0m             \u001b[0mself\u001b[0m\u001b[0;34m.\u001b[0m\u001b[0m_i_opened_the_file\u001b[0m \u001b[0;34m=\u001b[0m \u001b[0mf\u001b[0m\u001b[0;34m\u001b[0m\u001b[0m\n\u001b[1;32m    161\u001b[0m         \u001b[0;31m# else, assume it is an open file object already\u001b[0m\u001b[0;34m\u001b[0m\u001b[0;34m\u001b[0m\u001b[0m\n",
      "\u001b[0;31mFileNotFoundError\u001b[0m: [Errno 2] No such file or directory: '/fpga/medien/SpaceRipple.wav'"
     ]
    }
   ],
   "source": [
    "wf = wave.open(os.path.join(path, filename))\n",
    "n_chan = wf.getnchannels() # number of channels in wav-file\n",
    "w_samp = wf.getsampwidth() # wordlength of samples\n",
    "rate_in = wf.getframerate() # samplerate in wav-file\n",
    "\n",
    "samples_in = np.fromstring(wf.readframes(-1), dtype=np_type)#*0.9\n",
    "n_samples = len(samples_in) // n_chan\n",
    "\n",
    "print(\"\"\"Channels:\\t{0}\\nSample width:\\t{1} bytes\\nOutput rate:\\t{2} Hz\\nInput Samples:\\t{3}\"\"\".format(n_chan,  w_samp, rate_in, n_samples))\n",
    "\n",
    "display(Audio(data=samples_in, rate=rate_in))\n",
    "\n",
    "# ============== Create spectrogram =========================================\n",
    "dbmin = -100; dbmax = 0 # Limits for log. display\n",
    "win = sig.windows.kaiser(NFFT,12, sym = False) # needs NFFT and shape parameter beta\n",
    "figure(1)\n",
    "Pxx, freqs, bins, im = plt.specgram(samples_in / (NFFT * 2**15), NFFT=NFFT, Fs=rate_in, \n",
    "                            noverlap=NFFT/2, mode = 'magnitude', window = win, \n",
    "                            scale = 'dB', vmin = dbmin, vmax = dbmax)\n",
    "xlabel(r'$t \\; \\mathrm{in \\; s}\\;\\rightarrow$', fontsize = 16)\n",
    "ylabel(r'$f \\; \\mathrm{in \\; Hz}\\;\\rightarrow$', fontsize = 16)\n",
    "title('Spectrogram of original signal')\n",
    "xlim([0, n_samples/rate_in])\n",
    "ylim([0, rate_in/2])\n",
    "plt.colorbar(label = \"Spectrogram\")\n",
    "plt.tight_layout()\n",
    "plt.show()"
   ]
  },
  {
   "cell_type": "markdown",
   "metadata": {},
   "source": [
    "### Downsampling and Decimation ###\n",
    "Now, downsample the data with prior filtering (= decimation) or without (= downsampling)"
   ]
  },
  {
   "cell_type": "code",
   "execution_count": null,
   "metadata": {},
   "outputs": [],
   "source": [
    "STEREO = n_chan == 2\n",
    "n_samp_out = int(np.ceil(n_samples / R))\n",
    "rate_out = rate_in // R\n",
    "print(\"Output rate:\\t{0} Hz\\nOutput samples:\\t{1}\".format(rate_out, n_samp_out))\n",
    "\n",
    "# initialize arrays for samples\n",
    "samples_l  = samples_r = zeros(n_samples // R) # R/L output samples (decimated)\n",
    "samples_out = zeros(n_samp_out, dtype=np_type) # mono / stereo output samples (decimated)\n",
    "\n",
    "#---------------------------------------------------------------------------\n",
    "# de-interleave WAV data stream into R and L channel:\n",
    "if FILTER:\n",
    "    # apply decimation filter before downsampling by  a factor of R\n",
    "    samples_l = sig.decimate(samples_in[0::n_chan], R, ftype='FIR')\n",
    "    if STEREO:\n",
    "        samples_r = sig.decimate(samples_in[1::2], R, ftype='FIR')\n",
    "else:\n",
    "    # downsample by R, picking every Rth sample / every 2*Rth sample (stereo)\n",
    "    samples_l = samples_in[0::n_chan*R] # take every R'th sample, starting with 0\n",
    "    if STEREO:\n",
    "        samples_r = samples_in[1::2*R] # take every 2*R'th sample, starting with 1\n",
    "\n",
    "# interleave R and L channel\n",
    "samples_out[0::n_chan] = samples_l\n",
    "if STEREO:\n",
    "    samples_out[1::2] = samples_r\n",
    "        \n",
    "display(Audio(data=samples_out, rate=rate_out))"
   ]
  },
  {
   "cell_type": "code",
   "execution_count": null,
   "metadata": {},
   "outputs": [],
   "source": [
    "fig = figure(1)\n",
    "plot(arange(len(samples_l)), samples_l)\n",
    "\n",
    "# ============== Create spectrogram =========================================\n",
    "dbmin = -100; dbmax = 0 # Limits for log. display\n",
    "win = sig.windows.kaiser(NFFT,12, sym = False) # needs NFFT and shape parameter beta\n",
    "figure(2)\n",
    "Pxx, freqs, bins, im = plt.specgram(samples_out / (NFFT * 2**15), NFFT=NFFT, Fs=rate_out, \n",
    "                            noverlap=NFFT/2, mode = 'magnitude', window = win, \n",
    "                            scale = 'dB', vmin = dbmin, vmax = dbmax)\n",
    "xlabel(r'$t \\; \\mathrm{in \\; s}\\;\\rightarrow$', fontsize = 16)\n",
    "ylabel(r'$f \\; \\mathrm{in \\; Hz}\\;\\rightarrow$', fontsize = 16)\n",
    "title('Spectrogram of decimated signal')\n",
    "xlim([0, n_samp_out/rate_out])\n",
    "ylim([0, rate_out/2])\n",
    "plt.colorbar(label = \"Spectrogram\")\n",
    "plt.tight_layout()\n",
    "plt.show()"
   ]
  },
  {
   "cell_type": "code",
   "execution_count": null,
   "metadata": {
    "collapsed": true
   },
   "outputs": [],
   "source": []
  }
 ],
 "metadata": {
  "anaconda-cloud": {},
  "kernelspec": {
   "display_name": "Python 3",
   "language": "python",
   "name": "python3"
  },
  "language_info": {
   "codemirror_mode": {
    "name": "ipython",
    "version": 3
   },
   "file_extension": ".py",
   "mimetype": "text/x-python",
   "name": "python",
   "nbconvert_exporter": "python",
   "pygments_lexer": "ipython3",
   "version": "3.6.1"
  }
 },
 "nbformat": 4,
 "nbformat_minor": 1
}
