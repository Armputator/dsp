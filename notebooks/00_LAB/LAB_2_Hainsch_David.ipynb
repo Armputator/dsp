{
 "cells": [
  {
   "cell_type": "markdown",
   "metadata": {},
   "source": [
    "<a href=\"_index.ipynb\">&larr; LAB </a>&loz;\n",
    "<a href=\"../../README.md\"> &uarr; TOC &uarr; </a>\n",
    "<img src='../_img/icon.svg' align='right' width='10%'></img>\n",
    "\n",
    "<b>Name, Vorname:</b> \n",
    "# LAB 2: Filterung und DFT als Näherung für spektrale Analyse\n",
    "\n",
    "### Inhalt\n",
    "[0. Allgemeines](#allgemeines)\n",
    "\n",
    "[1. FIR und IIR Filter](#filter)\n",
    "\n",
    "[2. Schätzung der Fourierreihe durch FFT](#fourierreihe)\n",
    "\n",
    "[3. Schätzung des Fourierspektrums von Sinustönen mit überlagertem Rauschen durch FFT](#fourier_sine_noise)\n",
    "\n",
    "[4. Fourierspektrum eines Rechteckpulses](#fourierspektrum)\n",
    "\n",
    "## 0. Allgemeine Hinweise<a id='allgemeines'></a>\n",
    "\n",
    "* \\<SHIFT\\>-\\<RETURN\\> führt eine Codezelle aus und rendert eine Textzelle.\n",
    "* In Markdown sind Leerzeilen wichtig zum Trennen von Abschnitten! \n",
    "* Sie können LaTeX-Code zwischen \\\\$ ... \\\\$ einschließen.\n",
    "* Kontexthilfe zu Funktionen etc. bekommen Sie über \\<SHIFT\\>-\\<TAB\\>\n",
    "\n",
    "Nach dem Praktikumsversuch exportieren Sie das Notebook mit Textantworten, Codezellen und Plots als HTML (File -> Export Notebook As ... -> Export Notebook to HTML) und reichen es in Moodle ein.</div><br />\n",
    "\n",
    "***"
   ]
  },
  {
   "cell_type": "code",
   "execution_count": 1,
   "metadata": {},
   "outputs": [
    {
     "name": "stdout",
     "output_type": "stream",
     "text": [
      "Python version: 3.7.6\n",
      "Numpy: 1.18.1\n",
      "Scipy: 1.4.1\n",
      "Matplotlib: 3.1.3 module://ipykernel.pylab.backend_inline\n"
     ]
    }
   ],
   "source": [
    "import os, sys\n",
    "module_path = os.path.abspath(os.path.join('..')) # append directory one level up to import path\n",
    "if module_path not in sys.path:  # ... if it hasn't been appended already\n",
    "    sys.path.append(module_path)\n",
    "import dsp_fpga_lib as dsp\n",
    "dsp.versions() # print versions \n",
    "    \n",
    "%matplotlib inline\n",
    "import matplotlib.pyplot as plt\n",
    "size = {\"figsize\":(12,5)} # Plotgröße in Inch\n",
    "\n",
    "import numpy as np\n",
    "import scipy.signal as sig\n",
    "import wave\n",
    "\n",
    "from IPython.display import Audio, display\n",
    "#-----------------------------------------------------------------------------\n",
    "def wav2np(filename):\n",
    "    \"\"\" Read the wav-file and convert it to a one or two-dimensional numpy array,\n",
    "        depending on the number of channels. \n",
    "        Properties of the WAV-file are stored as function attributes (evil)\n",
    "    \"\"\"\n",
    "    wf = wave.open(filename,'rb')\n",
    "    wav2np.N_CH = wf.getnchannels() # number of channels\n",
    "    wav2np.W    = wf.getsampwidth() # wordlength per sample in bytes\n",
    "    wav2np.N_FR = wf.getnframes()   # number of frames\n",
    "    wav2np.f_S  = wf.getframerate() # sample (frame) rate \n",
    "    \n",
    "    print(\"{0} channels with {1} frames of {2} bytes and f_S = {3} Hz.\".format(wav2np.N_CH, wav2np.N_FR, wav2np.W, wav2np.f_S))\n",
    "    \n",
    "    if wav2np.W == 2:\n",
    "        samples_in = np.frombuffer(wf.readframes(-1), dtype=np.int16) # read wav data as 16 bit integers, R and L samples are interleaved\n",
    "    elif wav2np.W == 1:\n",
    "        samples_in = np.frombuffer(wf.readframes(-1), dtype=np.int8) # read wav data as 8 bit integers, R and L samples are interleaved\n",
    "    else:\n",
    "         raise TypeError(\"Unknown data format: {0} bytes\".format(wav2np.W))   \n",
    "\n",
    "    samples = np.array([samples_in[idx::wav2np.N_CH] for idx in range(wav2np.N_CH)], dtype=np.int32) # deinterleave channels to numpy array N_CHAN x N_FRAMES\n",
    "    return samples\n"
   ]
  },
  {
   "cell_type": "markdown",
   "metadata": {},
   "source": [
    "## 1. FIR und IIR Filter<a id='filter'></a>"
   ]
  },
  {
   "cell_type": "markdown",
   "metadata": {},
   "source": [
    "In diesem Abschnitt analysieren Sie die beiden Filter aus der folgenden Abbildung:\n",
    "\n",
    "<table><tr><td><img src=\"data:image/png;base64,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\" /></td><td>&nbsp;&nbsp;</td>\n",
    "\n",
    "<td><img src=\"data:image/png;base64,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\" /></td></tr>\n",
    "\n",
    "<tr><td>Filter 1</td><td>&nbsp;&nbsp;</td><td>Filter 2</td></tr></table>"
   ]
  },
  {
   "cell_type": "markdown",
   "metadata": {},
   "source": [
    "<div class=\"alert alert-block alert-info\"><b>VORBEREITUNG:</b></div>\n",
    "\n",
    "* Woran erkennen Sie, welches davon ein IIR- und welches ein FIR Filter ist?\n",
    "\n",
    "Filter 1 verzögert ein eingangs signal x[n] endlich oft, Filter 2 führt das eigene Ausgangsignal zurück zum Eingang, nur endlich wenn der Ausgang einmal 0 erreicht und kein neues Eingangssignal kommt\n",
    "\n",
    "* Berechnen Sie die Differenzengleichung der beiden Filter.\n",
    "\n",
    "$y_1[n] = \\frac{1}{2}*x[n-1] + x[n-2]  + \\frac{1}{2}*x[n-3]$\n",
    "\n",
    "$y_2[n] = x[n+2] - 0.9 * y[n+2]$\n",
    "\n",
    "* Berechnen Sie die Systemantwort der beiden Filter. Können Sie die Impulsantwort beider Filter einfach aufschreiben?\n",
    "\n",
    "$H_1[z] = 0.5 + * z^{-1} + 0.5 * z^{-2}$\n",
    "\n",
    "$H_2[z] = \\frac{{1*z^{-2}}} {1+0.9*z^{-2}}$\n",
    "\n",
    "* Berechnen Sie Pole und Nullstellen beider Systemfunktionen und skizzieren Sie (auf einem Blatt Papier) den P/N - Plan.\n",
    "\n",
    "$f_{1 nst,1,2} = -1$\n",
    "\n",
    "$f_{1 pol} = im\\,unendlichen$\n",
    "\n",
    "$f_{2 nst,1,2} = im\\,unendlichen$\n",
    "\n",
    "$f_{2 pol,1,2} =\\pm \\frac{3*\\sqrt{10}}{10} i$\n",
    "\n",
    "* Schätzen Sie aus dem P/N Plan ab, um welchen Filtertyp es sich handelt. Bei welcher Frequenz liegt das Maximum des Betragsgangs? Welchen Wert hat es?\n",
    "\n",
    "$Filter\\,1: FIR$\n",
    "\n",
    "$max\\,Betrag\\,bei\\,$\n",
    "\n",
    "$Filter\\,2: IIR$\n",
    "\n",
    "$max\\,Betrag\\,bei\\,$\n",
    "\n",
    "***"
   ]
  },
  {
   "cell_type": "markdown",
   "metadata": {},
   "source": [
    "### 1.1 Simulation\n",
    "\n",
    "Für die Simulation müssen wir zuerst die Filter als Koeffizientenvektoren `a` und `b` darstellen (siehe folgendes Bild und Abschnitt 3 von LAB 1).\n",
    "\n",
    "<img src=\"data:image/png;base64, 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\"/>"
   ]
  },
  {
   "cell_type": "markdown",
   "metadata": {},
   "source": [
    "Als \"Codesteinbruch\" können Sie wieder das Notebook [02_LTF/LTF-Filter_properties.ipynb](../02_LTF/LTF-Filter_properties.ipynb) verwenden.\n",
    "\n",
    "Alternativ verwenden Sie [pyfda](https://github.com/chipmuenk/pyfda): Im Tab \"b,a\" importieren Sie Koeffizienten aus einem CSV-File oder (nach Auswahl von \"Clipboard\" in den Einstellungen) direkt aus der Zwischenablage. Die Koeffizienten `b` des nicht-rekursiven Teils geben Sie hierfür getrennt durch Kommata an, optional in einer zweiten Zeile die Koeffizienten `a` des rekursiven Teils.\n",
    "\n",
    "<div class=\"alert alert-block alert-warning\"><b> SIMULATION:</b></div>\n",
    "\n",
    "* Stellen Sie Filter 1 und Filter 2 (s.o.) als Koeffizientenvektoren `a` und `b` dar. Informationen dazu finden Sie im Abschnitt 3 von LAB 1 und in obiger Abbildung. Beachten Sie:\n",
    "  * Die Reihenfolge ist $a = [1, a_1, a_2, ...]$ und $b = [b_0, b_1, \\ldots]$. Warum ist immer $a_0 = 1$? Warum dreht sich das Vorzeichen der rekursiven Koeffizenten herum?\n",
    "  * \"Fehlende\" Koeffizienten müssen als 0 eingetragen werden.\n",
    "  * Die imaginäre Einheit ist `1j`, dementsprechend werden imaginäre Zahlen z.B. als `0.3j` repräsentiert.\n",
    "\n",
    "* Testen Sie mit dem P/N Diagramm, ob Rechnung und Simulation zusammen passen.\n",
    "\n",
    "* Lassen Sie sich die Impulsantwort anzeigen, für das FIR-Filter ist das relativ einfach ;-), beim IIR-Filter benötigen Sie `dsp.impz()`\n",
    "\n",
    "* Plotten Sie Betragsfrequenzgang, Phasengang und Gruppenlaufzeit.\n",
    "\n",
    "#### 1.1.1 P/N Diagramm"
   ]
  },
  {
   "cell_type": "code",
   "execution_count": null,
   "metadata": {},
   "outputs": [],
   "source": [
    "a_FIR = 1\n",
    "b_FIR = \n",
    "a_IIR = \n",
    "b_IIR = \n",
    "#---------------\n",
    "fig, (ax1,ax2) = plt.subplots(nrows=1, ncols=2,**size)\n",
    "ax1.set_title('P/N Diagramm: FIR')\n",
    "dsp.zplane(b_FIR,a_FIR, plt_ax=ax1);\n",
    "print(\"Nullstellen FIR: {0}\".format(np.roots(b_FIR)))\n",
    "\n",
    "ax2.set_title('P/N Diagramm: IIR')\n",
    "dsp.zplane(b_IIR,a_IIR, plt_ax=ax2);\n",
    "print(\"Nullstellen IIR: {0}\".format(np.roots(b_IIR)))\n",
    "if type(a_IIR) in {list, np.ndarray} and len(a_IIR) > 1:\n",
    "    print(\"Polstellen IIR:  {0}\\n\".format(np.roots(a_IIR)))"
   ]
  },
  {
   "cell_type": "markdown",
   "metadata": {},
   "source": [
    "#### 1.1.2 Impulsantwort\n",
    "Der Befehl `h,t = dsp.impz(b,a)` berechnet die Impulsantwort, die Sie dann plotten können, am Besten als stem-Plot.\n",
    "\n",
    "Warum ist beim IIR-Filter jeder zweite Impuls Null?"
   ]
  },
  {
   "cell_type": "code",
   "execution_count": null,
   "metadata": {},
   "outputs": [],
   "source": [
    "fig, (ax1,ax2) = plt.subplots(nrows=2, ncols=1,**size)\n",
    "ax1.set_title('Impulsantwort FIR')\n",
    "h_FIR,t_FIR = dsp.impz(b_FIR,a_FIR);\n",
    "ax1.stem()\n",
    "ax2.set_title('Impulsantwort IIR')\n",
    "ax2.stem()\n",
    "fig.set_tight_layout(True)"
   ]
  },
  {
   "cell_type": "markdown",
   "metadata": {},
   "source": [
    "#### 1.1.3 Betrags- und Phasengang sowie Gruppenlaufzeit\n",
    "Aus dem komplexen Frequenzgang `omega, H = sig.freqz(b,a)` ermitteln Sie mit `np.abs()` und `np.angle()` Betrags- und Phasengang. Defaultmäßig werden 512 Frequenzpunkte zwischen 0 und $f_S/2$ bestimmt und als normierte Kreisfrequenz zurückgegeben.\n",
    "\n",
    "Die Gruppenlaufzeit ermitteln Sie mit `w, H = sig.group_delay((b,a), omega)`. Mit `omega` übergeben Sie die Frequenzen, an denen die Gruppenlaufzeit berechnet werden soll (z.B. die, die Sie aus der Berechnung des komplexen Frequenzgangs erhalten haben).\n",
    "\n",
    "Der Plot der Gruppenlaufzeit sieht u.U. etwas seltsam aus, mit `set_ylim([y_min, y_max])` passen Sie die Grenzen an."
   ]
  },
  {
   "cell_type": "code",
   "execution_count": null,
   "metadata": {},
   "outputs": [],
   "source": [
    "fig, ax = plt.subplots(nrows=3, ncols=2, figsize=(12,8))\n",
    "w_FIR, H_FIR = sig.freqz(b_FIR, a_FIR)\n",
    "_, tau_FIR = sig.group_delay((b_FIR, a_FIR), w_FIR)\n",
    "w_IIR, H_IIR = sig.freqz(b_IIR, a_IIR)\n",
    "_, tau_IIR = sig.group_delay((b_IIR, a_IIR), w_IIR)\n",
    "ax[0][0].set_title(\"FIR\")\n",
    "ax[0][0].plot(w_FIR / (2*np.pi), np.abs(H_FIR))\n",
    "ax[0][0].set_ylabel(r\"$|H| \\;\\rightarrow$\")\n",
    "...\n",
    "ax[2][1].set_xlabel(r\"$F \\;\\rightarrow$\")\n",
    "fig.set_tight_layout(True)"
   ]
  },
  {
   "cell_type": "markdown",
   "metadata": {},
   "source": [
    "### 1.2 Anhören\n",
    "Im folgenden filtern wir Sprach- oder Rauschsignale mit unseren beiden Filtern und hören und schauen uns das Resultat an. Eine FIR-Filterung könnten Sie wieder mit `convolve(x,h)` durchführen (nur für eindimensionale Arrays). Warum funktioniert bei IIR-Filtern die `convolve`-Methode nicht?\n",
    "\n",
    "Für IIR und FIR-Filter können Sie die Routine `y = sig.lfilter(b,a,x)` verwenden (funktioniert auch mit zweidimensionalen Arrays).\n",
    "\n",
    "\n",
    "<div class=\"alert alert-block alert-warning\"><b> SIMULATION:</b></div>\n",
    "\n",
    "* Filtern Sie ein Rauschsignal oder einen WAV-File aus dem Unterordner `medien` mit dem FIR- und dem IIR-Filter. Rauschen erzeugen Sie wieder z.B. mit `x_n = np.random.randn(16000)`, WAV-Files wandeln Sie mit der Hilfsfunktion `wav2array(filename)` in ein ein- oder zweidimensionales Array um.\n",
    "\n",
    "* Hören Sie sich die Wirkung der beiden Filter an mit der `Audio` Klasse aus dem `IPython.display` - Modul:\n",
    "\n",
    "   `display(Audio((data=None, rate=None)`, `data` kann dabei ein ein- oder zweidimensionales numpy-Array oder Liste sein, ein Filename oder auch eine URL. Der Parameter `rate` definiert die Abtastrate.\n",
    "\n",
    "* Schauen Sie sich einen Ausschnitt des ursprünglichen und des gefilterten Signals im gleichen Plot an und vergleichen Sie.\n",
    "\n",
    "\n",
    "\n"
   ]
  },
  {
   "cell_type": "code",
   "execution_count": null,
   "metadata": {},
   "outputs": [],
   "source": [
    "x_n = np.random.randn(16000)\n",
    "x_w = wav2np(\"../medien/87778__marcgascon7__vocals.wav\")\n",
    "\n",
    "print(np.shape(x_w))\n",
    "y_FIR = ...\n",
    "y_IIR = ...\n",
    "display(Audio(data=y_IIR, rate=wav2np.f_S))"
   ]
  },
  {
   "cell_type": "code",
   "execution_count": null,
   "metadata": {},
   "outputs": [],
   "source": [
    "fig, ax = plt.subplots(**size)\n",
    "l = 4000\n",
    "start = 20000\n",
    "ax.plot(... x_w[0][...], label=\"x_w\")\n",
    "ax.plot(... , y_IIR[0][...], label=\"y_IIR\")\n",
    "ax.legend();"
   ]
  },
  {
   "cell_type": "markdown",
   "metadata": {},
   "source": [
    "## 2. Fourierreihe einer Rechteckpulsfolge<a id='fourierreihe'></a>\n",
    "\n",
    "In diesem Versuchsteil bestimmen wir die Fourierkoeffizienten einer rechteckförmigen zeitkontinuierlichen Pulsfolge mit $T_1 = 1\\,$ms. Der Duty Cycle $\\alpha = 0.25$ und Amplitude $A=1000\\,$mV, die Pulsbreite ist also $\\Delta T = T_1/4$ (siehe nächster Plot)."
   ]
  },
  {
   "cell_type": "code",
   "execution_count": null,
   "metadata": {},
   "outputs": [],
   "source": [
    "fig, ax = plt.subplots(**size)\n",
    "t = np.arange(-0.2e-3, 4e-3, 1/640e3) # pseudo-analoger Zeitvektor in ms (mit 640 kHz so fein abgetastet, dass der Unterschied nicht auffällt)\n",
    "y = 500*sig.square(t*1e3*2*np.pi+np.pi/4, duty=0.25) + 500\n",
    "ax.plot(t, y, 'r', lw=2)\n",
    "ax.axvline(0, ls='-',color='k')\n",
    "ax.set_xlabel(r\"$t \\; / \\;\\mathrm{ms} \\;\\rightarrow$\")\n",
    "ax.set_ylabel(r\"$y(t)\\; / \\;\\mathrm{mV} \\;\\rightarrow$\");"
   ]
  },
  {
   "cell_type": "markdown",
   "metadata": {},
   "source": [
    "### 2.1 Berechnung der Koeffizienten\n",
    "Ein mit $T_1$ periodisches Signal $y(t)$ lässt sich mit Hilfe der Fourierreihe für reellwertige Signale (Index $k \\in \\mathbb{N}_0$) darstellen:\n",
    "\n",
    "$$ y(t)= {a_0} + 2\\sum_{k=1}^\\infty a_k \\cos 2 \\pi k f_1 t + b_k \\sin 2 \\pi k f_1 t   \\; k \\in \\mathbb{N} $$\n",
    "\n",
    "Zunächst berechnen wir die Koeffizienten $a_k$, $b_k$ für $k = 0, 1, \\ldots, 11$ mit Hilfe der Formel für die Fourierreihe von reellwertigen Zeitsignalen. Da das Signal achsensymmetrisch ist, sind die imaginärwertigen Koeffizienten $b_k=0$. \n",
    "\n",
    "$$  \\begin{align}{a}_k &= \\frac 1 {T_1} \\int_{-T_1/2}^{T_1/2}y(t)\\cos(2 k \\pi f_1 t) \\, \\text{d}t\n",
    "= \\frac {A} {T_1} \\int_{-\\alpha T_1/2}^{\\alpha T_1/2}\\cos(2 k \\pi f_1 t) \\, \\text{d}t \\\\\n",
    "&= \\left. \\frac {A} {T_1 \\cdot 2 k \\pi f_1}  \\sin(2 k \\pi f_1 t)\\, \\right|_{-\\alpha T_1/2}^{\\alpha T_1/2}\n",
    "= {\\frac {A} { k \\pi} \\sin ( k \\alpha \\pi) }= { {A \\alpha}\\, \\mathrm{si} ( k \\alpha \\pi) }\n",
    "\\end{align}$$\n",
    "\n",
    "<div class=\"alert alert-block alert-warning\"><b> SIMULATION:</b></div>\n",
    "\n",
    "Schreiben Sie ein Skript, das die ersten 11 Koeffizienten der Rechteckfunktion exakt berechnet. Welchen Vorteil hat es, die `sinc(x)` Funktion zu verwenden anstelle von `sin(x)/x`? Aber Achtung: In Numpy (und in Matlab) ist die sinc-Funktion definiert als $\\mathrm{sinc}(x) = sin(\\pi x)/\\pi x$, das $\\pi$ im Argument müssen Sie daher weglassen. Drucken Sie die Ergebnisse übersichtlich in eine Tabelle aus (s.u.)\n",
    "\n",
    "#### 2.1.1 Formatierte Ausdrucke in Python\n",
    "Einen formatierten Ausdruck erhalten Sie z.B. mit `print(\"\\n{0:7.2f} | \".format(Y[i]), end=\"\")` (der Teil in der geschweiften Klammer wird ersetzt durch `Y[i]` und formatiert mit insgesamt 7 Stellen, 2 Nachkommastellen, keinen Zeilenumbruch). Eingebettet in eine `for` Schleife bekommen Sie so schnell eine übersichtliche Tabelle.\n",
    "\n",
    "* **\"\\n\"** erzeugt einen Zeilenumbruch in einem String\n",
    "* `print(a, `**end=\"\"**`)` ersetzt den Zeilenumbruch am Ende des Printbefehls durch ein anderes Zeichen (oder nichts wie hier)\n",
    "* Die **str.format()** Anweisung ersetzt Ausdrücke in geschweiften Klammern im String durch die Argumente in der .format() Anweisung, versuchen Sie es selbst mit `\"{0} ich heiße und bin {1} Jahre alt\".format(\"Yoda\", 877)`.\n",
    "* Der Ausdruck in der geschweiften Klammer kann durch Formatierungsanweisung ergänzt werden, **{0:7.2f}** formatiert das Argument 0 als Float mit 2 Nachkommastellen und insgesamt mindestens 7 Stellen. **{0:>7}** lässt ebenfalls Platz für mindestens 7 Stellen oder Zeichen und richtet den Ausdruck rechtsbündig aus.\n",
    "\n",
    "  Auf https://www.python-kurs.eu/python3_formatierte_ausgabe.php finden Sie eine übersichtliche [Grafik](https://www.python-kurs.eu/images/format_method_positional_parameters.png) hierzu."
   ]
  },
  {
   "cell_type": "code",
   "execution_count": null,
   "metadata": {},
   "outputs": [],
   "source": [
    "k=np.arange(11)\n",
    "alpha = 4/16; A = 1000\n",
    "Y0 =  ...\n",
    "print(\"i = | \", end=\"\")\n",
    "for i in k:\n",
    "    print(\"{0:>7d} | \".format(i), end=\"\")\n",
    "print(\"\\nY =...)"
   ]
  },
  {
   "cell_type": "markdown",
   "metadata": {},
   "source": [
    "### 2.2 Abschätzung des Spektrums durch FFT\n",
    "\n",
    "Um das Spektrum des zeitkontinuierlichen Signals mit einer FFT abschätzen zu können, muss es zunächst abgetastet werden und zwar über eine ganzzahlige Anzahl Perioden $T_1$ (da es ja periodisch ist), wir starten zunächst mit einer Periode, $T_{mess1} = T_1$. Für eine effiziente Berechnung sollen $N_1 = 2^4 = 16$ Samples genommen werden. \n",
    "\n",
    "<div class=\"alert alert-block alert-info\"><b>VORBEREITUNG:</b></div>\n",
    "\n",
    "* Welche Abtastfrequenz $f_{S1}$ ist dafür erforderlich?\n",
    "\n",
    "$f_{S1} = T_1 / 16 = 16\\,kHz$\n",
    " \n",
    "* Welchen Abstand $T_{S1}$ haben die abgetasteten Punkte? In welchem Abstand liegen die Frequenzpunkte der FFT?\n",
    "\n",
    "$T_{S1} = \\frac{1}{f_{S1}} = 62.5 \\mu s$\n",
    "\n",
    "$\\Delta f = \\frac{16*10^3}{16} = 1 kHz$\n",
    "\n",
    "\n",
    "<div class=\"alert alert-block alert-warning\"><b> SIMULATION:</b></div>\n",
    "\n",
    "Zunächst einmal benötigen Sie einen passenden Zeitvektor z.B. mit `t1 = np.arange(N_1)/f_S1` oder durch Abtasten des \"zeitkontinuierlichen\" Zeitvektors `t` (s.u.). Das abgetastete Signal $y_1[n]$ erzeugen Sie:\n",
    "\n",
    "* **Händisch** mit `y1 = np.ones(N_1); y1[4:N_1] = 0` oder durch `y1 = np.concatenate((np.ones(4), np.zeros(12)))`\n",
    "\n",
    "* Durch **Abtasten** des \"zeitkontinuierlichen\" Signals ($f_S = 640 \\text{ kHz}$) mit `y1 = y[::40]`, mit diesem Befehl wird von y nur jedes vierzigste Element nach `y1` kopiert. Das funktioniert natürlich nur, wenn wie hier $f_{S1} = f_S / 40$ ist. Wenn wie hier Start- und Endwert fehlen, werden alle Elemente von `y` vom ersten bis zum letzten berücksichtigt, Sie müssen ggf. noch Start- und Endwert anpassen, um den richtigen Ausschnitt finden.\n",
    "\n",
    "* Durch **Berechnung aus dem Zeitvektor** mit Hilfe der `np.where()` Funktion wie im vorigen Lab.\n",
    "\n",
    "Egal für welche Variante Sie sich entschieden haben, plotten Sie das abgetastete Signal mit dem folgenden Skript.\n",
    "\n",
    "***"
   ]
  },
  {
   "cell_type": "code",
   "execution_count": 2,
   "metadata": {},
   "outputs": [
    {
     "ename": "TypeError",
     "evalue": "float() argument must be a string or a number, not 'ellipsis'",
     "output_type": "error",
     "traceback": [
      "\u001b[1;31m---------------------------------------------------------------------------\u001b[0m",
      "\u001b[1;31mTypeError\u001b[0m                                 Traceback (most recent call last)",
      "\u001b[1;32m<ipython-input-2-9b1f146a45da>\u001b[0m in \u001b[0;36m<module>\u001b[1;34m\u001b[0m\n\u001b[0;32m      4\u001b[0m \u001b[0mt1\u001b[0m \u001b[1;33m=\u001b[0m \u001b[1;33m...\u001b[0m\u001b[1;33m\u001b[0m\u001b[1;33m\u001b[0m\u001b[0m\n\u001b[0;32m      5\u001b[0m \u001b[0my1\u001b[0m \u001b[1;33m=\u001b[0m \u001b[1;33m...\u001b[0m\u001b[1;33m\u001b[0m\u001b[1;33m\u001b[0m\u001b[0m\n\u001b[1;32m----> 6\u001b[1;33m \u001b[0max\u001b[0m\u001b[1;33m.\u001b[0m\u001b[0mstem\u001b[0m\u001b[1;33m(\u001b[0m\u001b[0mt1\u001b[0m\u001b[1;33m,\u001b[0m \u001b[0my1\u001b[0m\u001b[1;33m,\u001b[0m \u001b[1;34m'r'\u001b[0m\u001b[1;33m,\u001b[0m\u001b[0muse_line_collection\u001b[0m\u001b[1;33m=\u001b[0m\u001b[1;32mTrue\u001b[0m\u001b[1;33m)\u001b[0m\u001b[1;33m\u001b[0m\u001b[1;33m\u001b[0m\u001b[0m\n\u001b[0m\u001b[0;32m      7\u001b[0m \u001b[0max\u001b[0m\u001b[1;33m.\u001b[0m\u001b[0mset_xlabel\u001b[0m\u001b[1;33m(\u001b[0m\u001b[1;34mr\"$k T_S \\; / \\;\\mathrm{s} \\;\\rightarrow$\"\u001b[0m\u001b[1;33m)\u001b[0m\u001b[1;33m\u001b[0m\u001b[1;33m\u001b[0m\u001b[0m\n\u001b[0;32m      8\u001b[0m \u001b[0max\u001b[0m\u001b[1;33m.\u001b[0m\u001b[0mset_ylabel\u001b[0m\u001b[1;33m(\u001b[0m\u001b[1;34mr\"$y(k T_S)\\; / \\;\\mathrm{mV} \\;\\rightarrow$\"\u001b[0m\u001b[1;33m)\u001b[0m\u001b[1;33m;\u001b[0m\u001b[1;33m\u001b[0m\u001b[1;33m\u001b[0m\u001b[0m\n",
      "\u001b[1;32m~\\anaconda3\\lib\\site-packages\\matplotlib\\__init__.py\u001b[0m in \u001b[0;36minner\u001b[1;34m(ax, data, *args, **kwargs)\u001b[0m\n\u001b[0;32m   1597\u001b[0m     \u001b[1;32mdef\u001b[0m \u001b[0minner\u001b[0m\u001b[1;33m(\u001b[0m\u001b[0max\u001b[0m\u001b[1;33m,\u001b[0m \u001b[1;33m*\u001b[0m\u001b[0margs\u001b[0m\u001b[1;33m,\u001b[0m \u001b[0mdata\u001b[0m\u001b[1;33m=\u001b[0m\u001b[1;32mNone\u001b[0m\u001b[1;33m,\u001b[0m \u001b[1;33m**\u001b[0m\u001b[0mkwargs\u001b[0m\u001b[1;33m)\u001b[0m\u001b[1;33m:\u001b[0m\u001b[1;33m\u001b[0m\u001b[1;33m\u001b[0m\u001b[0m\n\u001b[0;32m   1598\u001b[0m         \u001b[1;32mif\u001b[0m \u001b[0mdata\u001b[0m \u001b[1;32mis\u001b[0m \u001b[1;32mNone\u001b[0m\u001b[1;33m:\u001b[0m\u001b[1;33m\u001b[0m\u001b[1;33m\u001b[0m\u001b[0m\n\u001b[1;32m-> 1599\u001b[1;33m             \u001b[1;32mreturn\u001b[0m \u001b[0mfunc\u001b[0m\u001b[1;33m(\u001b[0m\u001b[0max\u001b[0m\u001b[1;33m,\u001b[0m \u001b[1;33m*\u001b[0m\u001b[0mmap\u001b[0m\u001b[1;33m(\u001b[0m\u001b[0msanitize_sequence\u001b[0m\u001b[1;33m,\u001b[0m \u001b[0margs\u001b[0m\u001b[1;33m)\u001b[0m\u001b[1;33m,\u001b[0m \u001b[1;33m**\u001b[0m\u001b[0mkwargs\u001b[0m\u001b[1;33m)\u001b[0m\u001b[1;33m\u001b[0m\u001b[1;33m\u001b[0m\u001b[0m\n\u001b[0m\u001b[0;32m   1600\u001b[0m \u001b[1;33m\u001b[0m\u001b[0m\n\u001b[0;32m   1601\u001b[0m         \u001b[0mbound\u001b[0m \u001b[1;33m=\u001b[0m \u001b[0mnew_sig\u001b[0m\u001b[1;33m.\u001b[0m\u001b[0mbind\u001b[0m\u001b[1;33m(\u001b[0m\u001b[0max\u001b[0m\u001b[1;33m,\u001b[0m \u001b[1;33m*\u001b[0m\u001b[0margs\u001b[0m\u001b[1;33m,\u001b[0m \u001b[1;33m**\u001b[0m\u001b[0mkwargs\u001b[0m\u001b[1;33m)\u001b[0m\u001b[1;33m\u001b[0m\u001b[1;33m\u001b[0m\u001b[0m\n",
      "\u001b[1;32m~\\anaconda3\\lib\\site-packages\\matplotlib\\axes\\_axes.py\u001b[0m in \u001b[0;36mstem\u001b[1;34m(self, linefmt, markerfmt, basefmt, bottom, label, use_line_collection, *args)\u001b[0m\n\u001b[0;32m   2769\u001b[0m         \u001b[1;32melse\u001b[0m\u001b[1;33m:\u001b[0m\u001b[1;33m\u001b[0m\u001b[1;33m\u001b[0m\u001b[0m\n\u001b[0;32m   2770\u001b[0m             \u001b[0mx\u001b[0m \u001b[1;33m=\u001b[0m \u001b[0my\u001b[0m\u001b[1;33m\u001b[0m\u001b[1;33m\u001b[0m\u001b[0m\n\u001b[1;32m-> 2771\u001b[1;33m             \u001b[0my\u001b[0m \u001b[1;33m=\u001b[0m \u001b[0mnp\u001b[0m\u001b[1;33m.\u001b[0m\u001b[0masarray\u001b[0m\u001b[1;33m(\u001b[0m\u001b[0margs\u001b[0m\u001b[1;33m[\u001b[0m\u001b[1;36m0\u001b[0m\u001b[1;33m]\u001b[0m\u001b[1;33m,\u001b[0m \u001b[0mdtype\u001b[0m\u001b[1;33m=\u001b[0m\u001b[0mfloat\u001b[0m\u001b[1;33m)\u001b[0m\u001b[1;33m\u001b[0m\u001b[1;33m\u001b[0m\u001b[0m\n\u001b[0m\u001b[0;32m   2772\u001b[0m             \u001b[0margs\u001b[0m \u001b[1;33m=\u001b[0m \u001b[0margs\u001b[0m\u001b[1;33m[\u001b[0m\u001b[1;36m1\u001b[0m\u001b[1;33m:\u001b[0m\u001b[1;33m]\u001b[0m\u001b[1;33m\u001b[0m\u001b[1;33m\u001b[0m\u001b[0m\n\u001b[0;32m   2773\u001b[0m         \u001b[0mself\u001b[0m\u001b[1;33m.\u001b[0m\u001b[0m_process_unit_info\u001b[0m\u001b[1;33m(\u001b[0m\u001b[0mxdata\u001b[0m\u001b[1;33m=\u001b[0m\u001b[0mx\u001b[0m\u001b[1;33m,\u001b[0m \u001b[0mydata\u001b[0m\u001b[1;33m=\u001b[0m\u001b[0my\u001b[0m\u001b[1;33m)\u001b[0m\u001b[1;33m\u001b[0m\u001b[1;33m\u001b[0m\u001b[0m\n",
      "\u001b[1;32m~\\anaconda3\\lib\\site-packages\\numpy\\core\\_asarray.py\u001b[0m in \u001b[0;36masarray\u001b[1;34m(a, dtype, order)\u001b[0m\n\u001b[0;32m     83\u001b[0m \u001b[1;33m\u001b[0m\u001b[0m\n\u001b[0;32m     84\u001b[0m     \"\"\"\n\u001b[1;32m---> 85\u001b[1;33m     \u001b[1;32mreturn\u001b[0m \u001b[0marray\u001b[0m\u001b[1;33m(\u001b[0m\u001b[0ma\u001b[0m\u001b[1;33m,\u001b[0m \u001b[0mdtype\u001b[0m\u001b[1;33m,\u001b[0m \u001b[0mcopy\u001b[0m\u001b[1;33m=\u001b[0m\u001b[1;32mFalse\u001b[0m\u001b[1;33m,\u001b[0m \u001b[0morder\u001b[0m\u001b[1;33m=\u001b[0m\u001b[0morder\u001b[0m\u001b[1;33m)\u001b[0m\u001b[1;33m\u001b[0m\u001b[1;33m\u001b[0m\u001b[0m\n\u001b[0m\u001b[0;32m     86\u001b[0m \u001b[1;33m\u001b[0m\u001b[0m\n\u001b[0;32m     87\u001b[0m \u001b[1;33m\u001b[0m\u001b[0m\n",
      "\u001b[1;31mTypeError\u001b[0m: float() argument must be a string or a number, not 'ellipsis'"
     ]
    },
    {
     "data": {
      "image/png": "[encoded data removed]",
      "text/plain": [
       "<Figure size 864x360 with 1 Axes>"
      ]
     },
     "metadata": {
      "needs_background": "light"
     },
     "output_type": "display_data"
    }
   ],
   "source": [
    "fig, ax = plt.subplots(**size)\n",
    "N1 = 16\n",
    "f_S1 = 16e3\n",
    "t1 = ...\n",
    "y1 = ...\n",
    "ax.stem(t1, y1, 'r',use_line_collection=True)\n",
    "ax.set_xlabel(r\"$k T_S \\; / \\;\\mathrm{s} \\;\\rightarrow$\")\n",
    "ax.set_ylabel(r\"$y(k T_S)\\; / \\;\\mathrm{mV} \\;\\rightarrow$\");"
   ]
  },
  {
   "cell_type": "markdown",
   "metadata": {},
   "source": [
    "#### 2.2.1 FFT, erster Ansatz: $f_{S1} = 16 \\text{ kHz}$, $N_1 = 16$\n",
    "\n",
    "<div class=\"alert alert-block alert-info\"><b>VORBEREITUNG:</b></div>\n",
    "\n",
    "* Welche höchste Frequenzkomponente ist im zeitkontinuierlichen Signal enthalten?\n",
    "\n",
    "* Welche maximale Frequenzkomponente ist im abgetasteten Signal enthalten?\n",
    "\n",
    "<div class=\"alert alert-block alert-warning\"><b> SIMULATION:</b></div>\n",
    "\n",
    "In numpy berechnen wir die FFT mit `Y = np.fft.fft(y, N)` (die FFT liefert *komplexe* Werte ...). Ohne den Parameter `N` wird die FFT über das gesamte Signal berechnet mit der Anzahl der Datenpunkte. Nutzen Sie das Notebook [03_DFT/DFT-Skalierung.ipynb](../03_DFT/DFT-Skalierung.ipynb) zur korrekten Berechnung und Skalierung des Signals. Mit f = `np.fft.fftfreq(N, T_S)` erzeugen Sie eine passenden Frequenzvektor.\n",
    "\n",
    "* Vervollständigen Sie das Skript in der nächsten Codezelle: Wie müssen Sie die Amplitude und die Frequenz skalieren, um physikalisch sinnvolle Werte zu erhalten?"
   ]
  },
  {
   "cell_type": "code",
   "execution_count": null,
   "metadata": {},
   "outputs": [],
   "source": [
    "fig, ax = plt.subplots(**size)\n",
    "N1 = 16\n",
    "f_S1 = N1 * 1e3\n",
    "t1 = ...\n",
    "y1 = ...\n",
    "Y1 = ...\n",
    "f1 = ...\n",
    "ax.stem(f1, Y1, 'r',use_line_collection=True)\n",
    "ax.set_xlabel(r\"$f \\; / \\;\\mathrm{Hz} \\;\\rightarrow$\")\n",
    "ax.set_ylabel(r\"$Y_1(F)\\; / \\;\\mathrm{mV} \\;\\rightarrow$\");\n",
    "# ----------- Tabellenausgabe --------------\n",
    "# Drucken Sie i, Y0 und Y1 aus"
   ]
  },
  {
   "cell_type": "markdown",
   "metadata": {},
   "source": [
    "<div class=\"alert alert-block alert-warning\"><b> Nach der SIMULATION:</b></div>\n",
    "\n",
    "* Vergleichen Sie die simulierten mit den berechneten Werten. Welche Koeffizienten weichen besonders stark von den erwarteten (berechneten) Werten ab? Was ist die Ursache dafür?\n",
    "  \n",
    "* Wie könnte man die Abweichungen reduzieren?"
   ]
  },
  {
   "cell_type": "markdown",
   "metadata": {},
   "source": [
    "#### 2.2.2 FFT mit Erhöhung der Abtastfrequenz auf $f_{S2} = 64  \\text{ kHz}$ und $N_2$ Samples\n",
    "Die Abtastfrequenz wird jetzt vervierfacht auf den Wert  $f_{S2} = 64 \\text{ kHz}$.\n",
    "<div class=\"alert alert-block alert-info\"><b>VORBEREITUNG:</b></div>\n",
    "\n",
    "* Wie lang muss das Messfenster $T_{Mess2}$ der FFT sein für eine Frequenzauflösung $\\Delta f = 1$ kHz? Wieviele Samples $N_2$ sind dafür erforderlich?\n",
    "  \n",
    "* Welche maximale Frequenzkomponente ist im abgetasteten Signal enthalten?\n",
    "\n",
    "<div class=\"alert alert-block alert-warning\"><b> SIMULATION:</b></div>\n",
    "\n",
    "* Kopieren Sie das Skript aus dem vorigen Unterpunkt und passsen Sie es an die ermittelten Parameter an.\n",
    "\n",
    "* Vergleichen Sie erneut Rechnung mit Simulation"
   ]
  },
  {
   "cell_type": "code",
   "execution_count": null,
   "metadata": {},
   "outputs": [],
   "source": [
    "fig, ax = plt.subplots(**size)\n",
    "N2 = 64\n",
    "f_S2 = N2 * 1e3\n",
    "t2 = ...\n",
    "y2 = ..."
   ]
  },
  {
   "cell_type": "markdown",
   "metadata": {},
   "source": [
    "#### 2.2.3 FFT mit verlängertem Messfenster ($T_{Mess3} = 4 \\text{ ms}$) und $f_{S3} = 16 \\text{ kHz}$\n",
    "\n",
    "Die Abtastfrequenz ist wieder wie zu Beginn $f_{S3} = 16 \\text{ kHz}$, jetzt soll getestet werden wie sich eine Verlängerung des Messfensters um den Faktor 4 auswirkt. \n",
    "\n",
    "<div class=\"alert alert-block alert-info\"><b>VORBEREITUNG:</b></div>\n",
    "\n",
    "* Wie viele Samples $N_3$ benötigen Sie jetzt? Wieviele Perioden passen in Ihr Messfenster?\n",
    "\n",
    "* Welche Frequenzauflösung erzielt man mit diesem Setup? Welche Frequenzkomponente kann maximal dargestellt werden?\n",
    "\n",
    "<div class=\"alert alert-block alert-warning\"><b> SIMULATION:</b></div>\n",
    "\n",
    "Da Ihr Messfenster jetzt mehrere Perioden des Signals umfasst, müssen Sie Ihr Signal erzeugen entweder\n",
    "\n",
    "* **Händisch** durch mehrfaches Aneinanderhängen eines Pulses z.B. mit `y3 = np.tile(y1, 4)`\n",
    "\n",
    "* Durch **Abtasten** des \"zeitkontinuierlichen\" Signals wie am Anfang von 2.2 beschrieben. Achten Sie wieder darauf, Anfang und Ende passend zu wählen.\n",
    "\n",
    "Plotten Sie Ihr Zeitsignal, damit Sie sicher sind dass Ihr Signal so aussieht wie Sie sich das vorstellen.\n",
    "\n",
    "* Vergleichen Sie erneut Rechnung mit Simulation\n",
    " \n",
    "* Ähnelt das Spektrum mehr dem ursprünglichen Spektrum $Y_1$ oder dem Spektrum mit erhöhter Abtastrate $Y_2$?\n",
    "\n",
    "* Welchen Vorteil hat die Verlängerung des Messfenster? Welchen Vorteil hat sie im hier vorliegenden Fall?"
   ]
  },
  {
   "cell_type": "code",
   "execution_count": null,
   "metadata": {},
   "outputs": [],
   "source": [
    "fig, ax = plt.subplots(**size)\n",
    "N3 = 64\n",
    "f_S3 = 16 * 1e3\n",
    "t3 = ...\n",
    "y3 = ..."
   ]
  },
  {
   "cell_type": "markdown",
   "metadata": {},
   "source": [
    "#### 2.2.4 FFT über nicht-ganzzahlige Anzahl von Perioden\n",
    "\n",
    "Das Signal wird wieder mit $f_{S4} = 16\\text{ kHz}$ abgetastet, allerdings ist das Messfenster jetzt nur noch $60 \\, T_S$ lang. \n",
    "\n",
    "<div class=\"alert alert-block alert-info\"><b>VORBEREITUNG:</b></div>\n",
    "\n",
    "* Welche Länge $T_{Mess4}$ hat jetzt Ihr Messfenster und wieviele Signalperioden passen in das Messfenster?\n",
    "  \n",
    "* Welche Frequenzauflösung $\\Delta f$ ergibt sich, in welchem Raster liegen die Frequenzbins $f_k$?\n",
    "\n",
    "<div class=\"alert alert-block alert-warning\"><b> SIMULATION:</b></div>\n",
    "\n",
    "Signal und Zeitvektor erzeugen Sie am einfachsten durch Verkürzen der Signale aus dem letzten Abschnitt, also mit `y4 = y3[:60]` oder alternativ `y4 = y3[:-4]` (negative Indizes zählen vom Ende aus). Der Index, der das Ende markiert (\"60\" bzw. \"-4\") definiert dabei den ersten Wert, der *nicht* mit ausgegeben wird. Das ist z.B. bei `arange(0,10,1)` genauso und ist eine Folge des 0-based indexing (der erste Wert eines Arrays wird mit 0 angesprochen).\n",
    " \n",
    "* Was hat sich im Vergleich zum Spektrum $Y_3$ des vorigen Abschnitts geändert?"
   ]
  },
  {
   "cell_type": "code",
   "execution_count": null,
   "metadata": {},
   "outputs": [],
   "source": [
    "fig, ax = plt.subplots(**size)\n",
    "N4 = 60\n",
    "f_S4 = 16 * 1e3\n",
    "t4 = ...\n",
    "y4 = ..."
   ]
  },
  {
   "cell_type": "markdown",
   "metadata": {},
   "source": [
    "## 3. Schätzung des Fourierspektrums von Sinustönen mit überlagertem Rauschen durch FFT<a id='fourier_sine_noise'></a>\n",
    "\n",
    "In diesem Versuchsteil versuchen wir mit Hilfe der FFT Amplituden und Frequenzen von zwei Sinustönen zu schätzen mit $f_1 = 990\\text{ Hz}$ und $A_1 = 100\\text{ mV}$ sowie $f_2 = 1010\\text{ Hz}$ und $A_2 = 2\\text{ mV}$, überlagert ist eine gleichverteilte Rauschstörung im Bereich $\\pm 1 \\text{ mV}$. \n",
    "\n",
    "Tipp: Diesen Versuchsteil können Sie auch mit pyfda durchführen, im Tab `y[n]` wählen Sie dazu ein Sinussignal mit überlagertem Rauschen aus und schauen sich das Spektrum im Untertab \"Frequency\" an. Enablen Sie \"Stimulus X\" und deaktivieren Sie \"Response Y\".\n",
    "### 3.1 Abtastfrequenz frei wählbar\n",
    "Die Anzahl der Datenpunkte $N$ für die FFT und die Abtastfrequenz $f_S$ können zunächst frei gewählt werden.\n",
    "\n",
    "<div class=\"alert alert-block alert-info\"><b>VORBEREITUNG:</b></div>\n",
    "\n",
    "* Welche Abtastfrequenz benötigen Sie mindestens?\n",
    "\n",
    "  Die Abtastfrequenz muss größer als $2 f_2 = 2020 \\text{ Hz}$ sein.\n",
    "\n",
    "* Wählen Sie die kleinstmöglichen Werte für $N$ und $f_S$ so, dass kein Frequenzfehler und kein Leckeffekt auftritt. Tipp: Bestimmen Sie mit $T_{min} = L_1 T_1 = L_2 T_2$ zunächst das kürzeste Zeitfenster, in dem sowohl $f_1$ als auch $f_2$ periodisch sind. Danach können Sie mit $T_{Mess} = \\frac{N}{f_S} = M T_{min}$ eine Bedingung für $N$ und $T_S$ ableiten\n",
    "\n",
    "* Wie groß ist das Verhältnis der Amplituden und wie groß das Verhältnis der Leistungen beider Sinustöne in dB?\n",
    "\n",
    "<div class=\"alert alert-block alert-warning\"><b> SIMULATION:</b></div>\n",
    "\n",
    "* Wählen Sie  $f_S = 2500 \\text{ Hz}$ und $N = 250$ für ein leichter ablesbares Spektrum.\n",
    "\n",
    "* Stellen Sie das Spektrum als (Amplituden-)Betragsspektrum im logarithmischen Maßstab dar, die Werte sollen relativ zum Maximum dargestellt werden. Zur Verbesserung der Darstellung können Sie mit `np.fft.fftshift` positive und negative Achse von Frequenzvektor und Spektrum vertauschen."
   ]
  },
  {
   "cell_type": "code",
   "execution_count": null,
   "metadata": {},
   "outputs": [],
   "source": [
    "N5 =  250\n",
    "f_S5 = 2500\n",
    "t = ...\n",
    "noi = 2 * np.random.rand(N5) - 1\n",
    "y5 = 100 * np.sin(2 * np.pi * 990 * t) + 2 * np.sin(2 * np.pi * 1010 * t) + noi"
   ]
  },
  {
   "cell_type": "markdown",
   "metadata": {},
   "source": [
    "### 3.2 Feste Abtastfrequenz $f_S = 4 \\text{ kHz}$\n",
    "Die Abtastfrequenz ist jetzt fest eingestellt auf $f_S = 4 \\text{ kHz}$, die Anzahl der Datenpunkte $N$ für die FFT soll eine Zweierpotenz sein, $N = 2^L$, für eine möglichst effiziente Berechnung der FFT.\n",
    "\n",
    "Auch diesen Unterpunkt können Sie mit pyfda bearbeiten.\n",
    "\n",
    "<div class=\"alert alert-block alert-info\"><b>VORBEREITUNG:</b></div>\n",
    "\n",
    "* Gibt es bei der gewählten Abtastfrequenz einen Wert für $N$, bei dem kein Frequenzfehler und kein Leckeffekt auftritt (mit und ohne Beschränkung auf Zweierpotenzen)? Gibt es für $N = 256$ eine Abtastfrequenz, bei der kein Leckeffekt auftritt?\n",
    "\n",
    "\n",
    "<div class=\"alert alert-block alert-warning\"><b> SIMULATION:</b></div>\n",
    "\n",
    "* Der Leckeffekt soll jetzt durch Verwendung \"weicherer\" Fenster reduziert werden. Fensterfunktionen finden Sie unter `scipy.signal.windows` (https://docs.scipy.org/doc/scipy/reference/signal.windows.html). Vor Berechnung der FFT müssen Sie dazu Ihr Signal mit der Fensterfunktion multiplizieren, also z.B. `y_win = y * sig.windows.hann(256, sym=False)`. Dabei wurde angenommen, dass auch Ihr Zeitsignal `y` eine Länge von $N = 256$ hat. Für die Spektralanalyse periodischer Signale (im Gegensatz zum Filterdesign und zur Analyse von impulsförmigen Signalen) muss `sym = False` gewählt werden.\n",
    "\n",
    "* Testen Sie den Einfluss der Fensterlänge $N = 256$, $N=512$ und $N=1024$ ... und den Effekt eines rechteckförmigen (`boxcar` bzw. gar keine Fensterung) und eines Hann-Fensters. Wie genau werden die Amplituden und Frequenzen geschätzt? Schauen Sie sich auch die anderen Fensterfunktionen an."
   ]
  },
  {
   "cell_type": "code",
   "execution_count": null,
   "metadata": {},
   "outputs": [],
   "source": [
    "N6 =  1024\n",
    "f_S6 = 4000\n",
    "t = n/f_S6\n",
    "noi = 2 * np.random.rand(N6) - 1\n",
    "y6 = 100 * np.sin(2 * np.pi * 990 * t) + 2 * np.sin(2 * np.pi * 1010 * t) + noi"
   ]
  },
  {
   "cell_type": "markdown",
   "metadata": {},
   "source": [
    "## 4. Schätzung des Fourierspektrums eines rechteckförmigen Impulses durch FFT<a id='fourierspektrum'></a>\n",
    "In diesem Versuchsteil schätzen wir das Fourierintegral des rechteckförmigen Impulses $y(t)$ mit $\\Delta T = 250 \\,\\mu$s und $A = 1000\\,\\text{mV}$ (s. nächster Plot) mit Hilfe der FFT.\n",
    "### 4.1 Berechnung der Fouriertransformierten\n",
    "\n",
    "<div class=\"alert alert-block alert-info\"><b>VORBEREITUNG:</b></div>\n",
    "\n",
    "* Berechnen Sie die Fouriertransformierte des Impulses und skizzieren Sie die Betragsfunktion (oder plotten Sie sie).\n",
    "\n",
    "* Bei welcher Frequenz hat die Fouriertransformierte die erste Nullstelle?\n",
    "\n",
    "  Die erste Nullstelle $f_0$ der Fouriertransformierten ist bei $\\pi f_0 \\Delta T_1 = \\pi \\;\\Rightarrow \\; f_0 = 1/ \\Delta T = 4\\, \\text{kHz}$."
   ]
  },
  {
   "cell_type": "code",
   "execution_count": null,
   "metadata": {},
   "outputs": [],
   "source": [
    "fig, ax = plt.subplots(**size)\n",
    "Delta_T = 250e-6\n",
    "A = 1000\n",
    "t = np.arange(-200e-6, 200e-6, 1e-6)\n",
    "ax.plot(t*1e6, A*np.where((t >= -Delta_T/2) & (t < Delta_T/2), 1, 0), 'r', lw=2)\n",
    "ax.axvline(0, ls='-',color='k')\n",
    "ax.set_xlabel(r\"$t \\; / \\;\\mu\\mathrm{s} \\;\\rightarrow$\")\n",
    "ax.set_ylabel(r\"$y(t) \\; \\mathrm{in \\;mV} \\;\\rightarrow$\");"
   ]
  },
  {
   "cell_type": "markdown",
   "metadata": {},
   "source": [
    "Das zeitkontinuierliche Signal $y(t)$ hat eine endliche zeitliche Ausdehnung und endliche Energie, daher kann sein Amplitudenspektrum mit dem Fourierintegral beschrieben werden:\n",
    "\n",
    "$$Y\\left( f \\right) = \\int_{-\\infty}^{\\infty}y(t)\\text{e}^{-\\text{j} 2 \\pi f t} \\text {d}t$$\n",
    "\n",
    "Der Impuls ist symmetrisch zur y-Achse was die Berechnung deutlich vereinfacht:\n",
    "\n",
    "$$\n",
    "\\begin{align}\n",
    "Y\\left( f \\right) &= A \\int_{-\\Delta T/2}^{\\Delta T/2}\\text{e}^{-\\text{j} 2 \\pi f t} \\text {d}t  = \\left. \\frac A{-\\text{j} 2 \\pi f} \\text{e}^{-\\text{j} 2 \\pi f t}\\right|_{-\\Delta T/2}  ^{\\Delta T/2} = A\\frac{\\text{e}^{\\text{j} \\pi f \\Delta T}- \\text{e}^{-\\text{j} \\pi f \\Delta T}}{2 \\pi \\text{j}f} = A\\frac{\\sin \\pi f \\Delta T}{\\pi f} \\\\\n",
    "&= A\\Delta T \\frac{\\sin \\pi f \\Delta T}{\\pi f \\Delta T} = A\\Delta T \\text{sinc} f \\Delta T \\text{ mit } \\text{sinc} f = \\frac{\\sin \\pi f}{\\pi f}\n",
    "\\end{align}$$\n",
    "Das Ergebnis ist die Amplitudenspektrumsdichte in V/Hz.\n",
    "\n",
    "Berechnet man die FFT anstatt des Fourierintegrals, überstreicht jeder Frequenzpunkt die Bandbreite $\\Delta f = f_S/N$. Möchte man die FFT eines Energiesignals so skalieren dass man (in etwa) identische Zahlenwerte erhält wie bei der spektralen Amplitudendichte des ursprünglichen zeitkontinuierlichen Signals, so muss man mit $1/\\Delta f = N/f_S$ multiplizieren. Da die FFT bereits mit $1/N$ skaliert ist, hebt sich der Faktor $N$ auf. Man muss also nur durch $f_S$ dividieren.\n",
    "\n",
    "Für unendlich ausgedehnte Leistungssignale (periodische Signale, stationäre und nicht-stationäre Prozesse) konvergiert das Integral nicht, man nimmt stattdessen die Fourierreihe (periodische Signale) oder die spektrale Leistungsdichte, die über die Autokorrelationsfunktion berechnet wird (aber nicht hier und jetzt ...)."
   ]
  },
  {
   "cell_type": "code",
   "execution_count": null,
   "metadata": {},
   "outputs": [],
   "source": [
    "fig, ax = plt.subplots(**size)\n",
    "Delta_T = 250e-6\n",
    "A = 1000\n",
    "f = np.arange(-2.2e4, 2.2e4, 1e2)\n",
    "ax.plot(f, A * Delta_T*np.sinc(f * Delta_T), 'r', lw=2)\n",
    "ax.axvline(0, ls='-',color='k'); ax.axhline(0, ls='-',color='k') \n",
    "ax.set_title(r\"Fourierintegral des Rechteckimpulses mit $\\Delta T = 250\\, \\mu \\mathrm{s}$\")\n",
    "ax.set_xlabel(r\"$f \\; / \\;\\mathrm{Hz} \\;\\rightarrow$\")\n",
    "ax.set_ylabel(r\"$Y(f) \\; \\mathrm{in \\;mV/Hz} \\;\\rightarrow$\");"
   ]
  },
  {
   "cell_type": "markdown",
   "metadata": {},
   "source": [
    "### 4.2 Schätzung der Fouriertransformierten mit Hilfe der FFT\n",
    "Im folgenden soll die Fouriertransformierte des Impulses mit Hilfe einer FFT abgeschätzt werden, dazu wird der Impuls mit $L = 16$ Samples abgetastet.\n",
    "\n",
    "<div class=\"alert alert-block alert-info\"><b>VORBEREITUNG:</b></div>\n",
    "\n",
    "* Welche Abtastfrequenz $f_S$ ist dazu notwendig?\n",
    "\n",
    "  $f_S = L / \\Delta T = 64\\,\\text{kHz}$\n",
    "  \n",
    "* Wie groß ist die Frequenzauflösung $\\Delta f$? Wieviele Frequenzpunkte erhält man zwischen $f=0$ und der ersten Nullstelle $f_0$?\n",
    "\n",
    "  $\\Delta f = 1/T_{mess} = 1/\\Delta T = f_S / L = 4\\,\\text{kHz}$\n",
    "  \n",
    "  Wegen $\\Delta f = 1/\\Delta T = f_0$ erhält man unabhängig von der Abtastfrequenz einen Frequenzpunkt bei $f=0$ und einen bei $f=f_0$.\n",
    "  \n",
    "* Kann man die graphische Darstellung des Amplitudenspektrums zwischen $f= 0$ und der ersten Nullstelle $f_0$ durch Änderung der Abtastfrequenz verbessern?\n",
    "\n",
    "  Nein, s.o.\n",
    "  \n",
    "* Wie kann die graphische Darstellung des Betragsgangs verbessert werden ohne die Abtastfrequenz zu verändern?\n",
    " \n",
    "  Nur durch Verlängerung des Messfensters erhöht man die Auflösung, $\\Delta f = 1/T_{mess}$. Da die Signallänge begrenzt ist auf $\\Delta T$, kann man das das Fenster nur durch Anhängen von Nullen verlängern (\"Zero Padding\"), die FFT wird dann berechnet über insgesamt $N_{FFT}$ Datenpunkte, von denen nur $L$ ungleich Null sind.\n",
    "  \n",
    "* Wie müssen die Ergebnisse skaliert werden, um physikalisch korrekte Werte für die spektrale Amplitudendichte in V/Hz zu bekommen (so wie theoretisch berechnet)? Tipp:\n",
    "\n",
    "  Eine Skalierung mit $1/N_{FFT}$ würde für ein periodisches Signal passen mit einer Periode von $N_{FFT}$ Samples. In unserem Fall wäre das ein periodischer Rechteckpuls mit Duty Cycle $L/N_{FFT}$, dessen Amplitudenspektrum mit zunehmendem $N_{FFT}$ immer mehr abnimmt. Daher darf hier nur mit $1/L$ skaliert werden.\n",
    "<div class=\"alert alert-block alert-warning\"><b> SIMULATION:</b></div>\n",
    "\n",
    "* Berechnen Sie die FFT des Rechteckpulses mit $L=16$ und mit $N_{FFT} = 2^9 = 512$ Punkten.\n",
    "\n",
    "* Erstellen Sie einen Plot mit der FFT mit $L=16$ Punkten, $N_{FFT} = 512$ Punkten und dem idealen Amplitudenspektrum des Rechteckimpulses.\n"
   ]
  },
  {
   "cell_type": "code",
   "execution_count": null,
   "metadata": {},
   "outputs": [],
   "source": [
    "fig, ax = plt.subplots(**size)\n",
    "f_S = 64e3\n",
    "Delta_T = 250e-6\n",
    "A = 1000\n",
    "f = np.arange(-32e3, 32e3, 1e2)\n",
    "f_16 = np.fft.fftshift(np.fft.fftfreq(16, d= 1/f_S))\n",
    "f_512 = np.fft.fftshift(np.fft.fftfreq(512, d= 1/f_S))\n",
    "y_id = A * Delta_T*np.sinc(f * Delta_T)\n",
    "y_16 = A*np.ones(16)\n",
    "Y_16 = np.fft.fftshift(np.abs(np.fft.fft(y_16))/f_S)\n",
    "Y_512 = np.fft.fftshift(np.abs(np.fft.fft(y_16, 512))/f_S)\n",
    "ax.plot(f, y_id, 'r', lw=2, label=\"$Y_{id}$\")\n",
    "ax.plot(f_16, Y_16, 'bo', label=\"$Y_{16}$\")\n",
    "ax.plot(f_512, Y_512, label=\"$Y_{512}$\")\n",
    "ax.legend()\n",
    "ax.axvline(0, ls='-',color='k'); ax.axhline(0, ls='-',color='k') \n",
    "ax.set_xlabel(r\"$f \\; / \\;\\mathrm{Hz} \\;\\rightarrow$\")\n",
    "ax.set_ylabel(r\"$Y(f) \\; \\mathrm{in \\;V/Hz} \\;\\rightarrow$\");"
   ]
  },
  {
   "cell_type": "markdown",
   "metadata": {},
   "source": [
    "***\n",
    "### Copyright\n",
    "\n",
    "(c) 2016 - 2021 Prof. Dr. Christian Münker \n",
    "\n",
    "This jupyter notebook is part of a collection of notebooks on various topics of Digital Signal Processing. The latest version can be found at https://github.com/chipmuenk/dsp.\n",
    "\n",
    "This notebook is provided as [Open Educational Resource](https://en.wikipedia.org/wiki/Open_educational_resources). Feel free to use it for your own purposes. The text is licensed under [Creative Commons Attribution 4.0](https://creativecommons.org/licenses/by/4.0/), the code of the IPython examples under the [MIT license](https://opensource.org/licenses/MIT). Please attribute the work as follows: *Christian Münker, Digital Signal Processing - Vorlesungsunterlagen mit Simulationsbeispielen, 2020*."
   ]
  }
 ],
 "metadata": {
  "anaconda-cloud": {},
  "kernelspec": {
   "display_name": "Python 3",
   "language": "python",
   "name": "python3"
  },
  "language_info": {
   "codemirror_mode": {
    "name": "ipython",
    "version": 3
   },
   "file_extension": ".py",
   "mimetype": "text/x-python",
   "name": "python",
   "nbconvert_exporter": "python",
   "pygments_lexer": "ipython3",
   "version": "3.7.6"
  }
 },
 "nbformat": 4,
 "nbformat_minor": 4
}
