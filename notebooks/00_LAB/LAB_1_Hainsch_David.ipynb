{
 "cells": [
  {
   "cell_type": "markdown",
   "metadata": {},
   "source": [
    "<a href=\"_index.ipynb\">&larr; LAB </a>&loz;\n",
    "<a href=\"../../README.md\"> &uarr; TOC &uarr; </a>\n",
    "<img src='../_img/icon.svg' align='right' width='10%'></img>\n",
    "\n",
    "<b>Name, Vorname:</b> \n",
    "\n",
    "### Inhalt\n",
    "[0. Allgemeine Hinweise](#allgemeines)\n",
    "\n",
    "[1. Einführung](#intro)\n",
    "\n",
    "[2. Diskrete Faltung](#convolution)\n",
    "\n",
    "[3. LTI-Systeme](#lti-system)\n",
    "\n",
    "# 0. Allgemeine Hinweise<a id='allgemeines'></a>\n",
    "## 0.1 Vor dem Versuch\n",
    "Bitte bereiten Sie die wie folgt gekennzeichneten Blöcke <i>vor</i> dem Praktikumsversuch vor, tragen Sie Ihren Namen oben und die Antworten ins Notebook ein und speichern Sie es lokal oder auf dem Notebookserver https://notebook.gesis.org unter dem Namen \"Lab1_Nachname_Vorname\" (File -> Save Notebook As ...) ab.<br />\n",
    "    \n",
    "<div class=\"alert alert-block alert-info\">\n",
    "   <b> VORBEREITUNG:</b>\n",
    "</div>\n",
    "\n",
    "**Beispiel**\n",
    "\n",
    "* Geben Sie die Systemfunktion eines Differenzierers an\n",
    "\n",
    "$H(z) = 1 - z^{-1}$\n",
    "\n",
    "* Welche Filter sind für die Praxis am wichtigsten?\n",
    "\n",
    "**Kaffeefilter** und *Spamfilter*\n",
    "\n",
    "***\n",
    "Simulationsaufgaben werden gemeinsam im Praktikum bearbeitet, sie sind gekennzeichnet durch\n",
    "\n",
    "<div class=\"alert alert-block alert-warning\"><b> SIMULATION:</b></div>\n",
    "\n",
    "***\n",
    "\n",
    "## 0.2 Tipps zum Schreiben und Coden\n",
    "* \\<SHIFT\\>-\\<RETURN\\> führt eine Codezelle aus und rendert eine Textzelle.\n",
    "* In Markdown sind Leerzeilen wichtig zum Trennen von Abschnitten! \n",
    "* Sie können LaTeX-Code zwischen \\\\$ ... \\\\$ einschließen.\n",
    "* Kontexthilfe zu Funktionen etc. bekommen Sie über \\<SHIFT\\>-\\<TAB\\>\n",
    "\n",
    "***\n",
    "## 0.3 Nach dem Versuch\n",
    "Nach dem Praktikumsversuch exportieren Sie das Notebook mit Textantworten, Codezellen und Plots als HTML (File -> Export Notebook As ... -> Export Notebook to HTML) und reichen es in Moodle ein.</div><br />\n",
    "\n",
    "***\n",
    "Abbildungen in diesem Notebook wurden konvertiert mit https://www.base64-image.de/ und in den HTML-Code eingebettet."
   ]
  },
  {
   "cell_type": "code",
   "execution_count": 1,
   "metadata": {},
   "outputs": [
    {
     "name": "stdout",
     "output_type": "stream",
     "text": [
      "Python version: 3.7.6\n",
      "Numpy: 1.18.1\n",
      "Scipy: 1.4.1\n",
      "Matplotlib: 3.1.3 module://ipykernel.pylab.backend_inline\n"
     ]
    }
   ],
   "source": [
    "import os, sys\n",
    "module_path = os.path.abspath(os.path.join('..')) # append directory one level up to import path\n",
    "if module_path not in sys.path:  # ... if it hasn't been appended already\n",
    "    sys.path.append(module_path)\n",
    "import dsp_fpga_lib as dsp\n",
    "dsp.versions() # print versions \n",
    "    \n",
    "%matplotlib inline\n",
    "import matplotlib.pyplot as plt\n",
    "size = {\"figsize\":(12,6)} # Plotgröße in Inch\n",
    "\n",
    "import numpy as np\n",
    "import scipy.signal as sig\n",
    "import wave\n",
    "\n",
    "from IPython.display import Audio, display"
   ]
  },
  {
   "cell_type": "markdown",
   "metadata": {},
   "source": [
    "# LAB 1: Intro, Faltung zeitdiskreter Signale und LTI-Systeme\n",
    "## 1. Einführung<a id='intro'></a>"
   ]
  },
  {
   "cell_type": "markdown",
   "metadata": {},
   "source": [
    "In diesem Abschnitt erstellen Sie verschiedene Signale, plotten sie und machen sie hörbar.\n",
    "\n",
    "Zunächst generieren wir ein Sinussignal der Länge $T=2$ s und der Frequenz $f_a = 440$ Hz, das mit $f_S = 8$ kHz abgetastet wird.\n",
    "\n",
    "Bitte bereiten Sie die wie folgt gekennzeichneten Blöcke vor dem Praktikum vor:\n",
    "<div class=\"alert alert-block alert-info\">\n",
    "<b>VORBEREITUNG:</b>\n",
    "</div>\n",
    "\n",
    "* Wie viele Datenpunkte $N$ und wie viele Perioden $L$ umfasst das Signal? $L = 2s/T_a = 2s*f_a = 880$, $N = T*f_S = 16*10^3$\n",
    "* Wie groß ist die Abtastperiode $T_S$?\n",
    "\n",
    "$T_S = 1 / f_S = 125\\,\\mu s$\n",
    "***"
   ]
  },
  {
   "cell_type": "markdown",
   "metadata": {},
   "source": [
    "## 1.1 Signalerzeugung\n",
    "<div class=\"alert alert-block alert-warning\"><b> SIMULATION:</b></div>\n",
    "\n",
    "**Achtung:** Bei der Angabe von Bereichen ist in Python das letzte Element immer ausgeschlossen - `a = np.arange(10)` erzeugt ein Array mit den Zahlen 0 ... 9; `a[3:7] = [3, 4, 5, 6]`, Element Nr. 7 ist gerade eben nicht mehr dabei. Im Gegensatz zu Matlab nutzt Python 0-based indexing, d.h. das erste Element eines Arrays ist `a[0]`. \n",
    "\n",
    "* Erzeugen Sie ein Index-Array `n` mit $N$ ganzzahligen Elementen mit der numpy Funktion `n = np.arange(end)` d.h. `n = np.arange(start, end, step)` mit den Defaultwerten `start=0` und `step=1` und `end=N`.\n",
    "\n",
    "* Erzeugen Sie ein Zeit-Array `t` mit $N$ reellwertigen Elementen im Abstand $T_S$ über `t = np.linspace(start, end, N)` mit `end=N T_S`. Prinzipiell geht das auch mit `t = np.arange(0, N * T_S, T_S)`, hier besteht aber die Gefahr dass das Array wegen Rundungsfehlern ein Element mehr enthält als erwartet.\n",
    "\n",
    "* Stellen Sie mit `len()` sicher, dass die Längen der beiden Vektoren identisch sind.\n",
    "\n",
    "* Stellen Sie die Funktionen `y1 = sin( ... n)` und  `y2 = sin( ... t)` so auf, dass beide Ausdrücke die gleichen Zahlenfolgen ergeben, $y1 = y2$. Was liefert der Vergleich `print(y1[:10] == y2[:10])`? Erklären Sie das Ergebnis! \n",
    "\n",
    "* Das Herausschneiden von Bereichen aus einem Array nennt man \"Slicing\", siehe z.B. https://www.w3schools.com/python/numpy_array_slicing.asp . Mit Slicing kann man ziemlich kranke Dinge tun, `y[2 : -1 : -2]` gibt Ihnen z.B. rückwärts jeden zweiten Wert (\"-2\") eines Arrays aus, angefangen beim letzten Wert (\"-1\") bis zum zweiten Wert (\"2\"), der gerade eben nicht mehr mit dabei ist. Was liefert `a[:10]`? Und was könnte `a[10:]` bedeuten?"
   ]
  },
  {
   "cell_type": "code",
   "execution_count": null,
   "metadata": {},
   "outputs": [],
   "source": [
    "n = np.arange()\n",
    "t = np.linspace()\n",
    "y1 = np.sin(... * n)\n",
    "y2 = np.sin(... * t)"
   ]
  },
  {
   "cell_type": "markdown",
   "metadata": {},
   "source": [
    "## 1.2 Anschauen\n",
    "In der nächsten Codezelle sollen Sie die Daten plotten mit Hilfe der Funktionen `ax.plot(x,y)` oder `ax.stem(x,y)`. In das Signal \"hinein zoomen\" können Sie mit `ax.set_xlim([start, stop])`, dabei beziehen sich `start` und `stop` auf die Werte des Zeitvektors, nicht auf die Indizes. Mit `ax.plot(x[10:20], y[10:20])` wählen Sie indexbasiert Slices aus, die fürs Plotten gleiche Länge haben müssen. Sie können die Plots verschönern mit `ax.set_xlabel(\"mein Label\")` (ebenso für die y-Achse) oder `ax.set_title(\"mein Titel\")`.\n",
    "\n",
    "Die etwas seltsam aussehende Syntax `**size` bewirkt übrigens, dass das Dictionary `size` entpackt wird und die einzelnen Schlüssel-Werte Paare an die subplots-Methode übergeben werden. \n",
    "\n",
    "<div class=\"alert alert-block alert-warning\"><b> SIMULATION:</b></div>\n",
    "\n",
    "* Plotten Sie jetzt die Daten, indem Sie den Code der nächsten Zelle vervollständigen.\n",
    "* Fügen Sie Label, Titel oder was immer Ihnen gefällt hinzu\n",
    "* Testen Sie `ax.set_xlim()`, um in die Signale hinein zu zoomen.\n",
    "* Zeigen Sie, dass die Signale identisch sind, indem Sie die gleichen Indizes beider Signale über einen kleinen Bereich darstellen.\n"
   ]
  },
  {
   "cell_type": "code",
   "execution_count": null,
   "metadata": {},
   "outputs": [],
   "source": [
    "fig, (ax1,ax2) = plt.subplots(2,1,**size)\n",
    "ax1.plot(n,...)\n",
    "ax2.plot(t,...);"
   ]
  },
  {
   "cell_type": "markdown",
   "metadata": {},
   "source": [
    "## 1.3 Anhören\n",
    "Die Daten kann man sich im Browser anhören mit der `Audio` Klasse aus dem `IPython.display` - Modul:\n",
    "\n",
    "`display(Audio((data=None, filename=None, url=None, embed=None, rate=None, autoplay=False)`\n",
    "\n",
    "`data` kann dabei ein ein- oder zweidimensionales numpy-Array oder Liste sein, ein Filename oder auch eine URL. Der Parameter `rate` definiert die Abtastrate (nicht bei wav-Files, dort steht die Abtastrate im File."
   ]
  },
  {
   "cell_type": "code",
   "execution_count": null,
   "metadata": {},
   "outputs": [],
   "source": [
    "display(Audio(data=y2, rate=8000))"
   ]
  },
  {
   "cell_type": "markdown",
   "metadata": {},
   "source": [
    "<div class=\"alert alert-block alert-warning\"><b> SIMULATION:</b></div>\n",
    "\n",
    "Erzeugen Sie ein Stereosignal mit Hilfe eines zweiten Sinussignals mit 445 Hz und hören Sie sich das Resultat mit dem Kopfhörer an.\n",
    "\n",
    "Sie können zwei Listen oder Arrays zusammenfügen zu einer Liste mit `list12 = [list1, list2]` oder Sie nutzen `a12 = np.vstack((a1, a2))`. Für Stereowiedergabe muss das Array die Form `(2, Anzahl_Samples_pro_Kanal)` haben \n",
    "\n",
    "Überprüfen Sie mit den Befehlen `np.shape(a)`, `a.size`, `len(a)` oder `np.ndim(a)` Form und Dimension des entstandenen Arrays. Was macht der Befehl `np.hstack()`?\n",
    "\n",
    "Ein Signal transponiert man (vertauschen der Achsen) ganz einfach mit `a.T`. Falls sich ein Signal gar nicht abspielen lässt, versuchen Sie es einmal zu transponieren."
   ]
  },
  {
   "cell_type": "code",
   "execution_count": null,
   "metadata": {},
   "outputs": [],
   "source": [
    "y3 = np.sin(... t)\n",
    "\n",
    "display(Audio(data=...))"
   ]
  },
  {
   "cell_type": "markdown",
   "metadata": {},
   "source": [
    "# 2 Diskrete Faltung<a id='convolution'></a>\n",
    "\n",
    "In diesem Versuchsteil definieren wir die Impulsantwort $h[n]$ eines zeitdiskreten Filters ausgehend von einem analogen Rechteckpuls $h(t) = \\text{rect} (t/\\Delta T)$ mit $\\Delta T = 250\\,\\mu$s, der mit $f_S = 64$ kHz abgetastet wird. Die Impulsantwort ist daher eine Abfolge von $L$ Diracstößen mit gleicher Amplitude. Mit dem so definierten System filtern wir anschließend Rauschsignale."
   ]
  },
  {
   "cell_type": "code",
   "execution_count": 5,
   "metadata": {},
   "outputs": [
    {
     "data": {
      "image/png": "[encoded data removed]",
      "text/plain": [
       "<Figure size 864x432 with 1 Axes>"
      ]
     },
     "metadata": {
      "needs_background": "light"
     },
     "output_type": "display_data"
    }
   ],
   "source": [
    "fig, ax = plt.subplots(**size)\n",
    "t = np.arange(-100, 350, 0.1)\n",
    "ax.plot(t, np.where((t >= 0) & (t < 250), 1, 0), 'r', lw=2)\n",
    "ax.axvline(0, ls='-',color='k')\n",
    "ax.set_xlabel(r\"$t \\; / \\;\\mu\\mathrm{s} \\;\\rightarrow$\")\n",
    "ax.set_ylabel(r\"$h(t) \\;\\rightarrow$\");"
   ]
  },
  {
   "cell_type": "markdown",
   "metadata": {},
   "source": [
    "Dieses System wird Moving Average (MA) Filter (gleitender Mittelwert) genannt, das folgende Bild zeigt den Signalflussgraphen eines MA-Filters der Ordnung $N=4$ bzw. Länge $L=5$. Die Länge der Impulsantwort entspricht der Anzahl der Taps."
   ]
  },
  {
   "cell_type": "markdown",
   "metadata": {},
   "source": [
    "<img src =\"data:image/png;base64,iVBORw0KGgoAAAANSUhEUgAAAYgAAABwCAMAAAFELCdCAAAACXBIWXMAABJ0AAASdgHsUH36AAABLFBMVEUAAAAAADoAAGYAOjoAOpAAZrYBAQECAgIDAwMEBAQFBQUGBgYHBwcICAgJCQkKCgoLCwsMDAwNDQ0ODg4PDw8QEBARERESEhIUFBQVFRUYGBgbGxsdHR0eHh4gICAiIiIoKCgqKiouLi4wMDAyMjI0NDQ4ODg6AAA6OgA6Ojo6kNs+Pj4/Pz9AQEBHR0dISEhNTU1OTk5QUFBXV1dYWFhaWlpdXV1gYGBjY2NlZWVmAABmtv9oaGhtbW1wcHB4eHh/f3+Hh4ePj4+QOgCQZgCQ2/+Xl5efn5+ioqKnp6eoqKisrKyvr6+1tbW2ZgC225C2//+3t7e/v7/Dw8PHx8fPz8/R0dHX19fbkDrb///f39/g4ODn5+fv7+/39/f/tmb/25D//7b//9v///9Y1SgpAAAQgElEQVR42u1d63/iSHY9OPZMb08rmc2GzQxJWGbIwsaJ1glxoo1NsIBg4l7WazAeYwbhx/n//4d8KElUSVV6IBl3d6gP/onSrXvvqVPvhwzmDWCFBEnXdV2X9J8ox2xeiRQjPlf8H46izN7IqDak4KcYxlIcRVNYt+zxmnTIb2eBFgQpYLYxzOeVbdu2HT4pMZtX8fTZcrdoiiDfp8GDO1ffHEdTrI26m+Qz+RRLsTEKldRIPOEH1xWP74MHui6Ch9/6T5FQCx4agcap9HPLvLpe/I7kRCm6YZEdKw9+isNFvNjGS0qcc0fj3zAQfImn+ACHDyRRDTOPK4K0aXEsHuI2pPASxJ8HgufxFH2l6NqEeOgFMb3UkojcZTdzCjcW78oPiyw2ZIHKYmSsw1BKuVpolaJL1/1GLbJ3daqlOmKjEXvgXbRUixSLEdnmKwWQL+QibDkdapvgtAKNeBGP5OYGhUOKiqyYOAMOFBN+hGTiWSSzk4i13oHAD6Ro+IUtcIaBIvYj0bCDCJv8A0hYIK+TUUQ7nLN4Rj1L8ttkVKxPM3JRgonye5r/Fybi/RCmkYhBXKRJktfkgiCPk020gBM15gRoKRHzWHfYEIlEhU4x4Tc2q+D3OHgMYk7JDmlLWXEfJFpnyahTdsRDbyPaU8szyJVqAkGisE3vpXCB2PtYDJY86ShjGSSOJV+tpfX/4jVNHHO0wKi9GbeoQ5UwKsjgSTRCkjFm96jNm3ba2CY+AIm3Y47WxNkLOToK+otXMaFyEe9tiKCXkkzEuy0AN0kmlD5zqEGBKArEfEYyChK4xy8ISB0aMMOt7+9RCIfAf0o9I/EV61hmMnHPD7cEZRNXfEeiC/L6wZe9/UBUnSDCIfnhI+sgycM0E/rBhZQ/R1G6453vWS4T5zETRLREDWMKh8VQFC20kokg9DaDgTDII3l1uhmPydzrldcM7k188iZcRNv/eIfgxkWC4cOI5FNuFFZ81GRFInpC5AYcvRD5TXAQjejGRKygwRld8zjNRHxVIhYDoK8VOciSUd6M5JU86FpfkZx5saUtOdE8msho4jTo1hHr6KWYOumQs+DnNCbiRkxADWO6cOlKMS5duBxIMXSb7pj/FE3U20TUkib3JyTkCfWADTWmSahtqzv3E1VjnbI+WORMWnUiWSVnatbPea/qiCdKLFEY81J9b11GYia12Ah2zEtr12PaXY2awxUEkq+4GPKqIK7/fChADI/5eC6DcKp2JNS0nXNUyo4tGGRRhEzGDCDwPw8CRIVsK0w4MS1OthEGUpNpFCGTsdzF6bMDoQu+lkeMsoCQxLCNomDgXCkIAo01yYsLksBVoKVdUb1BbUV28APJGe5CLZJY4M9XJNGlSRHJX8AjWW+GiZ5SciwDCABjAO/E4/d2RK0PAkAPwC0522xqyGLh4vKPfjeqV0R2gK9I1jdqNEC3L07zUMsZSPJFTHftcJkIJLm8CrUIsSEOIgvlHbOizTAsnIk+49wgU7BOiIqPYzUGWi1Q54VZFOlaGZNMMRBPhxw+pINoP7wcJoOIK4qrMctsA6LuRkJTCyIq5cZAJCkyqmmWAqJo2t0MzfYg9iD2IL4IEAu/63/CcSErPQC9ZJG17piFZpyzThcJf5w9cHHOxYisABU+FQPBpthKSwp3SNcP3KeLbGA+nl+PyMWIT8d8OSgMgv+cLjKepcv8MVVi/b8yohsx9zkjr0eFQMzRXJP06gnZeI+6R3LdxNwkYoulsSmqCZZskvQawtIQD2XVCbHGaYuhtElms77eg6HKrEn2exuNiZYclNV8AHWP9qmUtuVohLp0WpJM5zQmUVsFh7RsvSMuMFYtNS/ihjrbgUDdswakbduwbZvstXRCp42eJOM24hLWPcipbdeqtt0jY02UC6CvWHJONIZa2xanNeTZWyLH/l9tI9qpbZgYYHtL21ZsdMKqaZYJKDJWm0lQ5ddoGbUEpbWV/8BYeuMJAJgkykwAAFeJExYAaHjFLH1pa7FfBAh/zUr0H58riGC55+mzBHE9IgSIzcAwaKzjQVeB41LjaKufQdEkkzETEwftB5IVvoCEAiJ9zZ7MtG6fRVFcDXKAGJ6L4iSNbo31HilLbIaYLIrianKAeDw8FCDE0PazBPFc4VAUJ2mI/tkxkdA6fXYgdP0ESD6LLembFBCKmBZEmiLHJnkGIDwjnR9EwmtUMjGRsMWTRVF8N6lMEC84ygJCEjOASFbkJxqCxUAAY5Lev3jkEi3NBhRB0oHLcCPCCa3H96m+w0dybC1Nikje4juSxFi3JbYtCMDhe/z1z1wCqIrX12AEBNARe2IEUP8POyoWzDkBMZQe6xWRfA/8JCR7QaKjEkA01gBuudTuooUgqhsQ/oacZrMtBGFQRPIdcOureWcb2EJeEA5J62uLXKK6DOaFh1EQLfLnb//qZ5KAtQxcPoyC+Nb6AzkGLgyKSP433gvDTT/RtViUKQBiHomVtgKlHcWllOIkdNm0Y3g3NSra2OpR3ZyMb1/mbp10N4iejzJ1dmepnV1EEXRqVJnyQKjbokYQhm1PsyItCMMebHEQfEGmYcfwPG3YoSjSg1BkygOh7u2aQJj2bs2KtCAMG8klMPE6A0CkDwCLgjBtUKsup29SmxUhQU05IOx40Ij341LRPSSzIiSpKQXEp7HytQexB7EHsQexB7EHsQfxeYII1q/aKARi7bqbe1CGoNuoiIRLF2m7EH2NSLjg0C7GRIZjQFUAd8kiEwC1ZJFBuJxC8vmQBFkhF78DRkVBdIBOisgqHScBrNJFNj8OuDgnK5TvehSoE5nOMl2liVykq+nIXIEVUZza5PCmMIhaLVVkkqXWztNFJK7OrkcChHRhpQAIb50u008X+X26iHy85fpAVOznowDH9iDE2mTysYhJcPnOHE4BAPWk7LhULQ1vSmudasK1SzQS8g+XAm7NXPFrK1HoJwmWroSlpljIOSytn6iHx90s4/GYRihTrZvKetD83xtP4dVr6Za2AyHqq3/uzdARzLBZhTFktHDLTmoBsljKDeJuTpIYbBzsWfEVnDVJy93IxE5keZONFf9vDKcTsxQ77dhfbQViDPSZcniPgLVMllkCLgdV6d1FI66lmWbJBmZmd6tICv8KcuK6zbrrzmK3hzdXhDkTMhODzHcd0nVduK4b3K+KBku1pHVrnHu8OgYwIMi+OIE41jMBzECOhUxfywScU1s6pBivFADqXrIl22/Ac4OYM7041T2mFacxOZbrRLcZ03IasbSOg6gut585VHsb1R1DT1HvbGQcfU8hzmj6UJapluxmgSmJrpNak7y/I+mZjtxLMmvDOLVlkf7lfdOBTUnLyny4f7s5nAMvMHJhnBEFrnswfXsOQS/YMzroBG9WcFkuCF6gtSa9OvpJk5mGR3oNM05WcUHyCjCfKe0FlgYsGwTZAmIfF4uGk1SZuQVAjLGM8+B0S1/EkdIvIWiJWACVzdEEPrXx+R2V/TKIkGkQVOyJ2A0RT+0jks9nouQLIp7ax0Fd2BOxsxrx1D7mIjjvJYi4Bo7JBc6NRDjIErJdCi9HWWkeOSUiy9c0PbU3/cKiMiKfzw4fgmcjEXYGRJmJKEFZaR5lEHJeh4iF1CEvKiO/Kvh07InYFRFP7YObR3G+0CfiZXhww4COPRG7IcLvpB+DOrGojPy8fxkePuyJ2GnTtM3wNXTlZSh1YWriLYgwa8tORFGPMijaBREZJ3ShK09tydvDh4JEmLVlJ6KoRxkU7YCI7AtntkqfirhQ06TVlrNpKuBRBkW7JMI6mWpiVzidx115PkPY2+vc7TbGuvVJL9jiUXHptZmwrwYe83ukCeG3RTIo2iUR4jOv7orkT3/5Hu/ffSTp382pDzzFlQVwcJMA2wEAy1mSv68C+IcfRPQMAFpXmjKo0abI/Pg3AL65Jf2N9JNpRCDNI1EQ3v8S+NXf+b/qAGp9L5Oi1yJiljiJHOuj/1EpNcd5pqhfJU1UDdo0yr42KsntUU5FET3NV68ROJmStL4H8P03XlgjcDqXy8SjvvhFagTqA4+13wD4+29V/jsnMhGPGQrzr38N4P3HsEYAcP4tj0ckyZ/eAfjmnbepEQBq/X9PVxSpEXhVImr9cM/GGwSbM0vUL9cRV16GaSMrB054jmGAoFHnTJCj4jJpi+QhBh/9ph0QPVAuj/zwJwx+4qZp6swyQtslESmykiuP0oj3ZXhww+czUYr0LSmScUnakpSBpXiE5Fze2pk3IYLqiOc4RQaZBzNJysBSPELmaXM+Z96cCJLXYbNalIgkZWApHmUnIp8znwIRwWphKUQYlYGleJSLiBzOvDkRT21pNaAoEUnKwFI8yk5EPmc+jRpRVh+Rb6CylUc5a8Qn2Udsu6GIbedZqURs4RG2nfV9MkS80Vpj2Q59Es7sidgTsSdiT8SeiD0ReyL2ROyJ2BOxJ2JPxJ6IPRF7ItJC5LyYcmBsT8QuiYieoJSOUO6eiHVwY9paFVET/ufnbiFvWoGayyKQaoGW2NcFxA0g/0i3T4T2BtAb1IiVZXA6X/D/wXanoDcNoaZfrHBZpi+UCAbkuyaGG0Bv0TTdAfA/flAkdEo4TRSU5l7RwgUA2ivIi8qIz2dHUtOkvwH0Jn3EJPW//mRtVmrrUipop7CWOaC/zv7UPvabp4AI/Q2gt+msB0n317OHuuWVUkGbpRQufa16Gf5FmNmLyoimG0C7J+K+a1sAqnZ3WUjPsmtXAVh2975AdejbNQBonU4L1QfHjGkRuRJnuAG0WyK8EwDVrjudTdxuFYCzXdOydoSeyWwq9JxsUzVcADh1r2az/kUdQHMrRlc2gFrPhGkhnSP/VIavcyvSjq67QDV/vVhWge46kqXWPCeXDcBWBtCT6hY919yCdRkdzdUCTM9nyr2KT2RC19GNlAb5RyyOLr8mOXvcsc7usorGujim8TajsN0RYUt9onQSxavlnJKdSkMlSc+6kYeJgTSNkY/FdFArAdO6mp+J1yViLO6gkGQX1bXOaS4zzWqBmuuJLJRm5LKelYWUT8kuERxjn8qVSjmf1MBphq7lZJaM6S75y5I+iZaz3CERAGB1l6zJ2aRgd9I+mSSIEPPoWUv+hpWip2f+b6ghEeLW0n1XHrEqSsawMvXxQK3vmTF10vm0/fst49IX8sxEANZ/+WVQPbjlijJez0wE8LWYgriKHidTHi5D+b8NUsSOi90By2xEAB/MmNykL5kqRAC1qx0RIRqnptxsRkpPJxsR1d4yIh2pWXYGImp9j7yQuVfSDRL+fbhMROsqEZNt/PacSsTpvPzZsn6+tNJ1j4rTk0yDxv7VRnxqapdTviG9dmebpaG+VolnpXez8/4yA6bU0fTVpfc6yxZpoQfrXuP0DDmXO/p6PfdWnpGKbFUewtWz9FflY9opERxDU187+ZdhtVMGJ8M4JTJlqHvFJzVaTPY2S8u7/LjiugXUZ5G57MkWixwdoCo3Z7M60MqrxwUseRfivgXUl9tgat5FMG2zmLvjr1xOawBQs227CgD1+ZZ65g0AqNq2WLOrbbVkt2wBgGXbdgMArC1XhK+qCqbGdpje4HOj9xP34sR1p8uCepZT17WL6vFmfbfTc6/uimMq5sv/AbYh/cr5WaLIAAAAAElFTkSuQmCC\"/>"
   ]
  },
  {
   "cell_type": "markdown",
   "metadata": {},
   "source": [
    "<div class=\"alert alert-block alert-info\">\n",
    "<b>VORBEREITUNG:</b>\n",
    "</div>\n",
    "\n",
    "* Welche Länge $L$ hat die Impulsanwort? $L =  16 $\n",
    "* Wie groß ist die Abtastperiode $T_S$? $T_S = 15.625\\,\\mu s$\n",
    "***"
   ]
  },
  {
   "cell_type": "markdown",
   "metadata": {},
   "source": [
    "## 2.1 Einschub: Abschnittsweise definierte Funktionen in Python\n",
    "Allgemein können Sie Funktionen abschnittsweise definieren mit:\n",
    "\n",
    "### 2.1.1 List Comprehension\n",
    "Mit einer sogenannten \"List Comprehension\" können Sie sehr kompakt eine Liste definieren oder modifzieren. Mit `y=[i*i for i in t]` definieren Sie eine Liste mit einer quadratischen Funktion über dem Zeitvektor $t$, mit `y=[i < T_0 for i in t]` eine Liste mit einer Funktion, die 1 ist für $t < T_0$ und ansonsten 0. Dabei wird das schlampige Typecasting von Python genutzt (True -> 1, False -> 0).\n",
    "\n",
    "List comprehensions ähneln der mathematischen Schreibweise:\n",
    "\n",
    "$$y = t^2 \\text{ für }t \\in \\mathbb{R}  $$ bzw.\n",
    "\n",
    "$$y = 1 \\text{ für }t < T_0, 0 \\text{ sonst.} $$ \n",
    "\n",
    "Mit einer zusätzlichen Bedingung kann man auch kompliziertere Funktionen erzeugen wie die Menge der Quadratzahlen aller geraden Zahlen zwischen 10 und 20: `m = [x**2 for x in range(10,21) if x%2 == 0]`. Mathematisch gesehen:\n",
    "\n",
    "$$ m=\\{x^{2}\\in \\mathbb {N} \\,|\\,10\\leq x\\leq 20,\\,x \\bmod 2 = 0\\}$$\n",
    "\n",
    "### 2.1.2. Schneller mit numpy\n",
    "Für große Datenmengen und / oder hohe Geschwindigkeit sollte man numpy-Funktionen wie `np.where()` verwenden:\n"
   ]
  },
  {
   "cell_type": "code",
   "execution_count": null,
   "metadata": {},
   "outputs": [],
   "source": [
    "t = np.arange(100) # Array 0 ... 99\n",
    "h = np.where(t < 25, 1, 0) # 1 für t < 25, ansonsten 0"
   ]
  },
  {
   "cell_type": "markdown",
   "metadata": {},
   "source": [
    "## 2.2 Plotten der Impulsantwort\n",
    "<div class=\"alert alert-block alert-warning\"><b> SIMULATION:</b></div>\n",
    "\n",
    "Definieren Sie jetzt mit Hilfe einer list comprehension oder der `np.where()` Funktion die Impulsantwort des Filters und plotten Sie sie als `stem()` Plot über der Zeit $t$. Optional überlagern Sie im gleichen Plot den \"analogen\" Rechteckpuls.\n",
    "\n",
    "**Tipp:** Sie können das Aussehen des Stemplots ändern z.B. mit `stem(n,y, 'b-', 'ro', 'k')` ('b-' blaue Linien, 'ro' rote Punkte als Marker und 'k' schwarze Grundlinie) "
   ]
  },
  {
   "cell_type": "code",
   "execution_count": null,
   "metadata": {},
   "outputs": [],
   "source": [
    "fig, ax = plt.subplots(**size)\n",
    "t = np.arange(...)\n",
    "\n",
    "ax.stem(n, ...)\n",
    "ax.set_xlabel(r\"$t \\; \\rightarrow$ in s\");"
   ]
  },
  {
   "cell_type": "markdown",
   "metadata": {},
   "source": [
    "## 2.3 Rauschen als Testsignal\n",
    "Als Testsignal für das System verwenden wir gauss- oder normalverteiltes Rauschen: `x_n = np.random.randn(M,N)` gibt ein Array `x_n` zurück mit den Dimensionen $M x N$ und der Varianz $\\sigma^2 = 1$ sowie dem Mittelwert $m=1$. \n",
    "<div class=\"alert alert-block alert-warning\"><b> SIMULATION:</b></div>\n",
    "\n",
    "Hören Sie sich zunächst das Stereorauschen in der nächsten Zelle an. Ersetzen Sie versuchsweise das normalverteilte Rauschen durch gleichverteiltes (uniform) Rauschen `np.random.rand(M,N)`. Hören Sie einen Unterschied?"
   ]
  },
  {
   "cell_type": "code",
   "execution_count": null,
   "metadata": {},
   "outputs": [],
   "source": [
    "x_n = np.random.randn(2,16000)\n",
    "display(Audio(data=x_n, rate=16000))"
   ]
  },
  {
   "cell_type": "markdown",
   "metadata": {},
   "source": [
    "<div class=\"alert alert-block alert-info\"><b>VORBEREITUNG:</b></div>\n",
    "\n",
    "* Wodurch unterscheiden sich normal- und gleichverteiltes Rauschen? Finden Sie es mit einem Lehrbuch oder Wikipedia o.ä. heraus!\n",
    "\n",
    "normal: Wahrscheinlichkeitsdichte entspricht gauss verteilung , gleich: Wahrscheinlichkeitsdichte entspricht konstante\n",
    "\n",
    "* Warum ändert sich der \"Sound\" des Rauschens im vorigen Beispiel, wenn Sie die Abtastrate in der vorigen Codezelle ändern?\n",
    "\n",
    "Veränderung Abtastfrequenz -> Veränderung maximal erfasste Frequenz <-> Frequenzspektrum Rauschen unendlich breit\n",
    "\n",
    "* Im nächsten Abschnitt sollen Sie das Rauschsignal `x_n` der Länge `Lx` filtern, indem sie es mit dem vorher definierten Filter (Länge `L`) falten. Wie viele Samples `Ly` enthält das Ergebnis der diskreten Faltung $y[n] = x_n[n] \\ast h[n]$?\n",
    "\n",
    "`Ly` = `Lx` = 16\n",
    "\n",
    "* Welche Verstärkung hat unser Moving Average Filter für Gleichsignale?\n",
    "\n",
    "1\n",
    "\n",
    "* Sie können ein Array `t` mit passender Länge und Skalierung zum Array `y` erzeugen mit `t = np.arange(len(y))*T_S`. Wie funktioniert dieser Befehl (Ausprobieren, keine schriftliche Antwort erforderlich)?\n",
    "\n",
    "np.arange(len(y)) erstellt eine numpy array mit len(y) vielen objekten, gefüllt mit 0 bis len(y)-1. Das mal T_S multipliziert gibt ein Array der diskreten Abtastzeitpunkte\n",
    "\n",
    "***"
   ]
  },
  {
   "cell_type": "markdown",
   "metadata": {},
   "source": [
    "## 2.3 Falten und Plotten\n",
    "Mit `np.convolve(a,b)` faltet man zwei eindimensionale Arrays, ggf. können Sie ein Array der Form (500,1) mit `np.squeeze(x_n)` in eine \"flache Form\" bringen oder aus einem mehrdimensionalen Array mit `x_n[:,0]` eine Dimension herausziehen. \n",
    "<div class=\"alert alert-block alert-warning\"><b> SIMULATION:</b></div>\n",
    "\n",
    "* Definieren Sie jetzt die Impulsantwort des MA-Filters ohne zusätzliche Nullen mit `h = np.ones(L)` und falten Sie das Rauschen mit der Impulsantwort per `y=np.convolve(x_n, h)`. Stimmt die Länge des resultierenden Arrays `y` mit Ihrer Berechnung aus der Vorbereitung überein?\n",
    "* Stellen Sie ungefiltertes und gefiltertes Rauschen im gleichen Plotfenster dar. Skalieren Sie die Zeitachse in Sekunden.\n",
    "* Passen Sie das Filter so an, dass die DC-Verstärkung 1 ist und vergleichen Sie ungefiltertes und gefiltertes Rauschen.\n",
    "* Welche Art von Filterung (HP, TP, ...) hat das Moving Average Filter? Erhöhen Sie die Länge des Rauschsignals und hören Sie es sich an (Sie müssen das Signal mit `y.T` transponieren - ich habe auch noch nicht verstanden warum)."
   ]
  },
  {
   "cell_type": "code",
   "execution_count": null,
   "metadata": {},
   "outputs": [],
   "source": [
    "x_n = np.squeeze(np.random.randn(500,1))\n",
    "h = np.ones(?) # MA-filter mit Länge L - setzen Sie den passenden Zahlenwert ein\n",
    "y = np.convolve(x_n, h)\n",
    "#display(Audio(data=y.T, rate=16000))"
   ]
  },
  {
   "cell_type": "markdown",
   "metadata": {},
   "source": [
    "## 3. Transferfunktion von LTI-Systemen<a id='lti-system'></a>\n",
    "Zeitdiskrete Systeme werden in Python und Matlab meistens über die Koeffizienten $a_i$ des rekursiven Teils und die Koeffizienten $b_i$ des nicht-rekursiven Teils angegeben:\n",
    "\n",
    "$$ H(z) = \\frac {Y(z)} {X(z)} = \\frac{b_0 + b_1 z^{-1} + b_2 z^{-2} + b_3 z^{-3}}{1 + a_1 z^{-1} + a_2 z^{-2} + a_3 z^{-3}} \n",
    "$$\n",
    "\n",
    "Aus den Koeffizienten erhält man nämlich sofort den Signalflussgraph in der sog. \"Direktform\":"
   ]
  },
  {
   "cell_type": "markdown",
   "metadata": {},
   "source": [
    "<img src=\"data:image/png;base64, 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\"/>"
   ]
  },
  {
   "cell_type": "markdown",
   "metadata": {},
   "source": [
    "Sie können mit der Software [pyfda](https://github.com/chipmuenk/pyfda) die Eigenschaften des Systems visualisieren und eigene Filter entwerfen. Im Tab \"b,a\" importieren Sie Koeffizienten aus einem CSV-File oder (nach Auswahl von \"Clipboard\" in den Einstellungen) direkt aus der Zwischenablage. Die Koeffizienten `b` des nicht-rekursiven Teils geben Sie hierfür getrennt durch Kommata an, optional in einer zweiten Zeile die Koeffizienten `a` des rekursiven Teils.\n",
    "\n",
    "Alternativ arbeiten Sie mit dem Notebook [LTF-Filter_properties.ipynb](../02_LTF/LTF-Filter_properties.ipynb), das Ihnen ebenfalls die wichtigsten Eigensschaften darstellt. Aus diesem Notebook können Sie auch leicht Code zum Plotten verschiedener Filtereigenschaften kopieren.\n",
    "\n",
    "# 3.1 Analyse des Moving Average Filters aus Abschnitt 2\n",
    "<div class=\"alert alert-block alert-info\"><b>VORBEREITUNG:</b></div>\n",
    "\n",
    "* Geben Sie nicht-rekursiven Koeffizienten des Filters an. Vergleichen Sie dazu obige Abbildung der Direktform mit der Abbildung des Moving Average Filters.\n",
    "\n",
    "$b = [1,1,1,1,1,1,1,1,1,1,1,1,1,1,1]$\n",
    "\n",
    "* Begründen Sie mit Hilfe der Systemfunktion $H(z)$ ob das Filter linearphasig ist.\n",
    "\n",
    "Ja da typ 2 linearphasiger filter (gerade symmetrie Koeffizienten, ungerade Ordnung)\n",
    "\n",
    "* Welche Gruppenlaufzeit hat es?\n",
    "\n",
    "\n",
    "\n",
    "* Berechnen Sie die Frequenzen, bei denen der Betragsgang Null wird (siehe z.B. Folie LTF-54 oder Musterlösung zu Aufgabe 2.11).\n",
    "* Wie müsste $h[n]$ aussehen, damit die Gruppenlaufzeit $\\tau_g = 0$ wäre?\n",
    "\n",
    "***\n",
    "<div class=\"alert alert-block alert-warning\"><b> SIMULATION:</b></div>\n",
    "\n",
    "* Plotten Sie Betrags- und Phasenfrequenzgang, Gruppenlaufzeit und P/N-Diagramm.\n",
    "\n",
    "* Lesen Sie $H(f=0)$ aus der Simulation ab und vergleichen Sie mit Ihrem berechneten Wert.\n",
    "\n",
    "* Stimmt die simulierte Gruppenlaufzeit mit der berechneten überein?"
   ]
  },
  {
   "cell_type": "markdown",
   "metadata": {},
   "source": [
    "***\n",
    "### Copyright\n",
    "\n",
    "(c) 2016 - 2021 Prof. Dr. Christian Münker \n",
    "\n",
    "This jupyter notebook is part of a collection of notebooks on various topics of Digital Signal Processing. The latest version can be found at https://github.com/chipmuenk/dsp.\n",
    "\n",
    "This notebook is provided as [Open Educational Resource](https://en.wikipedia.org/wiki/Open_educational_resources). Feel free to use it for your own purposes. The text is licensed under [Creative Commons Attribution 4.0](https://creativecommons.org/licenses/by/4.0/), the code of the IPython examples under the [MIT license](https://opensource.org/licenses/MIT). Please attribute the work as follows: *Christian Münker, Digital Signal Processing - Vorlesungsunterlagen mit Simulationsbeispielen, 2020*."
   ]
  }
 ],
 "metadata": {
  "anaconda-cloud": {},
  "kernelspec": {
   "display_name": "Python 3",
   "language": "python",
   "name": "python3"
  },
  "language_info": {
   "codemirror_mode": {
    "name": "ipython",
    "version": 3
   },
   "file_extension": ".py",
   "mimetype": "text/x-python",
   "name": "python",
   "nbconvert_exporter": "python",
   "pygments_lexer": "ipython3",
   "version": "3.7.6"
  }
 },
 "nbformat": 4,
 "nbformat_minor": 4
}
