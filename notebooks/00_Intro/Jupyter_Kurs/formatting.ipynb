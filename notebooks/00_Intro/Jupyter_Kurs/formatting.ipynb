{
 "cells": [
  {
   "cell_type": "markdown",
   "metadata": {},
   "source": [
    "# Examples of basic formatting in the notebook\n",
    "\n",
    "Normal and formatted text cells such as this one use the \n",
    "[Markdown](http://daringfireball.net/projects/markdown/basics) syntax.\n",
    "\n",
    "\n",
    "# Title (h1)\n",
    "\n",
    "## Heading (h2)\n",
    "\n",
    "### Heading (h3)\n",
    "\n",
    "Here is a paragraph of text.\n",
    "\n",
    "* One.\n",
    "    - Sublist\n",
    "        - Here we go\n",
    "  - Sublist\n",
    "        - Here we go\n",
    "        - Here we go\n",
    "* Two.\n",
    "  - Sublist\n",
    "* Three.\n",
    "  - Sublist\n",
    "\n",
    "Now another list:\n",
    "\n",
    "---\n",
    "\n",
    "1. Here we go\n",
    "    1. Sublist\n",
    "    2. Sublist\n",
    "2. There we go\n",
    "3. Now this\n",
    "\n",
    "And another paragraph.\n",
    "\n",
    "### Heading (h3)\n",
    "\n",
    "#### Heading (h4)\n",
    "\n",
    "##### Heading (h5)\n",
    "\n",
    "###### Heading (h6)\n",
    "\n",
    "## Heading (h2)"
   ]
  },
  {
   "cell_type": "markdown",
   "metadata": {},
   "source": [
    "# Heading (h1)\n",
    "\n",
    "## Heading (h2)\n",
    "\n",
    "### Heading (h3)\n",
    "\n",
    "#### Heading (h4)\n",
    "\n",
    "##### Heading (h5)\n",
    "\n",
    "###### Heading (h6)\n",
    "\n",
    "Now for a simple code example:\n",
    "\n",
    "    for i in range(10):\n",
    "        print i\n",
    "\n",
    "Now more text"
   ]
  },
  {
   "cell_type": "markdown",
   "metadata": {},
   "source": [
    "# This is a Heading Cell (level 1)"
   ]
  },
  {
   "cell_type": "markdown",
   "metadata": {},
   "source": [
    "#### This is a Heading Cell (level 4)"
   ]
  },
  {
   "cell_type": "markdown",
   "metadata": {},
   "source": [
    "## Heading (h2)\n",
    "\n",
    "Here is text.\n",
    "\n",
    "> This is a *block* quote. This is a block quote. This is a block quote.  \n",
    "> This is a **block** quote. This is a block quote. This is a block quote.  \n",
    "> This is a `block` quote. This is a block quote. This is a block quote.  \n",
    "> This is a block quote. This is a block quote. This is a block quote.  \n",
    "> This is a block quote. This is a block quote. This is a block quote.  \n",
    "> This is a block quote. This is a block quote. This is a block quote.  \n",
    "\n",
    "Here is text\n",
    "\n",
    "<table>\n",
    "<tr>\n",
    "<th>Header 1</th>\n",
    "<th>Header 2</th>\n",
    "</tr>\n",
    "<tr>\n",
    "<td>row 1, cell 1</td>\n",
    "<td>row 1, cell 2</td>\n",
    "</tr>\n",
    "<tr>\n",
    "<td>row 2, cell 1</td>\n",
    "<td>row 2, cell 2</td>\n",
    "</tr>\n",
    "</table>"
   ]
  }
 ],
 "metadata": {
  "anaconda-cloud": {},
  "kernelspec": {
   "display_name": "Python [default]",
   "language": "python",
   "name": "python3"
  },
  "language_info": {
   "codemirror_mode": {
    "name": "ipython",
    "version": 3
   },
   "file_extension": ".py",
   "mimetype": "text/x-python",
   "name": "python",
   "nbconvert_exporter": "python",
   "pygments_lexer": "ipython3",
   "version": "3.5.2"
  }
 },
 "nbformat": 4,
 "nbformat_minor": 1
}
