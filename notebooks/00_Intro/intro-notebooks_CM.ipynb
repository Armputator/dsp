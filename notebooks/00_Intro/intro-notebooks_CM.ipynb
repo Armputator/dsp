{
 "cells": [
  {
   "cell_type": "markdown",
   "metadata": {},
   "source": [
    "# Introduction to Python et al., Working with Audio Signals\n",
    "\n",
    "This notebook has been adapted from [Sascha Spors Course](http://nbviewer.jupyter.org/github/spatialaudio/communication-acoustics-exercises/blob/master/index.ipynb) (very interesting especially for people interested in acoustics). \n",
    "\n",
    "The adapted Notebook can be found as a part of the \"DSP auf FPGAs\" course at  [github.com/chipmuenk/dsp_fpga](https://github.com/chipmuenk/dsp_fpga).\n",
    "\n",
    "Kurzeinführung in Jupyter: [Einführung Fauchereau](http://nbviewer.jupyter.org/github/nicolasfauchereau/Python_NIWA_Wellington/blob/master/notebooks/IPython_notebook.html)\n",
    "\n",
    "[return to main page](../../README.ipynb)\n",
    "\n",
    "For most of the exercises, we will use the very popular programming language [Python](https://www.python.org) together with a few external libraries from the [Scientific Python Stack](http://scipy.org).\n",
    "To get started, you might also want to have a look a those:\n",
    "\n",
    "* [Python Introduction](http://nbviewer.ipython.org/github/mgeier/python-audio/blob/master/intro-python.ipynb) (pure Python, no NumPy)\n",
    "\n",
    "* [Simple Signal Processing Example](http://nbviewer.ipython.org/github/mgeier/python-audio/blob/master/simple-signals.ipynb) (quite similar to the things on this very page)\n",
    "\n",
    "Note that Python is not the only option for the kind of tasks that we'll tackle here.\n",
    "If you are interested in some alternatives, have a look at [Julia](http://julialang.org/), [R](http://www.r-project.org/), [Octave](http://octave.org/) or [Scilab](http://www.scilab.org/).\n",
    "All the mentioned applications are open-source software and there are of course even more alternatives (both free and proprietary).\n",
    "\n",
    "Many exercises in this course (including the one you're reading right now) are presented as [Jupyter (formerly known as IPython) notebooks](http://jupyter.org/).\n",
    "They can be [viewed online](http://nbviewer.jupyter.org/github/spatialaudio/communication-acoustics-exercises/blob/master/index.ipynb), but it makes much more sense to download them and open and explore them locally with [Jupyter](http://jupyter.org/).\n",
    "\n",
    "To get an idea what Jupyter is all about, have a look at this [Jupyter Introduction](http://nbviewer.jupyter.org/github/mgeier/python-audio/blob/master/intro-jupyter.ipynb).\n",
    "To use this very notebook on your local PC, start the Jupyter Notebook server (which will open a browser window for you) with one of the commands:\n",
    "\n",
    "    jupyter lab\n",
    "    \n",
    "    jupyter notebook\n",
    "\n",
    "The first one shows the Notebook in the Jupyterlab environment, the second one gives you the \"classic\" Notebook interface.\n",
    "\n",
    "ATTENTION: always make sure to run Python version 3.x and *not* Python 2.x!"
   ]
  },
  {
   "cell_type": "markdown",
   "metadata": {},
   "source": [
    "## What Will We Learn Today?\n",
    "\n",
    "* Basics of Python, Jupyter/IPython, NumPy, SciPy, matplotlib and some other external libraries\n",
    "\n",
    "* How to create a simple audio signal\n",
    "\n",
    "* How to plot this signal\n",
    "\n",
    "* How to listen to this signal\n",
    "\n",
    "* How to save this signal to the hard disk (as a WAV file)\n",
    "\n",
    "* How to handle signals with more than one channel\n",
    "\n",
    "* A quick demonstration of the *interaural time difference* (ITD)"
   ]
  },
  {
   "cell_type": "markdown",
   "metadata": {},
   "source": [
    "## Notebook Cells\n",
    "\n",
    "This notebook consists of so-called \"cells\", which can be used for normal text (see above) or for Python code (see below).\n",
    "*Code cells* can be selected by a mouse click (or with the arrow up/down keys and *Enter*), the code can be edited and then executed by pressing *Shift+Enter* or by clicking the <button class=\"fa fa-step-forward fa-play icon-play btn btn-xs btn-default\"></button> button in the top part of the page.\n",
    "\n",
    "Don't be shy, try it:"
   ]
  },
  {
   "cell_type": "code",
   "execution_count": 1,
   "metadata": {},
   "outputs": [
    {
     "data": {
      "text/plain": [
       "42"
      ]
     },
     "execution_count": 1,
     "metadata": {},
     "output_type": "execute_result"
    }
   ],
   "source": [
    "50 - 5 * 4 + 12"
   ]
  },
  {
   "cell_type": "markdown",
   "metadata": {},
   "source": [
    "Code cells can have multiple lines (use *Enter* for line breaks).\n",
    "When the code cell is executed, all lines are executed, but only the value of the last line is displayed (except if there is no value to display).\n",
    "\n",
    "Here's another code cell for you to play with:"
   ]
  },
  {
   "cell_type": "code",
   "execution_count": null,
   "metadata": {},
   "outputs": [],
   "source": []
  },
  {
   "cell_type": "markdown",
   "metadata": {},
   "source": [
    "New cells can be inserted by pressing the *a* or *b* keys (to insert *above* or *below* the current cell) or via the menu. You should also have a look at \"Help\" -> \"Keyboard Shortcuts\".\n",
    "\n",
    "You can step through all cells in the notebook by repeatedly pressing *Shift+Enter*.\n",
    "Alternatively, you can click \"Run All\" in the \"Cell\" menu."
   ]
  },
  {
   "cell_type": "markdown",
   "metadata": {},
   "source": [
    "## Importing Modules/Packages\n",
    "\n",
    "In order to work with numeric arrays (in our case mainly audio signals), we import the [NumPy](http://www.numpy.org) package."
   ]
  },
  {
   "cell_type": "code",
   "execution_count": 2,
   "metadata": {},
   "outputs": [],
   "source": [
    "import numpy as np"
   ]
  },
  {
   "cell_type": "markdown",
   "metadata": {},
   "source": [
    "Now we can use all NumPy functions (by prefixing \"`np.`\")."
   ]
  },
  {
   "cell_type": "code",
   "execution_count": 3,
   "metadata": {},
   "outputs": [
    {
     "data": {
      "text/plain": [
       "array([0., 0., 0., ..., 0., 0., 0.])"
      ]
     },
     "execution_count": 3,
     "metadata": {},
     "output_type": "execute_result"
    }
   ],
   "source": [
    "np.zeros(10000)"
   ]
  },
  {
   "cell_type": "markdown",
   "metadata": {},
   "source": [
    "## Tab Completion\n",
    "\n",
    "*Exercise:* Type \"`np.ze`\" (without the quotes) and then hit the *Tab* key ..."
   ]
  },
  {
   "cell_type": "code",
   "execution_count": 4,
   "metadata": {},
   "outputs": [
    {
     "data": {
      "text/plain": [
       "\u001b[1;31mSignature:\u001b[0m \u001b[0mnp\u001b[0m\u001b[1;33m.\u001b[0m\u001b[0mzeros_like\u001b[0m\u001b[1;33m(\u001b[0m\u001b[0ma\u001b[0m\u001b[1;33m,\u001b[0m \u001b[0mdtype\u001b[0m\u001b[1;33m=\u001b[0m\u001b[1;32mNone\u001b[0m\u001b[1;33m,\u001b[0m \u001b[0morder\u001b[0m\u001b[1;33m=\u001b[0m\u001b[1;34m'K'\u001b[0m\u001b[1;33m,\u001b[0m \u001b[0msubok\u001b[0m\u001b[1;33m=\u001b[0m\u001b[1;32mTrue\u001b[0m\u001b[1;33m)\u001b[0m\u001b[1;33m\u001b[0m\u001b[1;33m\u001b[0m\u001b[0m\n",
       "\u001b[1;31mDocstring:\u001b[0m\n",
       "Return an array of zeros with the same shape and type as a given array.\n",
       "\n",
       "Parameters\n",
       "----------\n",
       "a : array_like\n",
       "    The shape and data-type of `a` define these same attributes of\n",
       "    the returned array.\n",
       "dtype : data-type, optional\n",
       "    Overrides the data type of the result.\n",
       "\n",
       "    .. versionadded:: 1.6.0\n",
       "order : {'C', 'F', 'A', or 'K'}, optional\n",
       "    Overrides the memory layout of the result. 'C' means C-order,\n",
       "    'F' means F-order, 'A' means 'F' if `a` is Fortran contiguous,\n",
       "    'C' otherwise. 'K' means match the layout of `a` as closely\n",
       "    as possible.\n",
       "\n",
       "    .. versionadded:: 1.6.0\n",
       "subok : bool, optional.\n",
       "    If True, then the newly created array will use the sub-class\n",
       "    type of 'a', otherwise it will be a base-class array. Defaults\n",
       "    to True.\n",
       "\n",
       "Returns\n",
       "-------\n",
       "out : ndarray\n",
       "    Array of zeros with the same shape and type as `a`.\n",
       "\n",
       "See Also\n",
       "--------\n",
       "empty_like : Return an empty array with shape and type of input.\n",
       "ones_like : Return an array of ones with shape and type of input.\n",
       "full_like : Return a new array with shape of input filled with value.\n",
       "zeros : Return a new array setting values to zero.\n",
       "\n",
       "Examples\n",
       "--------\n",
       ">>> x = np.arange(6)\n",
       ">>> x = x.reshape((2, 3))\n",
       ">>> x\n",
       "array([[0, 1, 2],\n",
       "       [3, 4, 5]])\n",
       ">>> np.zeros_like(x)\n",
       "array([[0, 0, 0],\n",
       "       [0, 0, 0]])\n",
       "\n",
       ">>> y = np.arange(3, dtype=float)\n",
       ">>> y\n",
       "array([ 0.,  1.,  2.])\n",
       ">>> np.zeros_like(y)\n",
       "array([ 0.,  0.,  0.])\n",
       "\u001b[1;31mFile:\u001b[0m      c:\\users\\chris\\anaconda3\\lib\\site-packages\\numpy\\core\\numeric.py\n",
       "\u001b[1;31mType:\u001b[0m      function\n"
      ]
     },
     "metadata": {},
     "output_type": "display_data"
    }
   ],
   "source": [
    "np.zeros_like?"
   ]
  },
  {
   "cell_type": "markdown",
   "metadata": {},
   "source": [
    "## Array, Vector, Matrix\n",
    "\n",
    "Audio signals can be stored in NumPy *arrays*.\n",
    "Arrays can have arbitrarily many dimensions, but let's use only one-dimensional arrays for now.\n",
    "Arrays can be created with [numpy.array()](http://docs.scipy.org/doc/numpy/reference/generated/numpy.array.html):"
   ]
  },
  {
   "cell_type": "code",
   "execution_count": 6,
   "metadata": {},
   "outputs": [],
   "source": [
    "a = np.array([0, 1, 2, 3, 4, 5, 6, 7, 8, 9])"
   ]
  },
  {
   "cell_type": "markdown",
   "metadata": {},
   "source": [
    "Note that the result is not displayed when you assign to a variable (because assignment is a *statement* and not an *expression*).\n",
    "To show the data, write the variable name separately as the last (or only) line of a code cell."
   ]
  },
  {
   "cell_type": "code",
   "execution_count": 7,
   "metadata": {},
   "outputs": [
    {
     "data": {
      "text/plain": [
       "array([0, 1, 2, 3, 4, 5, 6, 7, 8, 9])"
      ]
     },
     "execution_count": 7,
     "metadata": {},
     "output_type": "execute_result"
    }
   ],
   "source": [
    "a"
   ]
  },
  {
   "cell_type": "markdown",
   "metadata": {},
   "source": [
    "BTW, there is an easier way to get this particular array (using [numpy.arange()](http://docs.scipy.org/doc/numpy/reference/generated/numpy.arange.html)):"
   ]
  },
  {
   "cell_type": "code",
   "execution_count": 8,
   "metadata": {},
   "outputs": [
    {
     "data": {
      "text/plain": [
       "array([0, 1, 2, 3, 4, 5, 6, 7, 8, 9])"
      ]
     },
     "execution_count": 8,
     "metadata": {},
     "output_type": "execute_result"
    }
   ],
   "source": [
    "b = np.arange(10)\n",
    "b"
   ]
  },
  {
   "cell_type": "markdown",
   "metadata": {},
   "source": [
    "Note that the range starts with `0` and ends just before the given stop value!\n",
    "\n",
    "If you are not used to programming, this might seem strange at first sight, but you'll see that this is vastly superior to starting with `1` and including the stop value.\n",
    "If you're not convinced yet, have a look at [what E. W. Dijkstra has to say](http://www.cs.utexas.edu/users/EWD/transcriptions/EWD08xx/EWD831.html)."
   ]
  },
  {
   "cell_type": "markdown",
   "metadata": {},
   "source": [
    "## Getting Help\n",
    "\n",
    "If you want to know details about the usage of `np.arange()` and all its supported arguments, have a look at its help text.\n",
    "Just append a question mark to the function name (without parentheses!):"
   ]
  },
  {
   "cell_type": "code",
   "execution_count": 9,
   "metadata": {},
   "outputs": [
    {
     "data": {
      "text/plain": [
       "\u001b[1;31mDocstring:\u001b[0m\n",
       "arange([start,] stop[, step,], dtype=None)\n",
       "\n",
       "Return evenly spaced values within a given interval.\n",
       "\n",
       "Values are generated within the half-open interval ``[start, stop)``\n",
       "(in other words, the interval including `start` but excluding `stop`).\n",
       "For integer arguments the function is equivalent to the Python built-in\n",
       "`range` function, but returns an ndarray rather than a list.\n",
       "\n",
       "When using a non-integer step, such as 0.1, the results will often not\n",
       "be consistent.  It is better to use `numpy.linspace` for these cases.\n",
       "\n",
       "Parameters\n",
       "----------\n",
       "start : number, optional\n",
       "    Start of interval.  The interval includes this value.  The default\n",
       "    start value is 0.\n",
       "stop : number\n",
       "    End of interval.  The interval does not include this value, except\n",
       "    in some cases where `step` is not an integer and floating point\n",
       "    round-off affects the length of `out`.\n",
       "step : number, optional\n",
       "    Spacing between values.  For any output `out`, this is the distance\n",
       "    between two adjacent values, ``out[i+1] - out[i]``.  The default\n",
       "    step size is 1.  If `step` is specified as a position argument,\n",
       "    `start` must also be given.\n",
       "dtype : dtype\n",
       "    The type of the output array.  If `dtype` is not given, infer the data\n",
       "    type from the other input arguments.\n",
       "\n",
       "Returns\n",
       "-------\n",
       "arange : ndarray\n",
       "    Array of evenly spaced values.\n",
       "\n",
       "    For floating point arguments, the length of the result is\n",
       "    ``ceil((stop - start)/step)``.  Because of floating point overflow,\n",
       "    this rule may result in the last element of `out` being greater\n",
       "    than `stop`.\n",
       "\n",
       "See Also\n",
       "--------\n",
       "linspace : Evenly spaced numbers with careful handling of endpoints.\n",
       "ogrid: Arrays of evenly spaced numbers in N-dimensions.\n",
       "mgrid: Grid-shaped arrays of evenly spaced numbers in N-dimensions.\n",
       "\n",
       "Examples\n",
       "--------\n",
       ">>> np.arange(3)\n",
       "array([0, 1, 2])\n",
       ">>> np.arange(3.0)\n",
       "array([ 0.,  1.,  2.])\n",
       ">>> np.arange(3,7)\n",
       "array([3, 4, 5, 6])\n",
       ">>> np.arange(3,7,2)\n",
       "array([3, 5])\n",
       "\u001b[1;31mType:\u001b[0m      builtin_function_or_method\n"
      ]
     },
     "metadata": {},
     "output_type": "display_data"
    }
   ],
   "source": [
    "np.arange?"
   ]
  },
  {
   "cell_type": "markdown",
   "metadata": {},
   "source": [
    "A help window should open in the lower part of the browser window.\n",
    "This window can be closed by hitting the *q* key (like \"quit\").\n",
    "\n",
    "Let's get some more help:"
   ]
  },
  {
   "cell_type": "code",
   "execution_count": 10,
   "metadata": {},
   "outputs": [
    {
     "data": {
      "text/plain": [
       "\u001b[1;31mDocstring:\u001b[0m\n",
       "zeros(shape, dtype=float, order='C')\n",
       "\n",
       "Return a new array of given shape and type, filled with zeros.\n",
       "\n",
       "Parameters\n",
       "----------\n",
       "shape : int or tuple of ints\n",
       "    Shape of the new array, e.g., ``(2, 3)`` or ``2``.\n",
       "dtype : data-type, optional\n",
       "    The desired data-type for the array, e.g., `numpy.int8`.  Default is\n",
       "    `numpy.float64`.\n",
       "order : {'C', 'F'}, optional, default: 'C'\n",
       "    Whether to store multi-dimensional data in row-major\n",
       "    (C-style) or column-major (Fortran-style) order in\n",
       "    memory.\n",
       "\n",
       "Returns\n",
       "-------\n",
       "out : ndarray\n",
       "    Array of zeros with the given shape, dtype, and order.\n",
       "\n",
       "See Also\n",
       "--------\n",
       "zeros_like : Return an array of zeros with shape and type of input.\n",
       "empty : Return a new uninitialized array.\n",
       "ones : Return a new array setting values to one.\n",
       "full : Return a new array of given shape filled with value.\n",
       "\n",
       "Examples\n",
       "--------\n",
       ">>> np.zeros(5)\n",
       "array([ 0.,  0.,  0.,  0.,  0.])\n",
       "\n",
       ">>> np.zeros((5,), dtype=int)\n",
       "array([0, 0, 0, 0, 0])\n",
       "\n",
       ">>> np.zeros((2, 1))\n",
       "array([[ 0.],\n",
       "       [ 0.]])\n",
       "\n",
       ">>> s = (2,2)\n",
       ">>> np.zeros(s)\n",
       "array([[ 0.,  0.],\n",
       "       [ 0.,  0.]])\n",
       "\n",
       ">>> np.zeros((2,), dtype=[('x', 'i4'), ('y', 'i4')]) # custom dtype\n",
       "array([(0, 0), (0, 0)],\n",
       "      dtype=[('x', '<i4'), ('y', '<i4')])\n",
       "\u001b[1;31mType:\u001b[0m      builtin_function_or_method\n"
      ]
     },
     "metadata": {},
     "output_type": "display_data"
    }
   ],
   "source": [
    "np.zeros?"
   ]
  },
  {
   "cell_type": "markdown",
   "metadata": {},
   "source": [
    "You can also get help for the whole NumPy package:"
   ]
  },
  {
   "cell_type": "code",
   "execution_count": null,
   "metadata": {
    "collapsed": true,
    "jupyter": {
     "outputs_hidden": true
    }
   },
   "outputs": [],
   "source": [
    "np?"
   ]
  },
  {
   "cell_type": "markdown",
   "metadata": {},
   "source": [
    "You can get help for any object by appending (or prepending) a question mark to the name of the object.\n",
    "Let's check what the help system can tell us about our variable `a`:"
   ]
  },
  {
   "cell_type": "code",
   "execution_count": null,
   "metadata": {
    "collapsed": true,
    "jupyter": {
     "outputs_hidden": true
    }
   },
   "outputs": [],
   "source": [
    "a?"
   ]
  },
  {
   "cell_type": "markdown",
   "metadata": {},
   "source": [
    "The help system may come in handy when solving the following exercises ..."
   ]
  },
  {
   "cell_type": "markdown",
   "metadata": {},
   "source": [
    "## `np.arange()`\n",
    "\n",
    "We'll often need sequences of evenly spaced numbers, so let's create some.\n",
    "\n",
    "*Exercise:* Create a sequence of numbers with `np.arange()`, starting with 0 and up to (but not including) 6 with a step size of 1."
   ]
  },
  {
   "cell_type": "code",
   "execution_count": null,
   "metadata": {
    "collapsed": true,
    "jupyter": {
     "outputs_hidden": true
    }
   },
   "outputs": [],
   "source": []
  },
  {
   "cell_type": "markdown",
   "metadata": {},
   "source": [
    "*Exercise:* Create a sequence of numbers with `np.arange()`, starting with 0 and up to (but not including) 0.6 with a step size of 0.1."
   ]
  },
  {
   "cell_type": "code",
   "execution_count": null,
   "metadata": {
    "collapsed": true,
    "jupyter": {
     "outputs_hidden": true
    }
   },
   "outputs": [],
   "source": []
  },
  {
   "cell_type": "markdown",
   "metadata": {},
   "source": [
    "*Exercise:* Create a sequence of numbers with `np.arange()`, starting with 0.5 and up to (but not including) 1.1 with a step size of 0.1."
   ]
  },
  {
   "cell_type": "code",
   "execution_count": null,
   "metadata": {
    "collapsed": true,
    "jupyter": {
     "outputs_hidden": true
    }
   },
   "outputs": [],
   "source": []
  },
  {
   "cell_type": "markdown",
   "metadata": {},
   "source": [
    "The previous exercise is somewhat tricky.\n",
    "If you got it right, have a look at [arange considered harmful](http://nbviewer.ipython.org/github/mgeier/python-audio/blob/master/misc/arange.ipynb) for what you *could have* done wrong.\n",
    "If you got an unexpected result, have a look at [arange considered harmful](http://nbviewer.ipython.org/github/mgeier/python-audio/blob/master/misc/arange.ipynb) for an explanation.\n",
    "\n",
    "*Exercise:* Can you fix the problem?"
   ]
  },
  {
   "cell_type": "code",
   "execution_count": null,
   "metadata": {
    "collapsed": true,
    "jupyter": {
     "outputs_hidden": true
    }
   },
   "outputs": [],
   "source": []
  },
  {
   "cell_type": "markdown",
   "metadata": {},
   "source": [
    "What do we learn from all this?\n",
    "$\\Rightarrow$\n",
    "`np.arange()` is great, but use it only with integer step sizes!"
   ]
  },
  {
   "cell_type": "markdown",
   "metadata": {},
   "source": [
    "## `np.linspace()`\n",
    "\n",
    "Another, slightly different method to create a sequence of evenly spaced numbers is [numpy.linspace()](http://docs.scipy.org/doc/numpy/reference/generated/numpy.linspace.html).\n",
    "Have a look at the documentation."
   ]
  },
  {
   "cell_type": "code",
   "execution_count": 15,
   "metadata": {},
   "outputs": [
    {
     "data": {
      "text/plain": [
       "\u001b[1;31mSignature:\u001b[0m\n",
       "\u001b[0mnp\u001b[0m\u001b[1;33m.\u001b[0m\u001b[0mlinspace\u001b[0m\u001b[1;33m(\u001b[0m\u001b[1;33m\n",
       "\u001b[0m    \u001b[0mstart\u001b[0m\u001b[1;33m,\u001b[0m\u001b[1;33m\n",
       "\u001b[0m    \u001b[0mstop\u001b[0m\u001b[1;33m,\u001b[0m\u001b[1;33m\n",
       "\u001b[0m    \u001b[0mnum\u001b[0m\u001b[1;33m=\u001b[0m\u001b[1;36m50\u001b[0m\u001b[1;33m,\u001b[0m\u001b[1;33m\n",
       "\u001b[0m    \u001b[0mendpoint\u001b[0m\u001b[1;33m=\u001b[0m\u001b[1;32mTrue\u001b[0m\u001b[1;33m,\u001b[0m\u001b[1;33m\n",
       "\u001b[0m    \u001b[0mretstep\u001b[0m\u001b[1;33m=\u001b[0m\u001b[1;32mFalse\u001b[0m\u001b[1;33m,\u001b[0m\u001b[1;33m\n",
       "\u001b[0m    \u001b[0mdtype\u001b[0m\u001b[1;33m=\u001b[0m\u001b[1;32mNone\u001b[0m\u001b[1;33m,\u001b[0m\u001b[1;33m\n",
       "\u001b[0m    \u001b[0maxis\u001b[0m\u001b[1;33m=\u001b[0m\u001b[1;36m0\u001b[0m\u001b[1;33m,\u001b[0m\u001b[1;33m\n",
       "\u001b[0m\u001b[1;33m)\u001b[0m\u001b[1;33m\u001b[0m\u001b[1;33m\u001b[0m\u001b[0m\n",
       "\u001b[1;31mDocstring:\u001b[0m\n",
       "Return evenly spaced numbers over a specified interval.\n",
       "\n",
       "Returns `num` evenly spaced samples, calculated over the\n",
       "interval [`start`, `stop`].\n",
       "\n",
       "The endpoint of the interval can optionally be excluded.\n",
       "\n",
       ".. versionchanged:: 1.16.0\n",
       "    Non-scalar `start` and `stop` are now supported.\n",
       "\n",
       "Parameters\n",
       "----------\n",
       "start : array_like\n",
       "    The starting value of the sequence.\n",
       "stop : array_like\n",
       "    The end value of the sequence, unless `endpoint` is set to False.\n",
       "    In that case, the sequence consists of all but the last of ``num + 1``\n",
       "    evenly spaced samples, so that `stop` is excluded.  Note that the step\n",
       "    size changes when `endpoint` is False.\n",
       "num : int, optional\n",
       "    Number of samples to generate. Default is 50. Must be non-negative.\n",
       "endpoint : bool, optional\n",
       "    If True, `stop` is the last sample. Otherwise, it is not included.\n",
       "    Default is True.\n",
       "retstep : bool, optional\n",
       "    If True, return (`samples`, `step`), where `step` is the spacing\n",
       "    between samples.\n",
       "dtype : dtype, optional\n",
       "    The type of the output array.  If `dtype` is not given, infer the data\n",
       "    type from the other input arguments.\n",
       "\n",
       "    .. versionadded:: 1.9.0\n",
       "\n",
       "axis : int, optional\n",
       "    The axis in the result to store the samples.  Relevant only if start\n",
       "    or stop are array-like.  By default (0), the samples will be along a\n",
       "    new axis inserted at the beginning. Use -1 to get an axis at the end.\n",
       "\n",
       "    .. versionadded:: 1.16.0\n",
       "\n",
       "Returns\n",
       "-------\n",
       "samples : ndarray\n",
       "    There are `num` equally spaced samples in the closed interval\n",
       "    ``[start, stop]`` or the half-open interval ``[start, stop)``\n",
       "    (depending on whether `endpoint` is True or False).\n",
       "step : float, optional\n",
       "    Only returned if `retstep` is True\n",
       "\n",
       "    Size of spacing between samples.\n",
       "\n",
       "\n",
       "See Also\n",
       "--------\n",
       "arange : Similar to `linspace`, but uses a step size (instead of the\n",
       "         number of samples).\n",
       "geomspace : Similar to `linspace`, but with numbers spaced evenly on a log\n",
       "            scale (a geometric progression).\n",
       "logspace : Similar to `geomspace`, but with the end points specified as\n",
       "           logarithms.\n",
       "\n",
       "Examples\n",
       "--------\n",
       ">>> np.linspace(2.0, 3.0, num=5)\n",
       "array([ 2.  ,  2.25,  2.5 ,  2.75,  3.  ])\n",
       ">>> np.linspace(2.0, 3.0, num=5, endpoint=False)\n",
       "array([ 2. ,  2.2,  2.4,  2.6,  2.8])\n",
       ">>> np.linspace(2.0, 3.0, num=5, retstep=True)\n",
       "(array([ 2.  ,  2.25,  2.5 ,  2.75,  3.  ]), 0.25)\n",
       "\n",
       "Graphical illustration:\n",
       "\n",
       ">>> import matplotlib.pyplot as plt\n",
       ">>> N = 8\n",
       ">>> y = np.zeros(N)\n",
       ">>> x1 = np.linspace(0, 10, N, endpoint=True)\n",
       ">>> x2 = np.linspace(0, 10, N, endpoint=False)\n",
       ">>> plt.plot(x1, y, 'o')\n",
       "[<matplotlib.lines.Line2D object at 0x...>]\n",
       ">>> plt.plot(x2, y + 0.5, 'o')\n",
       "[<matplotlib.lines.Line2D object at 0x...>]\n",
       ">>> plt.ylim([-0.5, 1])\n",
       "(-0.5, 1)\n",
       ">>> plt.show()\n",
       "\u001b[1;31mFile:\u001b[0m      c:\\users\\chris\\anaconda3\\lib\\site-packages\\numpy\\core\\function_base.py\n",
       "\u001b[1;31mType:\u001b[0m      function\n"
      ]
     },
     "metadata": {},
     "output_type": "display_data"
    }
   ],
   "source": [
    "np.linspace?"
   ]
  },
  {
   "cell_type": "markdown",
   "metadata": {},
   "source": [
    "*Exercise:* Create a sequence of numbers with `np.linspace()`, starting with 0 and up to (including) 6 with a step size of 1."
   ]
  },
  {
   "cell_type": "code",
   "execution_count": null,
   "metadata": {
    "collapsed": true,
    "jupyter": {
     "outputs_hidden": true
    }
   },
   "outputs": [],
   "source": []
  },
  {
   "cell_type": "markdown",
   "metadata": {},
   "source": [
    "Note that the resulting array will have a *floating point* data type even if all inputs (and the step size) are integers.\n",
    "This is not the case with `np.arange()`.\n",
    "\n",
    "*Exercise:* Create a sequence of numbers with `np.linspace()`, starting with 0 and up to (but not including) 6 with a step size of 1."
   ]
  },
  {
   "cell_type": "code",
   "execution_count": null,
   "metadata": {
    "collapsed": true,
    "jupyter": {
     "outputs_hidden": true
    }
   },
   "outputs": [],
   "source": []
  },
  {
   "cell_type": "markdown",
   "metadata": {},
   "source": [
    "*Exercise:* Create a sequence of numbers with `np.linspace()`, starting with 0 and up to (but not including) 0.6 with a step size of 0.1."
   ]
  },
  {
   "cell_type": "code",
   "execution_count": null,
   "metadata": {
    "collapsed": true,
    "jupyter": {
     "outputs_hidden": true
    }
   },
   "outputs": [],
   "source": []
  },
  {
   "cell_type": "markdown",
   "metadata": {},
   "source": [
    "*Exercise:* Create a sequence of numbers with `np.linspace()`, starting with 0.5 and up to (but not including) 1.1 with a step size of 0.1."
   ]
  },
  {
   "cell_type": "code",
   "execution_count": null,
   "metadata": {
    "collapsed": true,
    "jupyter": {
     "outputs_hidden": true
    }
   },
   "outputs": [],
   "source": []
  },
  {
   "cell_type": "markdown",
   "metadata": {},
   "source": [
    "Note that `np.linspace()` doesn't have the above-mentioned problem we had with `np.arange()`."
   ]
  },
  {
   "cell_type": "markdown",
   "metadata": {},
   "source": [
    "## `np.arange()` vs. `np.linspace()`\n",
    "\n",
    "*Exercise:* Find some examples where `np.array()` works better and some where `np.linspace()` should be preferred."
   ]
  },
  {
   "cell_type": "code",
   "execution_count": null,
   "metadata": {},
   "outputs": [],
   "source": []
  },
  {
   "cell_type": "markdown",
   "metadata": {},
   "source": [
    "## Creating a Sine Tone\n",
    "\n",
    "Now let's create our first audio signal, shall we?\n",
    "\n",
    "Let's generate a signal using the equation $y(t) = A\\sin(\\omega t)$ with $\\omega = 2\\pi f$ and $f$ being the frequency of the sine tone.\n",
    "The maximum signal amplitude is given by $A$.\n",
    "The variable $t$ obviously represents time.\n",
    "Let's create a digital signal with evenly spaced values for $t$.\n",
    "\n",
    "We can use the function [numpy.sin()](http://docs.scipy.org/doc/numpy/reference/generated/numpy.sin.html) to create a sine tone. Let's look at its help text first."
   ]
  },
  {
   "cell_type": "code",
   "execution_count": 11,
   "metadata": {},
   "outputs": [
    {
     "data": {
      "text/plain": [
       "\u001b[1;31mCall signature:\u001b[0m  \u001b[0mnp\u001b[0m\u001b[1;33m.\u001b[0m\u001b[0msin\u001b[0m\u001b[1;33m(\u001b[0m\u001b[1;33m*\u001b[0m\u001b[0margs\u001b[0m\u001b[1;33m,\u001b[0m \u001b[1;33m**\u001b[0m\u001b[0mkwargs\u001b[0m\u001b[1;33m)\u001b[0m\u001b[1;33m\u001b[0m\u001b[1;33m\u001b[0m\u001b[0m\n",
       "\u001b[1;31mType:\u001b[0m            ufunc\n",
       "\u001b[1;31mString form:\u001b[0m     <ufunc 'sin'>\n",
       "\u001b[1;31mFile:\u001b[0m            c:\\users\\chris\\anaconda3\\lib\\site-packages\\numpy\\__init__.py\n",
       "\u001b[1;31mDocstring:\u001b[0m      \n",
       "sin(x, /, out=None, *, where=True, casting='same_kind', order='K', dtype=None, subok=True[, signature, extobj])\n",
       "\n",
       "Trigonometric sine, element-wise.\n",
       "\n",
       "Parameters\n",
       "----------\n",
       "x : array_like\n",
       "    Angle, in radians (:math:`2 \\pi` rad equals 360 degrees).\n",
       "out : ndarray, None, or tuple of ndarray and None, optional\n",
       "    A location into which the result is stored. If provided, it must have\n",
       "    a shape that the inputs broadcast to. If not provided or `None`,\n",
       "    a freshly-allocated array is returned. A tuple (possible only as a\n",
       "    keyword argument) must have length equal to the number of outputs.\n",
       "where : array_like, optional\n",
       "    Values of True indicate to calculate the ufunc at that position, values\n",
       "    of False indicate to leave the value in the output alone.\n",
       "**kwargs\n",
       "    For other keyword-only arguments, see the\n",
       "    :ref:`ufunc docs <ufuncs.kwargs>`.\n",
       "\n",
       "Returns\n",
       "-------\n",
       "y : array_like\n",
       "    The sine of each element of x.\n",
       "    This is a scalar if `x` is a scalar.\n",
       "\n",
       "See Also\n",
       "--------\n",
       "arcsin, sinh, cos\n",
       "\n",
       "Notes\n",
       "-----\n",
       "The sine is one of the fundamental functions of trigonometry (the\n",
       "mathematical study of triangles).  Consider a circle of radius 1\n",
       "centered on the origin.  A ray comes in from the :math:`+x` axis, makes\n",
       "an angle at the origin (measured counter-clockwise from that axis), and\n",
       "departs from the origin.  The :math:`y` coordinate of the outgoing\n",
       "ray's intersection with the unit circle is the sine of that angle.  It\n",
       "ranges from -1 for :math:`x=3\\pi / 2` to +1 for :math:`\\pi / 2.`  The\n",
       "function has zeroes where the angle is a multiple of :math:`\\pi`.\n",
       "Sines of angles between :math:`\\pi` and :math:`2\\pi` are negative.\n",
       "The numerous properties of the sine and related functions are included\n",
       "in any standard trigonometry text.\n",
       "\n",
       "Examples\n",
       "--------\n",
       "Print sine of one angle:\n",
       "\n",
       ">>> np.sin(np.pi/2.)\n",
       "1.0\n",
       "\n",
       "Print sines of an array of angles given in degrees:\n",
       "\n",
       ">>> np.sin(np.array((0., 30., 45., 60., 90.)) * np.pi / 180. )\n",
       "array([ 0.        ,  0.5       ,  0.70710678,  0.8660254 ,  1.        ])\n",
       "\n",
       "Plot the sine function:\n",
       "\n",
       ">>> import matplotlib.pylab as plt\n",
       ">>> x = np.linspace(-np.pi, np.pi, 201)\n",
       ">>> plt.plot(x, np.sin(x))\n",
       ">>> plt.xlabel('Angle [rad]')\n",
       ">>> plt.ylabel('sin(x)')\n",
       ">>> plt.axis('tight')\n",
       ">>> plt.show()\n",
       "\u001b[1;31mClass docstring:\u001b[0m\n",
       "Functions that operate element by element on whole arrays.\n",
       "\n",
       "To see the documentation for a specific ufunc, use `info`.  For\n",
       "example, ``np.info(np.sin)``.  Because ufuncs are written in C\n",
       "(for speed) and linked into Python with NumPy's ufunc facility,\n",
       "Python's help() function finds this page whenever help() is called\n",
       "on a ufunc.\n",
       "\n",
       "A detailed explanation of ufuncs can be found in the docs for :ref:`ufuncs`.\n",
       "\n",
       "Calling ufuncs:\n",
       "===============\n",
       "\n",
       "op(*x[, out], where=True, **kwargs)\n",
       "Apply `op` to the arguments `*x` elementwise, broadcasting the arguments.\n",
       "\n",
       "The broadcasting rules are:\n",
       "\n",
       "* Dimensions of length 1 may be prepended to either array.\n",
       "* Arrays may be repeated along dimensions of length 1.\n",
       "\n",
       "Parameters\n",
       "----------\n",
       "*x : array_like\n",
       "    Input arrays.\n",
       "out : ndarray, None, or tuple of ndarray and None, optional\n",
       "    Alternate array object(s) in which to put the result; if provided, it\n",
       "    must have a shape that the inputs broadcast to. A tuple of arrays\n",
       "    (possible only as a keyword argument) must have length equal to the\n",
       "    number of outputs; use `None` for uninitialized outputs to be\n",
       "    allocated by the ufunc.\n",
       "where : array_like, optional\n",
       "    Values of True indicate to calculate the ufunc at that position, values\n",
       "    of False indicate to leave the value in the output alone.  Note that if\n",
       "    an uninitialized return array is created via the default ``out=None``,\n",
       "    then the elements where the values are False will remain uninitialized.\n",
       "**kwargs\n",
       "    For other keyword-only arguments, see the :ref:`ufunc docs <ufuncs.kwargs>`.\n",
       "\n",
       "Returns\n",
       "-------\n",
       "r : ndarray or tuple of ndarray\n",
       "    `r` will have the shape that the arrays in `x` broadcast to; if `out` is\n",
       "    provided, it will be returned. If not, `r` will be allocated and\n",
       "    may contain uninitialized values. If the function has more than one\n",
       "    output, then the result will be a tuple of arrays.\n"
      ]
     },
     "metadata": {},
     "output_type": "display_data"
    }
   ],
   "source": [
    "np.sin?"
   ]
  },
  {
   "cell_type": "markdown",
   "metadata": {},
   "source": [
    "Now that we know which function to call, we need appropriate input.\n",
    "And that's where our sequences of evenly spaced values from above come into play.\n",
    "\n",
    "The nice thing about NumPy functions like `np.sin()` is that they can operate on whole arrays at once, so it is not necessary to call the function on each single value separately.\n",
    "Therefore, we can store the whole range of values for our time variable $t$ in one array.\n",
    "\n",
    "According to the equation, each value of $t$ has to be multiplied with (the constant) $\\omega$.\n",
    "That's another nice thing about NumPy: we don't have to multiply every value of the array $t$ separately with $\\omega$, we can multiply the whole array with a scalar at once, and NumPy does the element-wise multiplication for us.\n",
    "This is called [\"broadcasting\"](http://docs.scipy.org/doc/numpy/user/basics.broadcasting.html), in case you stumble upon that word in the docs.\n",
    "The array returned by `np.sin()` can (again using broadcasting) be multiplied by the constant scalar $A$ to get the final result.\n",
    "\n",
    "The only thing that's still missing is $\\pi$, but that's simple:"
   ]
  },
  {
   "cell_type": "code",
   "execution_count": 12,
   "metadata": {},
   "outputs": [
    {
     "data": {
      "text/plain": [
       "3.141592653589793"
      ]
     },
     "execution_count": 12,
     "metadata": {},
     "output_type": "execute_result"
    }
   ],
   "source": [
    "np.pi"
   ]
  },
  {
   "cell_type": "markdown",
   "metadata": {},
   "source": [
    "*Exercise:* Create a sine tone with a frequency of 500 Hz, a duration of 1 second and an amplitude of 0.3.\n",
    "Use a sampling rate of 44.1 kHz.\n",
    " The first value of $t$ should be 0."
   ]
  },
  {
   "cell_type": "code",
   "execution_count": 16,
   "metadata": {},
   "outputs": [],
   "source": [
    "dur = 1  # duration in seconds\n",
    "amp = 0.3  # maximum amplitude\n",
    "freq = 500  # frequency of the sine tone in Hertz\n",
    "fs = 44100  # sampling frequency in Hertz\n",
    "\n",
    "t = np.linspace(0,1,fs)\n",
    "y = amp*np.sin(2*np.pi*freq*t)\n",
    "# y = ??? * np.sin(??? * t)"
   ]
  },
  {
   "cell_type": "markdown",
   "metadata": {},
   "source": [
    "What happens if `dur` is not an integer?  \n",
    "What happens if `dur` is not an integer multiple of `1/fs`?\n",
    "\n",
    "*Exercise:* Try if your code still works in those cases."
   ]
  },
  {
   "cell_type": "code",
   "execution_count": null,
   "metadata": {
    "collapsed": true,
    "jupyter": {
     "outputs_hidden": true
    }
   },
   "outputs": [],
   "source": []
  },
  {
   "cell_type": "markdown",
   "metadata": {},
   "source": [
    "*Exercise:* Use the [built-in len() function](https://docs.python.org/3/library/functions.html#len) to find out how many samples the resulting signal has.\n",
    "How many is it supposed to have?"
   ]
  },
  {
   "cell_type": "code",
   "execution_count": null,
   "metadata": {
    "collapsed": true,
    "jupyter": {
     "outputs_hidden": true
    }
   },
   "outputs": [],
   "source": []
  },
  {
   "cell_type": "markdown",
   "metadata": {},
   "source": [
    "## Plotting\n",
    "\n",
    "Python and NumPy cannot plot by themselves, they need some help from [matplotlib](http://matplotlib.org/)."
   ]
  },
  {
   "cell_type": "code",
   "execution_count": 19,
   "metadata": {},
   "outputs": [],
   "source": [
    "import matplotlib.pyplot as plt\n",
    "%matplotlib inline"
   ]
  },
  {
   "cell_type": "markdown",
   "metadata": {},
   "source": [
    "This enables inline plots which are saved (as static images) within the notebook.\n",
    "\n",
    "Now we can plot the data from our array:"
   ]
  },
  {
   "cell_type": "code",
   "execution_count": 20,
   "metadata": {},
   "outputs": [
    {
     "data": {
      "text/plain": [
       "[<matplotlib.lines.Line2D at 0x2341a220248>]"
      ]
     },
     "execution_count": 20,
     "metadata": {},
     "output_type": "execute_result"
    },
    {
     "data": {
      "image/png": "[encoded data removed]",
      "text/plain": [
       "<Figure size 432x288 with 1 Axes>"
      ]
     },
     "metadata": {
      "needs_background": "light"
     },
     "output_type": "display_data"
    }
   ],
   "source": [
    "plt.plot(y)"
   ]
  },
  {
   "cell_type": "markdown",
   "metadata": {},
   "source": [
    "You can suppress printing the information of the matplotlib object by terminating the last statement of the cell with a semicolon. Try it!"
   ]
  },
  {
   "cell_type": "markdown",
   "metadata": {},
   "source": [
    "*Exercise:* Zoom into the plot so that only one period of the sine tone is visible. Unfortunately, it is not possible yet to interact with inline matplotlib plots - you have to use plotting commands like `plt.plot(y[:300]);` to only show a part (the first 300 samples in this case) of the signal. Alternatively you can use commands like `set_xlim([xmin, xmax])` to modify the displayed window."
   ]
  },
  {
   "cell_type": "markdown",
   "metadata": {},
   "source": [
    "Anything you plot now, will be shown right below the code cell.\n",
    "Let's only plot a part of the signal this time."
   ]
  },
  {
   "cell_type": "code",
   "execution_count": null,
   "metadata": {},
   "outputs": [],
   "source": [
    "plt.plot(y[:300]);"
   ]
  },
  {
   "cell_type": "markdown",
   "metadata": {},
   "source": [
    "Inline plots are saved (as images) within the notebook.\n",
    "\n",
    "If you want to use the plot window again, just do:"
   ]
  },
  {
   "cell_type": "code",
   "execution_count": null,
   "metadata": {
    "collapsed": true,
    "jupyter": {
     "outputs_hidden": true
    }
   },
   "outputs": [],
   "source": [
    "%matplotlib"
   ]
  },
  {
   "cell_type": "markdown",
   "metadata": {},
   "source": [
    "As always, for more info:"
   ]
  },
  {
   "cell_type": "code",
   "execution_count": null,
   "metadata": {
    "collapsed": true,
    "jupyter": {
     "outputs_hidden": true
    }
   },
   "outputs": [],
   "source": [
    "%matplotlib?"
   ]
  },
  {
   "cell_type": "markdown",
   "metadata": {},
   "source": [
    "There is a similar \"magic\" command which may come in handy for quickly trying stuff without having to type all those imports and all the `np.` and `plt.` prefixes:"
   ]
  },
  {
   "cell_type": "code",
   "execution_count": null,
   "metadata": {
    "collapsed": true,
    "jupyter": {
     "outputs_hidden": true
    }
   },
   "outputs": [],
   "source": [
    "%pylab?"
   ]
  },
  {
   "cell_type": "markdown",
   "metadata": {},
   "source": [
    "However, this is not recommended for \"serious\" notebooks, because it makes the code harder to read and it may lead to confusion between functions with the same name (but different semantics) from different namespaces (`sum()` vs. `np.sum()`, `max()` vs. `np.max()`, `all()` vs. `np.all()` etc.)."
   ]
  },
  {
   "cell_type": "markdown",
   "metadata": {},
   "source": [
    "## Tweaking the Plot\n",
    "\n",
    "Let's look again at our plot."
   ]
  },
  {
   "cell_type": "code",
   "execution_count": null,
   "metadata": {},
   "outputs": [],
   "source": [
    "plt.plot(y);"
   ]
  },
  {
   "cell_type": "markdown",
   "metadata": {},
   "source": [
    "Since we passed only a single array to the `plot()` function, the x-axis shows the sample index from 0 to the length of the signal in samples (minus one).\n",
    "It may be more meaningful to show the time in seconds."
   ]
  },
  {
   "cell_type": "markdown",
   "metadata": {},
   "source": [
    "If we pass two arrays to the `plot()` function, the first one defines the mapping from sample indices to the actual values displayed on the x-axis, the second one specifies the corresponding y values. Or simply: plot y vs t."
   ]
  },
  {
   "cell_type": "code",
   "execution_count": 21,
   "metadata": {},
   "outputs": [
    {
     "data": {
      "image/png": "[encoded data removed]",
      "text/plain": [
       "<Figure size 432x288 with 1 Axes>"
      ]
     },
     "metadata": {
      "needs_background": "light"
     },
     "output_type": "display_data"
    }
   ],
   "source": [
    "plt.plot(t, y);"
   ]
  },
  {
   "cell_type": "markdown",
   "metadata": {},
   "source": [
    "Good, now the x-axis shows the time in seconds.\n",
    "Let's create axis labels so that everyone knows and display only a part of the signal:"
   ]
  },
  {
   "cell_type": "code",
   "execution_count": 27,
   "metadata": {},
   "outputs": [
    {
     "data": {
      "image/png": "[encoded data removed]",
      "text/plain": [
       "<Figure size 432x288 with 1 Axes>"
      ]
     },
     "metadata": {
      "needs_background": "light"
     },
     "output_type": "display_data"
    }
   ],
   "source": [
    "plt.plot(t, y);\n",
    "plt.xlabel(\"Time / Seconds\")\n",
    "plt.ylabel(\"Amplitude\")\n",
    "plt.xlim([0.1,0.11])\n",
    "plt.title(\"Sine Tone with {0} Hz\".format(freq)); # pass the value of `freq` to the title string"
   ]
  },
  {
   "cell_type": "markdown",
   "metadata": {},
   "source": [
    "The syntax above is the \"Matlab API\", created to pull over students from the dark side to Python. The object oriented API is more flexible and more consistent, we will use it in this course:"
   ]
  },
  {
   "cell_type": "code",
   "execution_count": 31,
   "metadata": {},
   "outputs": [
    {
     "data": {
      "image/png": "[encoded data removed]",
      "text/plain": [
       "<Figure size 432x288 with 1 Axes>"
      ]
     },
     "metadata": {
      "needs_background": "light"
     },
     "output_type": "display_data"
    }
   ],
   "source": [
    "fig, ax = plt.subplots() # create figure and axis objects\n",
    "ax.plot(t,y) # use plot method of axis object\n",
    "ax.grid(True) # enable axis grid\n",
    "ax.set_xlabel(\"Time / Seconds\") # yes, this is a setter - try the corresponding getter method\n",
    "# Next line contains LaTeX formatting between $$. String needs to be declared as \"raw\" (r) to avoid interpreting \\r as a carriage return\n",
    "ax.set_ylabel(r\"Amplitude $\\rightarrow$\") \n",
    "ax.set_xlim([0.1,0.11])\n",
    "ax.set_title(\"Sine Tone with {0:.2f} Hz\".format(freq)); # select print format of the frequency"
   ]
  },
  {
   "cell_type": "markdown",
   "metadata": {},
   "source": [
    "For more information, have a look at [Getting Started With `matplotlib`](http://nbviewer.ipython.org/github/mgeier/python-audio/blob/master/plotting/matplotlib.ipynb)."
   ]
  },
  {
   "cell_type": "markdown",
   "metadata": {},
   "source": [
    "## Listening to the Signal\n",
    "\n",
    "Python cannot play audio on its own, typical sound libraries like those shown at [this overview page](http://nbviewer.ipython.org/github/mgeier/python-audio/blob/master/playback-recording/index.ipynb) don't work in the browser. Fortunately, Jupyter can use most of the nice features of modern browsers (HTML5!) like audio and video rendering.\n",
    "\n",
    "We need to import the Audio and display class for this and we repeat the definition of t and y (wouldn't be necessary but makes modifications easier):"
   ]
  },
  {
   "cell_type": "code",
   "execution_count": 35,
   "metadata": {},
   "outputs": [
    {
     "data": {
      "text/html": [
       "\n",
       "                <audio  controls=\"controls\" >\n",
       "                    <source src=\"data:audio/wav;base64,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\" type=\"audio/wav\" />\n",
       "                    Your browser does not support the audio element.\n",
       "                </audio>\n",
       "              "
      ],
      "text/plain": [
       "<IPython.lib.display.Audio object>"
      ]
     },
     "metadata": {},
     "output_type": "display_data"
    }
   ],
   "source": [
    "from IPython.display import Audio, display\n",
    "t = np.linspace(0,1,fs)\n",
    "y = amp*np.sin(2*np.pi*freq*t)\n",
    "display(Audio(data=y, rate=fs))"
   ]
  },
  {
   "cell_type": "markdown",
   "metadata": {},
   "source": [
    "The Audio method is very powerful, check the documentation at https://ipython.readthedocs.io/en/stable/api/generated/IPython.display.html, you can also render files or 2D-arrays (stereo) or files.\n",
    "\n",
    "Data is normalized before it is played, try for yourself whether you hear a difference when varying the amplitude.\n",
    "\n",
    "*Exercise:* It's possible that you hear clicks in the beginning/end (if not, exchange sin() by a cos() function). What could be the reason for that? How could that be mitigated?"
   ]
  },
  {
   "cell_type": "markdown",
   "metadata": {},
   "source": [
    "The clicks can be really annoying, it would be great if we could get rid of them automatically each time we play some signal.\n",
    "To achieve that, let's create our own personal playback function (we'll learn more about creating functions in a minute ...):"
   ]
  },
  {
   "cell_type": "markdown",
   "metadata": {},
   "source": [
    "## Writing the Signal to a File\n",
    "\n",
    "It's possible to write WAV files with the [wave module](https://docs.python.org/3/library/wave.html) from Python's standard library.\n",
    "\n",
    "We'll try this in a later notebook."
   ]
  },
  {
   "cell_type": "markdown",
   "metadata": {},
   "source": [
    "## Creating a Function\n",
    "\n",
    "Generating our sine tone wasn't very complicated, but let's still create a function that does all the steps for us.\n",
    "We can then use this function repeatedly to create several different sine tones.\n",
    "\n",
    "*Exercise:* Create a function named `mysine()` based on the template below."
   ]
  },
  {
   "cell_type": "code",
   "execution_count": null,
   "metadata": {
    "collapsed": true,
    "jupyter": {
     "outputs_hidden": true
    }
   },
   "outputs": [],
   "source": [
    "def mysine(frequency, amplitude, duration):\n",
    "    \"\"\"Generate sine tone with the given parameters @ 44.1 kHz.\"\"\"\n",
    "    samplerate = 44100\n",
    "    \n",
    "    # add your code here!\n",
    "\n",
    "    return ...  # ???"
   ]
  },
  {
   "cell_type": "markdown",
   "metadata": {},
   "source": [
    "Note the indentation of 4 spaces.\n",
    "Every statement inside the function must start with the same indentation (except if you use statements which themselves need additional indentation, like a `for` loop).\n",
    "\n",
    "The string below the first line is called \"docstring\".\n",
    "Every function should have that.\n",
    "The docstring can be shown with `help(mysine)` or, as we've seen before, by appending a question mark to the name (the former works in all Python interpreters, the latter only in Jupyter/IPython):"
   ]
  },
  {
   "cell_type": "code",
   "execution_count": null,
   "metadata": {
    "collapsed": true,
    "jupyter": {
     "outputs_hidden": true
    }
   },
   "outputs": [],
   "source": [
    "mysine?"
   ]
  },
  {
   "cell_type": "markdown",
   "metadata": {},
   "source": [
    "*Exercise:* See what happens if you use two question marks."
   ]
  },
  {
   "cell_type": "code",
   "execution_count": null,
   "metadata": {
    "collapsed": true,
    "jupyter": {
     "outputs_hidden": true
    }
   },
   "outputs": [],
   "source": []
  },
  {
   "cell_type": "markdown",
   "metadata": {},
   "source": [
    "*Exercise:* Check if your function works by calling it with a few different input values and plotting the results."
   ]
  },
  {
   "cell_type": "code",
   "execution_count": null,
   "metadata": {
    "collapsed": true,
    "jupyter": {
     "outputs_hidden": true
    }
   },
   "outputs": [],
   "source": []
  },
  {
   "cell_type": "markdown",
   "metadata": {},
   "source": [
    "## Creating another Function (for Plotting)\n",
    "\n",
    "*Exercise:* Create a function that takes a signal (as a NumPy array) and creates a plot with axis labels and with the x-axis showing the time in seconds.\n",
    "Like before, let's use a fixed sampling rate of 44.1 kHz."
   ]
  },
  {
   "cell_type": "code",
   "execution_count": null,
   "metadata": {
    "collapsed": true,
    "jupyter": {
     "outputs_hidden": true
    }
   },
   "outputs": [],
   "source": []
  },
  {
   "cell_type": "markdown",
   "metadata": {},
   "source": [
    "*Exercise:* Using our two functions, create a sine tone and plot it, all in one line."
   ]
  },
  {
   "cell_type": "code",
   "execution_count": null,
   "metadata": {
    "collapsed": true,
    "jupyter": {
     "outputs_hidden": true
    }
   },
   "outputs": [],
   "source": []
  },
  {
   "cell_type": "markdown",
   "metadata": {},
   "source": [
    "## `for` Loops\n",
    "\n",
    "In the next exercise, you'll have to do very similar things multiple times in a row.\n",
    "That sounds like a job for a `for` loop.\n",
    "\n",
    "That's how `for` loops work in Python:"
   ]
  },
  {
   "cell_type": "code",
   "execution_count": null,
   "metadata": {
    "collapsed": true,
    "jupyter": {
     "outputs_hidden": true
    }
   },
   "outputs": [],
   "source": [
    "for i in \"one\", 2, \"III\":\n",
    "    # code within the loop body uses 4 spaces for indentation\n",
    "    # ...\n",
    "    print(\"i:\", i)\n",
    "    # ...\n",
    "# de-indent to continue after the loop\n",
    "print(\"finished!\")"
   ]
  },
  {
   "cell_type": "markdown",
   "metadata": {},
   "source": [
    "*Exercise:* Use a `for` loop to call the function `mysine()` three times with frequencies of your choice and store the results in three WAV files that have the respective frequencies in their file names.\n",
    "Use [the format method of `str` objects](https://docs.python.org/3/library/stdtypes.html#str.format) to create the file names.\n",
    "Don't forget to use `tools.fade()`."
   ]
  },
  {
   "cell_type": "code",
   "execution_count": null,
   "metadata": {
    "collapsed": true,
    "jupyter": {
     "outputs_hidden": true
    }
   },
   "outputs": [],
   "source": []
  },
  {
   "cell_type": "markdown",
   "metadata": {},
   "source": [
    "Listen to the WAV files to check if everything is OK."
   ]
  },
  {
   "cell_type": "markdown",
   "metadata": {},
   "source": [
    "## Signal Processing with the *SciPy* Library\n",
    "\n",
    "The name \"SciPy\" stands for two slightly different things:\n",
    "\n",
    "* The [*Scientific Python Ecosystem*](http://scipy.org/), consisting of [NumPy](http://numpy.scipy.org/), [matplotlib](http://matplotlib.org/), [Jupyter](http://jupyter.org/)/[IPython](http://ipython.org/), the [SciPy library](http://scipy.org/scipylib/) and many more libraries and tools.\n",
    "\n",
    "* The [SciPy library](http://docs.scipy.org/doc/scipy/reference/tutorial/general.html), which in turn is part of the *Scientific Python Ecosystem*.\n",
    "\n",
    "We were using the former already, now let's use the latter:"
   ]
  },
  {
   "cell_type": "code",
   "execution_count": null,
   "metadata": {
    "collapsed": true,
    "jupyter": {
     "outputs_hidden": true
    }
   },
   "outputs": [],
   "source": [
    "from scipy import signal"
   ]
  },
  {
   "cell_type": "markdown",
   "metadata": {},
   "source": [
    "This imports SciPy's [signal processing module](http://docs.scipy.org/doc/scipy/reference/tutorial/signal.html).\n",
    "\n",
    "Unlike \"`import numpy as np`\" we *never* import the whole `scipy` namespace.\n",
    "The SciPy package is a collection of [many sub-packages and sub-modules](http://docs.scipy.org/doc/scipy/reference/); we only import those that we need.\n",
    "\n",
    "You should *always* use one of those forms:\n",
    "\n",
    "    from scipy import foobar\n",
    "    import scipy.foobar as foo\n",
    "    from scipy.foobar import foofun\n",
    "\n",
    "... and *never* one of those:\n",
    "\n",
    "<pre style=\"color:gray\">\n",
    "import scipy\n",
    "from scipy import foofun\n",
    "</pre>\n",
    "\n",
    "... where `foobar` is the name of a sub-package/sub-module and `foofun` is the name of a function.\n",
    "\n",
    "*Exercise:* Use the SciPy function [signal.chirp()](http://docs.scipy.org/doc/scipy/reference/generated/scipy.signal.chirp.html) to create a linear sine sweep with an initial frequency of 100 Hz, a final frequency of 5000 Hz, with a length of 2 seconds and with an amplitude of 0.2.\n",
    "Listen to the results."
   ]
  },
  {
   "cell_type": "code",
   "execution_count": null,
   "metadata": {
    "collapsed": true,
    "jupyter": {
     "outputs_hidden": true
    }
   },
   "outputs": [],
   "source": []
  },
  {
   "cell_type": "markdown",
   "metadata": {},
   "source": [
    "*Exercise:* Change the sweep type from 'linear' to 'log' and listen to the results."
   ]
  },
  {
   "cell_type": "code",
   "execution_count": null,
   "metadata": {
    "collapsed": true,
    "jupyter": {
     "outputs_hidden": true
    }
   },
   "outputs": [],
   "source": []
  },
  {
   "cell_type": "markdown",
   "metadata": {},
   "source": [
    "We'll see more of SciPy in later exercises, stay tuned!"
   ]
  },
  {
   "cell_type": "markdown",
   "metadata": {},
   "source": [
    "## Superposition of Signals\n",
    "\n",
    "Let's use our function `mysine()` from above to create a sine tone.\n",
    "You can use the given parameters or change them to something else, if you prefer:"
   ]
  },
  {
   "cell_type": "code",
   "execution_count": null,
   "metadata": {
    "collapsed": true,
    "jupyter": {
     "outputs_hidden": true
    }
   },
   "outputs": [],
   "source": [
    "sinetone = mysine(frequency=500, amplitude=0.3, duration=1.5)"
   ]
  },
  {
   "cell_type": "markdown",
   "metadata": {},
   "source": [
    "*Exercise:* Create a noise signal of the same length using the function [numpy.random.normal()](http://docs.scipy.org/doc/numpy/reference/generated/numpy.random.normal.html).\n",
    "Use `scale=0.1` or at least something smaller than the amplitude of the sine tone."
   ]
  },
  {
   "cell_type": "code",
   "execution_count": null,
   "metadata": {
    "collapsed": true,
    "jupyter": {
     "outputs_hidden": true
    }
   },
   "outputs": [],
   "source": []
  },
  {
   "cell_type": "markdown",
   "metadata": {},
   "source": [
    "*Exercise:* Create the superposition of the two signals and listen to it.\n",
    "Plot it, too."
   ]
  },
  {
   "cell_type": "code",
   "execution_count": null,
   "metadata": {
    "collapsed": true,
    "jupyter": {
     "outputs_hidden": true
    }
   },
   "outputs": [],
   "source": []
  },
  {
   "cell_type": "markdown",
   "metadata": {},
   "source": [
    "*Exercise:* Use the function `mysine()` (two times) to create a superposition of a sine tone with a frequency of 500 Hz and another sine tone with a frequency of 507 Hz - each with an `amplitude=0.2`.\n",
    "What do you notice when listening to the signal?"
   ]
  },
  {
   "cell_type": "code",
   "execution_count": null,
   "metadata": {
    "collapsed": true,
    "jupyter": {
     "outputs_hidden": true
    }
   },
   "outputs": [],
   "source": []
  },
  {
   "cell_type": "markdown",
   "metadata": {},
   "source": [
    "*Exercise:* Plot the signal and try to *see* what you *heard* before."
   ]
  },
  {
   "cell_type": "code",
   "execution_count": null,
   "metadata": {
    "collapsed": true,
    "jupyter": {
     "outputs_hidden": true
    }
   },
   "outputs": [],
   "source": []
  },
  {
   "cell_type": "markdown",
   "metadata": {},
   "source": [
    "## More Than One Channel $\\to$ Two-Dimensional Arrays\n",
    "\n",
    "Up to now, we were only using audio signals with a single channel.\n",
    "Those could be easily stored in a one-dimensional NumPy array.\n",
    "\n",
    "To store more than one channel, we can use a two-dimensional array.\n",
    "Two-dimensional arrays somewhat look like lists of lists, but internally, they are still stored in one contiguous area of memory.\n",
    "\n",
    "There are several functions for creating arrays which allow to specify the number of rows and columns, e.g. [numpy.zeros()](http://docs.scipy.org/doc/numpy/reference/generated/numpy.zeros.html) and [numpy.ones()](http://docs.scipy.org/doc/numpy/reference/generated/numpy.ones.html)."
   ]
  },
  {
   "cell_type": "code",
   "execution_count": null,
   "metadata": {
    "collapsed": true,
    "jupyter": {
     "outputs_hidden": true
    }
   },
   "outputs": [],
   "source": [
    "np.zeros((4, 2))"
   ]
  },
  {
   "cell_type": "code",
   "execution_count": null,
   "metadata": {
    "collapsed": true,
    "jupyter": {
     "outputs_hidden": true
    }
   },
   "outputs": [],
   "source": [
    "np.ones((4, 2))"
   ]
  },
  {
   "cell_type": "markdown",
   "metadata": {},
   "source": [
    "Arrays can also be created from lists of lists (a.k.a. *nested* lists) with [numpy.array()](http://docs.scipy.org/doc/numpy/reference/generated/numpy.array.html):"
   ]
  },
  {
   "cell_type": "code",
   "execution_count": null,
   "metadata": {
    "collapsed": true,
    "jupyter": {
     "outputs_hidden": true
    }
   },
   "outputs": [],
   "source": [
    "np.array([[.1, .2], [.3, .4], [.5, .6], [.7, .8]])"
   ]
  },
  {
   "cell_type": "markdown",
   "metadata": {},
   "source": [
    "Note that the inner lists provide the individual rows of the array.\n",
    "\n",
    "Two-dimensional arrays can also be created by concatenating a list of one-dimensional arrays (or lists) by columns using [numpy.column_stack()](http://docs.scipy.org/doc/numpy/reference/generated/numpy.column_stack.html):"
   ]
  },
  {
   "cell_type": "code",
   "execution_count": null,
   "metadata": {
    "collapsed": true,
    "jupyter": {
     "outputs_hidden": true
    }
   },
   "outputs": [],
   "source": [
    "a = np.column_stack([[.1, .2, .3, .4], [.5, .6, .7, .8]])\n",
    "a"
   ]
  },
  {
   "cell_type": "markdown",
   "metadata": {},
   "source": [
    "It is common to store the channels of a multi-channel signal as the columns of an array.\n",
    "This is not guaranteed, though, you might also encounter functions that expect the channels to be along the rows of an array.\n",
    "You should always have a look in the documentation!\n",
    "\n",
    "If you want to flip rows and columns, you can transpose the array:"
   ]
  },
  {
   "cell_type": "code",
   "execution_count": null,
   "metadata": {
    "collapsed": true,
    "jupyter": {
     "outputs_hidden": true
    }
   },
   "outputs": [],
   "source": [
    "b = a.T\n",
    "b"
   ]
  },
  {
   "cell_type": "markdown",
   "metadata": {},
   "source": [
    "The transposed array is *not* a copy of the original one, it's rather a different *view* into the same memory.\n",
    "This means that if you change an element of the transposed array, this change will also be visible in the original array!"
   ]
  },
  {
   "cell_type": "code",
   "execution_count": null,
   "metadata": {
    "collapsed": true,
    "jupyter": {
     "outputs_hidden": true
    }
   },
   "outputs": [],
   "source": [
    "b[1, 2] = 0\n",
    "a"
   ]
  },
  {
   "cell_type": "markdown",
   "metadata": {},
   "source": [
    "You can see in the array properties that the transposed array doesn't \"own\" the data:"
   ]
  },
  {
   "cell_type": "code",
   "execution_count": null,
   "metadata": {
    "collapsed": true,
    "jupyter": {
     "outputs_hidden": true
    }
   },
   "outputs": [],
   "source": [
    "a.flags.owndata"
   ]
  },
  {
   "cell_type": "code",
   "execution_count": null,
   "metadata": {
    "collapsed": true,
    "jupyter": {
     "outputs_hidden": true
    }
   },
   "outputs": [],
   "source": [
    "b.flags.owndata"
   ]
  },
  {
   "cell_type": "markdown",
   "metadata": {},
   "source": [
    "The transposed array has a property called `base` that holds a reference to the original array."
   ]
  },
  {
   "cell_type": "code",
   "execution_count": null,
   "metadata": {
    "collapsed": true,
    "jupyter": {
     "outputs_hidden": true
    }
   },
   "outputs": [],
   "source": [
    "b.base is a"
   ]
  },
  {
   "cell_type": "markdown",
   "metadata": {},
   "source": [
    "*Exercise:* Create a two-channel signal with a sine tone in each channel.\n",
    "To do that, call `mysine()` twice and concatenate the two resulting arrays with `np.column_stack()`.\n",
    "Use different frequencies for the channels to be able to check which one is left and which is right.\n",
    "Listen to the signal with headphones and check which channel is left and which is right."
   ]
  },
  {
   "cell_type": "code",
   "execution_count": null,
   "metadata": {
    "collapsed": true,
    "jupyter": {
     "outputs_hidden": true
    }
   },
   "outputs": [],
   "source": []
  },
  {
   "cell_type": "markdown",
   "metadata": {},
   "source": [
    "## Array Properties\n",
    "\n",
    "Let's create some two-channel noise:"
   ]
  },
  {
   "cell_type": "code",
   "execution_count": 47,
   "metadata": {},
   "outputs": [
    {
     "data": {
      "text/plain": [
       "\u001b[1;31mType:\u001b[0m        getset_descriptor\n",
       "\u001b[1;31mString form:\u001b[0m <attribute 'itemsize' of 'numpy.ndarray' objects>\n",
       "\u001b[1;31mDocstring:\u001b[0m  \n",
       "Length of one array element in bytes.\n",
       "\n",
       "Examples\n",
       "--------\n",
       ">>> x = np.array([1,2,3], dtype=np.float64)\n",
       ">>> x.itemsize\n",
       "8\n",
       ">>> x = np.array([1,2,3], dtype=np.complex128)\n",
       ">>> x.itemsize\n",
       "16\n"
      ]
     },
     "metadata": {},
     "output_type": "display_data"
    }
   ],
   "source": [
    "x = np.random.normal(scale=0.2, size=(int(1.5 * fs), 2))\n",
    "x"
   ]
  },
  {
   "cell_type": "markdown",
   "metadata": {},
   "source": [
    "*Exercise:* Try those different ways to obtain the size of the array:"
   ]
  },
  {
   "cell_type": "code",
   "execution_count": 39,
   "metadata": {},
   "outputs": [
    {
     "data": {
      "text/plain": [
       "66150"
      ]
     },
     "execution_count": 39,
     "metadata": {},
     "output_type": "execute_result"
    }
   ],
   "source": [
    "len(x)"
   ]
  },
  {
   "cell_type": "code",
   "execution_count": 40,
   "metadata": {},
   "outputs": [
    {
     "data": {
      "text/plain": [
       "(66150, 2)"
      ]
     },
     "execution_count": 40,
     "metadata": {},
     "output_type": "execute_result"
    }
   ],
   "source": [
    "x.shape"
   ]
  },
  {
   "cell_type": "code",
   "execution_count": 41,
   "metadata": {},
   "outputs": [
    {
     "data": {
      "text/plain": [
       "132300"
      ]
     },
     "execution_count": 41,
     "metadata": {},
     "output_type": "execute_result"
    }
   ],
   "source": [
    "x.size"
   ]
  },
  {
   "cell_type": "code",
   "execution_count": 42,
   "metadata": {},
   "outputs": [
    {
     "data": {
      "text/plain": [
       "1058400"
      ]
     },
     "execution_count": 42,
     "metadata": {},
     "output_type": "execute_result"
    }
   ],
   "source": [
    "x.nbytes"
   ]
  },
  {
   "cell_type": "markdown",
   "metadata": {},
   "source": [
    "*Exercise:* What's the difference between them?"
   ]
  },
  {
   "cell_type": "code",
   "execution_count": 43,
   "metadata": {},
   "outputs": [
    {
     "data": {
      "text/plain": [
       "\u001b[1;31mSignature:\u001b[0m \u001b[0mlen\u001b[0m\u001b[1;33m(\u001b[0m\u001b[0mobj\u001b[0m\u001b[1;33m,\u001b[0m \u001b[1;33m/\u001b[0m\u001b[1;33m)\u001b[0m\u001b[1;33m\u001b[0m\u001b[1;33m\u001b[0m\u001b[0m\n",
       "\u001b[1;31mDocstring:\u001b[0m Return the number of items in a container.\n",
       "\u001b[1;31mType:\u001b[0m      builtin_function_or_method\n"
      ]
     },
     "metadata": {},
     "output_type": "display_data"
    }
   ],
   "source": [
    "len?"
   ]
  },
  {
   "cell_type": "code",
   "execution_count": null,
   "metadata": {
    "collapsed": true,
    "jupyter": {
     "outputs_hidden": true
    }
   },
   "outputs": [],
   "source": [
    "np.ndarray.shape?"
   ]
  },
  {
   "cell_type": "code",
   "execution_count": null,
   "metadata": {
    "collapsed": true,
    "jupyter": {
     "outputs_hidden": true
    }
   },
   "outputs": [],
   "source": [
    "np.ndarray.size?"
   ]
  },
  {
   "cell_type": "code",
   "execution_count": 44,
   "metadata": {},
   "outputs": [
    {
     "data": {
      "text/plain": [
       "\u001b[1;31mType:\u001b[0m        getset_descriptor\n",
       "\u001b[1;31mString form:\u001b[0m <attribute 'nbytes' of 'numpy.ndarray' objects>\n",
       "\u001b[1;31mDocstring:\u001b[0m  \n",
       "Total bytes consumed by the elements of the array.\n",
       "\n",
       "Notes\n",
       "-----\n",
       "Does not include memory consumed by non-element attributes of the\n",
       "array object.\n",
       "\n",
       "Examples\n",
       "--------\n",
       ">>> x = np.zeros((3,5,2), dtype=np.complex128)\n",
       ">>> x.nbytes\n",
       "480\n",
       ">>> np.prod(x.shape) * x.itemsize\n",
       "480\n"
      ]
     },
     "metadata": {},
     "output_type": "display_data"
    }
   ],
   "source": [
    "np.ndarray.nbytes?"
   ]
  },
  {
   "cell_type": "markdown",
   "metadata": {},
   "source": [
    "*Exercise:* What's the length in seconds?"
   ]
  },
  {
   "cell_type": "code",
   "execution_count": null,
   "metadata": {
    "collapsed": true,
    "jupyter": {
     "outputs_hidden": true
    }
   },
   "outputs": [],
   "source": []
  },
  {
   "cell_type": "markdown",
   "metadata": {},
   "source": [
    "*Exercise:* There's much more information about the array, try the following commands and find out what they mean."
   ]
  },
  {
   "cell_type": "code",
   "execution_count": null,
   "metadata": {
    "collapsed": true,
    "jupyter": {
     "outputs_hidden": true
    }
   },
   "outputs": [],
   "source": [
    "x.ndim"
   ]
  },
  {
   "cell_type": "code",
   "execution_count": null,
   "metadata": {
    "collapsed": true,
    "jupyter": {
     "outputs_hidden": true
    }
   },
   "outputs": [],
   "source": [
    "x.dtype"
   ]
  },
  {
   "cell_type": "code",
   "execution_count": null,
   "metadata": {
    "collapsed": true,
    "jupyter": {
     "outputs_hidden": true
    }
   },
   "outputs": [],
   "source": [
    "x.itemsize"
   ]
  },
  {
   "cell_type": "code",
   "execution_count": null,
   "metadata": {
    "collapsed": true,
    "jupyter": {
     "outputs_hidden": true
    }
   },
   "outputs": [],
   "source": [
    "x.strides"
   ]
  },
  {
   "cell_type": "code",
   "execution_count": null,
   "metadata": {
    "collapsed": true,
    "jupyter": {
     "outputs_hidden": true
    }
   },
   "outputs": [],
   "source": [
    "x.flags"
   ]
  },
  {
   "cell_type": "markdown",
   "metadata": {},
   "source": [
    "*Exercise:*\n",
    "You can also get some statistical values about the data in the array.\n",
    "Check if they are consistent with the given normally distributed noise signal."
   ]
  },
  {
   "cell_type": "code",
   "execution_count": null,
   "metadata": {
    "collapsed": true,
    "jupyter": {
     "outputs_hidden": true
    }
   },
   "outputs": [],
   "source": [
    "x.max()"
   ]
  },
  {
   "cell_type": "code",
   "execution_count": null,
   "metadata": {
    "collapsed": true,
    "jupyter": {
     "outputs_hidden": true
    }
   },
   "outputs": [],
   "source": [
    "x.min()"
   ]
  },
  {
   "cell_type": "code",
   "execution_count": null,
   "metadata": {
    "collapsed": true,
    "jupyter": {
     "outputs_hidden": true
    }
   },
   "outputs": [],
   "source": [
    "x.ptp()"
   ]
  },
  {
   "cell_type": "code",
   "execution_count": null,
   "metadata": {
    "collapsed": true,
    "jupyter": {
     "outputs_hidden": true
    }
   },
   "outputs": [],
   "source": [
    "x.mean()"
   ]
  },
  {
   "cell_type": "code",
   "execution_count": null,
   "metadata": {
    "collapsed": true,
    "jupyter": {
     "outputs_hidden": true
    }
   },
   "outputs": [],
   "source": [
    "x.std()"
   ]
  },
  {
   "cell_type": "code",
   "execution_count": null,
   "metadata": {
    "collapsed": true,
    "jupyter": {
     "outputs_hidden": true
    }
   },
   "outputs": [],
   "source": [
    "x.var()"
   ]
  },
  {
   "cell_type": "markdown",
   "metadata": {},
   "source": [
    "Most of these *methods* also exist as *functions*, e.g."
   ]
  },
  {
   "cell_type": "code",
   "execution_count": null,
   "metadata": {
    "collapsed": true,
    "jupyter": {
     "outputs_hidden": true
    }
   },
   "outputs": [],
   "source": [
    "np.max(x)"
   ]
  },
  {
   "cell_type": "markdown",
   "metadata": {},
   "source": [
    "Both the functions and the methods have an optional *axis* argument.\n",
    "\n",
    "*Exercise:* Try `axis=0` with all of the above functions/methods."
   ]
  },
  {
   "cell_type": "code",
   "execution_count": null,
   "metadata": {
    "collapsed": true,
    "jupyter": {
     "outputs_hidden": true
    }
   },
   "outputs": [],
   "source": [
    "x.std(axis=0)"
   ]
  },
  {
   "cell_type": "code",
   "execution_count": null,
   "metadata": {
    "collapsed": true,
    "jupyter": {
     "outputs_hidden": true
    }
   },
   "outputs": [],
   "source": [
    "np.mean(x, axis=0)"
   ]
  },
  {
   "cell_type": "markdown",
   "metadata": {},
   "source": [
    "*Exercise:* What's the difference between `axis=0` and `axis=1`?\n",
    "What does `axis=-1` mean?"
   ]
  },
  {
   "cell_type": "code",
   "execution_count": null,
   "metadata": {
    "collapsed": true,
    "jupyter": {
     "outputs_hidden": true
    }
   },
   "outputs": [],
   "source": []
  },
  {
   "cell_type": "markdown",
   "metadata": {},
   "source": [
    "## Inter-aural Time Difference (ITD)\n",
    "\n",
    "You will learn about this later in the lecture, but you can already listen to it now!\n",
    "\n",
    "*Exercise:* Remember the array `t` of time instances from way before?\n",
    "Create a new two-dimensional array with `t` as its first column and `t` + 0.5 milliseconds as the second column.\n",
    "Use this two-channel array of time instances to create a two-channel sine tone with a frequency of 500 Hz.\n",
    "Both channels shall have the same frequency, but because of the delayed time instances, the right channel will be delayed."
   ]
  },
  {
   "cell_type": "code",
   "execution_count": null,
   "metadata": {
    "collapsed": true,
    "jupyter": {
     "outputs_hidden": true
    }
   },
   "outputs": [],
   "source": []
  },
  {
   "cell_type": "markdown",
   "metadata": {},
   "source": [
    "*Exercise:* Listen to the resulting two-channel signal (use headphones!). What do you hear? What effect did the time-shift have?"
   ]
  },
  {
   "cell_type": "code",
   "execution_count": null,
   "metadata": {
    "collapsed": true,
    "jupyter": {
     "outputs_hidden": true
    }
   },
   "outputs": [],
   "source": []
  },
  {
   "cell_type": "markdown",
   "metadata": {},
   "source": [
    "If you don't hear any difference, don't worry, just continue with the next exercise ...\n",
    "\n",
    "*Exercise:* Use two nested `for` loops to generate a sequence of two-channel signals and play them back immediately.\n",
    "Both channels should contain a sine tone with the same frequency and the same duration of half a second, but with a time lag relative to the other channel.\n",
    "In the inner loop, you should play back a series of signals with a relative delay of 0.6, 0.4, 0.2, 0, -0.2, -0.4 and -0.6 ms.\n",
    "The outer loop shall play this series three times, using the frequencies\n",
    "500, 1000 and 2000 Hz, respectively.\n",
    "Run the script and notice how you perceive (or not) the different time lags.\n",
    "This exercise is meant for headphone listening, do not use loudspeakers!"
   ]
  },
  {
   "cell_type": "code",
   "execution_count": null,
   "metadata": {
    "collapsed": true,
    "jupyter": {
     "outputs_hidden": true
    }
   },
   "outputs": [],
   "source": []
  },
  {
   "cell_type": "markdown",
   "metadata": {},
   "source": [
    "## Broadcasting\n",
    "\n",
    "We already saw before, that when a scalar is multiplied by an array, this multiplication is done element-wise on the array.\n",
    "The NumPy people call this [broadcasting](http://docs.scipy.org/doc/numpy/user/basics.broadcasting.html).\n",
    "\n",
    "The great thing about it is that it is not limited to operations between a scalar and an array, but also between arrays of different numbers of dimensions.\n",
    "\n",
    "Let's, for example, take a one-dimensional array with two values and multiply it with our two-dimensional array `x` from before:"
   ]
  },
  {
   "cell_type": "code",
   "execution_count": null,
   "metadata": {
    "collapsed": true,
    "jupyter": {
     "outputs_hidden": true
    }
   },
   "outputs": [],
   "source": [
    "np.array([0.5, 100]) * x"
   ]
  },
  {
   "cell_type": "markdown",
   "metadata": {},
   "source": [
    "Although these two arrays clearly have a different shape and a different number of dimensions, the multiplication worked.\n",
    "In this case, each element of the first column of `x` was multiplied with the first value of the other array, and same for the second column and the second value of the array.\n",
    "\n",
    "In this example, the result has the same shape of one of the operands, and the other operand was \"stretched\" along its singular (or rather missing) dimension.\n",
    "\n",
    "But it doesn't have to be that way.\n",
    "Let's create a two-dimensional array that consists of only one column:"
   ]
  },
  {
   "cell_type": "code",
   "execution_count": null,
   "metadata": {
    "collapsed": true,
    "jupyter": {
     "outputs_hidden": true
    }
   },
   "outputs": [],
   "source": [
    "y = np.random.normal(scale=0.2, size=(int(1.5 * fs), 1))\n",
    "y"
   ]
  },
  {
   "cell_type": "code",
   "execution_count": null,
   "metadata": {
    "collapsed": true,
    "jupyter": {
     "outputs_hidden": true
    }
   },
   "outputs": [],
   "source": [
    "y.shape"
   ]
  },
  {
   "cell_type": "markdown",
   "metadata": {},
   "source": [
    "When we multiply a one-dimensional array with this two-dimensional column-array, none of the dimensions have the same size.\n",
    "Nevertheless, we can multiply them and both arrays get \"stretched\" (along their singular/missing dimension) leading to a result having a shape larger than any of the operands:"
   ]
  },
  {
   "cell_type": "code",
   "execution_count": null,
   "metadata": {
    "collapsed": true,
    "jupyter": {
     "outputs_hidden": true
    }
   },
   "outputs": [],
   "source": [
    "np.array([0.5, 100]) * y"
   ]
  },
  {
   "cell_type": "markdown",
   "metadata": {},
   "source": [
    "The left column of the result is `y` multiplied by the first element of the one-dimensional array, the right column is the same `y` multiplied by the second element.\n",
    "\n",
    "That's going to be useful in the next exercise."
   ]
  },
  {
   "cell_type": "markdown",
   "metadata": {},
   "source": [
    "## Complex Harmonic Sounds (optional)\n",
    "\n",
    "*Exercise:* Create a 5-channel signal (i.e. a two-dimensional array with 5 columns) with a length of 2 seconds.\n",
    "Each channel shall contain a sine tone with its own frequency.\n",
    "Use the frequencies 200 Hz, 400 Hz, 600 Hz, 800 Hz and 1000 Hz.\n",
    "Use an amplitude of $A=0.3$ for the first channel, $A/2$ for the second channel, $A/3$ for the third etc.\n",
    "\n",
    "Hint: Do this by using a two-dimensional array with one column for the time instances and multiply this with a one-dimensional array of frequencies.\n",
    "The amplitudes should also be a one-dimensional array."
   ]
  },
  {
   "cell_type": "code",
   "execution_count": null,
   "metadata": {
    "collapsed": true,
    "jupyter": {
     "outputs_hidden": true
    }
   },
   "outputs": [],
   "source": []
  },
  {
   "cell_type": "markdown",
   "metadata": {},
   "source": [
    "*Exercise:* From this 5-channel signal, create a mono signal, as a superposition of the five channels.\n",
    "Listen to it.\n",
    "\n",
    "Hint: Use [numpy.sum()](http://docs.scipy.org/doc/numpy/reference/generated/numpy.sum.html) (or the equivalent method)."
   ]
  },
  {
   "cell_type": "code",
   "execution_count": null,
   "metadata": {
    "collapsed": true,
    "jupyter": {
     "outputs_hidden": true
    }
   },
   "outputs": [],
   "source": []
  },
  {
   "cell_type": "markdown",
   "metadata": {},
   "source": [
    "*Exercise:* Same as above, but skip one of the frequencies.\n",
    "Try to hear the difference.\n",
    "Skip another one, etc."
   ]
  },
  {
   "cell_type": "code",
   "execution_count": null,
   "metadata": {
    "collapsed": true,
    "jupyter": {
     "outputs_hidden": true
    }
   },
   "outputs": [],
   "source": []
  },
  {
   "cell_type": "markdown",
   "metadata": {},
   "source": [
    "*Exercise:* Plot the mono signal(s). Do you recognize the sinusoidal components?"
   ]
  },
  {
   "cell_type": "code",
   "execution_count": null,
   "metadata": {
    "collapsed": true,
    "jupyter": {
     "outputs_hidden": true
    }
   },
   "outputs": [],
   "source": []
  },
  {
   "cell_type": "markdown",
   "metadata": {},
   "source": [
    "*Exercise:* Add more tones (let's say a total of 20) using multiples of the fundamental frequency (with the same decreasing amplitudes as above).\n",
    "How does this sound like?\n",
    "How does the plot look like?"
   ]
  },
  {
   "cell_type": "code",
   "execution_count": null,
   "metadata": {
    "collapsed": true,
    "jupyter": {
     "outputs_hidden": true
    }
   },
   "outputs": [],
   "source": []
  },
  {
   "cell_type": "markdown",
   "metadata": {},
   "source": [
    "*Exercise:* How do things change if you only use the odd multiples of the fundamental frequency?"
   ]
  },
  {
   "cell_type": "code",
   "execution_count": null,
   "metadata": {
    "collapsed": true,
    "jupyter": {
     "outputs_hidden": true
    }
   },
   "outputs": [],
   "source": []
  },
  {
   "cell_type": "markdown",
   "metadata": {},
   "source": [
    "## Appendix (optional)\n",
    "\n",
    "If there is too much time left (which is unlikely), you can have a look at those commands:"
   ]
  },
  {
   "cell_type": "code",
   "execution_count": null,
   "metadata": {
    "collapsed": true,
    "jupyter": {
     "outputs_hidden": true
    }
   },
   "outputs": [],
   "source": [
    "%whos"
   ]
  },
  {
   "cell_type": "code",
   "execution_count": null,
   "metadata": {
    "collapsed": true,
    "jupyter": {
     "outputs_hidden": true
    }
   },
   "outputs": [],
   "source": [
    "%qtconsole"
   ]
  },
  {
   "cell_type": "code",
   "execution_count": null,
   "metadata": {
    "collapsed": true,
    "jupyter": {
     "outputs_hidden": true
    }
   },
   "outputs": [],
   "source": [
    "%run?"
   ]
  },
  {
   "cell_type": "code",
   "execution_count": null,
   "metadata": {
    "collapsed": true,
    "jupyter": {
     "outputs_hidden": true
    }
   },
   "outputs": [],
   "source": [
    "%time?"
   ]
  },
  {
   "cell_type": "code",
   "execution_count": null,
   "metadata": {
    "collapsed": true,
    "jupyter": {
     "outputs_hidden": true
    }
   },
   "outputs": [],
   "source": [
    "%timeit?"
   ]
  },
  {
   "cell_type": "code",
   "execution_count": null,
   "metadata": {
    "collapsed": true,
    "jupyter": {
     "outputs_hidden": true
    }
   },
   "outputs": [],
   "source": [
    "%profile?"
   ]
  },
  {
   "cell_type": "markdown",
   "metadata": {},
   "source": [
    "## Solutions\n",
    "\n",
    "If you had problems solving some of the exercises, don't despair!\n",
    "Have a look at the [example solutions](intro-solutions.ipynb)."
   ]
  },
  {
   "cell_type": "markdown",
   "metadata": {},
   "source": [
    "<p xmlns:dct=\"http://purl.org/dc/terms/\">\n",
    "  <a rel=\"license\"\n",
    "     href=\"http://creativecommons.org/publicdomain/zero/1.0/\">\n",
    "    <img src=\"http://i.creativecommons.org/p/zero/1.0/88x31.png\" style=\"border-style: none;\" alt=\"CC0\" />\n",
    "  </a>\n",
    "  <br />\n",
    "  To the extent possible under law,\n",
    "  <span rel=\"dct:publisher\" resource=\"[_:publisher]\">the person who associated CC0</span>\n",
    "  with this work has waived all copyright and related or neighboring\n",
    "  rights to this work.\n",
    "</p>"
   ]
  }
 ],
 "metadata": {
  "anaconda-cloud": {},
  "kernelspec": {
   "display_name": "Python 3",
   "language": "python",
   "name": "python3"
  },
  "language_info": {
   "codemirror_mode": {
    "name": "ipython",
    "version": 3
   },
   "file_extension": ".py",
   "mimetype": "text/x-python",
   "name": "python",
   "nbconvert_exporter": "python",
   "pygments_lexer": "ipython3",
   "version": "3.7.4"
  }
 },
 "nbformat": 4,
 "nbformat_minor": 4
}
