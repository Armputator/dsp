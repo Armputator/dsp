{
 "cells": [
  {
   "cell_type": "markdown",
   "source": [
    "# Textformatierung mit Markdown in Notebook-Zellen\r\n",
    "\r\n",
    "Textzellen (so wie diese) in Jupyter Notebooks werden in\r\n",
    "[Markdown](https://www.ionos.de/digitalguide/websites/web-entwicklung/markdown/) Syntax \r\n",
    "formatiert. \r\n",
    "Markdown ist eine einfache Auszeichnungssprache (\"lightweight markup format\"),\r\n",
    "die u.a. bei GitHub, Stack Overflow, Slack und zahlreichen anderen webbasierten Diensten \r\n",
    "eingesetzt wird. Hauptvorteil ist, dass man Text einfach schreiben \r\n",
    "und auch ungerendert leicht lesen zu kann (z.B. im Vergleich zu $\\LaTeX$).\r\n",
    "Probieren Sie es aus bringen Sie diese Zelle in den Bearbeitungsmodus.\r\n",
    "Mit [pandoc](https://pandoc.org/) kann Markdown in zahlreiche andere Formate\r\n",
    "umgewandelt werden.\r\n",
    "\r\n",
    "Es gibt unterschiedliche Markdown-Dialekte (z.B. \"GitHub Flavoured\"), also nicht wundern falls\r\n",
    "nicht alles so klappt wie erwartet.\r\n",
    "\r\n",
    "Reine Markdown-Files (so wie die [Startseite](../README.md) dieses Repos) können in\r\n",
    "JupyterLab als Split-Screen-Editor bearbeitet werden; in einem Tab bearbeitet man den Text,\r\n",
    "in einem anderen erscheint die HTML-Vorschau (rechte Maustaste -> Show Markdown Preview).\r\n",
    "\r\n",
    "[Heise Markdown Tipps und Cheatsheets](https://www.heise.de/mac-and-i/artikel/Markdown-bei-Mac-und-iOS-Apps-Tipps-und-Cheat-Sheet-2105025.html)\r\n",
    "\r\n",
    "## Grundregeln:\r\n",
    "\r\n",
    "* Markdown ist ein Super-Set von HTML, daher können auch <code><b>HTML</b></code>-<kbd>Tags</kbd> \r\n",
    "  und <span style='color: red; font-size: 20px;'>CSS</span> Formatierungen verwendet werden\r\n",
    "  ([mehr Info](https://www.w3schools.com/tags/)).\r\n",
    "* Absätze werden durch eine oder mehrere Leerzeilen getrennt, ein einfacher Zeilenumbruch\r\n",
    "  reicht nicht. Absätze sollten nicht durch Tabs oder Spaces eingerückt werden, um nicht\r\n",
    "  versehentlich Codeblöcke oder Unterlisten zu erzeugen.\r\n",
    "* Sonderzeichen müssen ggf. mit \\ maskiert werden.\r\n",
    "* Überschriften werden durch Voranstellen von einem oder mehreren # erzeugt.\r\n",
    "* Text kann \\**kursiv*\\*, \\*\\***fett**\\*\\* oder \\*\\*\\****kursiv + fett***\\*\\*\\* formatiert \r\n",
    "  werden.\r\n",
    "* Bullet-Listen werden mit * oder - erzeugt, nummerierte Listen mit 1.\r\n",
    "* Code wird in Backticks (\\`) eingeschlossen; Code-Blöcke werden um einen Tab oder vier\r\n",
    "  Leerzeichen eingerückt oder zwischen drei Backticks (\\`\\`\\`) eingeschlossen.\r\n",
    "  Linien werden mit mindestens drei \\*\\*\\* oder \\-\\-\\- erzeugt oder mit `<hr>`\r\n",
    "* $\\LaTeX$-Code kann bei vielen Markdown-Implementierungen zwischen \\$ ... \\$ eingeschlossen\r\n",
    "  werden, Gleichungen werden zwischen \\$\\$ ... \\$\\$ eingeschlossen \r\n",
    "  ([ausführliche Beschreibung](https://ashki23.github.io/markdown-latex.html))\r\n"
   ],
   "metadata": {}
  },
  {
   "cell_type": "markdown",
   "source": [
    "## Überschriften (h2)\r\n",
    "Überschriften werden als HTML Header `<h1>` ... `<h6>` gerendert, abhängig von der \r\n",
    "Anzahl der \\# am Anfang der Zeile.\r\n",
    "\r\n",
    "### Heading (h3)\r\n",
    "\r\n",
    "### Heading (h3)\r\n",
    "\r\n",
    "#### Heading (h4)\r\n",
    "\r\n",
    "##### Heading (h5)\r\n",
    "\r\n",
    "###### Heading (h6)"
   ],
   "metadata": {}
  },
  {
   "cell_type": "markdown",
   "source": [
    "## Listen\r\n",
    "* One.\r\n",
    "    - Sublist\r\n",
    "        - Here we go\r\n",
    "    - Sublist\r\n",
    "        - Here we go\r\n",
    "        - Here we go\r\n",
    "* Two.\r\n",
    "    - Sublist\r\n",
    "* Three.\r\n",
    "    - Sublist\r\n",
    "\r\n",
    "### Numerierte Listen\r\n",
    "\r\n",
    "\r\n",
    "1. Here we go\r\n",
    "    1. Sublist\r\n",
    "    2. Sublist\r\n",
    "2. There we go\r\n",
    "3. Now this\r\n",
    "\r\n"
   ],
   "metadata": {}
  },
  {
   "cell_type": "markdown",
   "source": [
    "# Code\r\n",
    "\r\n",
    "Code kann zwischen drei Backticks (\\`\\`\\`) eingeschlossen werden. Falls der Renderer\r\n",
    "Syntax Highlighting unterstützt, kann z.B. mit \\`\\`\\`python die Sprache spezifiziert \r\n",
    "werden:\r\n",
    "\r\n",
    "```python\r\n",
    "for i in range(10):\r\n",
    "    print i\r\n",
    "```\r\n",
    "\r\n"
   ],
   "metadata": {}
  },
  {
   "cell_type": "markdown",
   "source": [
    "## Block Quote\r\n",
    "\r\n",
    "Here is text.\r\n",
    "\r\n",
    "> This is a *block* quote. This is a block quote. This is a block quote.  \r\n",
    "> This is a **block** quote. This is a block quote. This is a block quote.  \r\n",
    "> This is a `block` quote. This is a block quote. This is a block quote.  \r\n",
    "> This is a block quote. This is a block quote. This is a block quote.  \r\n",
    "> This is a block quote. This is a block quote. This is a block quote.  \r\n",
    "> This is a block quote. This is a block quote. This is a block quote.  \r\n",
    "\r\n",
    "Here is text\r\n"
   ],
   "metadata": {}
  },
  {
   "cell_type": "markdown",
   "source": [
    "## Tabellen\r\n",
    "Tabellen können mit HTML erstellt werden, hier kann man nach Herzenslust formatieren.\r\n",
    "<table>\r\n",
    "<tr>\r\n",
    "<th>Header 1</th>\r\n",
    "<th>Header 2</th>\r\n",
    "</tr>\r\n",
    "<tr>\r\n",
    "<td>row 1, cell 1</td>\r\n",
    "<td>row 1, cell 2</td>\r\n",
    "</tr>\r\n",
    "<tr>\r\n",
    "<td>row 2, cell 1</td>\r\n",
    "<td>row 2, cell 2</td>\r\n",
    "</tr>\r\n",
    "</table>\r\n",
    "\r\n",
    "Mit Markdown ist man schneller, aber nicht so flexibel:\r\n",
    "\r\n"
   ],
   "metadata": {}
  }
 ],
 "metadata": {
  "anaconda-cloud": {},
  "kernelspec": {
   "display_name": "Python [default]",
   "language": "python",
   "name": "python3"
  },
  "language_info": {
   "codemirror_mode": {
    "name": "ipython",
    "version": 3
   },
   "file_extension": ".py",
   "mimetype": "text/x-python",
   "name": "python",
   "nbconvert_exporter": "python",
   "pygments_lexer": "ipython3",
   "version": "3.5.2"
  }
 },
 "nbformat": 4,
 "nbformat_minor": 1
}