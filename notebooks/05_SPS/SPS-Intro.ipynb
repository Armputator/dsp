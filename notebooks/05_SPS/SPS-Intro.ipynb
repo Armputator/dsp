{
 "cells": [
  {
   "cell_type": "markdown",
   "metadata": {},
   "source": [
    "<a href=\"_index.ipynb\">&larr; SPS </a>&loz;\n",
    "<a href=\"../../README.md\"> &uarr; TOC &uarr; </a>\n",
    "<img src='../_img/icon.svg' align='right' width='10%'></img>\n",
    "# Einführung Spektralschätzung\n",
    "\n",
    " * Demonstriere Short-Term Fourier Transform mit verschiedenen Signalen\n",
    " \n",
    " * STFT wird dargestellt mit Spectrogram und Wasserfall-Diagramm\n",
    "\n",
    " * Testen Sie den Einfluss verschiedener Fensterlängen und Fenstertypen\n"
   ]
  },
  {
   "cell_type": "code",
   "execution_count": 2,
   "metadata": {},
   "outputs": [],
   "source": [
    "import numpy as np\n",
    "from numpy import (pi, log10, exp, sqrt, sin, cos, tan, angle, arange,\n",
    "                    linspace, array, zeros, ones)\n",
    "from numpy.fft import fft, ifft, fftshift, ifftshift, fftfreq\n",
    "import scipy.signal as sig\n",
    "\n",
    "%matplotlib inline\n",
    "import matplotlib.pyplot as plt\n",
    "from matplotlib.pyplot import (figure, plot, stem, grid, xlabel, ylabel,\n",
    "    subplot, title, clf, xlim, ylim)\n",
    "figsize = {\"figsize\": (12,5)}\n",
    "\n",
    "from mpl_toolkits.mplot3d import Axes3D\n",
    "from matplotlib.collections import PolyCollection"
   ]
  },
  {
   "cell_type": "code",
   "execution_count": 48,
   "metadata": {
    "tags": []
   },
   "outputs": [],
   "source": [
    "fs = 100e3 # Abtastfrequenz\n",
    "NFFT = 1000 # FFT Punkte\n",
    "\n",
    "fsig = 10000 # Signalfrequenz\n",
    "Asig = 1 # Signalamplitude\n",
    "fsig2 = 8376\n",
    "Asig2 = 1\n",
    "fmod = 0.5  # Modulationsfrequenz\n",
    "Amod = 5000 # Modulation gain in Hz / V\n",
    "tmax = 5 # Simulationzeit in s\n",
    "\n",
    "dbmin = -120; dbmax = 0 # Limits für log. Darstellung\n",
    "\n",
    "\n",
    "\n",
    "n = arange(NFFT/2 + 1)\n",
    "t_label = r'$t$ in s $\\rightarrow$'\n",
    "f_label = r'$f$ in Hz $\\rightarrow$'\n",
    "H_label = r'$|H(e^{j \\Omega}, t)|$ in dB $\\rightarrow$'\n",
    "\n",
    "t = arange(0, tmax, 1/fs)\n",
    "x = Asig*sig.chirp(t, 100, tmax, 1e5) # Chirp-Impuls\n",
    "#x = Asig*(sin(t* 2* pi * fsig) + 1) # Reiner Sinus\n",
    "#x = Asig*sin(t* 2* pi * fsig + Amod *sin(t* 2* pi * fmod)) # FM-Signal\n",
    "#x = Asig *sin(t* 2* pi * (fsig + Amod * np.sign(sin(t * 2 * pi * fmod)))) # FSK-Signal\n",
    "x += Asig2 * sin(t* 2* pi * fsig2) # Zusätzlicher Sinuston\n",
    "x += 0.001* np.random.randn(len(t))\n",
    "#x = A*np.sign(x) # Rechteckfunktion"
   ]
  },
  {
   "cell_type": "markdown",
   "metadata": {},
   "source": [
    "Im Folgenden wird eine Fensterfunktion zur Berechnung der FFT definiert."
   ]
  },
  {
   "cell_type": "code",
   "execution_count": 49,
   "metadata": {},
   "outputs": [],
   "source": [
    "win = sig.windows.kaiser(NFFT,12, sym = False) # needs NFFT and shape parameter beta \n",
    "win = sig.windows.hann(NFFT, sym = False)\n",
    "win = sig.windows.blackman(NFFT, sym = False)\n",
    "#win = sig.windows.boxcar(NFFT) # rectangular window\n",
    "\n",
    "# Calculate Equivalent Noise Bandwidth + Coherent Gain\n",
    "ENBW = len(win)*np.sum(win**2)/ np.sum(abs(win))**2\n",
    "CGain = np.sum(win)/len(win)"
   ]
  },
  {
   "cell_type": "markdown",
   "metadata": {},
   "source": [
    "## FFT\n",
    "Man kann das Spektrum des gesamten Signals mit einer FFT darstellen, auch wenn das bei längeren Signalen ziemlich rechenintensiv werden kann. Wenn das Signal sich über der Zeit ändert, ist der Informationsgehalt des Spektrums aber nicht besonders groß, es gbibt dann quasi das \"durchschnittliche Spektrum\" an."
   ]
  },
  {
   "cell_type": "markdown",
   "metadata": {},
   "source": [
    "## Spektrogramm\n",
    "Ein Spektrogramm stellt das Betragsspektrum $|H_{xx}(f, t)|$ in Abhängigkeit von Zeit und Frequenz dar, der Betrag wird dabei über die Farbe kodiert. Bei einem Spektrogramm wird das Zeitsignal durch eine Abfolge FFTs analysiert mit jeweils `NFFT` Punkten. Meistens lässt man die Teilfenster überlappen, damit an den Übergängen keine Information verloren geht. \n",
    "\n",
    "Im folgenden wird das Spektrogramm des gesamten Zeitsignals sowie das \"FFT - Scheibchen\" zum Zeitpunkt $t_1 = 1.2$s."
   ]
  },
  {
   "cell_type": "code",
   "execution_count": 54,
   "metadata": {
    "tags": []
   },
   "outputs": [
    {
     "data": {
      "application/vnd.jupyter.widget-view+json": {
       "model_id": "5207098b4b5e4faaa7b155b56d2db105",
       "version_major": 2,
       "version_minor": 0
      },
      "text/plain": [
       "Canvas(toolbar=Toolbar(toolitems=[('Home', 'Reset original view', 'home', 'home'), ('Back', 'Back to previous …"
      ]
     },
     "metadata": {},
     "output_type": "display_data"
    }
   ],
   "source": [
    "fig2, (ax21, ax22) = plt.subplots(**figsize, ncols=2, nrows=1);\n",
    "# scale = NFFT * CGain # scale factor for correct *signal power* of spectrogram:\n",
    "ax21.set_xlabel(t_label)\n",
    "ax21.set_ylabel(f_label)\n",
    "ax21.set_xlim([0,tmax])\n",
    "ax21.set_ylim([0,fs/2])\n",
    "Pxx, freqs, bins, im = ax21.specgram(x, NFFT=NFFT, Fs=fs, cmap='viridis',\n",
    "                            noverlap=NFFT/2, mode = 'magnitude', window = win, \n",
    "                            scale = 'dB', vmin = dbmin, vmax = dbmax)\n",
    "# freqs: DFT frequencies, bins: time steps           \n",
    "fig2.colorbar(im, label = H_label, ax=ax21)\n",
    "ax22.grid(True)\n",
    "time_slot = int(len(bins)/4)\n",
    "ax22.plot(freqs, 20*log10(Pxx[:,time_slot]))\n",
    "ax22.set_xlabel(f_label); ax3.set_ylabel(H_label)\n",
    "ax22.set_title(r'$|H(e^{j 2 \\pi f / f_S},\\, t_1)|$ bei $t_1=%0.1f$ s' %(bins[time_slot]))\n",
    "ax22.set_ylim([dbmin, dbmax]); ax3.set_xlim([0,fs/2])\n",
    "fig2.set_tight_layout(True)"
   ]
  },
  {
   "cell_type": "markdown",
   "metadata": {},
   "source": [
    "Plotte ein Wasserfall-Diagramm"
   ]
  },
  {
   "cell_type": "code",
   "execution_count": 53,
   "metadata": {},
   "outputs": [
    {
     "data": {
      "application/vnd.jupyter.widget-view+json": {
       "model_id": "1330fd678fa84938a51e4fe89e2985aa",
       "version_major": 2,
       "version_minor": 0
      },
      "text/plain": [
       "Canvas(toolbar=Toolbar(toolitems=[('Home', 'Reset original view', 'home', 'home'), ('Back', 'Back to previous …"
      ]
     },
     "metadata": {},
     "output_type": "display_data"
    }
   ],
   "source": [
    "%matplotlib widget\n",
    "fig4, ax4 = plt.subplots(figsize=(10,8), subplot_kw = {'projection':'3d'})\n",
    "\n",
    "xs = freqs # frequency axis\n",
    "zs = arange(0,len(bins),100)  # time axis index\n",
    "verts = []\n",
    "mycolors = []\n",
    "\n",
    "for z in zs:\n",
    "    ys = np.maximum(20*log10(Pxx[:,z]),dbmin)\n",
    "#    ys = np.random.rand(len(xs))\n",
    "    ys[0], ys[-1] = dbmin, dbmin # set lower polygon points\n",
    "    verts.append(list(zip(xs, ys)))\n",
    "    mycolors.append((z/len(bins),0.3,0.4)) # r,g,b\n",
    "\n",
    "poly = PolyCollection(verts, facecolors = mycolors)\n",
    "                                      \n",
    "poly.set_alpha(0.7) # set transparency\n",
    "ax4.add_collection3d(poly, zs = zs/len(bins)*tmax, zdir='y')\n",
    "\n",
    "ax4.set_xlabel(f_label); ax4.set_ylabel(t_label); ax4.set_zlabel(H_label)\n",
    "ax4.set_xlim3d(0, max(xs)) # frequency\n",
    "ax4.set_ylim3d(0, tmax) # time\n",
    "ax4.set_zlim3d(dbmin, dbmax)\n",
    "ax4.azim = -60# azimuth, default -60 deg.\n",
    "ax4.elev = 30 # Höhe, default 30\n",
    "ax4.dist = 10 # Entfernung, default 10\n",
    "plt.tight_layout()"
   ]
  },
  {
   "cell_type": "markdown",
   "metadata": {},
   "source": [
    "***\n",
    "### Copyright\n",
    "\n",
    "(c) 2016 - 2021 Prof. Dr. Christian Münker \n",
    "\n",
    "This jupyter notebook is part of a collection of notebooks on various topics of Digital Signal Processing. The latest version can be found at https://github.com/chipmuenk/dsp.\n",
    "\n",
    "This notebook is provided as [Open Educational Resource](https://en.wikipedia.org/wiki/Open_educational_resources). Feel free to use it for your own purposes. The text is licensed under [Creative Commons Attribution 4.0](https://creativecommons.org/licenses/by/4.0/), the code of the IPython examples under the [MIT license](https://opensource.org/licenses/MIT). Please attribute the work as follows: *Christian Münker, Digital Signal Processing - Vorlesungsunterlagen mit Simulationsbeispielen, 2021*."
   ]
  }
 ],
 "metadata": {
  "kernelspec": {
   "display_name": "Python 3",
   "language": "python",
   "name": "python3"
  },
  "language_info": {
   "codemirror_mode": {
    "name": "ipython",
    "version": 3
   },
   "file_extension": ".py",
   "mimetype": "text/x-python",
   "name": "python",
   "nbconvert_exporter": "python",
   "pygments_lexer": "ipython3",
   "version": "3.8.2"
  }
 },
 "nbformat": 4,
 "nbformat_minor": 4
}
