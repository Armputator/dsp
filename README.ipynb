{
 "cells": [
  {
   "cell_type": "markdown",
   "metadata": {},
   "source": [
    "# Unterlagen zum Kurs \"DSV auf FPGAs\" \n",
    "[Course material accompanying the lecture \"DSP on FPGAs\" (Digital signal processing on FPGAs)]\n",
    "\n",
    "Hier finden Sie die folgenden Materialien:\n",
    "\n",
    "* Folien zur Vorlesung und den Screencasts auf dem YouTube Channel [https://www.youtube.com/c/ChristianMunker](https://www.youtube.com/c/ChristianMunker)\n",
    "* Übungsaufgaben und (etwas) Theorie \n",
    "\n",
    "### Unterlagen zum Umgang mit Jupyter Notebooks ###\n",
    "\n",
    "* Kurzanleitung: https://codingthesmartway.com/getting-started-with-jupyter-notebook-for-python/ mit Video https://youtu.be/CwFq3YDU6_Y\n",
    "* Jupyter Notebooks: Ein sehr gutes Video Tutorial zu Jupyter Notebooks finden Sie unter [https://www.youtube.com/watch?v=HW29067qVWk]\n",
    "\n",
    "### Jupyter Notebooks\n",
    "Hier finden Sie Jupyter Notebooks zur Vorlesung\n",
    "\n",
    "**[01. LTI :](notebooks/01_LTI)** Linear Time-Invariant (**LTI**) Systeme im Zeitbereich\n",
    "\n",
    "**[02. LTF :](notebooks/02_LTF)** **LT**I Systeme im **F**requenzbereich\n",
    "\n",
    "**[03. DFT :](notebooks/03_DFT)** Discrete Fourier Transformation (**DFT**) und FFT\n",
    "\n",
    "**04. WIN :** \n",
    "\n",
    "**[05. FIL :](notebooks/05_FIL)** Digitale **FIL**ter und Filterentwurf\n",
    "\n",
    "**06. FIX :** **FIX**point Systeme im Zeitbereich: Quantisierung und Wortlängeneffekte\n",
    "\n",
    "**07. NOI :** Fixpoint Systeme im Frequenzbereich: Quantization **NOI**se\n",
    "\n",
    "**[08. SMP :](notebooks/08_SMP)** **S**a**MP**ling, Analog-Digital Conversion and Downsampling\n",
    "\n",
    "**09. INP :** Upsampling, **IN**ter**P**olation und Digital-Analog conversion\n",
    "\n",
    "**[10. SRC :](notebooks/10_SRC/plots)** **S**ample **R**ate **C**onversion\n",
    "\n",
    "## Lokal arbeiten\n",
    "Sie können die Notebooks (und den Rest der Files) herunterladen von \n",
    "\n",
    "Or - better - clone this repository to your local computer. For doing this, you need to \n",
    "\n",
    "* **Create a GitHub account** (this file hosting platform) under [https://github.com/]\n",
    "* **Install a git client** from the git homepage [http://git-scm.com/], providing a console (`git bash`) and a graphical (`Git GUI`) frontend to git.\n",
    "* **Get to know a few basic commands**, a good introductory & interactive course is e.g. [Ry’s Git Tutorial](http://rypress.com/tutorials/git/index).\n",
    "* **Clone the repository:**\n",
    "  Start the `git bash` from the local directory where you want to copy the data to and enter:\n",
    "\n",
    "  ```\n",
    "  git clone https://github.com/chipmuenk/dsp_fpga\n",
    "  ```\n",
    "  \n",
    "  Or start `Git GUI` -> Clone Repository.  \n"
   ]
  },
  {
   "cell_type": "code",
   "execution_count": null,
   "metadata": {
    "collapsed": true
   },
   "outputs": [],
   "source": []
  }
 ],
 "metadata": {
  "anaconda-cloud": {},
  "kernelspec": {
   "display_name": "Python 3",
   "language": "python",
   "name": "python3"
  },
  "language_info": {
   "codemirror_mode": {
    "name": "ipython",
    "version": 3
   },
   "file_extension": ".py",
   "mimetype": "text/x-python",
   "name": "python",
   "nbconvert_exporter": "python",
   "pygments_lexer": "ipython3",
   "version": "3.7.4"
  }
 },
 "nbformat": 4,
 "nbformat_minor": 2
}
